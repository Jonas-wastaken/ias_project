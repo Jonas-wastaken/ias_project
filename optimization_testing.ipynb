{
 "cells": [
  {
   "cell_type": "code",
   "execution_count": 36,
   "metadata": {},
   "outputs": [],
   "source": [
    "import sys\n",
    "import os\n",
    "import random\n",
    "import networkx as nx\n",
    "sys.path.append(os.path.join(os.getcwd(), \"src\"))\n",
    "from src.model import TrafficModel\n",
    "from car import CarAgent\n",
    "\n",
    "\n",
    "model = TrafficModel(50, num_intersections=5, num_borders=20, )"
   ]
  },
  {
   "cell_type": "code",
   "execution_count": 37,
   "metadata": {},
   "outputs": [],
   "source": [
    "import pyoptinterface as poi\n",
    "from pyoptinterface import highs"
   ]
  },
  {
   "cell_type": "code",
   "execution_count": 38,
   "metadata": {},
   "outputs": [],
   "source": [
    "opt_model = highs.Model()"
   ]
  },
  {
   "cell_type": "code",
   "execution_count": 39,
   "metadata": {},
   "outputs": [
    {
     "name": "stdout",
     "output_type": "stream",
     "text": [
      "['intersection_4', 'intersection_7', 'intersection_1']\n",
      "range(-1, 6)\n",
      "{0: {'intersection_4': 5, 'intersection_7': 1, 'intersection_1': 10}, 1: {'intersection_4': 5, 'intersection_7': 1, 'intersection_1': 10}, 2: {'intersection_4': 1, 'intersection_7': 10, 'intersection_1': 1}, 3: {'intersection_4': 1, 'intersection_7': 10, 'intersection_1': 1}, 4: {'intersection_4': 1, 'intersection_7': 10, 'intersection_1': 1}, 5: {'intersection_4': 1, 'intersection_7': 10, 'intersection_1': 1}}\n"
     ]
    }
   ],
   "source": [
    "possible_lanes = ['intersection_4', 'intersection_7', 'intersection_1']\n",
    "print(possible_lanes)\n",
    "\n",
    "time = range(-1, 6)\n",
    "print(time)\n",
    "\n",
    "cars_at_light = {\n",
    "                    0:{'intersection_4': 5, 'intersection_7': 1, 'intersection_1': 10},\n",
    "                    1:{'intersection_4': 5, 'intersection_7': 1, 'intersection_1': 10},\n",
    "                    2:{'intersection_4': 1, 'intersection_7': 10, 'intersection_1': 1},\n",
    "                    3:{'intersection_4': 1, 'intersection_7': 10, 'intersection_1': 1},\n",
    "                    4:{'intersection_4': 1, 'intersection_7': 10, 'intersection_1': 1},\n",
    "                    5:{'intersection_4': 1, 'intersection_7': 10, 'intersection_1': 1}\n",
    "                 }\n",
    "print(cars_at_light)"
   ]
  },
  {
   "cell_type": "code",
   "execution_count": 40,
   "metadata": {},
   "outputs": [],
   "source": [
    "# Entscheidungsvariablen\n",
    "lanes = opt_model.add_variables(time, possible_lanes, domain=poi.VariableDomain.Binary)"
   ]
  },
  {
   "cell_type": "code",
   "execution_count": 41,
   "metadata": {},
   "outputs": [],
   "source": [
    "# Entscheidung für tick -1 ist bereits festgelegt (vorherige Entscheidung)\n",
    "current_open_lane = 'intersection_4'\n",
    "\n",
    "for lane in possible_lanes:\n",
    "    if lane == current_open_lane:\n",
    "        lanes[-1, lane] = 1\n",
    "    else:\n",
    "        lanes[-1, lane] = 0"
   ]
  },
  {
   "cell_type": "code",
   "execution_count": 42,
   "metadata": {},
   "outputs": [],
   "source": [
    "# Restriktion: jede Ampel kann nur exakt eine open_lane haben\n",
    "for tick in time[1:]:\n",
    "    opt_model.add_linear_constraint(poi.quicksum(lanes[tick, lane] for lane in possible_lanes ), poi.Eq, 1)\n",
    "\n",
    "# Restriktion: jede Ampel kann nur alle 5 Ticks die open_lane ändern (cooldown)\n",
    "for lane in possible_lanes:\n",
    "    opt_model.add_linear_constraint(poi.quicksum(((lanes[tick-1, lane] - lanes[tick, lane]) * (lanes[tick-1, lane] - lanes[tick, lane])) for tick in time[1:]), poi.Leq, 1.0)\n"
   ]
  },
  {
   "cell_type": "code",
   "execution_count": 43,
   "metadata": {},
   "outputs": [],
   "source": [
    "# Zielfunktion\n",
    "objective = poi.quicksum(poi.quicksum(lanes[tick, lane] * cars_at_light[tick][lane] for lane in possible_lanes) for tick in time[1:])\n",
    "opt_model.set_objective(objective, poi.ObjectiveSense.Maximize)"
   ]
  },
  {
   "cell_type": "code",
   "execution_count": 44,
   "metadata": {},
   "outputs": [],
   "source": [
    "opt_model.optimize()"
   ]
  },
  {
   "cell_type": "code",
   "execution_count": 45,
   "metadata": {},
   "outputs": [
    {
     "name": "stdout",
     "output_type": "stream",
     "text": [
      "-1:intersection_1\n",
      "0:intersection_1\n",
      "1:intersection_1\n",
      "2:intersection_1\n",
      "3:intersection_1\n",
      "4:intersection_1\n",
      "5:intersection_1\n"
     ]
    }
   ],
   "source": [
    "for tick in time:\n",
    "    for lane in possible_lanes:\n",
    "        if opt_model.get_value(lanes[0, lane]) > 0.1:\n",
    "            print(f\"{tick}:{lane}\")"
   ]
  },
  {
   "cell_type": "code",
   "execution_count": 46,
   "metadata": {},
   "outputs": [
    {
     "name": "stdout",
     "output_type": "stream",
     "text": [
      "Lane: 60.0\n"
     ]
    }
   ],
   "source": [
    "print(f\"Lane: {opt_model.get_obj_value()}\")"
   ]
  }
 ],
 "metadata": {
  "kernelspec": {
   "display_name": "ias_project",
   "language": "python",
   "name": "python3"
  },
  "language_info": {
   "codemirror_mode": {
    "name": "ipython",
    "version": 3
   },
   "file_extension": ".py",
   "mimetype": "text/x-python",
   "name": "python",
   "nbconvert_exporter": "python",
   "pygments_lexer": "ipython3",
   "version": "3.12.8"
  }
 },
 "nbformat": 4,
 "nbformat_minor": 2
}
