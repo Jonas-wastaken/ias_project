{
 "cells": [
  {
   "cell_type": "markdown",
   "metadata": {},
   "source": [
    "# Light Switching Optimization"
   ]
  },
  {
   "cell_type": "markdown",
   "metadata": {},
   "source": [
    "This Notebook contains exploratory code related to developing an optimization model which determines the lane each traffic light opens at a given point in time. Each light determines it's individual optimal behavior. The goal is to maximize the number of cars that can pass an intersection over an undefined period of time. Each light can only open one lane at a time. Lights are further constrained by a cooldown, which limits a light to change it's decision after 5 steps from the previous decision."
   ]
  },
  {
   "cell_type": "code",
   "execution_count": 1,
   "metadata": {},
   "outputs": [],
   "source": [
    "import pyoptinterface as poi\n",
    "from pathlib import Path\n",
    "from pyoptinterface import gurobi\n",
    "import numpy as np"
   ]
  },
  {
   "cell_type": "code",
   "execution_count": 2,
   "metadata": {},
   "outputs": [],
   "source": [
    "license_path = Path.joinpath(Path(\".secrets/\"), Path(\"gurobi.lic\"))\n",
    "\n",
    "secrets = {}\n",
    "\n",
    "with open(license_path, \"r\") as file:\n",
    "    for line in file:\n",
    "        line = line.strip()\n",
    "        if line.startswith(\"#\") or not line:\n",
    "            continue\n",
    "        try:\n",
    "            key, value = line.split(\"=\", 1)\n",
    "            secrets[key.strip()] = value.strip()\n",
    "        except ValueError:\n",
    "            pass\n",
    "\n",
    "WLSACCESSID = secrets.get(\"WLSACCESSID\")\n",
    "WLSSECRET = secrets.get(\"WLSSECRET\")\n",
    "LICENSEID = secrets.get(\"LICENSEID\")\n"
   ]
  },
  {
   "cell_type": "code",
   "execution_count": 3,
   "metadata": {},
   "outputs": [],
   "source": [
    "env = gurobi.Env(empty=True)"
   ]
  },
  {
   "cell_type": "code",
   "execution_count": 4,
   "metadata": {},
   "outputs": [],
   "source": [
    "env.set_raw_parameter(\"WLSACCESSID\", WLSACCESSID)\n",
    "env.set_raw_parameter(\"WLSSECRET\", WLSSECRET)\n",
    "env.set_raw_parameter(\"LICENSEID\", LICENSEID)\n",
    "env.start()"
   ]
  },
  {
   "cell_type": "code",
   "execution_count": 5,
   "metadata": {},
   "outputs": [],
   "source": [
    "opt_model = gurobi.Model(env)"
   ]
  },
  {
   "cell_type": "markdown",
   "metadata": {},
   "source": [
    "## Environment"
   ]
  },
  {
   "cell_type": "markdown",
   "metadata": {},
   "source": [
    "The following section creates the environment to optimize."
   ]
  },
  {
   "cell_type": "code",
   "execution_count": 6,
   "metadata": {},
   "outputs": [
    {
     "data": {
      "text/plain": [
       "['intersection_4', 'intersection_7', 'intersection_1']"
      ]
     },
     "execution_count": 6,
     "metadata": {},
     "output_type": "execute_result"
    }
   ],
   "source": [
    "connected_lanes = [\"intersection_4\", \"intersection_7\", \"intersection_1\"]\n",
    "connected_lanes"
   ]
  },
  {
   "cell_type": "code",
   "execution_count": 7,
   "metadata": {},
   "outputs": [
    {
     "data": {
      "text/plain": [
       "range(0, 11)"
      ]
     },
     "execution_count": 7,
     "metadata": {},
     "output_type": "execute_result"
    }
   ],
   "source": [
    "time = range(0, 11)\n",
    "time"
   ]
  },
  {
   "cell_type": "code",
   "execution_count": 8,
   "metadata": {},
   "outputs": [
    {
     "data": {
      "text/plain": [
       "(11, 3)"
      ]
     },
     "execution_count": 8,
     "metadata": {},
     "output_type": "execute_result"
    }
   ],
   "source": [
    "int_4_arrivals = np.array([0, 5, 5, 1, 1, 1, 3, 5, 1, 1, 1])\n",
    "int_7_arrivals = np.array([0, 1, 1, 10, 10, 10, 7, 1, 10, 10, 10])\n",
    "int_1_arrivals = np.array([0, 10, 10, 1, 1, 1, 1, 10, 1, 1, 1])\n",
    "\n",
    "sim_env = np.array([int_4_arrivals, int_7_arrivals, int_1_arrivals]).T\n",
    "\n",
    "sim_env.shape"
   ]
  },
  {
   "cell_type": "code",
   "execution_count": 9,
   "metadata": {},
   "outputs": [
    {
     "data": {
      "text/plain": [
       "array([[ 0,  0,  0],\n",
       "       [ 5,  1, 10],\n",
       "       [ 5,  1, 10],\n",
       "       [ 1, 10,  1],\n",
       "       [ 1, 10,  1],\n",
       "       [ 1, 10,  1],\n",
       "       [ 3,  7,  1],\n",
       "       [ 5,  1, 10],\n",
       "       [ 1, 10,  1],\n",
       "       [ 1, 10,  1],\n",
       "       [ 1, 10,  1]])"
      ]
     },
     "execution_count": 9,
     "metadata": {},
     "output_type": "execute_result"
    }
   ],
   "source": [
    "sim_env"
   ]
  },
  {
   "cell_type": "markdown",
   "metadata": {},
   "source": [
    "## Decision Variables"
   ]
  },
  {
   "cell_type": "markdown",
   "metadata": {},
   "source": [
    "At each point in time, a light can make a decision for each connected lane.\n"
   ]
  },
  {
   "cell_type": "markdown",
   "metadata": {},
   "source": [
    "$$ x_{lt}\\in\\{0,1\\} $$\n",
    "$$ with: $$\n",
    "$$ l\\in{L}, \\quad L=\\{Connected Lanes\\} $$\n",
    "$$ t\\in{T}, \\quad T=\\left[ 0;5 \\right]"
   ]
  },
  {
   "cell_type": "code",
   "execution_count": 10,
   "metadata": {},
   "outputs": [],
   "source": [
    "decisions = opt_model.add_variables(\n",
    "    time, connected_lanes, domain=poi.VariableDomain.Binary\n",
    ")"
   ]
  },
  {
   "cell_type": "markdown",
   "metadata": {},
   "source": [
    "## Constraints"
   ]
  },
  {
   "cell_type": "markdown",
   "metadata": {},
   "source": [
    "A light can only have one open lane at any point in time. It can also decide not to open any lane."
   ]
  },
  {
   "cell_type": "markdown",
   "metadata": {},
   "source": [
    "$$ \\sum_{t\\in{T}} \\sum_{l\\in{L}} x_{l,t} \\leq{1} $$"
   ]
  },
  {
   "cell_type": "code",
   "execution_count": 11,
   "metadata": {},
   "outputs": [],
   "source": [
    "for time_step in time:\n",
    "    opt_model.add_linear_constraint(\n",
    "        poi.quicksum(decisions[time_step, lane] for lane in connected_lanes), poi.Leq, 1\n",
    "    )"
   ]
  },
  {
   "cell_type": "markdown",
   "metadata": {},
   "source": [
    "A light cannot make a new decision after a cooldown of 5 time steps."
   ]
  },
  {
   "cell_type": "markdown",
   "metadata": {},
   "source": [
    "$$ \\sum_{l\\in{L}} \\sum_{t\\in{T}}^{0\\leq{t}\\leq{5}} (x_{l,t-1}-x_{l,t})^{2} \\leq{1}$$"
   ]
  },
  {
   "cell_type": "code",
   "execution_count": 13,
   "metadata": {},
   "outputs": [],
   "source": [
    "# for lane in possible_lanes:\n",
    "# opt_model.add_linear_constraint(poi.quicksum(((lanes[tick-1, lane] - lanes[tick, lane]) * (lanes[tick-1, lane] - lanes[tick, lane])) for tick in time[1:]), poi.Leq, 1.0)"
   ]
  },
  {
   "cell_type": "code",
   "execution_count": 12,
   "metadata": {},
   "outputs": [],
   "source": [
    "for decision in decisions:\n",
    "    opt_model.add_quadratic_constraint(\n",
    "        poi.quicksum(\n",
    "            (\n",
    "                (decisions[i, decision[1]] - decisions[(i + 1), decision[1]])\n",
    "                * (decisions[i, decision[1]] - decisions[(i + 1), decision[1]])\n",
    "            )\n",
    "            for i in range(max(0, (decision[0] - 5)), decision[0])\n",
    "        ),\n",
    "        poi.Leq,\n",
    "        1.0,\n",
    "    )"
   ]
  },
  {
   "cell_type": "markdown",
   "metadata": {},
   "source": [
    "Check for successful creation of constraint objects:"
   ]
  },
  {
   "cell_type": "code",
   "execution_count": 13,
   "metadata": {},
   "outputs": [
    {
     "name": "stdout",
     "output_type": "stream",
     "text": [
      "<pyoptinterface._src.core_ext.ExprBuilder object at 0x0000017F66EC9070> ConstraintSense.LessEqual 1.0\n",
      "<pyoptinterface._src.core_ext.ExprBuilder object at 0x0000017F66EC9070> ConstraintSense.LessEqual 1.0\n",
      "<pyoptinterface._src.core_ext.ExprBuilder object at 0x0000017F66EC9070> ConstraintSense.LessEqual 1.0\n",
      "<pyoptinterface._src.core_ext.ExprBuilder object at 0x0000017F66EC9070> ConstraintSense.LessEqual 1.0\n",
      "<pyoptinterface._src.core_ext.ExprBuilder object at 0x0000017F66EC9070> ConstraintSense.LessEqual 1.0\n",
      "<pyoptinterface._src.core_ext.ExprBuilder object at 0x0000017F66EC9070> ConstraintSense.LessEqual 1.0\n",
      "<pyoptinterface._src.core_ext.ExprBuilder object at 0x0000017F66EC9070> ConstraintSense.LessEqual 1.0\n",
      "<pyoptinterface._src.core_ext.ExprBuilder object at 0x0000017F66EC9070> ConstraintSense.LessEqual 1.0\n",
      "<pyoptinterface._src.core_ext.ExprBuilder object at 0x0000017F66EC9070> ConstraintSense.LessEqual 1.0\n",
      "<pyoptinterface._src.core_ext.ExprBuilder object at 0x0000017F66EC9070> ConstraintSense.LessEqual 1.0\n",
      "<pyoptinterface._src.core_ext.ExprBuilder object at 0x0000017F66EC9070> ConstraintSense.LessEqual 1.0\n",
      "<pyoptinterface._src.core_ext.ExprBuilder object at 0x0000017F66EC9070> ConstraintSense.LessEqual 1.0\n",
      "<pyoptinterface._src.core_ext.ExprBuilder object at 0x0000017F66EC9070> ConstraintSense.LessEqual 1.0\n",
      "<pyoptinterface._src.core_ext.ExprBuilder object at 0x0000017F66EC9070> ConstraintSense.LessEqual 1.0\n",
      "<pyoptinterface._src.core_ext.ExprBuilder object at 0x0000017F66EC9070> ConstraintSense.LessEqual 1.0\n",
      "<pyoptinterface._src.core_ext.ExprBuilder object at 0x0000017F66EC9070> ConstraintSense.LessEqual 1.0\n",
      "<pyoptinterface._src.core_ext.ExprBuilder object at 0x0000017F66EC9070> ConstraintSense.LessEqual 1.0\n",
      "<pyoptinterface._src.core_ext.ExprBuilder object at 0x0000017F66EC9070> ConstraintSense.LessEqual 1.0\n",
      "<pyoptinterface._src.core_ext.ExprBuilder object at 0x0000017F66EC9070> ConstraintSense.LessEqual 1.0\n",
      "<pyoptinterface._src.core_ext.ExprBuilder object at 0x0000017F66EC9070> ConstraintSense.LessEqual 1.0\n",
      "<pyoptinterface._src.core_ext.ExprBuilder object at 0x0000017F66EC9070> ConstraintSense.LessEqual 1.0\n",
      "<pyoptinterface._src.core_ext.ExprBuilder object at 0x0000017F66EC9070> ConstraintSense.LessEqual 1.0\n",
      "<pyoptinterface._src.core_ext.ExprBuilder object at 0x0000017F66EC9070> ConstraintSense.LessEqual 1.0\n",
      "<pyoptinterface._src.core_ext.ExprBuilder object at 0x0000017F66EC9070> ConstraintSense.LessEqual 1.0\n",
      "<pyoptinterface._src.core_ext.ExprBuilder object at 0x0000017F66EC9070> ConstraintSense.LessEqual 1.0\n",
      "<pyoptinterface._src.core_ext.ExprBuilder object at 0x0000017F66EC9070> ConstraintSense.LessEqual 1.0\n",
      "<pyoptinterface._src.core_ext.ExprBuilder object at 0x0000017F66EC9070> ConstraintSense.LessEqual 1.0\n",
      "<pyoptinterface._src.core_ext.ExprBuilder object at 0x0000017F66EC9070> ConstraintSense.LessEqual 1.0\n",
      "<pyoptinterface._src.core_ext.ExprBuilder object at 0x0000017F66EC9070> ConstraintSense.LessEqual 1.0\n",
      "<pyoptinterface._src.core_ext.ExprBuilder object at 0x0000017F66EC9070> ConstraintSense.LessEqual 1.0\n",
      "<pyoptinterface._src.core_ext.ExprBuilder object at 0x0000017F66EC9070> ConstraintSense.LessEqual 1.0\n",
      "<pyoptinterface._src.core_ext.ExprBuilder object at 0x0000017F66EC9070> ConstraintSense.LessEqual 1.0\n",
      "<pyoptinterface._src.core_ext.ExprBuilder object at 0x0000017F66EC9070> ConstraintSense.LessEqual 1.0\n"
     ]
    }
   ],
   "source": [
    "for decision in decisions:\n",
    "    print(\n",
    "        poi.quicksum(\n",
    "            (\n",
    "                (decisions[i, decision[1]] - decisions[(i + 1), decision[1]])\n",
    "                * (decisions[i, decision[1]] - decisions[(i + 1), decision[1]])\n",
    "            )\n",
    "            for i in range(max(0, (decision[0] - 5)), decision[0])\n",
    "        ),\n",
    "        poi.Leq,\n",
    "        1.0,\n",
    "    )"
   ]
  },
  {
   "cell_type": "markdown",
   "metadata": {},
   "source": [
    "Verify that at each step the model can find the previous decision(s):"
   ]
  },
  {
   "cell_type": "code",
   "execution_count": 14,
   "metadata": {},
   "outputs": [
    {
     "name": "stdout",
     "output_type": "stream",
     "text": [
      "Current Decision: (0, 'intersection_4')\n",
      "----------------------------------------------------------------------------------------------------\n",
      "Current Decision: (0, 'intersection_7')\n",
      "----------------------------------------------------------------------------------------------------\n",
      "Current Decision: (0, 'intersection_1')\n",
      "----------------------------------------------------------------------------------------------------\n",
      "Current Decision: (1, 'intersection_4')\n",
      "Previous Decision: <pyoptinterface._src.core_ext.VariableIndex object at 0x0000017F66E81E70>\n",
      "----------------------------------------------------------------------------------------------------\n",
      "Current Decision: (1, 'intersection_7')\n",
      "Previous Decision: <pyoptinterface._src.core_ext.VariableIndex object at 0x0000017F66E81BB0>\n",
      "----------------------------------------------------------------------------------------------------\n",
      "Current Decision: (1, 'intersection_1')\n",
      "Previous Decision: <pyoptinterface._src.core_ext.VariableIndex object at 0x0000017F66E81DF0>\n",
      "----------------------------------------------------------------------------------------------------\n",
      "Current Decision: (2, 'intersection_4')\n",
      "Previous Decision: <pyoptinterface._src.core_ext.VariableIndex object at 0x0000017F66E81E70>\n",
      "Previous Decision: <pyoptinterface._src.core_ext.VariableIndex object at 0x0000017F66E81ED0>\n",
      "----------------------------------------------------------------------------------------------------\n",
      "Current Decision: (2, 'intersection_7')\n",
      "Previous Decision: <pyoptinterface._src.core_ext.VariableIndex object at 0x0000017F66E81BB0>\n",
      "Previous Decision: <pyoptinterface._src.core_ext.VariableIndex object at 0x0000017F66E81F50>\n",
      "----------------------------------------------------------------------------------------------------\n",
      "Current Decision: (2, 'intersection_1')\n",
      "Previous Decision: <pyoptinterface._src.core_ext.VariableIndex object at 0x0000017F66E81DF0>\n",
      "Previous Decision: <pyoptinterface._src.core_ext.VariableIndex object at 0x0000017F66E81E30>\n",
      "----------------------------------------------------------------------------------------------------\n",
      "Current Decision: (3, 'intersection_4')\n",
      "Previous Decision: <pyoptinterface._src.core_ext.VariableIndex object at 0x0000017F66E81E70>\n",
      "Previous Decision: <pyoptinterface._src.core_ext.VariableIndex object at 0x0000017F66E81ED0>\n",
      "Previous Decision: <pyoptinterface._src.core_ext.VariableIndex object at 0x0000017F66E81F70>\n",
      "----------------------------------------------------------------------------------------------------\n",
      "Current Decision: (3, 'intersection_7')\n",
      "Previous Decision: <pyoptinterface._src.core_ext.VariableIndex object at 0x0000017F66E81BB0>\n",
      "Previous Decision: <pyoptinterface._src.core_ext.VariableIndex object at 0x0000017F66E81F50>\n",
      "Previous Decision: <pyoptinterface._src.core_ext.VariableIndex object at 0x0000017F66E81C70>\n",
      "----------------------------------------------------------------------------------------------------\n",
      "Current Decision: (3, 'intersection_1')\n",
      "Previous Decision: <pyoptinterface._src.core_ext.VariableIndex object at 0x0000017F66E81DF0>\n",
      "Previous Decision: <pyoptinterface._src.core_ext.VariableIndex object at 0x0000017F66E81E30>\n",
      "Previous Decision: <pyoptinterface._src.core_ext.VariableIndex object at 0x0000017F66E81D10>\n",
      "----------------------------------------------------------------------------------------------------\n",
      "Current Decision: (4, 'intersection_4')\n",
      "Previous Decision: <pyoptinterface._src.core_ext.VariableIndex object at 0x0000017F66E81E70>\n",
      "Previous Decision: <pyoptinterface._src.core_ext.VariableIndex object at 0x0000017F66E81ED0>\n",
      "Previous Decision: <pyoptinterface._src.core_ext.VariableIndex object at 0x0000017F66E81F70>\n",
      "Previous Decision: <pyoptinterface._src.core_ext.VariableIndex object at 0x0000017F66E81E10>\n",
      "----------------------------------------------------------------------------------------------------\n",
      "Current Decision: (4, 'intersection_7')\n",
      "Previous Decision: <pyoptinterface._src.core_ext.VariableIndex object at 0x0000017F66E81BB0>\n",
      "Previous Decision: <pyoptinterface._src.core_ext.VariableIndex object at 0x0000017F66E81F50>\n",
      "Previous Decision: <pyoptinterface._src.core_ext.VariableIndex object at 0x0000017F66E81C70>\n",
      "Previous Decision: <pyoptinterface._src.core_ext.VariableIndex object at 0x0000017F66E81C50>\n",
      "----------------------------------------------------------------------------------------------------\n",
      "Current Decision: (4, 'intersection_1')\n",
      "Previous Decision: <pyoptinterface._src.core_ext.VariableIndex object at 0x0000017F66E81DF0>\n",
      "Previous Decision: <pyoptinterface._src.core_ext.VariableIndex object at 0x0000017F66E81E30>\n",
      "Previous Decision: <pyoptinterface._src.core_ext.VariableIndex object at 0x0000017F66E81D10>\n",
      "Previous Decision: <pyoptinterface._src.core_ext.VariableIndex object at 0x0000017F66E81EB0>\n",
      "----------------------------------------------------------------------------------------------------\n",
      "Current Decision: (5, 'intersection_4')\n",
      "Previous Decision: <pyoptinterface._src.core_ext.VariableIndex object at 0x0000017F66E81E70>\n",
      "Previous Decision: <pyoptinterface._src.core_ext.VariableIndex object at 0x0000017F66E81ED0>\n",
      "Previous Decision: <pyoptinterface._src.core_ext.VariableIndex object at 0x0000017F66E81F70>\n",
      "Previous Decision: <pyoptinterface._src.core_ext.VariableIndex object at 0x0000017F66E81E10>\n",
      "Previous Decision: <pyoptinterface._src.core_ext.VariableIndex object at 0x0000017F66E81AF0>\n",
      "----------------------------------------------------------------------------------------------------\n",
      "Current Decision: (5, 'intersection_7')\n",
      "Previous Decision: <pyoptinterface._src.core_ext.VariableIndex object at 0x0000017F66E81BB0>\n",
      "Previous Decision: <pyoptinterface._src.core_ext.VariableIndex object at 0x0000017F66E81F50>\n",
      "Previous Decision: <pyoptinterface._src.core_ext.VariableIndex object at 0x0000017F66E81C70>\n",
      "Previous Decision: <pyoptinterface._src.core_ext.VariableIndex object at 0x0000017F66E81C50>\n",
      "Previous Decision: <pyoptinterface._src.core_ext.VariableIndex object at 0x0000017F66E81E50>\n",
      "----------------------------------------------------------------------------------------------------\n",
      "Current Decision: (5, 'intersection_1')\n",
      "Previous Decision: <pyoptinterface._src.core_ext.VariableIndex object at 0x0000017F66E81DF0>\n",
      "Previous Decision: <pyoptinterface._src.core_ext.VariableIndex object at 0x0000017F66E81E30>\n",
      "Previous Decision: <pyoptinterface._src.core_ext.VariableIndex object at 0x0000017F66E81D10>\n",
      "Previous Decision: <pyoptinterface._src.core_ext.VariableIndex object at 0x0000017F66E81EB0>\n",
      "Previous Decision: <pyoptinterface._src.core_ext.VariableIndex object at 0x0000017F66E81F30>\n",
      "----------------------------------------------------------------------------------------------------\n",
      "Current Decision: (6, 'intersection_4')\n",
      "Previous Decision: <pyoptinterface._src.core_ext.VariableIndex object at 0x0000017F66E81ED0>\n",
      "Previous Decision: <pyoptinterface._src.core_ext.VariableIndex object at 0x0000017F66E81F70>\n",
      "Previous Decision: <pyoptinterface._src.core_ext.VariableIndex object at 0x0000017F66E81E10>\n",
      "Previous Decision: <pyoptinterface._src.core_ext.VariableIndex object at 0x0000017F66E81AF0>\n",
      "Previous Decision: <pyoptinterface._src.core_ext.VariableIndex object at 0x0000017F66E81DD0>\n",
      "----------------------------------------------------------------------------------------------------\n",
      "Current Decision: (6, 'intersection_7')\n",
      "Previous Decision: <pyoptinterface._src.core_ext.VariableIndex object at 0x0000017F66E81F50>\n",
      "Previous Decision: <pyoptinterface._src.core_ext.VariableIndex object at 0x0000017F66E81C70>\n",
      "Previous Decision: <pyoptinterface._src.core_ext.VariableIndex object at 0x0000017F66E81C50>\n",
      "Previous Decision: <pyoptinterface._src.core_ext.VariableIndex object at 0x0000017F66E81E50>\n",
      "Previous Decision: <pyoptinterface._src.core_ext.VariableIndex object at 0x0000017F66E81FB0>\n",
      "----------------------------------------------------------------------------------------------------\n",
      "Current Decision: (6, 'intersection_1')\n",
      "Previous Decision: <pyoptinterface._src.core_ext.VariableIndex object at 0x0000017F66E81E30>\n",
      "Previous Decision: <pyoptinterface._src.core_ext.VariableIndex object at 0x0000017F66E81D10>\n",
      "Previous Decision: <pyoptinterface._src.core_ext.VariableIndex object at 0x0000017F66E81EB0>\n",
      "Previous Decision: <pyoptinterface._src.core_ext.VariableIndex object at 0x0000017F66E81F30>\n",
      "Previous Decision: <pyoptinterface._src.core_ext.VariableIndex object at 0x0000017F66E81FD0>\n",
      "----------------------------------------------------------------------------------------------------\n",
      "Current Decision: (7, 'intersection_4')\n",
      "Previous Decision: <pyoptinterface._src.core_ext.VariableIndex object at 0x0000017F66E81F70>\n",
      "Previous Decision: <pyoptinterface._src.core_ext.VariableIndex object at 0x0000017F66E81E10>\n",
      "Previous Decision: <pyoptinterface._src.core_ext.VariableIndex object at 0x0000017F66E81AF0>\n",
      "Previous Decision: <pyoptinterface._src.core_ext.VariableIndex object at 0x0000017F66E81DD0>\n",
      "Previous Decision: <pyoptinterface._src.core_ext.VariableIndex object at 0x0000017F66E81FF0>\n",
      "----------------------------------------------------------------------------------------------------\n",
      "Current Decision: (7, 'intersection_7')\n",
      "Previous Decision: <pyoptinterface._src.core_ext.VariableIndex object at 0x0000017F66E81C70>\n",
      "Previous Decision: <pyoptinterface._src.core_ext.VariableIndex object at 0x0000017F66E81C50>\n",
      "Previous Decision: <pyoptinterface._src.core_ext.VariableIndex object at 0x0000017F66E81E50>\n",
      "Previous Decision: <pyoptinterface._src.core_ext.VariableIndex object at 0x0000017F66E81FB0>\n",
      "Previous Decision: <pyoptinterface._src.core_ext.VariableIndex object at 0x0000017F66E82010>\n",
      "----------------------------------------------------------------------------------------------------\n",
      "Current Decision: (7, 'intersection_1')\n",
      "Previous Decision: <pyoptinterface._src.core_ext.VariableIndex object at 0x0000017F66E81D10>\n",
      "Previous Decision: <pyoptinterface._src.core_ext.VariableIndex object at 0x0000017F66E81EB0>\n",
      "Previous Decision: <pyoptinterface._src.core_ext.VariableIndex object at 0x0000017F66E81F30>\n",
      "Previous Decision: <pyoptinterface._src.core_ext.VariableIndex object at 0x0000017F66E81FD0>\n",
      "Previous Decision: <pyoptinterface._src.core_ext.VariableIndex object at 0x0000017F66E82030>\n",
      "----------------------------------------------------------------------------------------------------\n",
      "Current Decision: (8, 'intersection_4')\n",
      "Previous Decision: <pyoptinterface._src.core_ext.VariableIndex object at 0x0000017F66E81E10>\n",
      "Previous Decision: <pyoptinterface._src.core_ext.VariableIndex object at 0x0000017F66E81AF0>\n",
      "Previous Decision: <pyoptinterface._src.core_ext.VariableIndex object at 0x0000017F66E81DD0>\n",
      "Previous Decision: <pyoptinterface._src.core_ext.VariableIndex object at 0x0000017F66E81FF0>\n",
      "Previous Decision: <pyoptinterface._src.core_ext.VariableIndex object at 0x0000017F66E82050>\n",
      "----------------------------------------------------------------------------------------------------\n",
      "Current Decision: (8, 'intersection_7')\n",
      "Previous Decision: <pyoptinterface._src.core_ext.VariableIndex object at 0x0000017F66E81C50>\n",
      "Previous Decision: <pyoptinterface._src.core_ext.VariableIndex object at 0x0000017F66E81E50>\n",
      "Previous Decision: <pyoptinterface._src.core_ext.VariableIndex object at 0x0000017F66E81FB0>\n",
      "Previous Decision: <pyoptinterface._src.core_ext.VariableIndex object at 0x0000017F66E82010>\n",
      "Previous Decision: <pyoptinterface._src.core_ext.VariableIndex object at 0x0000017F66E82070>\n",
      "----------------------------------------------------------------------------------------------------\n",
      "Current Decision: (8, 'intersection_1')\n",
      "Previous Decision: <pyoptinterface._src.core_ext.VariableIndex object at 0x0000017F66E81EB0>\n",
      "Previous Decision: <pyoptinterface._src.core_ext.VariableIndex object at 0x0000017F66E81F30>\n",
      "Previous Decision: <pyoptinterface._src.core_ext.VariableIndex object at 0x0000017F66E81FD0>\n",
      "Previous Decision: <pyoptinterface._src.core_ext.VariableIndex object at 0x0000017F66E82030>\n",
      "Previous Decision: <pyoptinterface._src.core_ext.VariableIndex object at 0x0000017F66E82090>\n",
      "----------------------------------------------------------------------------------------------------\n",
      "Current Decision: (9, 'intersection_4')\n",
      "Previous Decision: <pyoptinterface._src.core_ext.VariableIndex object at 0x0000017F66E81AF0>\n",
      "Previous Decision: <pyoptinterface._src.core_ext.VariableIndex object at 0x0000017F66E81DD0>\n",
      "Previous Decision: <pyoptinterface._src.core_ext.VariableIndex object at 0x0000017F66E81FF0>\n",
      "Previous Decision: <pyoptinterface._src.core_ext.VariableIndex object at 0x0000017F66E82050>\n",
      "Previous Decision: <pyoptinterface._src.core_ext.VariableIndex object at 0x0000017F66E820B0>\n",
      "----------------------------------------------------------------------------------------------------\n",
      "Current Decision: (9, 'intersection_7')\n",
      "Previous Decision: <pyoptinterface._src.core_ext.VariableIndex object at 0x0000017F66E81E50>\n",
      "Previous Decision: <pyoptinterface._src.core_ext.VariableIndex object at 0x0000017F66E81FB0>\n",
      "Previous Decision: <pyoptinterface._src.core_ext.VariableIndex object at 0x0000017F66E82010>\n",
      "Previous Decision: <pyoptinterface._src.core_ext.VariableIndex object at 0x0000017F66E82070>\n",
      "Previous Decision: <pyoptinterface._src.core_ext.VariableIndex object at 0x0000017F66E820D0>\n",
      "----------------------------------------------------------------------------------------------------\n",
      "Current Decision: (9, 'intersection_1')\n",
      "Previous Decision: <pyoptinterface._src.core_ext.VariableIndex object at 0x0000017F66E81F30>\n",
      "Previous Decision: <pyoptinterface._src.core_ext.VariableIndex object at 0x0000017F66E81FD0>\n",
      "Previous Decision: <pyoptinterface._src.core_ext.VariableIndex object at 0x0000017F66E82030>\n",
      "Previous Decision: <pyoptinterface._src.core_ext.VariableIndex object at 0x0000017F66E82090>\n",
      "Previous Decision: <pyoptinterface._src.core_ext.VariableIndex object at 0x0000017F66E820F0>\n",
      "----------------------------------------------------------------------------------------------------\n",
      "Current Decision: (10, 'intersection_4')\n",
      "Previous Decision: <pyoptinterface._src.core_ext.VariableIndex object at 0x0000017F66E81DD0>\n",
      "Previous Decision: <pyoptinterface._src.core_ext.VariableIndex object at 0x0000017F66E81FF0>\n",
      "Previous Decision: <pyoptinterface._src.core_ext.VariableIndex object at 0x0000017F66E82050>\n",
      "Previous Decision: <pyoptinterface._src.core_ext.VariableIndex object at 0x0000017F66E820B0>\n",
      "Previous Decision: <pyoptinterface._src.core_ext.VariableIndex object at 0x0000017F66E82110>\n",
      "----------------------------------------------------------------------------------------------------\n",
      "Current Decision: (10, 'intersection_7')\n",
      "Previous Decision: <pyoptinterface._src.core_ext.VariableIndex object at 0x0000017F66E81FB0>\n",
      "Previous Decision: <pyoptinterface._src.core_ext.VariableIndex object at 0x0000017F66E82010>\n",
      "Previous Decision: <pyoptinterface._src.core_ext.VariableIndex object at 0x0000017F66E82070>\n",
      "Previous Decision: <pyoptinterface._src.core_ext.VariableIndex object at 0x0000017F66E820D0>\n",
      "Previous Decision: <pyoptinterface._src.core_ext.VariableIndex object at 0x0000017F66E82130>\n",
      "----------------------------------------------------------------------------------------------------\n",
      "Current Decision: (10, 'intersection_1')\n",
      "Previous Decision: <pyoptinterface._src.core_ext.VariableIndex object at 0x0000017F66E81FD0>\n",
      "Previous Decision: <pyoptinterface._src.core_ext.VariableIndex object at 0x0000017F66E82030>\n",
      "Previous Decision: <pyoptinterface._src.core_ext.VariableIndex object at 0x0000017F66E82090>\n",
      "Previous Decision: <pyoptinterface._src.core_ext.VariableIndex object at 0x0000017F66E820F0>\n",
      "Previous Decision: <pyoptinterface._src.core_ext.VariableIndex object at 0x0000017F66E82150>\n",
      "----------------------------------------------------------------------------------------------------\n"
     ]
    }
   ],
   "source": [
    "for decision in decisions:\n",
    "    print(f\"Current Decision: {decision}\")\n",
    "    [\n",
    "        print(f\"Previous Decision: {decisions[i, decision[1]]}\")\n",
    "        for i in range(max(0, (decision[0] - 5)), decision[0])\n",
    "    ]\n",
    "    print(100 * \"-\")"
   ]
  },
  {
   "cell_type": "markdown",
   "metadata": {},
   "source": [
    "## Objective"
   ]
  },
  {
   "cell_type": "markdown",
   "metadata": {},
   "source": [
    "The goal is to maximize the number of cars that can pass the light."
   ]
  },
  {
   "cell_type": "code",
   "execution_count": 15,
   "metadata": {},
   "outputs": [],
   "source": [
    "objective = poi.quicksum(\n",
    "    poi.quicksum(\n",
    "        decisions[time_step, lane] * sim_env[time_step][connected_lanes.index(lane)] for lane in connected_lanes\n",
    "    )\n",
    "    for time_step in time\n",
    ")\n",
    "opt_model.set_objective(objective, poi.ObjectiveSense.Maximize)"
   ]
  },
  {
   "cell_type": "markdown",
   "metadata": {},
   "source": [
    "## Optimization"
   ]
  },
  {
   "cell_type": "code",
   "execution_count": 16,
   "metadata": {},
   "outputs": [],
   "source": [
    "opt_model.optimize()"
   ]
  },
  {
   "cell_type": "markdown",
   "metadata": {},
   "source": [
    "## Results"
   ]
  },
  {
   "cell_type": "markdown",
   "metadata": {},
   "source": [
    "Get the number of total cars, that crossed the intersection:"
   ]
  },
  {
   "cell_type": "code",
   "execution_count": null,
   "metadata": {},
   "outputs": [
    {
     "ename": "AttributeError",
     "evalue": "'Model' object has no attribute 'get_obj_value'",
     "output_type": "error",
     "traceback": [
      "\u001b[1;31m---------------------------------------------------------------------------\u001b[0m",
      "\u001b[1;31mAttributeError\u001b[0m                            Traceback (most recent call last)",
      "Cell \u001b[1;32mIn[17], line 1\u001b[0m\n\u001b[1;32m----> 1\u001b[0m \u001b[38;5;28mprint\u001b[39m(\u001b[38;5;124mf\u001b[39m\u001b[38;5;124m\"\u001b[39m\u001b[38;5;124mObjective Value: \u001b[39m\u001b[38;5;132;01m{\u001b[39;00m\u001b[43mopt_model\u001b[49m\u001b[38;5;241;43m.\u001b[39;49m\u001b[43mget_obj_value\u001b[49m()\u001b[38;5;132;01m}\u001b[39;00m\u001b[38;5;124m\"\u001b[39m)\n",
      "\u001b[1;31mAttributeError\u001b[0m: 'Model' object has no attribute 'get_obj_value'"
     ]
    }
   ],
   "source": [
    "# print(f\"Objective Value: {opt_model.get_obj_value()}\")"
   ]
  },
  {
   "cell_type": "markdown",
   "metadata": {},
   "source": [
    "Get the decision for each point in time:"
   ]
  },
  {
   "cell_type": "code",
   "execution_count": null,
   "metadata": {},
   "outputs": [
    {
     "name": "stdout",
     "output_type": "stream",
     "text": [
      "Time: 0; Intersection: intersection_1\n",
      "Time: 1; Intersection: intersection_1\n",
      "Time: 2; Intersection: intersection_1\n",
      "Time: 3; Intersection: intersection_7\n",
      "Time: 4; Intersection: intersection_7\n",
      "Time: 5; Intersection: intersection_7\n",
      "Time: 6; Intersection: intersection_7\n",
      "Time: 7; Intersection: intersection_7\n",
      "Time: 8; Intersection: intersection_7\n",
      "Time: 9; Intersection: intersection_7\n",
      "Time: 10; Intersection: intersection_7\n"
     ]
    }
   ],
   "source": [
    "for lane in decisions:\n",
    "    if opt_model.get_value(decisions[lane]) == 1:\n",
    "        print(\n",
    "            f\"Time: {lane[0]}; Intersection: {lane[1]}\"\n",
    "        )"
   ]
  },
  {
   "cell_type": "markdown",
   "metadata": {},
   "source": [
    "Get a matrix of decisions with the lanes as columns and time as rows:"
   ]
  },
  {
   "cell_type": "code",
   "execution_count": null,
   "metadata": {},
   "outputs": [
    {
     "data": {
      "text/plain": [
       "[[-0.0, -0.0, 1.0],\n",
       " [-0.0, -0.0, 1.0],\n",
       " [-0.0, -0.0, 1.0],\n",
       " [-0.0, 1.0, 0.0],\n",
       " [-0.0, 1.0, 0.0],\n",
       " [-0.0, 1.0, -0.0],\n",
       " [0.0, 1.0, -0.0],\n",
       " [0.0, 1.0, 0.0],\n",
       " [-0.0, 1.0, -0.0],\n",
       " [-0.0, 1.0, -0.0],\n",
       " [-0.0, 1.0, -0.0]]"
      ]
     },
     "execution_count": 21,
     "metadata": {},
     "output_type": "execute_result"
    }
   ],
   "source": [
    "decision_matrix = [opt_model.get_value(decisions[lane]) for lane in decisions]\n",
    "decision_matrix_time = [\n",
    "    decision_matrix[i : i + 3] for i in range(0, len(decision_matrix), 3)\n",
    "]\n",
    "decision_matrix_time"
   ]
  },
  {
   "cell_type": "markdown",
   "metadata": {},
   "source": [
    "Get a transposed decision matrix:"
   ]
  },
  {
   "cell_type": "code",
   "execution_count": null,
   "metadata": {},
   "outputs": [
    {
     "data": {
      "text/plain": [
       "[[-0.0, -0.0, -0.0, -0.0, -0.0, -0.0, 0.0, 0.0, -0.0, -0.0, -0.0],\n",
       " [-0.0, -0.0, -0.0, 1.0, 1.0, 1.0, 1.0, 1.0, 1.0, 1.0, 1.0],\n",
       " [1.0, 1.0, 1.0, 0.0, 0.0, -0.0, -0.0, 0.0, -0.0, -0.0, -0.0]]"
      ]
     },
     "execution_count": 22,
     "metadata": {},
     "output_type": "execute_result"
    }
   ],
   "source": [
    "decision_matrix_light = list(map(list, zip(*decision_matrix_time)))\n",
    "decision_matrix_light"
   ]
  },
  {
   "cell_type": "markdown",
   "metadata": {},
   "source": [
    "For each point in time, get the previous decisions and evaluate if a light can switch:"
   ]
  },
  {
   "cell_type": "code",
   "execution_count": null,
   "metadata": {},
   "outputs": [
    {
     "name": "stdout",
     "output_type": "stream",
     "text": [
      "[0, 0, 0, 0, 0]\n",
      "0\n",
      "Light can switch\n",
      "[0, 0, 0, 0, -0.0]\n",
      "0\n",
      "Light can switch\n",
      "[0, 0, 0, -0.0, -0.0]\n",
      "0.0\n",
      "Light can switch\n",
      "[0, 0, -0.0, -0.0, -0.0]\n",
      "0.0\n",
      "Light can switch\n",
      "[0, -0.0, -0.0, -0.0, -0.0]\n",
      "0.0\n",
      "Light can switch\n",
      "[-0.0, -0.0, -0.0, -0.0, -0.0]\n",
      "0.0\n",
      "Light can switch\n",
      "[-0.0, -0.0, -0.0, -0.0, -0.0]\n",
      "0.0\n",
      "Light can switch\n",
      "[-0.0, -0.0, -0.0, -0.0, 0.0]\n",
      "0.0\n",
      "Light can switch\n",
      "[-0.0, -0.0, -0.0, 0.0, 0.0]\n",
      "0.0\n",
      "Light can switch\n",
      "[-0.0, -0.0, 0.0, 0.0, -0.0]\n",
      "0.0\n",
      "Light can switch\n",
      "[-0.0, 0.0, 0.0, -0.0, -0.0]\n",
      "0.0\n",
      "Light can switch\n",
      "[0, 0, 0, 0, 0]\n",
      "0\n",
      "Light can switch\n",
      "[0, 0, 0, 0, -0.0]\n",
      "0\n",
      "Light can switch\n",
      "[0, 0, 0, -0.0, -0.0]\n",
      "0.0\n",
      "Light can switch\n",
      "[0, 0, -0.0, -0.0, -0.0]\n",
      "0.0\n",
      "Light can switch\n",
      "[0, -0.0, -0.0, -0.0, 1.0]\n",
      "0.0\n",
      "Light can switch\n",
      "[-0.0, -0.0, -0.0, 1.0, 1.0]\n",
      "1.0\n",
      "Light is cooldown blocked\n",
      "[-0.0, -0.0, 1.0, 1.0, 1.0]\n",
      "1.0\n",
      "Light is cooldown blocked\n",
      "[-0.0, 1.0, 1.0, 1.0, 1.0]\n",
      "1.0\n",
      "Light is cooldown blocked\n",
      "[1.0, 1.0, 1.0, 1.0, 1.0]\n",
      "0.0\n",
      "Light can switch\n",
      "[1.0, 1.0, 1.0, 1.0, 1.0]\n",
      "0.0\n",
      "Light can switch\n",
      "[1.0, 1.0, 1.0, 1.0, 1.0]\n",
      "0.0\n",
      "Light can switch\n",
      "[0, 0, 0, 0, 0]\n",
      "0\n",
      "Light can switch\n",
      "[0, 0, 0, 0, 1.0]\n",
      "0\n",
      "Light can switch\n",
      "[0, 0, 0, 1.0, 1.0]\n",
      "1.0\n",
      "Light is cooldown blocked\n",
      "[0, 0, 1.0, 1.0, 1.0]\n",
      "1.0\n",
      "Light is cooldown blocked\n",
      "[0, 1.0, 1.0, 1.0, 0.0]\n",
      "1.0\n",
      "Light is cooldown blocked\n",
      "[1.0, 1.0, 1.0, 0.0, 0.0]\n",
      "1.0\n",
      "Light is cooldown blocked\n",
      "[1.0, 1.0, 0.0, 0.0, -0.0]\n",
      "1.0\n",
      "Light is cooldown blocked\n",
      "[1.0, 0.0, 0.0, -0.0, -0.0]\n",
      "1.0\n",
      "Light is cooldown blocked\n",
      "[0.0, 0.0, -0.0, -0.0, 0.0]\n",
      "0.0\n",
      "Light can switch\n",
      "[0.0, -0.0, -0.0, 0.0, -0.0]\n",
      "0.0\n",
      "Light can switch\n",
      "[-0.0, -0.0, 0.0, -0.0, -0.0]\n",
      "0.0\n",
      "Light can switch\n"
     ]
    }
   ],
   "source": [
    "for light in decision_matrix_light:  # Historie von Entscheidung pro Ampel\n",
    "    for i in range(len(light)):\n",
    "        decision_history = (\n",
    "            [0] * max(0, 5 - i) + light[max(0, i - 5) : i]\n",
    "        )  # Entscheidungen von t-5 bis t=0; Wenn vorher keine Entscheidung gab, dann führende 0; Zu erkennen an int 0 vs. float 0.0\n",
    "        block_status = 0  # Bei 0 darf geöffnet werden, bei 1 ist cooldown aktiv, bei größer 1 gabs nen fehler in der entscheidung\n",
    "        for j in range(1, (len(decision_history) - 1)):\n",
    "            block_status += (\n",
    "                decision_history[j - 1] - decision_history[j]\n",
    "            ) ** 2  # Berechnen von @mxrio Loop (** ist exponent)\n",
    "        print(decision_history)\n",
    "        print(block_status)\n",
    "        if block_status == 0:\n",
    "            print(\"Light can switch\")\n",
    "        elif block_status == 1:\n",
    "            print(\"Light is cooldown blocked\")\n",
    "        elif block_status > 1:\n",
    "            print(\"Forbidden Action\")"
   ]
  }
 ],
 "metadata": {
  "kernelspec": {
   "display_name": "ias_project",
   "language": "python",
   "name": "python3"
  },
  "language_info": {
   "codemirror_mode": {
    "name": "ipython",
    "version": 3
   },
   "file_extension": ".py",
   "mimetype": "text/x-python",
   "name": "python",
   "nbconvert_exporter": "python",
   "pygments_lexer": "ipython3",
   "version": "3.12.8"
  }
 },
 "nbformat": 4,
 "nbformat_minor": 2
}
