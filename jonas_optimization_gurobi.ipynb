{
 "cells": [
  {
   "cell_type": "markdown",
   "metadata": {},
   "source": [
    "# Light Switching Optimization"
   ]
  },
  {
   "cell_type": "markdown",
   "metadata": {},
   "source": [
    "This Notebook contains exploratory code related to developing an optimization model which determines the lane each traffic light opens at a given point in time. Each light determines it's individual optimal behavior. The goal is to maximize the number of cars that can pass an intersection over an undefined period of time. Each light can only open one lane at a time. Lights are further constrained by a cooldown, which limits a light to change it's decision after 5 steps from the previous decision."
   ]
  },
  {
   "cell_type": "code",
   "execution_count": 1,
   "metadata": {},
   "outputs": [],
   "source": [
    "import pyoptinterface as poi\n",
    "from pathlib import Path\n",
    "from pyoptinterface import gurobi\n",
    "import numpy as np"
   ]
  },
  {
   "cell_type": "code",
   "execution_count": 2,
   "metadata": {},
   "outputs": [],
   "source": [
    "license_path = Path.joinpath(Path(\".secrets/\"), Path(\"gurobi.lic\"))\n",
    "\n",
    "secrets = {}\n",
    "\n",
    "with open(license_path, \"r\") as file:\n",
    "    for line in file:\n",
    "        line = line.strip()\n",
    "        if line.startswith(\"#\") or not line:\n",
    "            continue\n",
    "        try:\n",
    "            key, value = line.split(\"=\", 1)\n",
    "            secrets[key.strip()] = value.strip()\n",
    "        except ValueError:\n",
    "            pass\n",
    "\n",
    "WLSACCESSID = secrets.get(\"WLSACCESSID\")\n",
    "WLSSECRET = secrets.get(\"WLSSECRET\")\n",
    "LICENSEID = secrets.get(\"LICENSEID\")\n"
   ]
  },
  {
   "cell_type": "code",
   "execution_count": 3,
   "metadata": {},
   "outputs": [],
   "source": [
    "env = gurobi.Env(empty=True)"
   ]
  },
  {
   "cell_type": "code",
   "execution_count": 4,
   "metadata": {},
   "outputs": [
    {
     "name": "stdout",
     "output_type": "stream",
     "text": [
      "Set parameter WLSAccessID\n",
      "Set parameter WLSSecret\n",
      "Set parameter LicenseID to value 2641387\n",
      "Academic license 2641387 - for non-commercial use only - registered to ca___@cas.dhbw.de\n"
     ]
    }
   ],
   "source": [
    "env.set_raw_parameter(\"WLSACCESSID\", WLSACCESSID)\n",
    "env.set_raw_parameter(\"WLSSECRET\", WLSSECRET)\n",
    "env.set_raw_parameter(\"LICENSEID\", LICENSEID)\n",
    "env.start()"
   ]
  },
  {
   "cell_type": "code",
   "execution_count": 6,
   "metadata": {},
   "outputs": [],
   "source": [
    "opt_model = gurobi.Model(env)"
   ]
  },
  {
   "cell_type": "markdown",
   "metadata": {},
   "source": [
    "## Environment"
   ]
  },
  {
   "cell_type": "markdown",
   "metadata": {},
   "source": [
    "The following section creates the environment to optimize."
   ]
  },
  {
   "cell_type": "code",
   "execution_count": 7,
   "metadata": {},
   "outputs": [
    {
     "data": {
      "text/plain": [
       "['intersection_4', 'intersection_7', 'intersection_1']"
      ]
     },
     "execution_count": 7,
     "metadata": {},
     "output_type": "execute_result"
    }
   ],
   "source": [
    "connected_lanes = [\"intersection_4\", \"intersection_7\", \"intersection_1\"]\n",
    "connected_lanes"
   ]
  },
  {
   "cell_type": "code",
   "execution_count": 8,
   "metadata": {},
   "outputs": [
    {
     "data": {
      "text/plain": [
       "range(0, 11)"
      ]
     },
     "execution_count": 8,
     "metadata": {},
     "output_type": "execute_result"
    }
   ],
   "source": [
    "time = range(0, 11)\n",
    "time"
   ]
  },
  {
   "cell_type": "code",
   "execution_count": 9,
   "metadata": {},
   "outputs": [
    {
     "data": {
      "text/plain": [
       "(11, 3)"
      ]
     },
     "execution_count": 9,
     "metadata": {},
     "output_type": "execute_result"
    }
   ],
   "source": [
    "int_4_arrivals = np.array([0, 5, 5, 1, 1, 1, 3, 5, 1, 1, 1])\n",
    "int_7_arrivals = np.array([0, 1, 1, 10, 10, 10, 7, 1, 10, 10, 10])\n",
    "int_1_arrivals = np.array([0, 10, 10, 1, 1, 1, 1, 10, 1, 1, 1])\n",
    "\n",
    "sim_env = np.array([int_4_arrivals, int_7_arrivals, int_1_arrivals]).T\n",
    "\n",
    "sim_env.shape"
   ]
  },
  {
   "cell_type": "code",
   "execution_count": 10,
   "metadata": {},
   "outputs": [
    {
     "data": {
      "text/plain": [
       "array([[ 0,  0,  0],\n",
       "       [ 5,  1, 10],\n",
       "       [ 5,  1, 10],\n",
       "       [ 1, 10,  1],\n",
       "       [ 1, 10,  1],\n",
       "       [ 1, 10,  1],\n",
       "       [ 3,  7,  1],\n",
       "       [ 5,  1, 10],\n",
       "       [ 1, 10,  1],\n",
       "       [ 1, 10,  1],\n",
       "       [ 1, 10,  1]])"
      ]
     },
     "execution_count": 10,
     "metadata": {},
     "output_type": "execute_result"
    }
   ],
   "source": [
    "sim_env"
   ]
  },
  {
   "cell_type": "markdown",
   "metadata": {},
   "source": [
    "## Decision Variables"
   ]
  },
  {
   "cell_type": "markdown",
   "metadata": {},
   "source": [
    "At each point in time, a light can make a decision for each connected lane.\n"
   ]
  },
  {
   "cell_type": "markdown",
   "metadata": {},
   "source": [
    "$$ x_{lt}\\in\\{0,1\\} $$\n",
    "$$ with: $$\n",
    "$$ l\\in{L}, \\quad L=\\{Connected Lanes\\} $$\n",
    "$$ t\\in{T}, \\quad T=\\left[ 0;5 \\right]"
   ]
  },
  {
   "cell_type": "code",
   "execution_count": 11,
   "metadata": {},
   "outputs": [],
   "source": [
    "decisions = opt_model.add_variables(\n",
    "    time, connected_lanes, domain=poi.VariableDomain.Binary\n",
    ")"
   ]
  },
  {
   "cell_type": "markdown",
   "metadata": {},
   "source": [
    "## Constraints"
   ]
  },
  {
   "cell_type": "markdown",
   "metadata": {},
   "source": [
    "A light can only have one open lane at any point in time. It can also decide not to open any lane."
   ]
  },
  {
   "cell_type": "markdown",
   "metadata": {},
   "source": [
    "$$ \\sum_{t\\in{T}} \\sum_{l\\in{L}} x_{l,t} \\leq{1} $$"
   ]
  },
  {
   "cell_type": "code",
   "execution_count": 12,
   "metadata": {},
   "outputs": [],
   "source": [
    "for time_step in time:\n",
    "    opt_model.add_linear_constraint(\n",
    "        poi.quicksum(decisions[time_step, lane] for lane in connected_lanes), poi.Leq, 1\n",
    "    )"
   ]
  },
  {
   "cell_type": "markdown",
   "metadata": {},
   "source": [
    "A light cannot make a new decision after a cooldown of 5 time steps."
   ]
  },
  {
   "cell_type": "markdown",
   "metadata": {},
   "source": [
    "$$ \\sum_{l\\in{L}} \\sum_{t\\in{T}}^{0\\leq{t}\\leq{5}} (x_{l,t-1}-x_{l,t})^{2} \\leq{1}$$"
   ]
  },
  {
   "cell_type": "code",
   "execution_count": 13,
   "metadata": {},
   "outputs": [],
   "source": [
    "# for lane in possible_lanes:\n",
    "# opt_model.add_linear_constraint(poi.quicksum(((lanes[tick-1, lane] - lanes[tick, lane]) * (lanes[tick-1, lane] - lanes[tick, lane])) for tick in time[1:]), poi.Leq, 1.0)"
   ]
  },
  {
   "cell_type": "code",
   "execution_count": 14,
   "metadata": {},
   "outputs": [],
   "source": [
    "for decision in decisions:\n",
    "    opt_model.add_quadratic_constraint(\n",
    "        poi.quicksum(\n",
    "            (\n",
    "                (decisions[i, decision[1]] - decisions[(i + 1), decision[1]])\n",
    "                * (decisions[i, decision[1]] - decisions[(i + 1), decision[1]])\n",
    "            )\n",
    "            for i in range(max(0, (decision[0] - 5)), decision[0])\n",
    "        ),\n",
    "        poi.Leq,\n",
    "        1.0,\n",
    "    )"
   ]
  },
  {
   "cell_type": "markdown",
   "metadata": {},
   "source": [
    "Check for successful creation of constraint objects:"
   ]
  },
  {
   "cell_type": "code",
   "execution_count": 15,
   "metadata": {},
   "outputs": [
    {
     "name": "stdout",
     "output_type": "stream",
     "text": [
      "<pyoptinterface._src.core_ext.ExprBuilder object at 0x10c1f9930> ConstraintSense.LessEqual 1.0\n",
      "<pyoptinterface._src.core_ext.ExprBuilder object at 0x10c1f9f70> ConstraintSense.LessEqual 1.0\n",
      "<pyoptinterface._src.core_ext.ExprBuilder object at 0x10c1fa010> ConstraintSense.LessEqual 1.0\n",
      "<pyoptinterface._src.core_ext.ExprBuilder object at 0x10c1f9f70> ConstraintSense.LessEqual 1.0\n",
      "<pyoptinterface._src.core_ext.ExprBuilder object at 0x10c1fa010> ConstraintSense.LessEqual 1.0\n",
      "<pyoptinterface._src.core_ext.ExprBuilder object at 0x10c1f9f70> ConstraintSense.LessEqual 1.0\n",
      "<pyoptinterface._src.core_ext.ExprBuilder object at 0x10c1fa010> ConstraintSense.LessEqual 1.0\n",
      "<pyoptinterface._src.core_ext.ExprBuilder object at 0x10c1f9f70> ConstraintSense.LessEqual 1.0\n",
      "<pyoptinterface._src.core_ext.ExprBuilder object at 0x10c1fa010> ConstraintSense.LessEqual 1.0\n",
      "<pyoptinterface._src.core_ext.ExprBuilder object at 0x10c1f9f70> ConstraintSense.LessEqual 1.0\n",
      "<pyoptinterface._src.core_ext.ExprBuilder object at 0x10c1fa010> ConstraintSense.LessEqual 1.0\n",
      "<pyoptinterface._src.core_ext.ExprBuilder object at 0x10c1f9f70> ConstraintSense.LessEqual 1.0\n",
      "<pyoptinterface._src.core_ext.ExprBuilder object at 0x10c1fa010> ConstraintSense.LessEqual 1.0\n",
      "<pyoptinterface._src.core_ext.ExprBuilder object at 0x10c1f9f70> ConstraintSense.LessEqual 1.0\n",
      "<pyoptinterface._src.core_ext.ExprBuilder object at 0x10c1fa010> ConstraintSense.LessEqual 1.0\n",
      "<pyoptinterface._src.core_ext.ExprBuilder object at 0x10c1f9f70> ConstraintSense.LessEqual 1.0\n",
      "<pyoptinterface._src.core_ext.ExprBuilder object at 0x10c1fa010> ConstraintSense.LessEqual 1.0\n",
      "<pyoptinterface._src.core_ext.ExprBuilder object at 0x10c1f9f70> ConstraintSense.LessEqual 1.0\n",
      "<pyoptinterface._src.core_ext.ExprBuilder object at 0x10c1fa010> ConstraintSense.LessEqual 1.0\n",
      "<pyoptinterface._src.core_ext.ExprBuilder object at 0x10c1f9f70> ConstraintSense.LessEqual 1.0\n",
      "<pyoptinterface._src.core_ext.ExprBuilder object at 0x10c1fa010> ConstraintSense.LessEqual 1.0\n",
      "<pyoptinterface._src.core_ext.ExprBuilder object at 0x10c1f9f70> ConstraintSense.LessEqual 1.0\n",
      "<pyoptinterface._src.core_ext.ExprBuilder object at 0x10c1fa010> ConstraintSense.LessEqual 1.0\n",
      "<pyoptinterface._src.core_ext.ExprBuilder object at 0x10c1f9f70> ConstraintSense.LessEqual 1.0\n",
      "<pyoptinterface._src.core_ext.ExprBuilder object at 0x10c1fa010> ConstraintSense.LessEqual 1.0\n",
      "<pyoptinterface._src.core_ext.ExprBuilder object at 0x10c1f9f70> ConstraintSense.LessEqual 1.0\n",
      "<pyoptinterface._src.core_ext.ExprBuilder object at 0x10c1fa010> ConstraintSense.LessEqual 1.0\n",
      "<pyoptinterface._src.core_ext.ExprBuilder object at 0x10c1f9f70> ConstraintSense.LessEqual 1.0\n",
      "<pyoptinterface._src.core_ext.ExprBuilder object at 0x10c1fa010> ConstraintSense.LessEqual 1.0\n",
      "<pyoptinterface._src.core_ext.ExprBuilder object at 0x10c1f9f70> ConstraintSense.LessEqual 1.0\n",
      "<pyoptinterface._src.core_ext.ExprBuilder object at 0x10c1fa010> ConstraintSense.LessEqual 1.0\n",
      "<pyoptinterface._src.core_ext.ExprBuilder object at 0x10c1f9f70> ConstraintSense.LessEqual 1.0\n",
      "<pyoptinterface._src.core_ext.ExprBuilder object at 0x10c1fa010> ConstraintSense.LessEqual 1.0\n"
     ]
    }
   ],
   "source": [
    "for decision in decisions:\n",
    "    print(\n",
    "        poi.quicksum(\n",
    "            (\n",
    "                (decisions[i, decision[1]] - decisions[(i + 1), decision[1]])\n",
    "                * (decisions[i, decision[1]] - decisions[(i + 1), decision[1]])\n",
    "            )\n",
    "            for i in range(max(0, (decision[0] - 5)), decision[0])\n",
    "        ),\n",
    "        poi.Leq,\n",
    "        1.0,\n",
    "    )"
   ]
  },
  {
   "cell_type": "markdown",
   "metadata": {},
   "source": [
    "Verify that at each step the model can find the previous decision(s):"
   ]
  },
  {
   "cell_type": "code",
   "execution_count": 16,
   "metadata": {},
   "outputs": [
    {
     "name": "stdout",
     "output_type": "stream",
     "text": [
      "Current Decision: (0, 'intersection_4')\n",
      "----------------------------------------------------------------------------------------------------\n",
      "Current Decision: (0, 'intersection_7')\n",
      "----------------------------------------------------------------------------------------------------\n",
      "Current Decision: (0, 'intersection_1')\n",
      "----------------------------------------------------------------------------------------------------\n",
      "Current Decision: (1, 'intersection_4')\n",
      "Previous Decision: <pyoptinterface._src.core_ext.VariableIndex object at 0x10c157cd0>\n",
      "----------------------------------------------------------------------------------------------------\n",
      "Current Decision: (1, 'intersection_7')\n",
      "Previous Decision: <pyoptinterface._src.core_ext.VariableIndex object at 0x10c1578b0>\n",
      "----------------------------------------------------------------------------------------------------\n",
      "Current Decision: (1, 'intersection_1')\n",
      "Previous Decision: <pyoptinterface._src.core_ext.VariableIndex object at 0x10c157a10>\n",
      "----------------------------------------------------------------------------------------------------\n",
      "Current Decision: (2, 'intersection_4')\n",
      "Previous Decision: <pyoptinterface._src.core_ext.VariableIndex object at 0x10c157cd0>\n",
      "Previous Decision: <pyoptinterface._src.core_ext.VariableIndex object at 0x10c157e50>\n",
      "----------------------------------------------------------------------------------------------------\n",
      "Current Decision: (2, 'intersection_7')\n",
      "Previous Decision: <pyoptinterface._src.core_ext.VariableIndex object at 0x10c1578b0>\n",
      "Previous Decision: <pyoptinterface._src.core_ext.VariableIndex object at 0x10c157b90>\n",
      "----------------------------------------------------------------------------------------------------\n",
      "Current Decision: (2, 'intersection_1')\n",
      "Previous Decision: <pyoptinterface._src.core_ext.VariableIndex object at 0x10c157a10>\n",
      "Previous Decision: <pyoptinterface._src.core_ext.VariableIndex object at 0x10c1579f0>\n",
      "----------------------------------------------------------------------------------------------------\n",
      "Current Decision: (3, 'intersection_4')\n",
      "Previous Decision: <pyoptinterface._src.core_ext.VariableIndex object at 0x10c157cd0>\n",
      "Previous Decision: <pyoptinterface._src.core_ext.VariableIndex object at 0x10c157e50>\n",
      "Previous Decision: <pyoptinterface._src.core_ext.VariableIndex object at 0x10c157f70>\n",
      "----------------------------------------------------------------------------------------------------\n",
      "Current Decision: (3, 'intersection_7')\n",
      "Previous Decision: <pyoptinterface._src.core_ext.VariableIndex object at 0x10c1578b0>\n",
      "Previous Decision: <pyoptinterface._src.core_ext.VariableIndex object at 0x10c157b90>\n",
      "Previous Decision: <pyoptinterface._src.core_ext.VariableIndex object at 0x10c157750>\n",
      "----------------------------------------------------------------------------------------------------\n",
      "Current Decision: (3, 'intersection_1')\n",
      "Previous Decision: <pyoptinterface._src.core_ext.VariableIndex object at 0x10c157a10>\n",
      "Previous Decision: <pyoptinterface._src.core_ext.VariableIndex object at 0x10c1579f0>\n",
      "Previous Decision: <pyoptinterface._src.core_ext.VariableIndex object at 0x10c1577d0>\n",
      "----------------------------------------------------------------------------------------------------\n",
      "Current Decision: (4, 'intersection_4')\n",
      "Previous Decision: <pyoptinterface._src.core_ext.VariableIndex object at 0x10c157cd0>\n",
      "Previous Decision: <pyoptinterface._src.core_ext.VariableIndex object at 0x10c157e50>\n",
      "Previous Decision: <pyoptinterface._src.core_ext.VariableIndex object at 0x10c157f70>\n",
      "Previous Decision: <pyoptinterface._src.core_ext.VariableIndex object at 0x10c157ef0>\n",
      "----------------------------------------------------------------------------------------------------\n",
      "Current Decision: (4, 'intersection_7')\n",
      "Previous Decision: <pyoptinterface._src.core_ext.VariableIndex object at 0x10c1578b0>\n",
      "Previous Decision: <pyoptinterface._src.core_ext.VariableIndex object at 0x10c157b90>\n",
      "Previous Decision: <pyoptinterface._src.core_ext.VariableIndex object at 0x10c157750>\n",
      "Previous Decision: <pyoptinterface._src.core_ext.VariableIndex object at 0x10c157970>\n",
      "----------------------------------------------------------------------------------------------------\n",
      "Current Decision: (4, 'intersection_1')\n",
      "Previous Decision: <pyoptinterface._src.core_ext.VariableIndex object at 0x10c157a10>\n",
      "Previous Decision: <pyoptinterface._src.core_ext.VariableIndex object at 0x10c1579f0>\n",
      "Previous Decision: <pyoptinterface._src.core_ext.VariableIndex object at 0x10c1577d0>\n",
      "Previous Decision: <pyoptinterface._src.core_ext.VariableIndex object at 0x10c157fd0>\n",
      "----------------------------------------------------------------------------------------------------\n",
      "Current Decision: (5, 'intersection_4')\n",
      "Previous Decision: <pyoptinterface._src.core_ext.VariableIndex object at 0x10c157cd0>\n",
      "Previous Decision: <pyoptinterface._src.core_ext.VariableIndex object at 0x10c157e50>\n",
      "Previous Decision: <pyoptinterface._src.core_ext.VariableIndex object at 0x10c157f70>\n",
      "Previous Decision: <pyoptinterface._src.core_ext.VariableIndex object at 0x10c157ef0>\n",
      "Previous Decision: <pyoptinterface._src.core_ext.VariableIndex object at 0x10c157d90>\n",
      "----------------------------------------------------------------------------------------------------\n",
      "Current Decision: (5, 'intersection_7')\n",
      "Previous Decision: <pyoptinterface._src.core_ext.VariableIndex object at 0x10c1578b0>\n",
      "Previous Decision: <pyoptinterface._src.core_ext.VariableIndex object at 0x10c157b90>\n",
      "Previous Decision: <pyoptinterface._src.core_ext.VariableIndex object at 0x10c157750>\n",
      "Previous Decision: <pyoptinterface._src.core_ext.VariableIndex object at 0x10c157970>\n",
      "Previous Decision: <pyoptinterface._src.core_ext.VariableIndex object at 0x10c157890>\n",
      "----------------------------------------------------------------------------------------------------\n",
      "Current Decision: (5, 'intersection_1')\n",
      "Previous Decision: <pyoptinterface._src.core_ext.VariableIndex object at 0x10c157a10>\n",
      "Previous Decision: <pyoptinterface._src.core_ext.VariableIndex object at 0x10c1579f0>\n",
      "Previous Decision: <pyoptinterface._src.core_ext.VariableIndex object at 0x10c1577d0>\n",
      "Previous Decision: <pyoptinterface._src.core_ext.VariableIndex object at 0x10c157fd0>\n",
      "Previous Decision: <pyoptinterface._src.core_ext.VariableIndex object at 0x10c157e10>\n",
      "----------------------------------------------------------------------------------------------------\n",
      "Current Decision: (6, 'intersection_4')\n",
      "Previous Decision: <pyoptinterface._src.core_ext.VariableIndex object at 0x10c157e50>\n",
      "Previous Decision: <pyoptinterface._src.core_ext.VariableIndex object at 0x10c157f70>\n",
      "Previous Decision: <pyoptinterface._src.core_ext.VariableIndex object at 0x10c157ef0>\n",
      "Previous Decision: <pyoptinterface._src.core_ext.VariableIndex object at 0x10c157d90>\n",
      "Previous Decision: <pyoptinterface._src.core_ext.VariableIndex object at 0x10c157d10>\n",
      "----------------------------------------------------------------------------------------------------\n",
      "Current Decision: (6, 'intersection_7')\n",
      "Previous Decision: <pyoptinterface._src.core_ext.VariableIndex object at 0x10c157b90>\n",
      "Previous Decision: <pyoptinterface._src.core_ext.VariableIndex object at 0x10c157750>\n",
      "Previous Decision: <pyoptinterface._src.core_ext.VariableIndex object at 0x10c157970>\n",
      "Previous Decision: <pyoptinterface._src.core_ext.VariableIndex object at 0x10c157890>\n",
      "Previous Decision: <pyoptinterface._src.core_ext.VariableIndex object at 0x10c1579b0>\n",
      "----------------------------------------------------------------------------------------------------\n",
      "Current Decision: (6, 'intersection_1')\n",
      "Previous Decision: <pyoptinterface._src.core_ext.VariableIndex object at 0x10c1579f0>\n",
      "Previous Decision: <pyoptinterface._src.core_ext.VariableIndex object at 0x10c1577d0>\n",
      "Previous Decision: <pyoptinterface._src.core_ext.VariableIndex object at 0x10c157fd0>\n",
      "Previous Decision: <pyoptinterface._src.core_ext.VariableIndex object at 0x10c157e10>\n",
      "Previous Decision: <pyoptinterface._src.core_ext.VariableIndex object at 0x10c157eb0>\n",
      "----------------------------------------------------------------------------------------------------\n",
      "Current Decision: (7, 'intersection_4')\n",
      "Previous Decision: <pyoptinterface._src.core_ext.VariableIndex object at 0x10c157f70>\n",
      "Previous Decision: <pyoptinterface._src.core_ext.VariableIndex object at 0x10c157ef0>\n",
      "Previous Decision: <pyoptinterface._src.core_ext.VariableIndex object at 0x10c157d90>\n",
      "Previous Decision: <pyoptinterface._src.core_ext.VariableIndex object at 0x10c157d10>\n",
      "Previous Decision: <pyoptinterface._src.core_ext.VariableIndex object at 0x10c157c70>\n",
      "----------------------------------------------------------------------------------------------------\n",
      "Current Decision: (7, 'intersection_7')\n",
      "Previous Decision: <pyoptinterface._src.core_ext.VariableIndex object at 0x10c157750>\n",
      "Previous Decision: <pyoptinterface._src.core_ext.VariableIndex object at 0x10c157970>\n",
      "Previous Decision: <pyoptinterface._src.core_ext.VariableIndex object at 0x10c157890>\n",
      "Previous Decision: <pyoptinterface._src.core_ext.VariableIndex object at 0x10c1579b0>\n",
      "Previous Decision: <pyoptinterface._src.core_ext.VariableIndex object at 0x10c157db0>\n",
      "----------------------------------------------------------------------------------------------------\n",
      "Current Decision: (7, 'intersection_1')\n",
      "Previous Decision: <pyoptinterface._src.core_ext.VariableIndex object at 0x10c1577d0>\n",
      "Previous Decision: <pyoptinterface._src.core_ext.VariableIndex object at 0x10c157fd0>\n",
      "Previous Decision: <pyoptinterface._src.core_ext.VariableIndex object at 0x10c157e10>\n",
      "Previous Decision: <pyoptinterface._src.core_ext.VariableIndex object at 0x10c157eb0>\n",
      "Previous Decision: <pyoptinterface._src.core_ext.VariableIndex object at 0x10c157d30>\n",
      "----------------------------------------------------------------------------------------------------\n",
      "Current Decision: (8, 'intersection_4')\n",
      "Previous Decision: <pyoptinterface._src.core_ext.VariableIndex object at 0x10c157ef0>\n",
      "Previous Decision: <pyoptinterface._src.core_ext.VariableIndex object at 0x10c157d90>\n",
      "Previous Decision: <pyoptinterface._src.core_ext.VariableIndex object at 0x10c157d10>\n",
      "Previous Decision: <pyoptinterface._src.core_ext.VariableIndex object at 0x10c157c70>\n",
      "Previous Decision: <pyoptinterface._src.core_ext.VariableIndex object at 0x10c157e70>\n",
      "----------------------------------------------------------------------------------------------------\n",
      "Current Decision: (8, 'intersection_7')\n",
      "Previous Decision: <pyoptinterface._src.core_ext.VariableIndex object at 0x10c157970>\n",
      "Previous Decision: <pyoptinterface._src.core_ext.VariableIndex object at 0x10c157890>\n",
      "Previous Decision: <pyoptinterface._src.core_ext.VariableIndex object at 0x10c1579b0>\n",
      "Previous Decision: <pyoptinterface._src.core_ext.VariableIndex object at 0x10c157db0>\n",
      "Previous Decision: <pyoptinterface._src.core_ext.VariableIndex object at 0x10c157d70>\n",
      "----------------------------------------------------------------------------------------------------\n",
      "Current Decision: (8, 'intersection_1')\n",
      "Previous Decision: <pyoptinterface._src.core_ext.VariableIndex object at 0x10c157fd0>\n",
      "Previous Decision: <pyoptinterface._src.core_ext.VariableIndex object at 0x10c157e10>\n",
      "Previous Decision: <pyoptinterface._src.core_ext.VariableIndex object at 0x10c157eb0>\n",
      "Previous Decision: <pyoptinterface._src.core_ext.VariableIndex object at 0x10c157d30>\n",
      "Previous Decision: <pyoptinterface._src.core_ext.VariableIndex object at 0x10c157fb0>\n",
      "----------------------------------------------------------------------------------------------------\n",
      "Current Decision: (9, 'intersection_4')\n",
      "Previous Decision: <pyoptinterface._src.core_ext.VariableIndex object at 0x10c157d90>\n",
      "Previous Decision: <pyoptinterface._src.core_ext.VariableIndex object at 0x10c157d10>\n",
      "Previous Decision: <pyoptinterface._src.core_ext.VariableIndex object at 0x10c157c70>\n",
      "Previous Decision: <pyoptinterface._src.core_ext.VariableIndex object at 0x10c157e70>\n",
      "Previous Decision: <pyoptinterface._src.core_ext.VariableIndex object at 0x10c157910>\n",
      "----------------------------------------------------------------------------------------------------\n",
      "Current Decision: (9, 'intersection_7')\n",
      "Previous Decision: <pyoptinterface._src.core_ext.VariableIndex object at 0x10c157890>\n",
      "Previous Decision: <pyoptinterface._src.core_ext.VariableIndex object at 0x10c1579b0>\n",
      "Previous Decision: <pyoptinterface._src.core_ext.VariableIndex object at 0x10c157db0>\n",
      "Previous Decision: <pyoptinterface._src.core_ext.VariableIndex object at 0x10c157d70>\n",
      "Previous Decision: <pyoptinterface._src.core_ext.VariableIndex object at 0x10c157d50>\n",
      "----------------------------------------------------------------------------------------------------\n",
      "Current Decision: (9, 'intersection_1')\n",
      "Previous Decision: <pyoptinterface._src.core_ext.VariableIndex object at 0x10c157e10>\n",
      "Previous Decision: <pyoptinterface._src.core_ext.VariableIndex object at 0x10c157eb0>\n",
      "Previous Decision: <pyoptinterface._src.core_ext.VariableIndex object at 0x10c157d30>\n",
      "Previous Decision: <pyoptinterface._src.core_ext.VariableIndex object at 0x10c157fb0>\n",
      "Previous Decision: <pyoptinterface._src.core_ext.VariableIndex object at 0x10c157950>\n",
      "----------------------------------------------------------------------------------------------------\n",
      "Current Decision: (10, 'intersection_4')\n",
      "Previous Decision: <pyoptinterface._src.core_ext.VariableIndex object at 0x10c157d10>\n",
      "Previous Decision: <pyoptinterface._src.core_ext.VariableIndex object at 0x10c157c70>\n",
      "Previous Decision: <pyoptinterface._src.core_ext.VariableIndex object at 0x10c157e70>\n",
      "Previous Decision: <pyoptinterface._src.core_ext.VariableIndex object at 0x10c157910>\n",
      "Previous Decision: <pyoptinterface._src.core_ext.VariableIndex object at 0x10c157bb0>\n",
      "----------------------------------------------------------------------------------------------------\n",
      "Current Decision: (10, 'intersection_7')\n",
      "Previous Decision: <pyoptinterface._src.core_ext.VariableIndex object at 0x10c1579b0>\n",
      "Previous Decision: <pyoptinterface._src.core_ext.VariableIndex object at 0x10c157db0>\n",
      "Previous Decision: <pyoptinterface._src.core_ext.VariableIndex object at 0x10c157d70>\n",
      "Previous Decision: <pyoptinterface._src.core_ext.VariableIndex object at 0x10c157d50>\n",
      "Previous Decision: <pyoptinterface._src.core_ext.VariableIndex object at 0x10c157f30>\n",
      "----------------------------------------------------------------------------------------------------\n",
      "Current Decision: (10, 'intersection_1')\n",
      "Previous Decision: <pyoptinterface._src.core_ext.VariableIndex object at 0x10c157eb0>\n",
      "Previous Decision: <pyoptinterface._src.core_ext.VariableIndex object at 0x10c157d30>\n",
      "Previous Decision: <pyoptinterface._src.core_ext.VariableIndex object at 0x10c157fb0>\n",
      "Previous Decision: <pyoptinterface._src.core_ext.VariableIndex object at 0x10c157950>\n",
      "Previous Decision: <pyoptinterface._src.core_ext.VariableIndex object at 0x10c157850>\n",
      "----------------------------------------------------------------------------------------------------\n"
     ]
    }
   ],
   "source": [
    "for decision in decisions:\n",
    "    print(f\"Current Decision: {decision}\")\n",
    "    [\n",
    "        print(f\"Previous Decision: {decisions[i, decision[1]]}\")\n",
    "        for i in range(max(0, (decision[0] - 5)), decision[0])\n",
    "    ]\n",
    "    print(100 * \"-\")"
   ]
  },
  {
   "cell_type": "markdown",
   "metadata": {},
   "source": [
    "## Objective"
   ]
  },
  {
   "cell_type": "markdown",
   "metadata": {},
   "source": [
    "The goal is to maximize the number of cars that can pass the light."
   ]
  },
  {
   "cell_type": "code",
   "execution_count": 17,
   "metadata": {},
   "outputs": [],
   "source": [
    "objective = poi.quicksum(\n",
    "    poi.quicksum(\n",
    "        decisions[time_step, lane] * sim_env[time_step][connected_lanes.index(lane)] for lane in connected_lanes\n",
    "    )\n",
    "    for time_step in time\n",
    ")\n",
    "opt_model.set_objective(objective, poi.ObjectiveSense.Maximize)"
   ]
  },
  {
   "cell_type": "markdown",
   "metadata": {},
   "source": [
    "## Optimization"
   ]
  },
  {
   "cell_type": "code",
   "execution_count": 18,
   "metadata": {},
   "outputs": [
    {
     "name": "stdout",
     "output_type": "stream",
     "text": [
      "Gurobi Optimizer version 12.0.1 build v12.0.1rc0 (mac64[arm] - Darwin 24.3.0 24D81)\n",
      "\n",
      "CPU model: Apple M2\n",
      "Thread count: 8 physical cores, 8 logical processors, using up to 8 threads\n",
      "\n",
      "Academic license 2641387 - for non-commercial use only - registered to ca___@cas.dhbw.de\n",
      "Optimize a model with 11 rows, 33 columns and 33 nonzeros\n",
      "Model fingerprint: 0xcb9de4f8\n",
      "Model has 33 quadratic constraints\n",
      "Variable types: 0 continuous, 33 integer (33 binary)\n",
      "Coefficient statistics:\n",
      "  Matrix range     [1e+00, 1e+00]\n",
      "  QMatrix range    [1e+00, 2e+00]\n",
      "  Objective range  [1e+00, 1e+01]\n",
      "  Bounds range     [1e+00, 1e+00]\n",
      "  RHS range        [1e+00, 1e+00]\n",
      "  QRHS range       [1e+00, 1e+00]\n",
      "Found heuristic solution: objective -0.0000000\n",
      "Presolve time: 0.00s\n",
      "Presolved: 101 rows, 63 columns, 423 nonzeros\n",
      "Variable types: 0 continuous, 63 integer (63 binary)\n",
      "\n",
      "Root relaxation: objective 8.800000e+01, 28 iterations, 0.00 seconds (0.00 work units)\n",
      "\n",
      "    Nodes    |    Current Node    |     Objective Bounds      |     Work\n",
      " Expl Unexpl |  Obj  Depth IntInf | Incumbent    BestBd   Gap | It/Node Time\n",
      "\n",
      "*    0     0               0      88.0000000   88.00000  0.00%     -    0s\n",
      "\n",
      "Explored 1 nodes (28 simplex iterations) in 0.02 seconds (0.00 work units)\n",
      "Thread count was 8 (of 8 available processors)\n",
      "\n",
      "Solution count 2: 88 -0 \n",
      "\n",
      "Optimal solution found (tolerance 1.00e-04)\n",
      "Best objective 8.800000000000e+01, best bound 8.800000000000e+01, gap 0.0000%\n"
     ]
    }
   ],
   "source": [
    "opt_model.optimize()"
   ]
  },
  {
   "cell_type": "markdown",
   "metadata": {},
   "source": [
    "## Results"
   ]
  },
  {
   "cell_type": "markdown",
   "metadata": {},
   "source": [
    "Get the number of total cars, that crossed the intersection:"
   ]
  },
  {
   "cell_type": "code",
   "execution_count": 19,
   "metadata": {},
   "outputs": [
    {
     "ename": "AttributeError",
     "evalue": "'Model' object has no attribute 'get_obj_value'",
     "output_type": "error",
     "traceback": [
      "\u001b[0;31m---------------------------------------------------------------------------\u001b[0m",
      "\u001b[0;31mAttributeError\u001b[0m                            Traceback (most recent call last)",
      "Cell \u001b[0;32mIn[19], line 1\u001b[0m\n\u001b[0;32m----> 1\u001b[0m \u001b[38;5;28mprint\u001b[39m(\u001b[38;5;124mf\u001b[39m\u001b[38;5;124m\"\u001b[39m\u001b[38;5;124mObjective Value: \u001b[39m\u001b[38;5;132;01m{\u001b[39;00m\u001b[43mopt_model\u001b[49m\u001b[38;5;241;43m.\u001b[39;49m\u001b[43mget_obj_value\u001b[49m()\u001b[38;5;132;01m}\u001b[39;00m\u001b[38;5;124m\"\u001b[39m)\n",
      "\u001b[0;31mAttributeError\u001b[0m: 'Model' object has no attribute 'get_obj_value'"
     ]
    }
   ],
   "source": [
    "print(f\"Objective Value: {opt_model.get_obj_value()}\")"
   ]
  },
  {
   "cell_type": "markdown",
   "metadata": {},
   "source": [
    "Get the decision for each point in time:"
   ]
  },
  {
   "cell_type": "code",
   "execution_count": 20,
   "metadata": {},
   "outputs": [
    {
     "name": "stdout",
     "output_type": "stream",
     "text": [
      "Time: 0; Intersection: intersection_1\n",
      "Time: 1; Intersection: intersection_1\n",
      "Time: 2; Intersection: intersection_1\n",
      "Time: 3; Intersection: intersection_7\n",
      "Time: 4; Intersection: intersection_7\n",
      "Time: 5; Intersection: intersection_7\n",
      "Time: 6; Intersection: intersection_7\n",
      "Time: 7; Intersection: intersection_7\n",
      "Time: 8; Intersection: intersection_7\n",
      "Time: 9; Intersection: intersection_7\n",
      "Time: 10; Intersection: intersection_7\n"
     ]
    }
   ],
   "source": [
    "for lane in decisions:\n",
    "    if opt_model.get_value(decisions[lane]) == 1:\n",
    "        print(\n",
    "            f\"Time: {lane[0]}; Intersection: {lane[1]}\"\n",
    "        )"
   ]
  },
  {
   "cell_type": "markdown",
   "metadata": {},
   "source": [
    "Get a matrix of decisions with the lanes as columns and time as rows:"
   ]
  },
  {
   "cell_type": "code",
   "execution_count": 21,
   "metadata": {},
   "outputs": [
    {
     "data": {
      "text/plain": [
       "[[-0.0, -0.0, 1.0],\n",
       " [-0.0, -0.0, 1.0],\n",
       " [-0.0, -0.0, 1.0],\n",
       " [-0.0, 1.0, 0.0],\n",
       " [-0.0, 1.0, 0.0],\n",
       " [-0.0, 1.0, -0.0],\n",
       " [0.0, 1.0, -0.0],\n",
       " [0.0, 1.0, 0.0],\n",
       " [-0.0, 1.0, -0.0],\n",
       " [-0.0, 1.0, -0.0],\n",
       " [-0.0, 1.0, -0.0]]"
      ]
     },
     "execution_count": 21,
     "metadata": {},
     "output_type": "execute_result"
    }
   ],
   "source": [
    "decision_matrix = [opt_model.get_value(decisions[lane]) for lane in decisions]\n",
    "decision_matrix_time = [\n",
    "    decision_matrix[i : i + 3] for i in range(0, len(decision_matrix), 3)\n",
    "]\n",
    "decision_matrix_time"
   ]
  },
  {
   "cell_type": "markdown",
   "metadata": {},
   "source": [
    "Get a transposed decision matrix:"
   ]
  },
  {
   "cell_type": "code",
   "execution_count": 22,
   "metadata": {},
   "outputs": [
    {
     "data": {
      "text/plain": [
       "[[-0.0, -0.0, -0.0, -0.0, -0.0, -0.0, 0.0, 0.0, -0.0, -0.0, -0.0],\n",
       " [-0.0, -0.0, -0.0, 1.0, 1.0, 1.0, 1.0, 1.0, 1.0, 1.0, 1.0],\n",
       " [1.0, 1.0, 1.0, 0.0, 0.0, -0.0, -0.0, 0.0, -0.0, -0.0, -0.0]]"
      ]
     },
     "execution_count": 22,
     "metadata": {},
     "output_type": "execute_result"
    }
   ],
   "source": [
    "decision_matrix_light = list(map(list, zip(*decision_matrix_time)))\n",
    "decision_matrix_light"
   ]
  },
  {
   "cell_type": "markdown",
   "metadata": {},
   "source": [
    "For each point in time, get the previous decisions and evaluate if a light can switch:"
   ]
  },
  {
   "cell_type": "code",
   "execution_count": 23,
   "metadata": {},
   "outputs": [
    {
     "name": "stdout",
     "output_type": "stream",
     "text": [
      "[0, 0, 0, 0, 0]\n",
      "0\n",
      "Light can switch\n",
      "[0, 0, 0, 0, -0.0]\n",
      "0\n",
      "Light can switch\n",
      "[0, 0, 0, -0.0, -0.0]\n",
      "0.0\n",
      "Light can switch\n",
      "[0, 0, -0.0, -0.0, -0.0]\n",
      "0.0\n",
      "Light can switch\n",
      "[0, -0.0, -0.0, -0.0, -0.0]\n",
      "0.0\n",
      "Light can switch\n",
      "[-0.0, -0.0, -0.0, -0.0, -0.0]\n",
      "0.0\n",
      "Light can switch\n",
      "[-0.0, -0.0, -0.0, -0.0, -0.0]\n",
      "0.0\n",
      "Light can switch\n",
      "[-0.0, -0.0, -0.0, -0.0, 0.0]\n",
      "0.0\n",
      "Light can switch\n",
      "[-0.0, -0.0, -0.0, 0.0, 0.0]\n",
      "0.0\n",
      "Light can switch\n",
      "[-0.0, -0.0, 0.0, 0.0, -0.0]\n",
      "0.0\n",
      "Light can switch\n",
      "[-0.0, 0.0, 0.0, -0.0, -0.0]\n",
      "0.0\n",
      "Light can switch\n",
      "[0, 0, 0, 0, 0]\n",
      "0\n",
      "Light can switch\n",
      "[0, 0, 0, 0, -0.0]\n",
      "0\n",
      "Light can switch\n",
      "[0, 0, 0, -0.0, -0.0]\n",
      "0.0\n",
      "Light can switch\n",
      "[0, 0, -0.0, -0.0, -0.0]\n",
      "0.0\n",
      "Light can switch\n",
      "[0, -0.0, -0.0, -0.0, 1.0]\n",
      "0.0\n",
      "Light can switch\n",
      "[-0.0, -0.0, -0.0, 1.0, 1.0]\n",
      "1.0\n",
      "Light is cooldown blocked\n",
      "[-0.0, -0.0, 1.0, 1.0, 1.0]\n",
      "1.0\n",
      "Light is cooldown blocked\n",
      "[-0.0, 1.0, 1.0, 1.0, 1.0]\n",
      "1.0\n",
      "Light is cooldown blocked\n",
      "[1.0, 1.0, 1.0, 1.0, 1.0]\n",
      "0.0\n",
      "Light can switch\n",
      "[1.0, 1.0, 1.0, 1.0, 1.0]\n",
      "0.0\n",
      "Light can switch\n",
      "[1.0, 1.0, 1.0, 1.0, 1.0]\n",
      "0.0\n",
      "Light can switch\n",
      "[0, 0, 0, 0, 0]\n",
      "0\n",
      "Light can switch\n",
      "[0, 0, 0, 0, 1.0]\n",
      "0\n",
      "Light can switch\n",
      "[0, 0, 0, 1.0, 1.0]\n",
      "1.0\n",
      "Light is cooldown blocked\n",
      "[0, 0, 1.0, 1.0, 1.0]\n",
      "1.0\n",
      "Light is cooldown blocked\n",
      "[0, 1.0, 1.0, 1.0, 0.0]\n",
      "1.0\n",
      "Light is cooldown blocked\n",
      "[1.0, 1.0, 1.0, 0.0, 0.0]\n",
      "1.0\n",
      "Light is cooldown blocked\n",
      "[1.0, 1.0, 0.0, 0.0, -0.0]\n",
      "1.0\n",
      "Light is cooldown blocked\n",
      "[1.0, 0.0, 0.0, -0.0, -0.0]\n",
      "1.0\n",
      "Light is cooldown blocked\n",
      "[0.0, 0.0, -0.0, -0.0, 0.0]\n",
      "0.0\n",
      "Light can switch\n",
      "[0.0, -0.0, -0.0, 0.0, -0.0]\n",
      "0.0\n",
      "Light can switch\n",
      "[-0.0, -0.0, 0.0, -0.0, -0.0]\n",
      "0.0\n",
      "Light can switch\n"
     ]
    }
   ],
   "source": [
    "for light in decision_matrix_light:  # Historie von Entscheidung pro Ampel\n",
    "    for i in range(len(light)):\n",
    "        decision_history = (\n",
    "            [0] * max(0, 5 - i) + light[max(0, i - 5) : i]\n",
    "        )  # Entscheidungen von t-5 bis t=0; Wenn vorher keine Entscheidung gab, dann führende 0; Zu erkennen an int 0 vs. float 0.0\n",
    "        block_status = 0  # Bei 0 darf geöffnet werden, bei 1 ist cooldown aktiv, bei größer 1 gabs nen fehler in der entscheidung\n",
    "        for j in range(1, (len(decision_history) - 1)):\n",
    "            block_status += (\n",
    "                decision_history[j - 1] - decision_history[j]\n",
    "            ) ** 2  # Berechnen von @mxrio Loop (** ist exponent)\n",
    "        print(decision_history)\n",
    "        print(block_status)\n",
    "        if block_status == 0:\n",
    "            print(\"Light can switch\")\n",
    "        elif block_status == 1:\n",
    "            print(\"Light is cooldown blocked\")\n",
    "        elif block_status > 1:\n",
    "            print(\"Forbidden Action\")"
   ]
  }
 ],
 "metadata": {
  "kernelspec": {
   "display_name": ".venv (3.12.8)",
   "language": "python",
   "name": "python3"
  },
  "language_info": {
   "codemirror_mode": {
    "name": "ipython",
    "version": 3
   },
   "file_extension": ".py",
   "mimetype": "text/x-python",
   "name": "python",
   "nbconvert_exporter": "python",
   "pygments_lexer": "ipython3",
   "version": "3.12.8"
  }
 },
 "nbformat": 4,
 "nbformat_minor": 2
}
