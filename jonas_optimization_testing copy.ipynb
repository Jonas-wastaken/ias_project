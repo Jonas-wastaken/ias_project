{
 "cells": [
  {
   "cell_type": "markdown",
   "metadata": {},
   "source": [
    "# Light Switching Optimization"
   ]
  },
  {
   "cell_type": "markdown",
   "metadata": {},
   "source": [
    "This Notebook contains exploratory code related to developing an optimization model which determines the lane each traffic light opens at a given point in time. Each light determines it's individual optimal behavior. The goal is to maximize the number of cars that can pass an intersection over an undefined period of time. Each light can only open one lane at a time. Lights are further constrained by a cooldown, which limits a light to change it's decision after 5 steps from the previous decision."
   ]
  },
  {
   "cell_type": "code",
   "execution_count": 53,
   "metadata": {},
   "outputs": [],
   "source": [
    "import pyoptinterface as poi\n",
    "from pyoptinterface import highs\n",
    "import numpy as np"
   ]
  },
  {
   "cell_type": "code",
   "execution_count": 71,
   "metadata": {},
   "outputs": [],
   "source": [
    "opt_model = highs.Model()"
   ]
  },
  {
   "cell_type": "markdown",
   "metadata": {},
   "source": [
    "## Environment"
   ]
  },
  {
   "cell_type": "markdown",
   "metadata": {},
   "source": [
    "The following section creates the environment to optimize."
   ]
  },
  {
   "cell_type": "code",
   "execution_count": 72,
   "metadata": {},
   "outputs": [
    {
     "data": {
      "text/plain": [
       "['intersection_4', 'intersection_7', 'intersection_1']"
      ]
     },
     "execution_count": 72,
     "metadata": {},
     "output_type": "execute_result"
    }
   ],
   "source": [
    "connected_lanes = [\"intersection_4\", \"intersection_7\", \"intersection_1\"]\n",
    "connected_lanes"
   ]
  },
  {
   "cell_type": "code",
   "execution_count": 73,
   "metadata": {},
   "outputs": [
    {
     "data": {
      "text/plain": [
       "range(0, 11)"
      ]
     },
     "execution_count": 73,
     "metadata": {},
     "output_type": "execute_result"
    }
   ],
   "source": [
    "time = range(0, 11)\n",
    "time"
   ]
  },
  {
   "cell_type": "code",
   "execution_count": 74,
   "metadata": {},
   "outputs": [
    {
     "data": {
      "text/plain": [
       "(11, 3)"
      ]
     },
     "execution_count": 74,
     "metadata": {},
     "output_type": "execute_result"
    }
   ],
   "source": [
    "int_4_arrivals = np.array([0, 5, 5, 1, 1, 1, 3, 5, 1, 1, 1])\n",
    "int_7_arrivals = np.array([0, 1, 1, 10, 10, 10, 7, 1, 10, 10, 10])\n",
    "int_1_arrivals = np.array([0, 10, 10, 1, 1, 1, 1, 10, 1, 1, 1])\n",
    "\n",
    "sim_env = np.array([int_4_arrivals, int_7_arrivals, int_1_arrivals]).T\n",
    "\n",
    "sim_env.shape"
   ]
  },
  {
   "cell_type": "code",
   "execution_count": 75,
   "metadata": {},
   "outputs": [
    {
     "data": {
      "text/plain": [
       "array([[ 0,  0,  0],\n",
       "       [ 5,  1, 10],\n",
       "       [ 5,  1, 10],\n",
       "       [ 1, 10,  1],\n",
       "       [ 1, 10,  1],\n",
       "       [ 1, 10,  1],\n",
       "       [ 3,  7,  1],\n",
       "       [ 5,  1, 10],\n",
       "       [ 1, 10,  1],\n",
       "       [ 1, 10,  1],\n",
       "       [ 1, 10,  1]])"
      ]
     },
     "execution_count": 75,
     "metadata": {},
     "output_type": "execute_result"
    }
   ],
   "source": [
    "sim_env"
   ]
  },
  {
   "cell_type": "markdown",
   "metadata": {},
   "source": [
    "## Decision Variables"
   ]
  },
  {
   "cell_type": "markdown",
   "metadata": {},
   "source": [
    "At each point in time, a light can make a decision for each connected lane.\n"
   ]
  },
  {
   "cell_type": "markdown",
   "metadata": {},
   "source": [
    "$$ x_{lt}\\in\\{0,1\\} $$\n",
    "$$ with: $$\n",
    "$$ l\\in{L}, \\quad L=\\{Connected Lanes\\} $$\n",
    "$$ t\\in{T}, \\quad T=\\left[ 0;5 \\right]"
   ]
  },
  {
   "cell_type": "code",
   "execution_count": 76,
   "metadata": {},
   "outputs": [
    {
     "name": "stdout",
     "output_type": "stream",
     "text": [
      "Running HiGHS 1.9.0 (git hash: 66f735e): Copyright (c) 2024 HiGHS under MIT licence terms\n"
     ]
    }
   ],
   "source": [
    "decisions = opt_model.add_variables(\n",
    "    time, connected_lanes, domain=poi.VariableDomain.Binary\n",
    ")"
   ]
  },
  {
   "cell_type": "markdown",
   "metadata": {},
   "source": [
    "## Constraints"
   ]
  },
  {
   "cell_type": "markdown",
   "metadata": {},
   "source": [
    "A light can only have one open lane at any point in time. It can also decide not to open any lane."
   ]
  },
  {
   "cell_type": "markdown",
   "metadata": {},
   "source": [
    "$$ \\sum_{t\\in{T}} \\sum_{l\\in{L}} x_{l,t} \\leq{1} $$"
   ]
  },
  {
   "cell_type": "code",
   "execution_count": 77,
   "metadata": {},
   "outputs": [],
   "source": [
    "for time_step in time:\n",
    "    opt_model.add_linear_constraint(\n",
    "        poi.quicksum(decisions[time_step, lane] for lane in connected_lanes), poi.Leq, 1\n",
    "    )"
   ]
  },
  {
   "cell_type": "markdown",
   "metadata": {},
   "source": [
    "A light cannot make a new decision after a cooldown of 5 time steps."
   ]
  },
  {
   "cell_type": "markdown",
   "metadata": {},
   "source": [
    "$$ \\sum_{l\\in{L}} \\sum_{t\\in{T}}^{0\\leq{t}\\leq{5}} (x_{l,t-1}-x_{l,t})^{2} \\leq{1}$$"
   ]
  },
  {
   "cell_type": "code",
   "execution_count": 38,
   "metadata": {},
   "outputs": [],
   "source": [
    "# for lane in possible_lanes:\n",
    "# opt_model.add_linear_constraint(poi.quicksum(((lanes[tick-1, lane] - lanes[tick, lane]) * (lanes[tick-1, lane] - lanes[tick, lane])) for tick in time[1:]), poi.Leq, 1.0)"
   ]
  },
  {
   "cell_type": "code",
   "execution_count": 78,
   "metadata": {},
   "outputs": [],
   "source": [
    "for decision in decisions:\n",
    "    opt_model.add_linear_constraint(\n",
    "        poi.quicksum(\n",
    "            (\n",
    "                (decisions[i, decision[1]] - decisions[(i + 1), decision[1]])\n",
    "                * (decisions[i, decision[1]] - decisions[(i + 1), decision[1]])\n",
    "            )\n",
    "            for i in range(max(0, (decision[0] - 5)), decision[0])\n",
    "        ),\n",
    "        poi.Leq,\n",
    "        1.0,\n",
    "    )"
   ]
  },
  {
   "cell_type": "markdown",
   "metadata": {},
   "source": [
    "Check for successful creation of constraint objects:"
   ]
  },
  {
   "cell_type": "code",
   "execution_count": 79,
   "metadata": {},
   "outputs": [
    {
     "name": "stdout",
     "output_type": "stream",
     "text": [
      "<pyoptinterface._src.core_ext.ExprBuilder object at 0x10498fd70> ConstraintSense.LessEqual 1.0\n",
      "<pyoptinterface._src.core_ext.ExprBuilder object at 0x10498dd90> ConstraintSense.LessEqual 1.0\n",
      "<pyoptinterface._src.core_ext.ExprBuilder object at 0x10498f9b0> ConstraintSense.LessEqual 1.0\n",
      "<pyoptinterface._src.core_ext.ExprBuilder object at 0x10498dd90> ConstraintSense.LessEqual 1.0\n",
      "<pyoptinterface._src.core_ext.ExprBuilder object at 0x10498f9b0> ConstraintSense.LessEqual 1.0\n",
      "<pyoptinterface._src.core_ext.ExprBuilder object at 0x10498dd90> ConstraintSense.LessEqual 1.0\n",
      "<pyoptinterface._src.core_ext.ExprBuilder object at 0x10498f9b0> ConstraintSense.LessEqual 1.0\n",
      "<pyoptinterface._src.core_ext.ExprBuilder object at 0x10498dd90> ConstraintSense.LessEqual 1.0\n",
      "<pyoptinterface._src.core_ext.ExprBuilder object at 0x10498f9b0> ConstraintSense.LessEqual 1.0\n",
      "<pyoptinterface._src.core_ext.ExprBuilder object at 0x10498dd90> ConstraintSense.LessEqual 1.0\n",
      "<pyoptinterface._src.core_ext.ExprBuilder object at 0x10498f9b0> ConstraintSense.LessEqual 1.0\n",
      "<pyoptinterface._src.core_ext.ExprBuilder object at 0x10498dd90> ConstraintSense.LessEqual 1.0\n",
      "<pyoptinterface._src.core_ext.ExprBuilder object at 0x10498f9b0> ConstraintSense.LessEqual 1.0\n",
      "<pyoptinterface._src.core_ext.ExprBuilder object at 0x10498dd90> ConstraintSense.LessEqual 1.0\n",
      "<pyoptinterface._src.core_ext.ExprBuilder object at 0x10498f9b0> ConstraintSense.LessEqual 1.0\n",
      "<pyoptinterface._src.core_ext.ExprBuilder object at 0x10498dd90> ConstraintSense.LessEqual 1.0\n",
      "<pyoptinterface._src.core_ext.ExprBuilder object at 0x10498f9b0> ConstraintSense.LessEqual 1.0\n",
      "<pyoptinterface._src.core_ext.ExprBuilder object at 0x10498dd90> ConstraintSense.LessEqual 1.0\n",
      "<pyoptinterface._src.core_ext.ExprBuilder object at 0x10498f9b0> ConstraintSense.LessEqual 1.0\n",
      "<pyoptinterface._src.core_ext.ExprBuilder object at 0x10498dd90> ConstraintSense.LessEqual 1.0\n",
      "<pyoptinterface._src.core_ext.ExprBuilder object at 0x10498f9b0> ConstraintSense.LessEqual 1.0\n",
      "<pyoptinterface._src.core_ext.ExprBuilder object at 0x10498dd90> ConstraintSense.LessEqual 1.0\n",
      "<pyoptinterface._src.core_ext.ExprBuilder object at 0x10498f9b0> ConstraintSense.LessEqual 1.0\n",
      "<pyoptinterface._src.core_ext.ExprBuilder object at 0x10498dd90> ConstraintSense.LessEqual 1.0\n",
      "<pyoptinterface._src.core_ext.ExprBuilder object at 0x10498f9b0> ConstraintSense.LessEqual 1.0\n",
      "<pyoptinterface._src.core_ext.ExprBuilder object at 0x10498dd90> ConstraintSense.LessEqual 1.0\n",
      "<pyoptinterface._src.core_ext.ExprBuilder object at 0x10498f9b0> ConstraintSense.LessEqual 1.0\n",
      "<pyoptinterface._src.core_ext.ExprBuilder object at 0x10498dd90> ConstraintSense.LessEqual 1.0\n",
      "<pyoptinterface._src.core_ext.ExprBuilder object at 0x10498f9b0> ConstraintSense.LessEqual 1.0\n",
      "<pyoptinterface._src.core_ext.ExprBuilder object at 0x10498dd90> ConstraintSense.LessEqual 1.0\n",
      "<pyoptinterface._src.core_ext.ExprBuilder object at 0x10498f9b0> ConstraintSense.LessEqual 1.0\n",
      "<pyoptinterface._src.core_ext.ExprBuilder object at 0x10498dd90> ConstraintSense.LessEqual 1.0\n",
      "<pyoptinterface._src.core_ext.ExprBuilder object at 0x10498f9b0> ConstraintSense.LessEqual 1.0\n"
     ]
    }
   ],
   "source": [
    "for decision in decisions:\n",
    "    print(\n",
    "        poi.quicksum(\n",
    "            (\n",
    "                (decisions[i, decision[1]] - decisions[(i + 1), decision[1]])\n",
    "                * (decisions[i, decision[1]] - decisions[(i + 1), decision[1]])\n",
    "            )\n",
    "            for i in range(max(0, (decision[0] - 5)), decision[0])\n",
    "        ),\n",
    "        poi.Leq,\n",
    "        1.0,\n",
    "    )"
   ]
  },
  {
   "cell_type": "markdown",
   "metadata": {},
   "source": [
    "Verify that at each step the model can find the previous decision(s):"
   ]
  },
  {
   "cell_type": "code",
   "execution_count": 80,
   "metadata": {},
   "outputs": [
    {
     "name": "stdout",
     "output_type": "stream",
     "text": [
      "Current Decision: (0, 'intersection_4')\n",
      "----------------------------------------------------------------------------------------------------\n",
      "Current Decision: (0, 'intersection_7')\n",
      "----------------------------------------------------------------------------------------------------\n",
      "Current Decision: (0, 'intersection_1')\n",
      "----------------------------------------------------------------------------------------------------\n",
      "Current Decision: (1, 'intersection_4')\n",
      "Previous Decision: <pyoptinterface._src.core_ext.VariableIndex object at 0x10496ab70>\n",
      "----------------------------------------------------------------------------------------------------\n",
      "Current Decision: (1, 'intersection_7')\n",
      "Previous Decision: <pyoptinterface._src.core_ext.VariableIndex object at 0x10496bf10>\n",
      "----------------------------------------------------------------------------------------------------\n",
      "Current Decision: (1, 'intersection_1')\n",
      "Previous Decision: <pyoptinterface._src.core_ext.VariableIndex object at 0x1052d4f30>\n",
      "----------------------------------------------------------------------------------------------------\n",
      "Current Decision: (2, 'intersection_4')\n",
      "Previous Decision: <pyoptinterface._src.core_ext.VariableIndex object at 0x10496ab70>\n",
      "Previous Decision: <pyoptinterface._src.core_ext.VariableIndex object at 0x1052d4870>\n",
      "----------------------------------------------------------------------------------------------------\n",
      "Current Decision: (2, 'intersection_7')\n",
      "Previous Decision: <pyoptinterface._src.core_ext.VariableIndex object at 0x10496bf10>\n",
      "Previous Decision: <pyoptinterface._src.core_ext.VariableIndex object at 0x1052d4dd0>\n",
      "----------------------------------------------------------------------------------------------------\n",
      "Current Decision: (2, 'intersection_1')\n",
      "Previous Decision: <pyoptinterface._src.core_ext.VariableIndex object at 0x1052d4f30>\n",
      "Previous Decision: <pyoptinterface._src.core_ext.VariableIndex object at 0x1052d43d0>\n",
      "----------------------------------------------------------------------------------------------------\n",
      "Current Decision: (3, 'intersection_4')\n",
      "Previous Decision: <pyoptinterface._src.core_ext.VariableIndex object at 0x10496ab70>\n",
      "Previous Decision: <pyoptinterface._src.core_ext.VariableIndex object at 0x1052d4870>\n",
      "Previous Decision: <pyoptinterface._src.core_ext.VariableIndex object at 0x1052d4ef0>\n",
      "----------------------------------------------------------------------------------------------------\n",
      "Current Decision: (3, 'intersection_7')\n",
      "Previous Decision: <pyoptinterface._src.core_ext.VariableIndex object at 0x10496bf10>\n",
      "Previous Decision: <pyoptinterface._src.core_ext.VariableIndex object at 0x1052d4dd0>\n",
      "Previous Decision: <pyoptinterface._src.core_ext.VariableIndex object at 0x1052d4c90>\n",
      "----------------------------------------------------------------------------------------------------\n",
      "Current Decision: (3, 'intersection_1')\n",
      "Previous Decision: <pyoptinterface._src.core_ext.VariableIndex object at 0x1052d4f30>\n",
      "Previous Decision: <pyoptinterface._src.core_ext.VariableIndex object at 0x1052d43d0>\n",
      "Previous Decision: <pyoptinterface._src.core_ext.VariableIndex object at 0x1052d4c50>\n",
      "----------------------------------------------------------------------------------------------------\n",
      "Current Decision: (4, 'intersection_4')\n",
      "Previous Decision: <pyoptinterface._src.core_ext.VariableIndex object at 0x10496ab70>\n",
      "Previous Decision: <pyoptinterface._src.core_ext.VariableIndex object at 0x1052d4870>\n",
      "Previous Decision: <pyoptinterface._src.core_ext.VariableIndex object at 0x1052d4ef0>\n",
      "Previous Decision: <pyoptinterface._src.core_ext.VariableIndex object at 0x1052d52d0>\n",
      "----------------------------------------------------------------------------------------------------\n",
      "Current Decision: (4, 'intersection_7')\n",
      "Previous Decision: <pyoptinterface._src.core_ext.VariableIndex object at 0x10496bf10>\n",
      "Previous Decision: <pyoptinterface._src.core_ext.VariableIndex object at 0x1052d4dd0>\n",
      "Previous Decision: <pyoptinterface._src.core_ext.VariableIndex object at 0x1052d4c90>\n",
      "Previous Decision: <pyoptinterface._src.core_ext.VariableIndex object at 0x1052d4850>\n",
      "----------------------------------------------------------------------------------------------------\n",
      "Current Decision: (4, 'intersection_1')\n",
      "Previous Decision: <pyoptinterface._src.core_ext.VariableIndex object at 0x1052d4f30>\n",
      "Previous Decision: <pyoptinterface._src.core_ext.VariableIndex object at 0x1052d43d0>\n",
      "Previous Decision: <pyoptinterface._src.core_ext.VariableIndex object at 0x1052d4c50>\n",
      "Previous Decision: <pyoptinterface._src.core_ext.VariableIndex object at 0x1052d4430>\n",
      "----------------------------------------------------------------------------------------------------\n",
      "Current Decision: (5, 'intersection_4')\n",
      "Previous Decision: <pyoptinterface._src.core_ext.VariableIndex object at 0x10496ab70>\n",
      "Previous Decision: <pyoptinterface._src.core_ext.VariableIndex object at 0x1052d4870>\n",
      "Previous Decision: <pyoptinterface._src.core_ext.VariableIndex object at 0x1052d4ef0>\n",
      "Previous Decision: <pyoptinterface._src.core_ext.VariableIndex object at 0x1052d52d0>\n",
      "Previous Decision: <pyoptinterface._src.core_ext.VariableIndex object at 0x1052d4470>\n",
      "----------------------------------------------------------------------------------------------------\n",
      "Current Decision: (5, 'intersection_7')\n",
      "Previous Decision: <pyoptinterface._src.core_ext.VariableIndex object at 0x10496bf10>\n",
      "Previous Decision: <pyoptinterface._src.core_ext.VariableIndex object at 0x1052d4dd0>\n",
      "Previous Decision: <pyoptinterface._src.core_ext.VariableIndex object at 0x1052d4c90>\n",
      "Previous Decision: <pyoptinterface._src.core_ext.VariableIndex object at 0x1052d4850>\n",
      "Previous Decision: <pyoptinterface._src.core_ext.VariableIndex object at 0x1052d49f0>\n",
      "----------------------------------------------------------------------------------------------------\n",
      "Current Decision: (5, 'intersection_1')\n",
      "Previous Decision: <pyoptinterface._src.core_ext.VariableIndex object at 0x1052d4f30>\n",
      "Previous Decision: <pyoptinterface._src.core_ext.VariableIndex object at 0x1052d43d0>\n",
      "Previous Decision: <pyoptinterface._src.core_ext.VariableIndex object at 0x1052d4c50>\n",
      "Previous Decision: <pyoptinterface._src.core_ext.VariableIndex object at 0x1052d4430>\n",
      "Previous Decision: <pyoptinterface._src.core_ext.VariableIndex object at 0x1052d47b0>\n",
      "----------------------------------------------------------------------------------------------------\n",
      "Current Decision: (6, 'intersection_4')\n",
      "Previous Decision: <pyoptinterface._src.core_ext.VariableIndex object at 0x1052d4870>\n",
      "Previous Decision: <pyoptinterface._src.core_ext.VariableIndex object at 0x1052d4ef0>\n",
      "Previous Decision: <pyoptinterface._src.core_ext.VariableIndex object at 0x1052d52d0>\n",
      "Previous Decision: <pyoptinterface._src.core_ext.VariableIndex object at 0x1052d4470>\n",
      "Previous Decision: <pyoptinterface._src.core_ext.VariableIndex object at 0x1052d4fd0>\n",
      "----------------------------------------------------------------------------------------------------\n",
      "Current Decision: (6, 'intersection_7')\n",
      "Previous Decision: <pyoptinterface._src.core_ext.VariableIndex object at 0x1052d4dd0>\n",
      "Previous Decision: <pyoptinterface._src.core_ext.VariableIndex object at 0x1052d4c90>\n",
      "Previous Decision: <pyoptinterface._src.core_ext.VariableIndex object at 0x1052d4850>\n",
      "Previous Decision: <pyoptinterface._src.core_ext.VariableIndex object at 0x1052d49f0>\n",
      "Previous Decision: <pyoptinterface._src.core_ext.VariableIndex object at 0x1052d45d0>\n",
      "----------------------------------------------------------------------------------------------------\n",
      "Current Decision: (6, 'intersection_1')\n",
      "Previous Decision: <pyoptinterface._src.core_ext.VariableIndex object at 0x1052d43d0>\n",
      "Previous Decision: <pyoptinterface._src.core_ext.VariableIndex object at 0x1052d4c50>\n",
      "Previous Decision: <pyoptinterface._src.core_ext.VariableIndex object at 0x1052d4430>\n",
      "Previous Decision: <pyoptinterface._src.core_ext.VariableIndex object at 0x1052d47b0>\n",
      "Previous Decision: <pyoptinterface._src.core_ext.VariableIndex object at 0x1052d4bf0>\n",
      "----------------------------------------------------------------------------------------------------\n",
      "Current Decision: (7, 'intersection_4')\n",
      "Previous Decision: <pyoptinterface._src.core_ext.VariableIndex object at 0x1052d4ef0>\n",
      "Previous Decision: <pyoptinterface._src.core_ext.VariableIndex object at 0x1052d52d0>\n",
      "Previous Decision: <pyoptinterface._src.core_ext.VariableIndex object at 0x1052d4470>\n",
      "Previous Decision: <pyoptinterface._src.core_ext.VariableIndex object at 0x1052d4fd0>\n",
      "Previous Decision: <pyoptinterface._src.core_ext.VariableIndex object at 0x1052d4e30>\n",
      "----------------------------------------------------------------------------------------------------\n",
      "Current Decision: (7, 'intersection_7')\n",
      "Previous Decision: <pyoptinterface._src.core_ext.VariableIndex object at 0x1052d4c90>\n",
      "Previous Decision: <pyoptinterface._src.core_ext.VariableIndex object at 0x1052d4850>\n",
      "Previous Decision: <pyoptinterface._src.core_ext.VariableIndex object at 0x1052d49f0>\n",
      "Previous Decision: <pyoptinterface._src.core_ext.VariableIndex object at 0x1052d45d0>\n",
      "Previous Decision: <pyoptinterface._src.core_ext.VariableIndex object at 0x1052d4ff0>\n",
      "----------------------------------------------------------------------------------------------------\n",
      "Current Decision: (7, 'intersection_1')\n",
      "Previous Decision: <pyoptinterface._src.core_ext.VariableIndex object at 0x1052d4c50>\n",
      "Previous Decision: <pyoptinterface._src.core_ext.VariableIndex object at 0x1052d4430>\n",
      "Previous Decision: <pyoptinterface._src.core_ext.VariableIndex object at 0x1052d47b0>\n",
      "Previous Decision: <pyoptinterface._src.core_ext.VariableIndex object at 0x1052d4bf0>\n",
      "Previous Decision: <pyoptinterface._src.core_ext.VariableIndex object at 0x1052d4f10>\n",
      "----------------------------------------------------------------------------------------------------\n",
      "Current Decision: (8, 'intersection_4')\n",
      "Previous Decision: <pyoptinterface._src.core_ext.VariableIndex object at 0x1052d52d0>\n",
      "Previous Decision: <pyoptinterface._src.core_ext.VariableIndex object at 0x1052d4470>\n",
      "Previous Decision: <pyoptinterface._src.core_ext.VariableIndex object at 0x1052d4fd0>\n",
      "Previous Decision: <pyoptinterface._src.core_ext.VariableIndex object at 0x1052d4e30>\n",
      "Previous Decision: <pyoptinterface._src.core_ext.VariableIndex object at 0x1052d4df0>\n",
      "----------------------------------------------------------------------------------------------------\n",
      "Current Decision: (8, 'intersection_7')\n",
      "Previous Decision: <pyoptinterface._src.core_ext.VariableIndex object at 0x1052d4850>\n",
      "Previous Decision: <pyoptinterface._src.core_ext.VariableIndex object at 0x1052d49f0>\n",
      "Previous Decision: <pyoptinterface._src.core_ext.VariableIndex object at 0x1052d45d0>\n",
      "Previous Decision: <pyoptinterface._src.core_ext.VariableIndex object at 0x1052d4ff0>\n",
      "Previous Decision: <pyoptinterface._src.core_ext.VariableIndex object at 0x1052d4550>\n",
      "----------------------------------------------------------------------------------------------------\n",
      "Current Decision: (8, 'intersection_1')\n",
      "Previous Decision: <pyoptinterface._src.core_ext.VariableIndex object at 0x1052d4430>\n",
      "Previous Decision: <pyoptinterface._src.core_ext.VariableIndex object at 0x1052d47b0>\n",
      "Previous Decision: <pyoptinterface._src.core_ext.VariableIndex object at 0x1052d4bf0>\n",
      "Previous Decision: <pyoptinterface._src.core_ext.VariableIndex object at 0x1052d4f10>\n",
      "Previous Decision: <pyoptinterface._src.core_ext.VariableIndex object at 0x1052d4670>\n",
      "----------------------------------------------------------------------------------------------------\n",
      "Current Decision: (9, 'intersection_4')\n",
      "Previous Decision: <pyoptinterface._src.core_ext.VariableIndex object at 0x1052d4470>\n",
      "Previous Decision: <pyoptinterface._src.core_ext.VariableIndex object at 0x1052d4fd0>\n",
      "Previous Decision: <pyoptinterface._src.core_ext.VariableIndex object at 0x1052d4e30>\n",
      "Previous Decision: <pyoptinterface._src.core_ext.VariableIndex object at 0x1052d4df0>\n",
      "Previous Decision: <pyoptinterface._src.core_ext.VariableIndex object at 0x1052d47d0>\n",
      "----------------------------------------------------------------------------------------------------\n",
      "Current Decision: (9, 'intersection_7')\n",
      "Previous Decision: <pyoptinterface._src.core_ext.VariableIndex object at 0x1052d49f0>\n",
      "Previous Decision: <pyoptinterface._src.core_ext.VariableIndex object at 0x1052d45d0>\n",
      "Previous Decision: <pyoptinterface._src.core_ext.VariableIndex object at 0x1052d4ff0>\n",
      "Previous Decision: <pyoptinterface._src.core_ext.VariableIndex object at 0x1052d4550>\n",
      "Previous Decision: <pyoptinterface._src.core_ext.VariableIndex object at 0x1052d4a70>\n",
      "----------------------------------------------------------------------------------------------------\n",
      "Current Decision: (9, 'intersection_1')\n",
      "Previous Decision: <pyoptinterface._src.core_ext.VariableIndex object at 0x1052d47b0>\n",
      "Previous Decision: <pyoptinterface._src.core_ext.VariableIndex object at 0x1052d4bf0>\n",
      "Previous Decision: <pyoptinterface._src.core_ext.VariableIndex object at 0x1052d4f10>\n",
      "Previous Decision: <pyoptinterface._src.core_ext.VariableIndex object at 0x1052d4670>\n",
      "Previous Decision: <pyoptinterface._src.core_ext.VariableIndex object at 0x1052d4e90>\n",
      "----------------------------------------------------------------------------------------------------\n",
      "Current Decision: (10, 'intersection_4')\n",
      "Previous Decision: <pyoptinterface._src.core_ext.VariableIndex object at 0x1052d4fd0>\n",
      "Previous Decision: <pyoptinterface._src.core_ext.VariableIndex object at 0x1052d4e30>\n",
      "Previous Decision: <pyoptinterface._src.core_ext.VariableIndex object at 0x1052d4df0>\n",
      "Previous Decision: <pyoptinterface._src.core_ext.VariableIndex object at 0x1052d47d0>\n",
      "Previous Decision: <pyoptinterface._src.core_ext.VariableIndex object at 0x1052d4e10>\n",
      "----------------------------------------------------------------------------------------------------\n",
      "Current Decision: (10, 'intersection_7')\n",
      "Previous Decision: <pyoptinterface._src.core_ext.VariableIndex object at 0x1052d45d0>\n",
      "Previous Decision: <pyoptinterface._src.core_ext.VariableIndex object at 0x1052d4ff0>\n",
      "Previous Decision: <pyoptinterface._src.core_ext.VariableIndex object at 0x1052d4550>\n",
      "Previous Decision: <pyoptinterface._src.core_ext.VariableIndex object at 0x1052d4a70>\n",
      "Previous Decision: <pyoptinterface._src.core_ext.VariableIndex object at 0x1052d4ad0>\n",
      "----------------------------------------------------------------------------------------------------\n",
      "Current Decision: (10, 'intersection_1')\n",
      "Previous Decision: <pyoptinterface._src.core_ext.VariableIndex object at 0x1052d4bf0>\n",
      "Previous Decision: <pyoptinterface._src.core_ext.VariableIndex object at 0x1052d4f10>\n",
      "Previous Decision: <pyoptinterface._src.core_ext.VariableIndex object at 0x1052d4670>\n",
      "Previous Decision: <pyoptinterface._src.core_ext.VariableIndex object at 0x1052d4e90>\n",
      "Previous Decision: <pyoptinterface._src.core_ext.VariableIndex object at 0x1052d4210>\n",
      "----------------------------------------------------------------------------------------------------\n"
     ]
    }
   ],
   "source": [
    "for decision in decisions:\n",
    "    print(f\"Current Decision: {decision}\")\n",
    "    [\n",
    "        print(f\"Previous Decision: {decisions[i, decision[1]]}\")\n",
    "        for i in range(max(0, (decision[0] - 5)), decision[0])\n",
    "    ]\n",
    "    print(100 * \"-\")"
   ]
  },
  {
   "cell_type": "markdown",
   "metadata": {},
   "source": [
    "## Objective"
   ]
  },
  {
   "cell_type": "markdown",
   "metadata": {},
   "source": [
    "The goal is to maximize the number of cars that can pass the light."
   ]
  },
  {
   "cell_type": "code",
   "execution_count": 81,
   "metadata": {},
   "outputs": [
    {
     "name": "stdout",
     "output_type": "stream",
     "text": [
      "Hessian has dimension 33 but no nonzeros, so is ignored\n"
     ]
    }
   ],
   "source": [
    "objective = poi.quicksum(\n",
    "    poi.quicksum(\n",
    "        decisions[time_step, lane] * sim_env[time_step][connected_lanes.index(lane)] for lane in connected_lanes\n",
    "    )\n",
    "    for time_step in time\n",
    ")\n",
    "opt_model.set_objective(objective, poi.ObjectiveSense.Maximize)"
   ]
  },
  {
   "cell_type": "markdown",
   "metadata": {},
   "source": [
    "## Optimization"
   ]
  },
  {
   "cell_type": "code",
   "execution_count": 82,
   "metadata": {},
   "outputs": [
    {
     "name": "stdout",
     "output_type": "stream",
     "text": [
      "Coefficient ranges:\n",
      "  Matrix [1e+00, 1e+00]\n",
      "  Cost   [1e+00, 1e+01]\n",
      "  Bound  [1e+00, 1e+00]\n",
      "  RHS    [1e+00, 1e+00]\n",
      "Presolving model\n",
      "10 rows, 30 cols, 30 nonzeros  0s\n",
      "7 rows, 17 cols, 14 nonzeros  0s\n",
      "0 rows, 7 cols, 0 nonzeros  0s\n",
      "0 rows, 0 cols, 0 nonzeros  0s\n",
      "Presolve: Optimal\n",
      "\n",
      "Src: B => Branching; C => Central rounding; F => Feasibility pump; H => Heuristic; L => Sub-MIP;\n",
      "     P => Empty MIP; R => Randomized rounding; S => Solve LP; T => Evaluate node; U => Unbounded;\n",
      "     z => Trivial zero; l => Trivial lower; u => Trivial upper; p => Trivial point\n",
      "\n",
      "        Nodes      |    B&B Tree     |            Objective Bounds              |  Dynamic Constraints |       Work      \n",
      "Src  Proc. InQueue |  Leaves   Expl. | BestBound       BestSol              Gap |   Cuts   InLp Confl. | LpIters     Time\n",
      "\n",
      "         0       0         0   0.00%   97              97                 0.00%        0      0      0         0     0.0s\n",
      "\n",
      "Solving report\n",
      "  Status            Optimal\n",
      "  Primal bound      97\n",
      "  Dual bound        97\n",
      "  Gap               0% (tolerance: 0.01%)\n",
      "  P-D integral      0\n",
      "  Solution status   feasible\n",
      "                    97 (objective)\n",
      "                    0 (bound viol.)\n",
      "                    0 (int. viol.)\n",
      "                    0 (row viol.)\n",
      "  Timing            0.00 (total)\n",
      "                    0.00 (presolve)\n",
      "                    0.00 (solve)\n",
      "                    0.00 (postsolve)\n",
      "  Max sub-MIP depth 0\n",
      "  Nodes             0\n",
      "  Repair LPs        0 (0 feasible; 0 iterations)\n",
      "  LP iterations     0 (total)\n",
      "                    0 (strong br.)\n",
      "                    0 (separation)\n",
      "                    0 (heuristics)\n"
     ]
    }
   ],
   "source": [
    "opt_model.optimize()"
   ]
  },
  {
   "cell_type": "markdown",
   "metadata": {},
   "source": [
    "## Results"
   ]
  },
  {
   "cell_type": "markdown",
   "metadata": {},
   "source": [
    "Get the number of total cars, that crossed the intersection:"
   ]
  },
  {
   "cell_type": "code",
   "execution_count": 83,
   "metadata": {},
   "outputs": [
    {
     "name": "stdout",
     "output_type": "stream",
     "text": [
      "Objective Value: 97.0\n"
     ]
    }
   ],
   "source": [
    "print(f\"Objective Value: {opt_model.get_obj_value()}\")"
   ]
  },
  {
   "cell_type": "markdown",
   "metadata": {},
   "source": [
    "Get the decision for each point in time:"
   ]
  },
  {
   "cell_type": "code",
   "execution_count": 84,
   "metadata": {},
   "outputs": [
    {
     "name": "stdout",
     "output_type": "stream",
     "text": [
      "Time: 1; Intersection: intersection_1\n",
      "Time: 2; Intersection: intersection_1\n",
      "Time: 3; Intersection: intersection_7\n",
      "Time: 4; Intersection: intersection_7\n",
      "Time: 5; Intersection: intersection_7\n",
      "Time: 6; Intersection: intersection_7\n",
      "Time: 7; Intersection: intersection_1\n",
      "Time: 8; Intersection: intersection_7\n",
      "Time: 9; Intersection: intersection_7\n",
      "Time: 10; Intersection: intersection_7\n"
     ]
    }
   ],
   "source": [
    "for lane in decisions:\n",
    "    if opt_model.get_value(decisions[lane]) == 1:\n",
    "        print(\n",
    "            f\"Time: {lane[0]}; Intersection: {lane[1]}\"\n",
    "        )"
   ]
  },
  {
   "cell_type": "markdown",
   "metadata": {},
   "source": [
    "Get a matrix of decisions with the lanes as columns and time as rows:"
   ]
  },
  {
   "cell_type": "code",
   "execution_count": 85,
   "metadata": {},
   "outputs": [
    {
     "data": {
      "text/plain": [
       "[[0.0, 0.0, 0.0],\n",
       " [0.0, 0.0, 1.0],\n",
       " [0.0, 0.0, 1.0],\n",
       " [0.0, 1.0, 0.0],\n",
       " [0.0, 1.0, 0.0],\n",
       " [0.0, 1.0, 0.0],\n",
       " [0.0, 1.0, 0.0],\n",
       " [0.0, 0.0, 1.0],\n",
       " [0.0, 1.0, 0.0],\n",
       " [0.0, 1.0, 0.0],\n",
       " [0.0, 1.0, 0.0]]"
      ]
     },
     "execution_count": 85,
     "metadata": {},
     "output_type": "execute_result"
    }
   ],
   "source": [
    "decision_matrix = [opt_model.get_value(decisions[lane]) for lane in decisions]\n",
    "decision_matrix_time = [\n",
    "    decision_matrix[i : i + 3] for i in range(0, len(decision_matrix), 3)\n",
    "]\n",
    "decision_matrix_time"
   ]
  },
  {
   "cell_type": "markdown",
   "metadata": {},
   "source": [
    "Get a transposed decision matrix:"
   ]
  },
  {
   "cell_type": "code",
   "execution_count": 86,
   "metadata": {},
   "outputs": [
    {
     "data": {
      "text/plain": [
       "[[0.0, 0.0, 0.0, 0.0, 0.0, 0.0, 0.0, 0.0, 0.0, 0.0, 0.0],\n",
       " [0.0, 0.0, 0.0, 1.0, 1.0, 1.0, 1.0, 0.0, 1.0, 1.0, 1.0],\n",
       " [0.0, 1.0, 1.0, 0.0, 0.0, 0.0, 0.0, 1.0, 0.0, 0.0, 0.0]]"
      ]
     },
     "execution_count": 86,
     "metadata": {},
     "output_type": "execute_result"
    }
   ],
   "source": [
    "decision_matrix_light = list(map(list, zip(*decision_matrix_time)))\n",
    "decision_matrix_light"
   ]
  },
  {
   "cell_type": "markdown",
   "metadata": {},
   "source": [
    "For each point in time, get the previous decisions and evaluate if a light can switch:"
   ]
  },
  {
   "cell_type": "code",
   "execution_count": 87,
   "metadata": {},
   "outputs": [
    {
     "name": "stdout",
     "output_type": "stream",
     "text": [
      "[0, 0, 0, 0, 0]\n",
      "0\n",
      "Light can switch\n",
      "[0, 0, 0, 0, 0.0]\n",
      "0\n",
      "Light can switch\n",
      "[0, 0, 0, 0.0, 0.0]\n",
      "0.0\n",
      "Light can switch\n",
      "[0, 0, 0.0, 0.0, 0.0]\n",
      "0.0\n",
      "Light can switch\n",
      "[0, 0.0, 0.0, 0.0, 0.0]\n",
      "0.0\n",
      "Light can switch\n",
      "[0.0, 0.0, 0.0, 0.0, 0.0]\n",
      "0.0\n",
      "Light can switch\n",
      "[0.0, 0.0, 0.0, 0.0, 0.0]\n",
      "0.0\n",
      "Light can switch\n",
      "[0.0, 0.0, 0.0, 0.0, 0.0]\n",
      "0.0\n",
      "Light can switch\n",
      "[0.0, 0.0, 0.0, 0.0, 0.0]\n",
      "0.0\n",
      "Light can switch\n",
      "[0.0, 0.0, 0.0, 0.0, 0.0]\n",
      "0.0\n",
      "Light can switch\n",
      "[0.0, 0.0, 0.0, 0.0, 0.0]\n",
      "0.0\n",
      "Light can switch\n",
      "[0, 0, 0, 0, 0]\n",
      "0\n",
      "Light can switch\n",
      "[0, 0, 0, 0, 0.0]\n",
      "0\n",
      "Light can switch\n",
      "[0, 0, 0, 0.0, 0.0]\n",
      "0.0\n",
      "Light can switch\n",
      "[0, 0, 0.0, 0.0, 0.0]\n",
      "0.0\n",
      "Light can switch\n",
      "[0, 0.0, 0.0, 0.0, 1.0]\n",
      "0.0\n",
      "Light can switch\n",
      "[0.0, 0.0, 0.0, 1.0, 1.0]\n",
      "1.0\n",
      "Light is cooldown blocked\n",
      "[0.0, 0.0, 1.0, 1.0, 1.0]\n",
      "1.0\n",
      "Light is cooldown blocked\n",
      "[0.0, 1.0, 1.0, 1.0, 1.0]\n",
      "1.0\n",
      "Light is cooldown blocked\n",
      "[1.0, 1.0, 1.0, 1.0, 0.0]\n",
      "0.0\n",
      "Light can switch\n",
      "[1.0, 1.0, 1.0, 0.0, 1.0]\n",
      "1.0\n",
      "Light is cooldown blocked\n",
      "[1.0, 1.0, 0.0, 1.0, 1.0]\n",
      "2.0\n",
      "Forbidden Action\n",
      "[0, 0, 0, 0, 0]\n",
      "0\n",
      "Light can switch\n",
      "[0, 0, 0, 0, 0.0]\n",
      "0\n",
      "Light can switch\n",
      "[0, 0, 0, 0.0, 1.0]\n",
      "0.0\n",
      "Light can switch\n",
      "[0, 0, 0.0, 1.0, 1.0]\n",
      "1.0\n",
      "Light is cooldown blocked\n",
      "[0, 0.0, 1.0, 1.0, 0.0]\n",
      "1.0\n",
      "Light is cooldown blocked\n",
      "[0.0, 1.0, 1.0, 0.0, 0.0]\n",
      "2.0\n",
      "Forbidden Action\n",
      "[1.0, 1.0, 0.0, 0.0, 0.0]\n",
      "1.0\n",
      "Light is cooldown blocked\n",
      "[1.0, 0.0, 0.0, 0.0, 0.0]\n",
      "1.0\n",
      "Light is cooldown blocked\n",
      "[0.0, 0.0, 0.0, 0.0, 1.0]\n",
      "0.0\n",
      "Light can switch\n",
      "[0.0, 0.0, 0.0, 1.0, 0.0]\n",
      "1.0\n",
      "Light is cooldown blocked\n",
      "[0.0, 0.0, 1.0, 0.0, 0.0]\n",
      "2.0\n",
      "Forbidden Action\n"
     ]
    }
   ],
   "source": [
    "for light in decision_matrix_light:  # Historie von Entscheidung pro Ampel\n",
    "    for i in range(len(light)):\n",
    "        decision_history = (\n",
    "            [0] * max(0, 5 - i) + light[max(0, i - 5) : i]\n",
    "        )  # Entscheidungen von t-5 bis t=0; Wenn vorher keine Entscheidung gab, dann führende 0; Zu erkennen an int 0 vs. float 0.0\n",
    "        block_status = 0  # Bei 0 darf geöffnet werden, bei 1 ist cooldown aktiv, bei größer 1 gabs nen fehler in der entscheidung\n",
    "        for j in range(1, (len(decision_history) - 1)):\n",
    "            block_status += (\n",
    "                decision_history[j - 1] - decision_history[j]\n",
    "            ) ** 2  # Berechnen von @mxrio Loop (** ist exponent)\n",
    "        print(decision_history)\n",
    "        print(block_status)\n",
    "        if block_status == 0:\n",
    "            print(\"Light can switch\")\n",
    "        elif block_status == 1:\n",
    "            print(\"Light is cooldown blocked\")\n",
    "        elif block_status > 1:\n",
    "            print(\"Forbidden Action\")"
   ]
  }
 ],
 "metadata": {
  "kernelspec": {
   "display_name": ".venv (3.12.8)",
   "language": "python",
   "name": "python3"
  },
  "language_info": {
   "codemirror_mode": {
    "name": "ipython",
    "version": 3
   },
   "file_extension": ".py",
   "mimetype": "text/x-python",
   "name": "python",
   "nbconvert_exporter": "python",
   "pygments_lexer": "ipython3",
   "version": "3.12.8"
  }
 },
 "nbformat": 4,
 "nbformat_minor": 2
}
