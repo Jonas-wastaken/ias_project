{
 "cells": [
  {
   "cell_type": "code",
   "execution_count": 168,
   "metadata": {},
   "outputs": [],
   "source": [
    "import sys\n",
    "import os\n",
    "import random\n",
    "import networkx as nx\n",
    "sys.path.append(os.path.join(os.getcwd(), \"src\"))\n",
    "from src.model import TrafficModel\n",
    "from car import CarAgent\n",
    "\n",
    "\n",
    "model = TrafficModel(50, num_intersections=5, num_borders=20, )"
   ]
  },
  {
   "cell_type": "code",
   "execution_count": 169,
   "metadata": {},
   "outputs": [],
   "source": [
    "import pyoptinterface as poi\n",
    "from pyoptinterface import highs"
   ]
  },
  {
   "cell_type": "code",
   "execution_count": 170,
   "metadata": {},
   "outputs": [],
   "source": [
    "opt_model = highs.Model()"
   ]
  },
  {
   "cell_type": "code",
   "execution_count": null,
   "metadata": {},
   "outputs": [
    {
     "name": "stdout",
     "output_type": "stream",
     "text": [
      "['intersection_4', 'intersection_7', 'intersection_1']\n",
      "range(-1, 10)\n",
      "{-1: {'intersection_4': 0, 'intersection_7': 0, 'intersection_1': 0}, 0: {'intersection_4': 5, 'intersection_7': 1, 'intersection_1': 10}, 1: {'intersection_4': 5, 'intersection_7': 1, 'intersection_1': 10}, 2: {'intersection_4': 1, 'intersection_7': 10, 'intersection_1': 1}, 3: {'intersection_4': 1, 'intersection_7': 10, 'intersection_1': 1}, 4: {'intersection_4': 1, 'intersection_7': 10, 'intersection_1': 1}, 5: {'intersection_4': 3, 'intersection_7': 7, 'intersection_1': 1}, 6: {'intersection_4': 5, 'intersection_7': 1, 'intersection_1': 10}, 7: {'intersection_4': 1, 'intersection_7': 10, 'intersection_1': 1}, 8: {'intersection_4': 1, 'intersection_7': 10, 'intersection_1': 1}, 9: {'intersection_4': 1, 'intersection_7': 10, 'intersection_1': 1}}\n"
     ]
    }
   ],
   "source": [
    "possible_lanes = ['intersection_4', 'intersection_7', 'intersection_1']\n",
    "print(possible_lanes)\n",
    "\n",
    "time = range(-1, 10)\n",
    "print(time)\n",
    "\n",
    "cars_at_light = {\n",
    "                    -1:{'intersection_4': 0, 'intersection_7': 0, 'intersection_1': 0}, # Löst Kaltstartproblem; bildet auch realität ab, weil initial keine Autos an ampel\n",
    "                    0:{'intersection_4': 5, 'intersection_7': 1, 'intersection_1': 10},\n",
    "                    1:{'intersection_4': 5, 'intersection_7': 1, 'intersection_1': 10},\n",
    "                    2:{'intersection_4': 1, 'intersection_7': 10, 'intersection_1': 1},\n",
    "                    3:{'intersection_4': 1, 'intersection_7': 10, 'intersection_1': 1},\n",
    "                    4:{'intersection_4': 1, 'intersection_7': 10, 'intersection_1': 1},\n",
    "                    5:{'intersection_4': 3, 'intersection_7': 7, 'intersection_1': 1},\n",
    "                    6:{'intersection_4': 5, 'intersection_7': 1, 'intersection_1': 10}, # Längere Betrachtung\n",
    "                    7:{'intersection_4': 1, 'intersection_7': 10, 'intersection_1': 1},\n",
    "                    8:{'intersection_4': 1, 'intersection_7': 10, 'intersection_1': 1},\n",
    "                    9:{'intersection_4': 1, 'intersection_7': 10, 'intersection_1': 1},\n",
    "                 }\n",
    "print(cars_at_light)"
   ]
  },
  {
   "cell_type": "code",
   "execution_count": 172,
   "metadata": {},
   "outputs": [
    {
     "name": "stdout",
     "output_type": "stream",
     "text": [
      "Running HiGHS 1.9.0 (git hash: 66f735e): Copyright (c) 2024 HiGHS under MIT licence terms\n"
     ]
    }
   ],
   "source": [
    "# Entscheidungsvariablen\n",
    "lanes = opt_model.add_variables(time, possible_lanes, domain=poi.VariableDomain.Binary)"
   ]
  },
  {
   "cell_type": "code",
   "execution_count": 173,
   "metadata": {},
   "outputs": [],
   "source": [
    "# # Entscheidung für tick -1 ist bereits festgelegt (vorherige Entscheidung)\n",
    "# current_open_lane = 'intersection_4'\n",
    "\n",
    "# for lane in possible_lanes:\n",
    "#     if lane == current_open_lane:\n",
    "#         lanes[-1, lane] = 1\n",
    "#     else:\n",
    "#         lanes[-1, lane] = 0"
   ]
  },
  {
   "cell_type": "code",
   "execution_count": null,
   "metadata": {},
   "outputs": [],
   "source": [
    "# Restriktion: jede Ampel kann nur exakt eine open_lane haben\n",
    "for tick in time[1:]:\n",
    "    opt_model.add_linear_constraint(poi.quicksum(lanes[tick, lane] for lane in possible_lanes ), poi.Eq, 1)\n",
    "\n",
    "# Restriktion: jede Ampel kann nur alle 5 Ticks die open_lane ändern (cooldown)\n",
    "for lane in possible_lanes:\n",
    "    opt_model.add_linear_constraint(poi.quicksum(((lanes[tick-1, lane] - lanes[tick, lane]) * (lanes[tick-1, lane] - lanes[tick, lane])) for tick in time[1:]), poi.Leq, 1.0) # Glaube hier fehl[t/en] Loops\n"
   ]
  },
  {
   "cell_type": "code",
   "execution_count": 175,
   "metadata": {},
   "outputs": [
    {
     "name": "stdout",
     "output_type": "stream",
     "text": [
      "Hessian has dimension 33 but no nonzeros, so is ignored\n"
     ]
    }
   ],
   "source": [
    "# Zielfunktion\n",
    "objective = poi.quicksum(poi.quicksum(lanes[tick, lane] * cars_at_light[tick][lane] for lane in possible_lanes) for tick in time)\n",
    "opt_model.set_objective(objective, poi.ObjectiveSense.Maximize)"
   ]
  },
  {
   "cell_type": "code",
   "execution_count": 176,
   "metadata": {},
   "outputs": [
    {
     "name": "stdout",
     "output_type": "stream",
     "text": [
      "Coefficient ranges:\n",
      "  Matrix [1e+00, 1e+00]\n",
      "  Cost   [1e+00, 1e+01]\n",
      "  Bound  [1e+00, 1e+00]\n",
      "  RHS    [1e+00, 1e+00]\n",
      "Presolving model\n",
      "10 rows, 30 cols, 30 nonzeros  0s\n",
      "0 rows, 7 cols, 0 nonzeros  0s\n",
      "0 rows, 0 cols, 0 nonzeros  0s\n",
      "Presolve: Optimal\n",
      "\n",
      "Src: B => Branching; C => Central rounding; F => Feasibility pump; H => Heuristic; L => Sub-MIP;\n",
      "     P => Empty MIP; R => Randomized rounding; S => Solve LP; T => Evaluate node; U => Unbounded;\n",
      "     z => Trivial zero; l => Trivial lower; u => Trivial upper; p => Trivial point\n",
      "\n",
      "        Nodes      |    B&B Tree     |            Objective Bounds              |  Dynamic Constraints |       Work      \n",
      "Src  Proc. InQueue |  Leaves   Expl. | BestBound       BestSol              Gap |   Cuts   InLp Confl. | LpIters     Time\n",
      "\n",
      "         0       0         0   0.00%   97              97                 0.00%        0      0      0         0     0.0s\n",
      "\n",
      "Solving report\n",
      "  Status            Optimal\n",
      "  Primal bound      97\n",
      "  Dual bound        97\n",
      "  Gap               0% (tolerance: 0.01%)\n",
      "  P-D integral      0\n",
      "  Solution status   feasible\n",
      "                    97 (objective)\n",
      "                    0 (bound viol.)\n",
      "                    0 (int. viol.)\n",
      "                    0 (row viol.)\n",
      "  Timing            0.00 (total)\n",
      "                    0.00 (presolve)\n",
      "                    0.00 (solve)\n",
      "                    0.00 (postsolve)\n",
      "  Max sub-MIP depth 0\n",
      "  Nodes             0\n",
      "  Repair LPs        0 (0 feasible; 0 iterations)\n",
      "  LP iterations     0 (total)\n",
      "                    0 (strong br.)\n",
      "                    0 (separation)\n",
      "                    0 (heuristics)\n"
     ]
    }
   ],
   "source": [
    "opt_model.optimize()"
   ]
  },
  {
   "cell_type": "code",
   "execution_count": 177,
   "metadata": {},
   "outputs": [
    {
     "name": "stdout",
     "output_type": "stream",
     "text": [
      "-1:intersection_1\n",
      "0:intersection_1\n",
      "1:intersection_1\n",
      "2:intersection_1\n",
      "3:intersection_1\n",
      "4:intersection_1\n",
      "5:intersection_1\n",
      "6:intersection_1\n",
      "7:intersection_1\n",
      "8:intersection_1\n",
      "9:intersection_1\n"
     ]
    }
   ],
   "source": [
    "# Glaub nicht dass der code funktioniert\n",
    "\n",
    "for tick in time:\n",
    "    for lane in possible_lanes:\n",
    "        if opt_model.get_value(lanes[0, lane]) > 0.1:\n",
    "            print(f\"{tick}:{lane}\")"
   ]
  },
  {
   "cell_type": "code",
   "execution_count": null,
   "metadata": {},
   "outputs": [
    {
     "name": "stdout",
     "output_type": "stream",
     "text": [
      "Time: -1; Intersection: intersection_4; Decision: 0.0\n",
      "Time: -1; Intersection: intersection_7; Decision: 0.0\n",
      "Time: -1; Intersection: intersection_1; Decision: 0.0\n",
      "Time: 0; Intersection: intersection_4; Decision: 0.0\n",
      "Time: 0; Intersection: intersection_7; Decision: 0.0\n",
      "Time: 0; Intersection: intersection_1; Decision: 1.0\n",
      "Time: 1; Intersection: intersection_4; Decision: 0.0\n",
      "Time: 1; Intersection: intersection_7; Decision: 0.0\n",
      "Time: 1; Intersection: intersection_1; Decision: 1.0\n",
      "Time: 2; Intersection: intersection_4; Decision: 0.0\n",
      "Time: 2; Intersection: intersection_7; Decision: 1.0\n",
      "Time: 2; Intersection: intersection_1; Decision: 0.0\n",
      "Time: 3; Intersection: intersection_4; Decision: 0.0\n",
      "Time: 3; Intersection: intersection_7; Decision: 1.0\n",
      "Time: 3; Intersection: intersection_1; Decision: 0.0\n",
      "Time: 4; Intersection: intersection_4; Decision: 0.0\n",
      "Time: 4; Intersection: intersection_7; Decision: 1.0\n",
      "Time: 4; Intersection: intersection_1; Decision: 0.0\n",
      "Time: 5; Intersection: intersection_4; Decision: 0.0\n",
      "Time: 5; Intersection: intersection_7; Decision: 1.0\n",
      "Time: 5; Intersection: intersection_1; Decision: 0.0\n",
      "Time: 6; Intersection: intersection_4; Decision: 0.0\n",
      "Time: 6; Intersection: intersection_7; Decision: 0.0\n",
      "Time: 6; Intersection: intersection_1; Decision: 1.0\n",
      "Time: 7; Intersection: intersection_4; Decision: 0.0\n",
      "Time: 7; Intersection: intersection_7; Decision: 1.0\n",
      "Time: 7; Intersection: intersection_1; Decision: 0.0\n",
      "Time: 8; Intersection: intersection_4; Decision: 0.0\n",
      "Time: 8; Intersection: intersection_7; Decision: 1.0\n",
      "Time: 8; Intersection: intersection_1; Decision: 0.0\n",
      "Time: 9; Intersection: intersection_4; Decision: 0.0\n",
      "Time: 9; Intersection: intersection_7; Decision: 1.0\n",
      "Time: 9; Intersection: intersection_1; Decision: 0.0\n"
     ]
    }
   ],
   "source": [
    "# Entscheidung pro Zeit und Lane\n",
    "\n",
    "for lane in lanes:\n",
    "    print(f\"Time: {lane[0]}; Intersection: {lane[1]}; Decision: {opt_model.get_value(lanes[lane])}\")"
   ]
  },
  {
   "cell_type": "code",
   "execution_count": null,
   "metadata": {},
   "outputs": [
    {
     "data": {
      "text/plain": [
       "[[0.0, 0.0, 0.0],\n",
       " [0.0, 0.0, 1.0],\n",
       " [0.0, 0.0, 1.0],\n",
       " [0.0, 1.0, 0.0],\n",
       " [0.0, 1.0, 0.0],\n",
       " [0.0, 1.0, 0.0],\n",
       " [0.0, 1.0, 0.0],\n",
       " [0.0, 0.0, 1.0],\n",
       " [0.0, 1.0, 0.0],\n",
       " [0.0, 1.0, 0.0],\n",
       " [0.0, 1.0, 0.0]]"
      ]
     },
     "execution_count": 179,
     "metadata": {},
     "output_type": "execute_result"
    }
   ],
   "source": [
    "# Entscheidungshistorie; Spalte = Ampel, Zeile gleich Zeitpunkt\n",
    "\n",
    "decision_matrix = [opt_model.get_value(lanes[lane]) for lane in lanes]\n",
    "decision_matrix_time = [decision_matrix[i:i+3] for i in range(0, len(decision_matrix), 3)]\n",
    "decision_matrix_time"
   ]
  },
  {
   "cell_type": "code",
   "execution_count": null,
   "metadata": {},
   "outputs": [
    {
     "data": {
      "text/plain": [
       "[[0.0, 0.0, 0.0, 0.0, 0.0, 0.0, 0.0, 0.0, 0.0, 0.0, 0.0],\n",
       " [0.0, 0.0, 0.0, 1.0, 1.0, 1.0, 1.0, 0.0, 1.0, 1.0, 1.0],\n",
       " [0.0, 1.0, 1.0, 0.0, 0.0, 0.0, 0.0, 1.0, 0.0, 0.0, 0.0]]"
      ]
     },
     "execution_count": 189,
     "metadata": {},
     "output_type": "execute_result"
    }
   ],
   "source": [
    "# Transponierte Entscheidungshistorie\n",
    "\n",
    "decision_matrix_light = list(map(list, zip(*decision_matrix_time)))\n",
    "decision_matrix_light"
   ]
  },
  {
   "cell_type": "code",
   "execution_count": 190,
   "metadata": {},
   "outputs": [
    {
     "name": "stdout",
     "output_type": "stream",
     "text": [
      "[0, 0, 0, 0, 0]\n",
      "0\n",
      "Light can switch\n",
      "[0, 0, 0, 0, 0.0]\n",
      "0\n",
      "Light can switch\n",
      "[0, 0, 0, 0.0, 0.0]\n",
      "0.0\n",
      "Light can switch\n",
      "[0, 0, 0.0, 0.0, 0.0]\n",
      "0.0\n",
      "Light can switch\n",
      "[0, 0.0, 0.0, 0.0, 0.0]\n",
      "0.0\n",
      "Light can switch\n",
      "[0.0, 0.0, 0.0, 0.0, 0.0]\n",
      "0.0\n",
      "Light can switch\n",
      "[0.0, 0.0, 0.0, 0.0, 0.0]\n",
      "0.0\n",
      "Light can switch\n",
      "[0.0, 0.0, 0.0, 0.0, 0.0]\n",
      "0.0\n",
      "Light can switch\n",
      "[0.0, 0.0, 0.0, 0.0, 0.0]\n",
      "0.0\n",
      "Light can switch\n",
      "[0.0, 0.0, 0.0, 0.0, 0.0]\n",
      "0.0\n",
      "Light can switch\n",
      "[0.0, 0.0, 0.0, 0.0, 0.0]\n",
      "0.0\n",
      "Light can switch\n",
      "[0, 0, 0, 0, 0]\n",
      "0\n",
      "Light can switch\n",
      "[0, 0, 0, 0, 0.0]\n",
      "0\n",
      "Light can switch\n",
      "[0, 0, 0, 0.0, 0.0]\n",
      "0.0\n",
      "Light can switch\n",
      "[0, 0, 0.0, 0.0, 0.0]\n",
      "0.0\n",
      "Light can switch\n",
      "[0, 0.0, 0.0, 0.0, 1.0]\n",
      "0.0\n",
      "Light can switch\n",
      "[0.0, 0.0, 0.0, 1.0, 1.0]\n",
      "1.0\n",
      "Light is cooldown blocked\n",
      "[0.0, 0.0, 1.0, 1.0, 1.0]\n",
      "1.0\n",
      "Light is cooldown blocked\n",
      "[0.0, 1.0, 1.0, 1.0, 1.0]\n",
      "1.0\n",
      "Light is cooldown blocked\n",
      "[1.0, 1.0, 1.0, 1.0, 0.0]\n",
      "0.0\n",
      "Light can switch\n",
      "[1.0, 1.0, 1.0, 0.0, 1.0]\n",
      "1.0\n",
      "Light is cooldown blocked\n",
      "[1.0, 1.0, 0.0, 1.0, 1.0]\n",
      "2.0\n",
      "Forbidden Action\n",
      "[0, 0, 0, 0, 0]\n",
      "0\n",
      "Light can switch\n",
      "[0, 0, 0, 0, 0.0]\n",
      "0\n",
      "Light can switch\n",
      "[0, 0, 0, 0.0, 1.0]\n",
      "0.0\n",
      "Light can switch\n",
      "[0, 0, 0.0, 1.0, 1.0]\n",
      "1.0\n",
      "Light is cooldown blocked\n",
      "[0, 0.0, 1.0, 1.0, 0.0]\n",
      "1.0\n",
      "Light is cooldown blocked\n",
      "[0.0, 1.0, 1.0, 0.0, 0.0]\n",
      "2.0\n",
      "Forbidden Action\n",
      "[1.0, 1.0, 0.0, 0.0, 0.0]\n",
      "1.0\n",
      "Light is cooldown blocked\n",
      "[1.0, 0.0, 0.0, 0.0, 0.0]\n",
      "1.0\n",
      "Light is cooldown blocked\n",
      "[0.0, 0.0, 0.0, 0.0, 1.0]\n",
      "0.0\n",
      "Light can switch\n",
      "[0.0, 0.0, 0.0, 1.0, 0.0]\n",
      "1.0\n",
      "Light is cooldown blocked\n",
      "[0.0, 0.0, 1.0, 0.0, 0.0]\n",
      "2.0\n",
      "Forbidden Action\n"
     ]
    }
   ],
   "source": [
    "# Cooldown restriktion\n",
    "\n",
    "for light in decision_matrix_light: # Historie von Entscheidung pro Ampel\n",
    "    for i in range(len(light)): \n",
    "        decision_history = [0] * max(0, 5 - i) + light[max(0, i-5):i] # Entscheidungen von t-5 bis t=0; Wenn vorher keine Entscheidung gab, dann führende 0; Zu erkennen an int 0 vs. float 0.0\n",
    "        block_status = 0 # Bei 0 darf geöffnet werden, bei 1 ist cooldown aktiv, bei größer 1 gabs nen fehler in der entscheidung\n",
    "        for j in range(1, (len(decision_history) - 1)):\n",
    "            block_status += (decision_history[j-1] - decision_history[j]) ** 2 # Berechnen von @mxrio Loop (** ist exponent)\n",
    "        print(decision_history)\n",
    "        print(block_status)\n",
    "        if block_status == 0:\n",
    "            print(\"Light can switch\")\n",
    "        elif block_status == 1:\n",
    "            print(\"Light is cooldown blocked\")\n",
    "        elif block_status > 1:\n",
    "            print(\"Forbidden Action\")"
   ]
  },
  {
   "cell_type": "code",
   "execution_count": 182,
   "metadata": {},
   "outputs": [
    {
     "name": "stdout",
     "output_type": "stream",
     "text": [
      "Lane: 97.0\n"
     ]
    }
   ],
   "source": [
    "print(f\"Lane: {opt_model.get_obj_value()}\")"
   ]
  }
 ],
 "metadata": {
  "kernelspec": {
   "display_name": ".venv (3.12.8)",
   "language": "python",
   "name": "python3"
  },
  "language_info": {
   "codemirror_mode": {
    "name": "ipython",
    "version": 3
   },
   "file_extension": ".py",
   "mimetype": "text/x-python",
   "name": "python",
   "nbconvert_exporter": "python",
   "pygments_lexer": "ipython3",
   "version": "3.12.8"
  }
 },
 "nbformat": 4,
 "nbformat_minor": 2
}
