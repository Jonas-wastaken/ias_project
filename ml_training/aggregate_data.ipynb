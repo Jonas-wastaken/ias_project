{
 "cells": [
  {
   "cell_type": "markdown",
   "id": "3410acd5",
   "metadata": {},
   "source": [
    "# Data Aggregation"
   ]
  },
  {
   "cell_type": "markdown",
   "id": "c5900d75",
   "metadata": {},
   "source": [
    "This notebook aggregates sim data to a dataset that can be used for ML training"
   ]
  },
  {
   "cell_type": "code",
   "execution_count": 33,
   "id": "30a755d5",
   "metadata": {},
   "outputs": [],
   "source": [
    "import os\n",
    "import json\n",
    "import polars as pl"
   ]
  },
  {
   "cell_type": "code",
   "execution_count": 3,
   "id": "0ad8a594",
   "metadata": {},
   "outputs": [
    {
     "data": {
      "text/plain": [
       "['../data/2025-04-08-22:50:10',\n",
       " '../data/2025-04-09-00:54:16',\n",
       " '../data/2025-04-08-23:05:05',\n",
       " '../data/2025-04-08-21:54:43',\n",
       " '../data/2025-04-08-23:39:25',\n",
       " '../data/2025-04-09-01:33:08',\n",
       " '../data/2025-04-08-22:33:13',\n",
       " '../data/2025-04-08-21:45:18',\n",
       " '../data/2025-04-09-01:16:01',\n",
       " '../data/2025-04-09-01:44:54',\n",
       " '../data/2025-04-08-23:34:08',\n",
       " '../data/2025-04-08-23:19:32',\n",
       " '../data/2025-04-09-00:02:57',\n",
       " '../data/2025-04-08-23:29:58',\n",
       " '../data/2025-04-08-23:47:17',\n",
       " '../data/2025-04-09-00:21:06',\n",
       " '../data/2025-04-08-22:17:43',\n",
       " '../data/2025-04-08-21:26:58',\n",
       " '../data/2025-04-08-22:47:19',\n",
       " '../data/2025-04-08-22:58:32']"
      ]
     },
     "execution_count": 3,
     "metadata": {},
     "output_type": "execute_result"
    }
   ],
   "source": [
    "data_folder = \"../data/\"\n",
    "data_paths = [os.path.join(data_folder, file) for file in os.listdir(data_folder)]\n",
    "data_paths"
   ]
  },
  {
   "cell_type": "code",
   "execution_count": 14,
   "id": "7c45f676",
   "metadata": {},
   "outputs": [
    {
     "data": {
      "text/html": [
       "<div><style>\n",
       ".dataframe > thead > tr,\n",
       ".dataframe > tbody > tr {\n",
       "  text-align: right;\n",
       "  white-space: pre-wrap;\n",
       "}\n",
       "</style>\n",
       "<small>shape: (196_000, 5)</small><table border=\"1\" class=\"dataframe\"><thead><tr><th>Step</th><th>Light_ID</th><th>Time</th><th>Lane</th><th>Num_Cars</th></tr><tr><td>i32</td><td>i16</td><td>i16</td><td>str</td><td>i16</td></tr></thead><tbody><tr><td>1</td><td>1</td><td>199</td><td>&quot;intersection_6&quot;</td><td>0</td></tr><tr><td>1</td><td>1</td><td>199</td><td>&quot;intersection_46&quot;</td><td>0</td></tr><tr><td>1</td><td>1</td><td>199</td><td>&quot;intersection_16&quot;</td><td>0</td></tr><tr><td>1</td><td>1</td><td>199</td><td>&quot;intersection_24&quot;</td><td>0</td></tr><tr><td>2</td><td>1</td><td>198</td><td>&quot;intersection_6&quot;</td><td>0</td></tr><tr><td>&hellip;</td><td>&hellip;</td><td>&hellip;</td><td>&hellip;</td><td>&hellip;</td></tr><tr><td>999</td><td>52</td><td>1</td><td>&quot;intersection_47&quot;</td><td>0</td></tr><tr><td>1000</td><td>52</td><td>200</td><td>&quot;intersection_16&quot;</td><td>0</td></tr><tr><td>1000</td><td>52</td><td>200</td><td>&quot;intersection_27&quot;</td><td>0</td></tr><tr><td>1000</td><td>52</td><td>200</td><td>&quot;intersection_38&quot;</td><td>0</td></tr><tr><td>1000</td><td>52</td><td>200</td><td>&quot;intersection_47&quot;</td><td>0</td></tr></tbody></table></div>"
      ],
      "text/plain": [
       "shape: (196_000, 5)\n",
       "┌──────┬──────────┬──────┬─────────────────┬──────────┐\n",
       "│ Step ┆ Light_ID ┆ Time ┆ Lane            ┆ Num_Cars │\n",
       "│ ---  ┆ ---      ┆ ---  ┆ ---             ┆ ---      │\n",
       "│ i32  ┆ i16      ┆ i16  ┆ str             ┆ i16      │\n",
       "╞══════╪══════════╪══════╪═════════════════╪══════════╡\n",
       "│ 1    ┆ 1        ┆ 199  ┆ intersection_6  ┆ 0        │\n",
       "│ 1    ┆ 1        ┆ 199  ┆ intersection_46 ┆ 0        │\n",
       "│ 1    ┆ 1        ┆ 199  ┆ intersection_16 ┆ 0        │\n",
       "│ 1    ┆ 1        ┆ 199  ┆ intersection_24 ┆ 0        │\n",
       "│ 2    ┆ 1        ┆ 198  ┆ intersection_6  ┆ 0        │\n",
       "│ …    ┆ …        ┆ …    ┆ …               ┆ …        │\n",
       "│ 999  ┆ 52       ┆ 1    ┆ intersection_47 ┆ 0        │\n",
       "│ 1000 ┆ 52       ┆ 200  ┆ intersection_16 ┆ 0        │\n",
       "│ 1000 ┆ 52       ┆ 200  ┆ intersection_27 ┆ 0        │\n",
       "│ 1000 ┆ 52       ┆ 200  ┆ intersection_38 ┆ 0        │\n",
       "│ 1000 ┆ 52       ┆ 200  ┆ intersection_47 ┆ 0        │\n",
       "└──────┴──────────┴──────┴─────────────────┴──────────┘"
      ]
     },
     "execution_count": 14,
     "metadata": {},
     "output_type": "execute_result"
    }
   ],
   "source": [
    "traffic = pl.read_parquet(os.path.join(data_paths[0], \"traffic.parquet\"))\n",
    "traffic"
   ]
  },
  {
   "cell_type": "code",
   "execution_count": 15,
   "id": "956f8603",
   "metadata": {},
   "outputs": [
    {
     "data": {
      "text/html": [
       "<div><style>\n",
       ".dataframe > thead > tr,\n",
       ".dataframe > tbody > tr {\n",
       "  text-align: right;\n",
       "  white-space: pre-wrap;\n",
       "}\n",
       "</style>\n",
       "<small>shape: (52, 3)</small><table border=\"1\" class=\"dataframe\"><thead><tr><th>Light_ID</th><th>Centrality</th><th>Is_Entrypoint</th></tr><tr><td>i16</td><td>f32</td><td>bool</td></tr></thead><tbody><tr><td>1</td><td>0.024816</td><td>true</td></tr><tr><td>2</td><td>0.0231</td><td>true</td></tr><tr><td>3</td><td>0.019337</td><td>true</td></tr><tr><td>4</td><td>0.01774</td><td>true</td></tr><tr><td>5</td><td>0.019902</td><td>true</td></tr><tr><td>&hellip;</td><td>&hellip;</td><td>&hellip;</td></tr><tr><td>48</td><td>0.021564</td><td>true</td></tr><tr><td>49</td><td>0.023838</td><td>true</td></tr><tr><td>50</td><td>0.020373</td><td>true</td></tr><tr><td>51</td><td>0.017215</td><td>true</td></tr><tr><td>52</td><td>0.022771</td><td>true</td></tr></tbody></table></div>"
      ],
      "text/plain": [
       "shape: (52, 3)\n",
       "┌──────────┬────────────┬───────────────┐\n",
       "│ Light_ID ┆ Centrality ┆ Is_Entrypoint │\n",
       "│ ---      ┆ ---        ┆ ---           │\n",
       "│ i16      ┆ f32        ┆ bool          │\n",
       "╞══════════╪════════════╪═══════════════╡\n",
       "│ 1        ┆ 0.024816   ┆ true          │\n",
       "│ 2        ┆ 0.0231     ┆ true          │\n",
       "│ 3        ┆ 0.019337   ┆ true          │\n",
       "│ 4        ┆ 0.01774    ┆ true          │\n",
       "│ 5        ┆ 0.019902   ┆ true          │\n",
       "│ …        ┆ …          ┆ …             │\n",
       "│ 48       ┆ 0.021564   ┆ true          │\n",
       "│ 49       ┆ 0.023838   ┆ true          │\n",
       "│ 50       ┆ 0.020373   ┆ true          │\n",
       "│ 51       ┆ 0.017215   ┆ true          │\n",
       "│ 52       ┆ 0.022771   ┆ true          │\n",
       "└──────────┴────────────┴───────────────┘"
      ]
     },
     "execution_count": 15,
     "metadata": {},
     "output_type": "execute_result"
    }
   ],
   "source": [
    "light_data = pl.read_parquet(os.path.join(data_paths[0], \"light_data.parquet\"))\n",
    "light_data"
   ]
  },
  {
   "cell_type": "code",
   "execution_count": 16,
   "id": "7b5dca8c",
   "metadata": {},
   "outputs": [
    {
     "data": {
      "text/html": [
       "<div><style>\n",
       ".dataframe > thead > tr,\n",
       ".dataframe > tbody > tr {\n",
       "  text-align: right;\n",
       "  white-space: pre-wrap;\n",
       "}\n",
       "</style>\n",
       "<small>shape: (612, 3)</small><table border=\"1\" class=\"dataframe\"><thead><tr><th>Intersection_u</th><th>Intersection_v</th><th>Distance</th></tr><tr><td>str</td><td>str</td><td>i16</td></tr></thead><tbody><tr><td>&quot;intersection_0&quot;</td><td>&quot;intersection_6&quot;</td><td>13</td></tr><tr><td>&quot;intersection_0&quot;</td><td>&quot;intersection_46&quot;</td><td>9</td></tr><tr><td>&quot;intersection_0&quot;</td><td>&quot;intersection_16&quot;</td><td>11</td></tr><tr><td>&quot;intersection_0&quot;</td><td>&quot;intersection_24&quot;</td><td>12</td></tr><tr><td>&quot;intersection_0&quot;</td><td>&quot;border_190&quot;</td><td>2</td></tr><tr><td>&hellip;</td><td>&hellip;</td><td>&hellip;</td></tr><tr><td>&quot;intersection_51&quot;</td><td>&quot;border_186&quot;</td><td>4</td></tr><tr><td>&quot;intersection_51&quot;</td><td>&quot;border_115&quot;</td><td>17</td></tr><tr><td>&quot;intersection_51&quot;</td><td>&quot;border_98&quot;</td><td>4</td></tr><tr><td>&quot;intersection_51&quot;</td><td>&quot;border_76&quot;</td><td>17</td></tr><tr><td>&quot;intersection_51&quot;</td><td>&quot;border_62&quot;</td><td>7</td></tr></tbody></table></div>"
      ],
      "text/plain": [
       "shape: (612, 3)\n",
       "┌─────────────────┬─────────────────┬──────────┐\n",
       "│ Intersection_u  ┆ Intersection_v  ┆ Distance │\n",
       "│ ---             ┆ ---             ┆ ---      │\n",
       "│ str             ┆ str             ┆ i16      │\n",
       "╞═════════════════╪═════════════════╪══════════╡\n",
       "│ intersection_0  ┆ intersection_6  ┆ 13       │\n",
       "│ intersection_0  ┆ intersection_46 ┆ 9        │\n",
       "│ intersection_0  ┆ intersection_16 ┆ 11       │\n",
       "│ intersection_0  ┆ intersection_24 ┆ 12       │\n",
       "│ intersection_0  ┆ border_190      ┆ 2        │\n",
       "│ …               ┆ …               ┆ …        │\n",
       "│ intersection_51 ┆ border_186      ┆ 4        │\n",
       "│ intersection_51 ┆ border_115      ┆ 17       │\n",
       "│ intersection_51 ┆ border_98       ┆ 4        │\n",
       "│ intersection_51 ┆ border_76       ┆ 17       │\n",
       "│ intersection_51 ┆ border_62       ┆ 7        │\n",
       "└─────────────────┴─────────────────┴──────────┘"
      ]
     },
     "execution_count": 16,
     "metadata": {},
     "output_type": "execute_result"
    }
   ],
   "source": [
    "connections = pl.read_parquet(os.path.join(data_paths[0], \"connections.parquet\"))\n",
    "connections"
   ]
  },
  {
   "cell_type": "code",
   "execution_count": 17,
   "id": "75e71a18",
   "metadata": {},
   "outputs": [
    {
     "data": {
      "text/html": [
       "<div><style>\n",
       ".dataframe > thead > tr,\n",
       ".dataframe > tbody > tr {\n",
       "  text-align: right;\n",
       "  white-space: pre-wrap;\n",
       "}\n",
       "</style>\n",
       "<small>shape: (52, 2)</small><table border=\"1\" class=\"dataframe\"><thead><tr><th>Light_ID</th><th>Intersection</th></tr><tr><td>i16</td><td>str</td></tr></thead><tbody><tr><td>1</td><td>&quot;intersection_0&quot;</td></tr><tr><td>2</td><td>&quot;intersection_1&quot;</td></tr><tr><td>3</td><td>&quot;intersection_2&quot;</td></tr><tr><td>4</td><td>&quot;intersection_3&quot;</td></tr><tr><td>5</td><td>&quot;intersection_4&quot;</td></tr><tr><td>&hellip;</td><td>&hellip;</td></tr><tr><td>48</td><td>&quot;intersection_47&quot;</td></tr><tr><td>49</td><td>&quot;intersection_48&quot;</td></tr><tr><td>50</td><td>&quot;intersection_49&quot;</td></tr><tr><td>51</td><td>&quot;intersection_50&quot;</td></tr><tr><td>52</td><td>&quot;intersection_51&quot;</td></tr></tbody></table></div>"
      ],
      "text/plain": [
       "shape: (52, 2)\n",
       "┌──────────┬─────────────────┐\n",
       "│ Light_ID ┆ Intersection    │\n",
       "│ ---      ┆ ---             │\n",
       "│ i16      ┆ str             │\n",
       "╞══════════╪═════════════════╡\n",
       "│ 1        ┆ intersection_0  │\n",
       "│ 2        ┆ intersection_1  │\n",
       "│ 3        ┆ intersection_2  │\n",
       "│ 4        ┆ intersection_3  │\n",
       "│ 5        ┆ intersection_4  │\n",
       "│ …        ┆ …               │\n",
       "│ 48       ┆ intersection_47 │\n",
       "│ 49       ┆ intersection_48 │\n",
       "│ 50       ┆ intersection_49 │\n",
       "│ 51       ┆ intersection_50 │\n",
       "│ 52       ┆ intersection_51 │\n",
       "└──────────┴─────────────────┘"
      ]
     },
     "execution_count": 17,
     "metadata": {},
     "output_type": "execute_result"
    }
   ],
   "source": [
    "light_intersection_mapping = pl.read_parquet(\n",
    "    os.path.join(data_paths[0], \"light_intersection_mapping.parquet\")\n",
    ")\n",
    "light_intersection_mapping"
   ]
  },
  {
   "cell_type": "code",
   "execution_count": 18,
   "id": "386eff65",
   "metadata": {},
   "outputs": [
    {
     "data": {
      "text/html": [
       "<div><style>\n",
       ".dataframe > thead > tr,\n",
       ".dataframe > tbody > tr {\n",
       "  text-align: right;\n",
       "  white-space: pre-wrap;\n",
       "}\n",
       "</style>\n",
       "<small>shape: (196_000, 7)</small><table border=\"1\" class=\"dataframe\"><thead><tr><th>Step</th><th>Light_ID</th><th>Time</th><th>Lane</th><th>Num_Cars</th><th>Centrality</th><th>Is_Entrypoint</th></tr><tr><td>i32</td><td>i16</td><td>i16</td><td>str</td><td>i16</td><td>f32</td><td>bool</td></tr></thead><tbody><tr><td>1</td><td>1</td><td>199</td><td>&quot;intersection_6&quot;</td><td>0</td><td>0.024816</td><td>true</td></tr><tr><td>1</td><td>1</td><td>199</td><td>&quot;intersection_46&quot;</td><td>0</td><td>0.024816</td><td>true</td></tr><tr><td>1</td><td>1</td><td>199</td><td>&quot;intersection_16&quot;</td><td>0</td><td>0.024816</td><td>true</td></tr><tr><td>1</td><td>1</td><td>199</td><td>&quot;intersection_24&quot;</td><td>0</td><td>0.024816</td><td>true</td></tr><tr><td>2</td><td>1</td><td>198</td><td>&quot;intersection_6&quot;</td><td>0</td><td>0.024816</td><td>true</td></tr><tr><td>&hellip;</td><td>&hellip;</td><td>&hellip;</td><td>&hellip;</td><td>&hellip;</td><td>&hellip;</td><td>&hellip;</td></tr><tr><td>999</td><td>52</td><td>1</td><td>&quot;intersection_47&quot;</td><td>0</td><td>0.022771</td><td>true</td></tr><tr><td>1000</td><td>52</td><td>200</td><td>&quot;intersection_16&quot;</td><td>0</td><td>0.022771</td><td>true</td></tr><tr><td>1000</td><td>52</td><td>200</td><td>&quot;intersection_27&quot;</td><td>0</td><td>0.022771</td><td>true</td></tr><tr><td>1000</td><td>52</td><td>200</td><td>&quot;intersection_38&quot;</td><td>0</td><td>0.022771</td><td>true</td></tr><tr><td>1000</td><td>52</td><td>200</td><td>&quot;intersection_47&quot;</td><td>0</td><td>0.022771</td><td>true</td></tr></tbody></table></div>"
      ],
      "text/plain": [
       "shape: (196_000, 7)\n",
       "┌──────┬──────────┬──────┬─────────────────┬──────────┬────────────┬───────────────┐\n",
       "│ Step ┆ Light_ID ┆ Time ┆ Lane            ┆ Num_Cars ┆ Centrality ┆ Is_Entrypoint │\n",
       "│ ---  ┆ ---      ┆ ---  ┆ ---             ┆ ---      ┆ ---        ┆ ---           │\n",
       "│ i32  ┆ i16      ┆ i16  ┆ str             ┆ i16      ┆ f32        ┆ bool          │\n",
       "╞══════╪══════════╪══════╪═════════════════╪══════════╪════════════╪═══════════════╡\n",
       "│ 1    ┆ 1        ┆ 199  ┆ intersection_6  ┆ 0        ┆ 0.024816   ┆ true          │\n",
       "│ 1    ┆ 1        ┆ 199  ┆ intersection_46 ┆ 0        ┆ 0.024816   ┆ true          │\n",
       "│ 1    ┆ 1        ┆ 199  ┆ intersection_16 ┆ 0        ┆ 0.024816   ┆ true          │\n",
       "│ 1    ┆ 1        ┆ 199  ┆ intersection_24 ┆ 0        ┆ 0.024816   ┆ true          │\n",
       "│ 2    ┆ 1        ┆ 198  ┆ intersection_6  ┆ 0        ┆ 0.024816   ┆ true          │\n",
       "│ …    ┆ …        ┆ …    ┆ …               ┆ …        ┆ …          ┆ …             │\n",
       "│ 999  ┆ 52       ┆ 1    ┆ intersection_47 ┆ 0        ┆ 0.022771   ┆ true          │\n",
       "│ 1000 ┆ 52       ┆ 200  ┆ intersection_16 ┆ 0        ┆ 0.022771   ┆ true          │\n",
       "│ 1000 ┆ 52       ┆ 200  ┆ intersection_27 ┆ 0        ┆ 0.022771   ┆ true          │\n",
       "│ 1000 ┆ 52       ┆ 200  ┆ intersection_38 ┆ 0        ┆ 0.022771   ┆ true          │\n",
       "│ 1000 ┆ 52       ┆ 200  ┆ intersection_47 ┆ 0        ┆ 0.022771   ┆ true          │\n",
       "└──────┴──────────┴──────┴─────────────────┴──────────┴────────────┴───────────────┘"
      ]
     },
     "execution_count": 18,
     "metadata": {},
     "output_type": "execute_result"
    }
   ],
   "source": [
    "data = traffic.join(light_data, on=\"Light_ID\", how=\"left\")\n",
    "data"
   ]
  },
  {
   "cell_type": "code",
   "execution_count": 19,
   "id": "3b44c8ec",
   "metadata": {},
   "outputs": [
    {
     "data": {
      "text/html": [
       "<div><style>\n",
       ".dataframe > thead > tr,\n",
       ".dataframe > tbody > tr {\n",
       "  text-align: right;\n",
       "  white-space: pre-wrap;\n",
       "}\n",
       "</style>\n",
       "<small>shape: (196_000, 8)</small><table border=\"1\" class=\"dataframe\"><thead><tr><th>Step</th><th>Light_ID</th><th>Time</th><th>Lane</th><th>Num_Cars</th><th>Centrality</th><th>Is_Entrypoint</th><th>Intersection_u</th></tr><tr><td>i32</td><td>i16</td><td>i16</td><td>str</td><td>i16</td><td>f32</td><td>bool</td><td>str</td></tr></thead><tbody><tr><td>1</td><td>1</td><td>199</td><td>&quot;intersection_6&quot;</td><td>0</td><td>0.024816</td><td>true</td><td>&quot;intersection_0&quot;</td></tr><tr><td>1</td><td>1</td><td>199</td><td>&quot;intersection_46&quot;</td><td>0</td><td>0.024816</td><td>true</td><td>&quot;intersection_0&quot;</td></tr><tr><td>1</td><td>1</td><td>199</td><td>&quot;intersection_16&quot;</td><td>0</td><td>0.024816</td><td>true</td><td>&quot;intersection_0&quot;</td></tr><tr><td>1</td><td>1</td><td>199</td><td>&quot;intersection_24&quot;</td><td>0</td><td>0.024816</td><td>true</td><td>&quot;intersection_0&quot;</td></tr><tr><td>2</td><td>1</td><td>198</td><td>&quot;intersection_6&quot;</td><td>0</td><td>0.024816</td><td>true</td><td>&quot;intersection_0&quot;</td></tr><tr><td>&hellip;</td><td>&hellip;</td><td>&hellip;</td><td>&hellip;</td><td>&hellip;</td><td>&hellip;</td><td>&hellip;</td><td>&hellip;</td></tr><tr><td>999</td><td>52</td><td>1</td><td>&quot;intersection_47&quot;</td><td>0</td><td>0.022771</td><td>true</td><td>&quot;intersection_51&quot;</td></tr><tr><td>1000</td><td>52</td><td>200</td><td>&quot;intersection_16&quot;</td><td>0</td><td>0.022771</td><td>true</td><td>&quot;intersection_51&quot;</td></tr><tr><td>1000</td><td>52</td><td>200</td><td>&quot;intersection_27&quot;</td><td>0</td><td>0.022771</td><td>true</td><td>&quot;intersection_51&quot;</td></tr><tr><td>1000</td><td>52</td><td>200</td><td>&quot;intersection_38&quot;</td><td>0</td><td>0.022771</td><td>true</td><td>&quot;intersection_51&quot;</td></tr><tr><td>1000</td><td>52</td><td>200</td><td>&quot;intersection_47&quot;</td><td>0</td><td>0.022771</td><td>true</td><td>&quot;intersection_51&quot;</td></tr></tbody></table></div>"
      ],
      "text/plain": [
       "shape: (196_000, 8)\n",
       "┌──────┬──────────┬──────┬────────────────┬──────────┬────────────┬───────────────┬────────────────┐\n",
       "│ Step ┆ Light_ID ┆ Time ┆ Lane           ┆ Num_Cars ┆ Centrality ┆ Is_Entrypoint ┆ Intersection_u │\n",
       "│ ---  ┆ ---      ┆ ---  ┆ ---            ┆ ---      ┆ ---        ┆ ---           ┆ ---            │\n",
       "│ i32  ┆ i16      ┆ i16  ┆ str            ┆ i16      ┆ f32        ┆ bool          ┆ str            │\n",
       "╞══════╪══════════╪══════╪════════════════╪══════════╪════════════╪═══════════════╪════════════════╡\n",
       "│ 1    ┆ 1        ┆ 199  ┆ intersection_6 ┆ 0        ┆ 0.024816   ┆ true          ┆ intersection_0 │\n",
       "│ 1    ┆ 1        ┆ 199  ┆ intersection_4 ┆ 0        ┆ 0.024816   ┆ true          ┆ intersection_0 │\n",
       "│      ┆          ┆      ┆ 6              ┆          ┆            ┆               ┆                │\n",
       "│ 1    ┆ 1        ┆ 199  ┆ intersection_1 ┆ 0        ┆ 0.024816   ┆ true          ┆ intersection_0 │\n",
       "│      ┆          ┆      ┆ 6              ┆          ┆            ┆               ┆                │\n",
       "│ 1    ┆ 1        ┆ 199  ┆ intersection_2 ┆ 0        ┆ 0.024816   ┆ true          ┆ intersection_0 │\n",
       "│      ┆          ┆      ┆ 4              ┆          ┆            ┆               ┆                │\n",
       "│ 2    ┆ 1        ┆ 198  ┆ intersection_6 ┆ 0        ┆ 0.024816   ┆ true          ┆ intersection_0 │\n",
       "│ …    ┆ …        ┆ …    ┆ …              ┆ …        ┆ …          ┆ …             ┆ …              │\n",
       "│ 999  ┆ 52       ┆ 1    ┆ intersection_4 ┆ 0        ┆ 0.022771   ┆ true          ┆ intersection_5 │\n",
       "│      ┆          ┆      ┆ 7              ┆          ┆            ┆               ┆ 1              │\n",
       "│ 1000 ┆ 52       ┆ 200  ┆ intersection_1 ┆ 0        ┆ 0.022771   ┆ true          ┆ intersection_5 │\n",
       "│      ┆          ┆      ┆ 6              ┆          ┆            ┆               ┆ 1              │\n",
       "│ 1000 ┆ 52       ┆ 200  ┆ intersection_2 ┆ 0        ┆ 0.022771   ┆ true          ┆ intersection_5 │\n",
       "│      ┆          ┆      ┆ 7              ┆          ┆            ┆               ┆ 1              │\n",
       "│ 1000 ┆ 52       ┆ 200  ┆ intersection_3 ┆ 0        ┆ 0.022771   ┆ true          ┆ intersection_5 │\n",
       "│      ┆          ┆      ┆ 8              ┆          ┆            ┆               ┆ 1              │\n",
       "│ 1000 ┆ 52       ┆ 200  ┆ intersection_4 ┆ 0        ┆ 0.022771   ┆ true          ┆ intersection_5 │\n",
       "│      ┆          ┆      ┆ 7              ┆          ┆            ┆               ┆ 1              │\n",
       "└──────┴──────────┴──────┴────────────────┴──────────┴────────────┴───────────────┴────────────────┘"
      ]
     },
     "execution_count": 19,
     "metadata": {},
     "output_type": "execute_result"
    }
   ],
   "source": [
    "data = data.join(light_intersection_mapping, on=\"Light_ID\", how=\"left\")\n",
    "data = data.rename(mapping={\"Intersection\": \"Intersection_u\"})\n",
    "data"
   ]
  },
  {
   "cell_type": "code",
   "execution_count": 20,
   "id": "2dd7e321",
   "metadata": {},
   "outputs": [
    {
     "data": {
      "text/html": [
       "<div><style>\n",
       ".dataframe > thead > tr,\n",
       ".dataframe > tbody > tr {\n",
       "  text-align: right;\n",
       "  white-space: pre-wrap;\n",
       "}\n",
       "</style>\n",
       "<small>shape: (196_000, 9)</small><table border=\"1\" class=\"dataframe\"><thead><tr><th>Step</th><th>Light_ID</th><th>Time</th><th>Lane</th><th>Num_Cars</th><th>Centrality</th><th>Is_Entrypoint</th><th>Intersection_u</th><th>Distance</th></tr><tr><td>i32</td><td>i16</td><td>i16</td><td>str</td><td>i16</td><td>f32</td><td>bool</td><td>str</td><td>i16</td></tr></thead><tbody><tr><td>1</td><td>1</td><td>199</td><td>&quot;intersection_6&quot;</td><td>0</td><td>0.024816</td><td>true</td><td>&quot;intersection_0&quot;</td><td>13</td></tr><tr><td>1</td><td>1</td><td>199</td><td>&quot;intersection_46&quot;</td><td>0</td><td>0.024816</td><td>true</td><td>&quot;intersection_0&quot;</td><td>9</td></tr><tr><td>1</td><td>1</td><td>199</td><td>&quot;intersection_16&quot;</td><td>0</td><td>0.024816</td><td>true</td><td>&quot;intersection_0&quot;</td><td>11</td></tr><tr><td>1</td><td>1</td><td>199</td><td>&quot;intersection_24&quot;</td><td>0</td><td>0.024816</td><td>true</td><td>&quot;intersection_0&quot;</td><td>12</td></tr><tr><td>2</td><td>1</td><td>198</td><td>&quot;intersection_6&quot;</td><td>0</td><td>0.024816</td><td>true</td><td>&quot;intersection_0&quot;</td><td>13</td></tr><tr><td>&hellip;</td><td>&hellip;</td><td>&hellip;</td><td>&hellip;</td><td>&hellip;</td><td>&hellip;</td><td>&hellip;</td><td>&hellip;</td><td>&hellip;</td></tr><tr><td>999</td><td>52</td><td>1</td><td>&quot;intersection_47&quot;</td><td>0</td><td>0.022771</td><td>true</td><td>&quot;intersection_51&quot;</td><td>11</td></tr><tr><td>1000</td><td>52</td><td>200</td><td>&quot;intersection_16&quot;</td><td>0</td><td>0.022771</td><td>true</td><td>&quot;intersection_51&quot;</td><td>9</td></tr><tr><td>1000</td><td>52</td><td>200</td><td>&quot;intersection_27&quot;</td><td>0</td><td>0.022771</td><td>true</td><td>&quot;intersection_51&quot;</td><td>16</td></tr><tr><td>1000</td><td>52</td><td>200</td><td>&quot;intersection_38&quot;</td><td>0</td><td>0.022771</td><td>true</td><td>&quot;intersection_51&quot;</td><td>32</td></tr><tr><td>1000</td><td>52</td><td>200</td><td>&quot;intersection_47&quot;</td><td>0</td><td>0.022771</td><td>true</td><td>&quot;intersection_51&quot;</td><td>11</td></tr></tbody></table></div>"
      ],
      "text/plain": [
       "shape: (196_000, 9)\n",
       "┌──────┬──────────┬──────┬───────────────┬───┬────────────┬──────────────┬──────────────┬──────────┐\n",
       "│ Step ┆ Light_ID ┆ Time ┆ Lane          ┆ … ┆ Centrality ┆ Is_Entrypoin ┆ Intersection ┆ Distance │\n",
       "│ ---  ┆ ---      ┆ ---  ┆ ---           ┆   ┆ ---        ┆ t            ┆ _u           ┆ ---      │\n",
       "│ i32  ┆ i16      ┆ i16  ┆ str           ┆   ┆ f32        ┆ ---          ┆ ---          ┆ i16      │\n",
       "│      ┆          ┆      ┆               ┆   ┆            ┆ bool         ┆ str          ┆          │\n",
       "╞══════╪══════════╪══════╪═══════════════╪═══╪════════════╪══════════════╪══════════════╪══════════╡\n",
       "│ 1    ┆ 1        ┆ 199  ┆ intersection_ ┆ … ┆ 0.024816   ┆ true         ┆ intersection ┆ 13       │\n",
       "│      ┆          ┆      ┆ 6             ┆   ┆            ┆              ┆ _0           ┆          │\n",
       "│ 1    ┆ 1        ┆ 199  ┆ intersection_ ┆ … ┆ 0.024816   ┆ true         ┆ intersection ┆ 9        │\n",
       "│      ┆          ┆      ┆ 46            ┆   ┆            ┆              ┆ _0           ┆          │\n",
       "│ 1    ┆ 1        ┆ 199  ┆ intersection_ ┆ … ┆ 0.024816   ┆ true         ┆ intersection ┆ 11       │\n",
       "│      ┆          ┆      ┆ 16            ┆   ┆            ┆              ┆ _0           ┆          │\n",
       "│ 1    ┆ 1        ┆ 199  ┆ intersection_ ┆ … ┆ 0.024816   ┆ true         ┆ intersection ┆ 12       │\n",
       "│      ┆          ┆      ┆ 24            ┆   ┆            ┆              ┆ _0           ┆          │\n",
       "│ 2    ┆ 1        ┆ 198  ┆ intersection_ ┆ … ┆ 0.024816   ┆ true         ┆ intersection ┆ 13       │\n",
       "│      ┆          ┆      ┆ 6             ┆   ┆            ┆              ┆ _0           ┆          │\n",
       "│ …    ┆ …        ┆ …    ┆ …             ┆ … ┆ …          ┆ …            ┆ …            ┆ …        │\n",
       "│ 999  ┆ 52       ┆ 1    ┆ intersection_ ┆ … ┆ 0.022771   ┆ true         ┆ intersection ┆ 11       │\n",
       "│      ┆          ┆      ┆ 47            ┆   ┆            ┆              ┆ _51          ┆          │\n",
       "│ 1000 ┆ 52       ┆ 200  ┆ intersection_ ┆ … ┆ 0.022771   ┆ true         ┆ intersection ┆ 9        │\n",
       "│      ┆          ┆      ┆ 16            ┆   ┆            ┆              ┆ _51          ┆          │\n",
       "│ 1000 ┆ 52       ┆ 200  ┆ intersection_ ┆ … ┆ 0.022771   ┆ true         ┆ intersection ┆ 16       │\n",
       "│      ┆          ┆      ┆ 27            ┆   ┆            ┆              ┆ _51          ┆          │\n",
       "│ 1000 ┆ 52       ┆ 200  ┆ intersection_ ┆ … ┆ 0.022771   ┆ true         ┆ intersection ┆ 32       │\n",
       "│      ┆          ┆      ┆ 38            ┆   ┆            ┆              ┆ _51          ┆          │\n",
       "│ 1000 ┆ 52       ┆ 200  ┆ intersection_ ┆ … ┆ 0.022771   ┆ true         ┆ intersection ┆ 11       │\n",
       "│      ┆          ┆      ┆ 47            ┆   ┆            ┆              ┆ _51          ┆          │\n",
       "└──────┴──────────┴──────┴───────────────┴───┴────────────┴──────────────┴──────────────┴──────────┘"
      ]
     },
     "execution_count": 20,
     "metadata": {},
     "output_type": "execute_result"
    }
   ],
   "source": [
    "data = data.join(\n",
    "    connections,\n",
    "    left_on=[\"Intersection_u\", \"Lane\"],\n",
    "    right_on=[\"Intersection_u\", \"Intersection_v\"],\n",
    "    how=\"left\",\n",
    ")\n",
    "data"
   ]
  },
  {
   "cell_type": "code",
   "execution_count": 21,
   "id": "bfc8ee71",
   "metadata": {},
   "outputs": [
    {
     "data": {
      "text/html": [
       "<div><style>\n",
       ".dataframe > thead > tr,\n",
       ".dataframe > tbody > tr {\n",
       "  text-align: right;\n",
       "  white-space: pre-wrap;\n",
       "}\n",
       "</style>\n",
       "<small>shape: (196_000, 10)</small><table border=\"1\" class=\"dataframe\"><thead><tr><th>Step</th><th>Light_ID</th><th>Time</th><th>Lane</th><th>Num_Cars</th><th>Centrality</th><th>Is_Entrypoint</th><th>Intersection_u</th><th>Distance</th><th>Sim_ID</th></tr><tr><td>i32</td><td>i16</td><td>i16</td><td>str</td><td>i16</td><td>f32</td><td>bool</td><td>str</td><td>i16</td><td>i32</td></tr></thead><tbody><tr><td>1</td><td>1</td><td>199</td><td>&quot;intersection_6&quot;</td><td>0</td><td>0.024816</td><td>true</td><td>&quot;intersection_0&quot;</td><td>13</td><td>0</td></tr><tr><td>1</td><td>1</td><td>199</td><td>&quot;intersection_46&quot;</td><td>0</td><td>0.024816</td><td>true</td><td>&quot;intersection_0&quot;</td><td>9</td><td>0</td></tr><tr><td>1</td><td>1</td><td>199</td><td>&quot;intersection_16&quot;</td><td>0</td><td>0.024816</td><td>true</td><td>&quot;intersection_0&quot;</td><td>11</td><td>0</td></tr><tr><td>1</td><td>1</td><td>199</td><td>&quot;intersection_24&quot;</td><td>0</td><td>0.024816</td><td>true</td><td>&quot;intersection_0&quot;</td><td>12</td><td>0</td></tr><tr><td>2</td><td>1</td><td>198</td><td>&quot;intersection_6&quot;</td><td>0</td><td>0.024816</td><td>true</td><td>&quot;intersection_0&quot;</td><td>13</td><td>0</td></tr><tr><td>&hellip;</td><td>&hellip;</td><td>&hellip;</td><td>&hellip;</td><td>&hellip;</td><td>&hellip;</td><td>&hellip;</td><td>&hellip;</td><td>&hellip;</td><td>&hellip;</td></tr><tr><td>999</td><td>52</td><td>1</td><td>&quot;intersection_47&quot;</td><td>0</td><td>0.022771</td><td>true</td><td>&quot;intersection_51&quot;</td><td>11</td><td>0</td></tr><tr><td>1000</td><td>52</td><td>200</td><td>&quot;intersection_16&quot;</td><td>0</td><td>0.022771</td><td>true</td><td>&quot;intersection_51&quot;</td><td>9</td><td>0</td></tr><tr><td>1000</td><td>52</td><td>200</td><td>&quot;intersection_27&quot;</td><td>0</td><td>0.022771</td><td>true</td><td>&quot;intersection_51&quot;</td><td>16</td><td>0</td></tr><tr><td>1000</td><td>52</td><td>200</td><td>&quot;intersection_38&quot;</td><td>0</td><td>0.022771</td><td>true</td><td>&quot;intersection_51&quot;</td><td>32</td><td>0</td></tr><tr><td>1000</td><td>52</td><td>200</td><td>&quot;intersection_47&quot;</td><td>0</td><td>0.022771</td><td>true</td><td>&quot;intersection_51&quot;</td><td>11</td><td>0</td></tr></tbody></table></div>"
      ],
      "text/plain": [
       "shape: (196_000, 10)\n",
       "┌──────┬──────────┬──────┬────────────────┬───┬───────────────┬────────────────┬──────────┬────────┐\n",
       "│ Step ┆ Light_ID ┆ Time ┆ Lane           ┆ … ┆ Is_Entrypoint ┆ Intersection_u ┆ Distance ┆ Sim_ID │\n",
       "│ ---  ┆ ---      ┆ ---  ┆ ---            ┆   ┆ ---           ┆ ---            ┆ ---      ┆ ---    │\n",
       "│ i32  ┆ i16      ┆ i16  ┆ str            ┆   ┆ bool          ┆ str            ┆ i16      ┆ i32    │\n",
       "╞══════╪══════════╪══════╪════════════════╪═══╪═══════════════╪════════════════╪══════════╪════════╡\n",
       "│ 1    ┆ 1        ┆ 199  ┆ intersection_6 ┆ … ┆ true          ┆ intersection_0 ┆ 13       ┆ 0      │\n",
       "│ 1    ┆ 1        ┆ 199  ┆ intersection_4 ┆ … ┆ true          ┆ intersection_0 ┆ 9        ┆ 0      │\n",
       "│      ┆          ┆      ┆ 6              ┆   ┆               ┆                ┆          ┆        │\n",
       "│ 1    ┆ 1        ┆ 199  ┆ intersection_1 ┆ … ┆ true          ┆ intersection_0 ┆ 11       ┆ 0      │\n",
       "│      ┆          ┆      ┆ 6              ┆   ┆               ┆                ┆          ┆        │\n",
       "│ 1    ┆ 1        ┆ 199  ┆ intersection_2 ┆ … ┆ true          ┆ intersection_0 ┆ 12       ┆ 0      │\n",
       "│      ┆          ┆      ┆ 4              ┆   ┆               ┆                ┆          ┆        │\n",
       "│ 2    ┆ 1        ┆ 198  ┆ intersection_6 ┆ … ┆ true          ┆ intersection_0 ┆ 13       ┆ 0      │\n",
       "│ …    ┆ …        ┆ …    ┆ …              ┆ … ┆ …             ┆ …              ┆ …        ┆ …      │\n",
       "│ 999  ┆ 52       ┆ 1    ┆ intersection_4 ┆ … ┆ true          ┆ intersection_5 ┆ 11       ┆ 0      │\n",
       "│      ┆          ┆      ┆ 7              ┆   ┆               ┆ 1              ┆          ┆        │\n",
       "│ 1000 ┆ 52       ┆ 200  ┆ intersection_1 ┆ … ┆ true          ┆ intersection_5 ┆ 9        ┆ 0      │\n",
       "│      ┆          ┆      ┆ 6              ┆   ┆               ┆ 1              ┆          ┆        │\n",
       "│ 1000 ┆ 52       ┆ 200  ┆ intersection_2 ┆ … ┆ true          ┆ intersection_5 ┆ 16       ┆ 0      │\n",
       "│      ┆          ┆      ┆ 7              ┆   ┆               ┆ 1              ┆          ┆        │\n",
       "│ 1000 ┆ 52       ┆ 200  ┆ intersection_3 ┆ … ┆ true          ┆ intersection_5 ┆ 32       ┆ 0      │\n",
       "│      ┆          ┆      ┆ 8              ┆   ┆               ┆ 1              ┆          ┆        │\n",
       "│ 1000 ┆ 52       ┆ 200  ┆ intersection_4 ┆ … ┆ true          ┆ intersection_5 ┆ 11       ┆ 0      │\n",
       "│      ┆          ┆      ┆ 7              ┆   ┆               ┆ 1              ┆          ┆        │\n",
       "└──────┴──────────┴──────┴────────────────┴───┴───────────────┴────────────────┴──────────┴────────┘"
      ]
     },
     "execution_count": 21,
     "metadata": {},
     "output_type": "execute_result"
    }
   ],
   "source": [
    "data = data.with_columns([pl.lit(0).alias(\"Sim_ID\")])\n",
    "data"
   ]
  },
  {
   "cell_type": "code",
   "execution_count": 22,
   "id": "0588975e",
   "metadata": {},
   "outputs": [],
   "source": [
    "def agg_data(folder: str, sim_id: int) -> pl.DataFrame:\n",
    "    \"\"\"Function to aggregate data from a simulation run\n",
    "\n",
    "    Args:\n",
    "        folder (str): Path to the folder the data is stored in\n",
    "        sim_id (int): ID of the simulation run\n",
    "\n",
    "    Returns:\n",
    "        pl.DataFrame: Aggregated data\n",
    "    \"\"\"\n",
    "    traffic = pl.read_parquet(os.path.join(folder, \"traffic.parquet\"))\n",
    "    light_data = pl.read_parquet(os.path.join(folder, \"light_data.parquet\"))\n",
    "    connections = pl.read_parquet(os.path.join(folder, \"connections.parquet\"))\n",
    "    light_intersection_mapping = pl.read_parquet(\n",
    "        os.path.join(folder, \"light_intersection_mapping.parquet\")\n",
    "    )\n",
    "\n",
    "    data = traffic.join(light_data, on=\"Light_ID\", how=\"left\")\n",
    "    data = data.join(light_intersection_mapping, on=\"Light_ID\", how=\"left\")\n",
    "    data = data.rename(mapping={\"Intersection\": \"Intersection_u\"})\n",
    "    data = data.join(\n",
    "        connections,\n",
    "        left_on=[\"Intersection_u\", \"Lane\"],\n",
    "        right_on=[\"Intersection_u\", \"Intersection_v\"],\n",
    "        how=\"left\",\n",
    "    )\n",
    "\n",
    "    data = data.with_columns([pl.lit(sim_id).alias(\"Sim_ID\")])\n",
    "\n",
    "    return data"
   ]
  },
  {
   "cell_type": "code",
   "execution_count": 23,
   "id": "f1c0baa8",
   "metadata": {},
   "outputs": [],
   "source": [
    "data = pl.DataFrame()\n",
    "for i in range(len(data_paths)):\n",
    "    new_data = agg_data(folder=data_paths[i], sim_id=i)\n",
    "    data = data.vstack(new_data)"
   ]
  },
  {
   "cell_type": "code",
   "execution_count": 24,
   "id": "0d57744b",
   "metadata": {},
   "outputs": [
    {
     "data": {
      "text/html": [
       "<div><style>\n",
       ".dataframe > thead > tr,\n",
       ".dataframe > tbody > tr {\n",
       "  text-align: right;\n",
       "  white-space: pre-wrap;\n",
       "}\n",
       "</style>\n",
       "<small>shape: (6_610_000, 10)</small><table border=\"1\" class=\"dataframe\"><thead><tr><th>Step</th><th>Light_ID</th><th>Time</th><th>Lane</th><th>Num_Cars</th><th>Centrality</th><th>Is_Entrypoint</th><th>Intersection_u</th><th>Distance</th><th>Sim_ID</th></tr><tr><td>i32</td><td>i16</td><td>i16</td><td>str</td><td>i16</td><td>f32</td><td>bool</td><td>str</td><td>i16</td><td>i32</td></tr></thead><tbody><tr><td>1</td><td>1</td><td>199</td><td>&quot;intersection_6&quot;</td><td>0</td><td>0.024816</td><td>true</td><td>&quot;intersection_0&quot;</td><td>13</td><td>0</td></tr><tr><td>1</td><td>1</td><td>199</td><td>&quot;intersection_46&quot;</td><td>0</td><td>0.024816</td><td>true</td><td>&quot;intersection_0&quot;</td><td>9</td><td>0</td></tr><tr><td>1</td><td>1</td><td>199</td><td>&quot;intersection_16&quot;</td><td>0</td><td>0.024816</td><td>true</td><td>&quot;intersection_0&quot;</td><td>11</td><td>0</td></tr><tr><td>1</td><td>1</td><td>199</td><td>&quot;intersection_24&quot;</td><td>0</td><td>0.024816</td><td>true</td><td>&quot;intersection_0&quot;</td><td>12</td><td>0</td></tr><tr><td>2</td><td>1</td><td>198</td><td>&quot;intersection_6&quot;</td><td>0</td><td>0.024816</td><td>true</td><td>&quot;intersection_0&quot;</td><td>13</td><td>0</td></tr><tr><td>&hellip;</td><td>&hellip;</td><td>&hellip;</td><td>&hellip;</td><td>&hellip;</td><td>&hellip;</td><td>&hellip;</td><td>&hellip;</td><td>&hellip;</td><td>&hellip;</td></tr><tr><td>999</td><td>84</td><td>1</td><td>&quot;intersection_61&quot;</td><td>2</td><td>0.033812</td><td>true</td><td>&quot;intersection_83&quot;</td><td>5</td><td>19</td></tr><tr><td>1000</td><td>84</td><td>200</td><td>&quot;intersection_1&quot;</td><td>0</td><td>0.033812</td><td>true</td><td>&quot;intersection_83&quot;</td><td>5</td><td>19</td></tr><tr><td>1000</td><td>84</td><td>200</td><td>&quot;intersection_23&quot;</td><td>0</td><td>0.033812</td><td>true</td><td>&quot;intersection_83&quot;</td><td>12</td><td>19</td></tr><tr><td>1000</td><td>84</td><td>200</td><td>&quot;intersection_43&quot;</td><td>2</td><td>0.033812</td><td>true</td><td>&quot;intersection_83&quot;</td><td>5</td><td>19</td></tr><tr><td>1000</td><td>84</td><td>200</td><td>&quot;intersection_61&quot;</td><td>2</td><td>0.033812</td><td>true</td><td>&quot;intersection_83&quot;</td><td>5</td><td>19</td></tr></tbody></table></div>"
      ],
      "text/plain": [
       "shape: (6_610_000, 10)\n",
       "┌──────┬──────────┬──────┬────────────────┬───┬───────────────┬────────────────┬──────────┬────────┐\n",
       "│ Step ┆ Light_ID ┆ Time ┆ Lane           ┆ … ┆ Is_Entrypoint ┆ Intersection_u ┆ Distance ┆ Sim_ID │\n",
       "│ ---  ┆ ---      ┆ ---  ┆ ---            ┆   ┆ ---           ┆ ---            ┆ ---      ┆ ---    │\n",
       "│ i32  ┆ i16      ┆ i16  ┆ str            ┆   ┆ bool          ┆ str            ┆ i16      ┆ i32    │\n",
       "╞══════╪══════════╪══════╪════════════════╪═══╪═══════════════╪════════════════╪══════════╪════════╡\n",
       "│ 1    ┆ 1        ┆ 199  ┆ intersection_6 ┆ … ┆ true          ┆ intersection_0 ┆ 13       ┆ 0      │\n",
       "│ 1    ┆ 1        ┆ 199  ┆ intersection_4 ┆ … ┆ true          ┆ intersection_0 ┆ 9        ┆ 0      │\n",
       "│      ┆          ┆      ┆ 6              ┆   ┆               ┆                ┆          ┆        │\n",
       "│ 1    ┆ 1        ┆ 199  ┆ intersection_1 ┆ … ┆ true          ┆ intersection_0 ┆ 11       ┆ 0      │\n",
       "│      ┆          ┆      ┆ 6              ┆   ┆               ┆                ┆          ┆        │\n",
       "│ 1    ┆ 1        ┆ 199  ┆ intersection_2 ┆ … ┆ true          ┆ intersection_0 ┆ 12       ┆ 0      │\n",
       "│      ┆          ┆      ┆ 4              ┆   ┆               ┆                ┆          ┆        │\n",
       "│ 2    ┆ 1        ┆ 198  ┆ intersection_6 ┆ … ┆ true          ┆ intersection_0 ┆ 13       ┆ 0      │\n",
       "│ …    ┆ …        ┆ …    ┆ …              ┆ … ┆ …             ┆ …              ┆ …        ┆ …      │\n",
       "│ 999  ┆ 84       ┆ 1    ┆ intersection_6 ┆ … ┆ true          ┆ intersection_8 ┆ 5        ┆ 19     │\n",
       "│      ┆          ┆      ┆ 1              ┆   ┆               ┆ 3              ┆          ┆        │\n",
       "│ 1000 ┆ 84       ┆ 200  ┆ intersection_1 ┆ … ┆ true          ┆ intersection_8 ┆ 5        ┆ 19     │\n",
       "│      ┆          ┆      ┆                ┆   ┆               ┆ 3              ┆          ┆        │\n",
       "│ 1000 ┆ 84       ┆ 200  ┆ intersection_2 ┆ … ┆ true          ┆ intersection_8 ┆ 12       ┆ 19     │\n",
       "│      ┆          ┆      ┆ 3              ┆   ┆               ┆ 3              ┆          ┆        │\n",
       "│ 1000 ┆ 84       ┆ 200  ┆ intersection_4 ┆ … ┆ true          ┆ intersection_8 ┆ 5        ┆ 19     │\n",
       "│      ┆          ┆      ┆ 3              ┆   ┆               ┆ 3              ┆          ┆        │\n",
       "│ 1000 ┆ 84       ┆ 200  ┆ intersection_6 ┆ … ┆ true          ┆ intersection_8 ┆ 5        ┆ 19     │\n",
       "│      ┆          ┆      ┆ 1              ┆   ┆               ┆ 3              ┆          ┆        │\n",
       "└──────┴──────────┴──────┴────────────────┴───┴───────────────┴────────────────┴──────────┴────────┘"
      ]
     },
     "execution_count": 24,
     "metadata": {},
     "output_type": "execute_result"
    }
   ],
   "source": [
    "data"
   ]
  },
  {
   "cell_type": "code",
   "execution_count": 26,
   "id": "d0ba7434",
   "metadata": {},
   "outputs": [],
   "source": [
    "data.write_parquet(\"data.parquet\")"
   ]
  },
  {
   "cell_type": "code",
   "execution_count": 28,
   "id": "0e9b488a",
   "metadata": {},
   "outputs": [
    {
     "data": {
      "text/html": [
       "<div><style>\n",
       ".dataframe > thead > tr,\n",
       ".dataframe > tbody > tr {\n",
       "  text-align: right;\n",
       "  white-space: pre-wrap;\n",
       "}\n",
       "</style>\n",
       "<small>shape: (20, 8)</small><table border=\"1\" class=\"dataframe\"><thead><tr><th>num_intersections</th><th>num_cars</th><th>num_borders</th><th>min_distance</th><th>max_distance</th><th>optimization_type</th><th>steps</th><th>Sim_ID</th></tr><tr><td>i64</td><td>i64</td><td>i64</td><td>i64</td><td>i64</td><td>str</td><td>i64</td><td>i32</td></tr></thead><tbody><tr><td>52</td><td>296</td><td>208</td><td>9</td><td>36</td><td>&quot;simple&quot;</td><td>1000</td><td>0</td></tr><tr><td>125</td><td>1229</td><td>500</td><td>10</td><td>40</td><td>&quot;simple&quot;</td><td>1000</td><td>1</td></tr><tr><td>81</td><td>409</td><td>324</td><td>5</td><td>10</td><td>&quot;simple&quot;</td><td>1000</td><td>2</td></tr><tr><td>92</td><td>621</td><td>460</td><td>10</td><td>40</td><td>&quot;simple&quot;</td><td>1000</td><td>3</td></tr><tr><td>66</td><td>429</td><td>198</td><td>9</td><td>27</td><td>&quot;simple&quot;</td><td>1000</td><td>4</td></tr><tr><td>&hellip;</td><td>&hellip;</td><td>&hellip;</td><td>&hellip;</td><td>&hellip;</td><td>&hellip;</td><td>&hellip;</td><td>&hellip;</td></tr><tr><td>105</td><td>823</td><td>420</td><td>6</td><td>18</td><td>&quot;simple&quot;</td><td>1000</td><td>15</td></tr><tr><td>99</td><td>933</td><td>297</td><td>5</td><td>15</td><td>&quot;simple&quot;</td><td>1000</td><td>16</td></tr><tr><td>116</td><td>663</td><td>464</td><td>10</td><td>20</td><td>&quot;simple&quot;</td><td>1000</td><td>17</td></tr><tr><td>85</td><td>773</td><td>340</td><td>10</td><td>20</td><td>&quot;simple&quot;</td><td>1000</td><td>18</td></tr><tr><td>84</td><td>508</td><td>336</td><td>5</td><td>20</td><td>&quot;simple&quot;</td><td>1000</td><td>19</td></tr></tbody></table></div>"
      ],
      "text/plain": [
       "shape: (20, 8)\n",
       "┌──────────────┬──────────┬─────────────┬─────────────┬─────────────┬─────────────┬───────┬────────┐\n",
       "│ num_intersec ┆ num_cars ┆ num_borders ┆ min_distanc ┆ max_distanc ┆ optimizatio ┆ steps ┆ Sim_ID │\n",
       "│ tions        ┆ ---      ┆ ---         ┆ e           ┆ e           ┆ n_type      ┆ ---   ┆ ---    │\n",
       "│ ---          ┆ i64      ┆ i64         ┆ ---         ┆ ---         ┆ ---         ┆ i64   ┆ i32    │\n",
       "│ i64          ┆          ┆             ┆ i64         ┆ i64         ┆ str         ┆       ┆        │\n",
       "╞══════════════╪══════════╪═════════════╪═════════════╪═════════════╪═════════════╪═══════╪════════╡\n",
       "│ 52           ┆ 296      ┆ 208         ┆ 9           ┆ 36          ┆ simple      ┆ 1000  ┆ 0      │\n",
       "│ 125          ┆ 1229     ┆ 500         ┆ 10          ┆ 40          ┆ simple      ┆ 1000  ┆ 1      │\n",
       "│ 81           ┆ 409      ┆ 324         ┆ 5           ┆ 10          ┆ simple      ┆ 1000  ┆ 2      │\n",
       "│ 92           ┆ 621      ┆ 460         ┆ 10          ┆ 40          ┆ simple      ┆ 1000  ┆ 3      │\n",
       "│ 66           ┆ 429      ┆ 198         ┆ 9           ┆ 27          ┆ simple      ┆ 1000  ┆ 4      │\n",
       "│ …            ┆ …        ┆ …           ┆ …           ┆ …           ┆ …           ┆ …     ┆ …      │\n",
       "│ 105          ┆ 823      ┆ 420         ┆ 6           ┆ 18          ┆ simple      ┆ 1000  ┆ 15     │\n",
       "│ 99           ┆ 933      ┆ 297         ┆ 5           ┆ 15          ┆ simple      ┆ 1000  ┆ 16     │\n",
       "│ 116          ┆ 663      ┆ 464         ┆ 10          ┆ 20          ┆ simple      ┆ 1000  ┆ 17     │\n",
       "│ 85           ┆ 773      ┆ 340         ┆ 10          ┆ 20          ┆ simple      ┆ 1000  ┆ 18     │\n",
       "│ 84           ┆ 508      ┆ 336         ┆ 5           ┆ 20          ┆ simple      ┆ 1000  ┆ 19     │\n",
       "└──────────────┴──────────┴─────────────┴─────────────┴─────────────┴─────────────┴───────┴────────┘"
      ]
     },
     "execution_count": 28,
     "metadata": {},
     "output_type": "execute_result"
    }
   ],
   "source": [
    "metadata = pl.DataFrame()\n",
    "for i in range(len(data_paths)):\n",
    "    new_metadata = pl.read_json(os.path.join(data_paths[i], \"config.json\"))\n",
    "    new_metadata = new_metadata.with_columns([pl.lit(i).alias(\"Sim_ID\")])\n",
    "    metadata = metadata.vstack(new_metadata)\n",
    "metadata"
   ]
  },
  {
   "cell_type": "code",
   "execution_count": 30,
   "id": "9a6c0eac",
   "metadata": {},
   "outputs": [],
   "source": [
    "metadata.write_parquet(\"metadata.parquet\")"
   ]
  },
  {
   "cell_type": "code",
   "execution_count": 32,
   "id": "39a73587",
   "metadata": {},
   "outputs": [
    {
     "data": {
      "text/plain": [
       "{'Sim Runs': 20,\n",
       " 'Avg. Intersections': 92.65,\n",
       " 'Avg. Cars': 688.95,\n",
       " 'Avg. Borders': 335.15,\n",
       " 'Avg. Min. Distance': 7.85,\n",
       " 'Avg. Max. Distance': 23.7,\n",
       " 'Optimization': 'simple',\n",
       " 'Steps': 1000}"
      ]
     },
     "execution_count": 32,
     "metadata": {},
     "output_type": "execute_result"
    }
   ],
   "source": [
    "agg_metadata = {\n",
    "    \"Sim Runs\": (metadata[\"Sim_ID\"].max() + 1),\n",
    "    \"Avg. Intersections\": metadata[\"num_intersections\"].mean(),\n",
    "    \"Avg. Cars\": metadata[\"num_cars\"].mean(),\n",
    "    \"Avg. Borders\": metadata[\"num_borders\"].mean(),\n",
    "    \"Avg. Min. Distance\": metadata[\"min_distance\"].mean(),\n",
    "    \"Avg. Max. Distance\": metadata[\"max_distance\"].mean(),\n",
    "    \"Optimization\": metadata[\"optimization_type\"].max(),\n",
    "    \"Steps\": metadata[\"steps\"].max(),\n",
    "}\n",
    "agg_metadata"
   ]
  },
  {
   "cell_type": "code",
   "execution_count": 34,
   "id": "a1ab3da2",
   "metadata": {},
   "outputs": [],
   "source": [
    "with open(file=\"metadata.json\", mode=\"w\") as file:\n",
    "    json.dump(obj=agg_metadata, fp=file, indent=4)"
   ]
  },
  {
   "cell_type": "code",
   "execution_count": null,
   "id": "0d32c821",
   "metadata": {},
   "outputs": [],
   "source": []
  }
 ],
 "metadata": {
  "kernelspec": {
   "display_name": ".venv (3.12.8)",
   "language": "python",
   "name": "python3"
  },
  "language_info": {
   "codemirror_mode": {
    "name": "ipython",
    "version": 3
   },
   "file_extension": ".py",
   "mimetype": "text/x-python",
   "name": "python",
   "nbconvert_exporter": "python",
   "pygments_lexer": "ipython3",
   "version": "3.12.8"
  }
 },
 "nbformat": 4,
 "nbformat_minor": 5
}
