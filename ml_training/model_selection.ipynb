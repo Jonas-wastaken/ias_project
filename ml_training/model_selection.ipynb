{
 "cells": [
  {
   "cell_type": "markdown",
   "id": "40b5b115",
   "metadata": {},
   "source": [
    "# Model Selection\n",
    "\n",
    "This Notebook tests multiple regression models in their base configs to select the most promising algorithm for the task"
   ]
  },
  {
   "cell_type": "code",
   "execution_count": 3,
   "id": "b3b06ccd",
   "metadata": {},
   "outputs": [],
   "source": [
    "import os\n",
    "import polars as pl\n",
    "from sklearn.preprocessing import (\n",
    "    StandardScaler,\n",
    "    PolynomialFeatures,\n",
    ")\n",
    "from sklearn.model_selection import train_test_split\n",
    "from sklearn.metrics import r2_score, root_mean_squared_error as rmse"
   ]
  },
  {
   "cell_type": "code",
   "execution_count": 4,
   "id": "17e9635a",
   "metadata": {},
   "outputs": [],
   "source": [
    "def get_data(poly_features: int = 1):\n",
    "    # Get Data\n",
    "    data = pl.read_parquet(\"data.parquet\")\n",
    "    data = data.drop([\"Step\", \"Light_ID\", \"Lane\", \"Intersection_u\", \"Sim_ID\"])\n",
    "    data = data.with_columns(pl.col(\"Is_Entrypoint\").cast(pl.Int8))\n",
    "    print(f\"Data: {data.shape}\")\n",
    "    print(f\"{data.collect_schema()}\")\n",
    "\n",
    "    # Split Data\n",
    "    X = data.drop(\"Num_Cars\").to_numpy()\n",
    "    y = data.select(pl.col(\"Num_Cars\")).to_numpy()\n",
    "    y = y.ravel()\n",
    "    print(\"\")\n",
    "    print(f\"X: {X.shape}\")\n",
    "    print(f\"y: {y.shape}\")\n",
    "\n",
    "    # Scale\n",
    "    scaler = StandardScaler()\n",
    "    X = scaler.fit_transform(X)\n",
    "\n",
    "    # Polynomial Features\n",
    "    if poly_features > 1:\n",
    "        poly = PolynomialFeatures(degree=poly_features)\n",
    "        X = poly.fit_transform(X)\n",
    "\n",
    "    # Train Test Split\n",
    "    X_train, X_test, y_train, y_test = train_test_split(\n",
    "        X, y, train_size=0.6, test_size=0.4, random_state=42\n",
    "    )\n",
    "    print(\"\")\n",
    "    print(f\"X_train: {X_train.shape}\")\n",
    "    print(f\"X_test: {X_test.shape}\")\n",
    "    print(f\"y_train: {y_train.shape}\")\n",
    "    print(f\"y_test {y_test.shape}\")\n",
    "\n",
    "    # Train Test Validation Split\n",
    "    X_test, X_val, y_test, y_val = train_test_split(\n",
    "        X_test, y_test, train_size=0.5, test_size=0.5, random_state=42\n",
    "    )\n",
    "    print(\"\")\n",
    "    print(f\"X_test: {X_test.shape}\")\n",
    "    print(f\"X_val: {X_val.shape}\")\n",
    "    print(f\"y_test: {y_test.shape}\")\n",
    "    print(f\"y_val: {y_val.shape}\")\n",
    "\n",
    "    return X_train, X_test, X_val, y_train, y_test, y_val"
   ]
  },
  {
   "cell_type": "markdown",
   "id": "6eddd1e8",
   "metadata": {},
   "source": [
    "## Linear Regression\n"
   ]
  },
  {
   "cell_type": "code",
   "execution_count": 4,
   "id": "3c3e76ed",
   "metadata": {},
   "outputs": [],
   "source": [
    "from sklearn.linear_model import LinearRegression"
   ]
  },
  {
   "cell_type": "code",
   "execution_count": 3,
   "id": "f38ef012",
   "metadata": {},
   "outputs": [
    {
     "name": "stdout",
     "output_type": "stream",
     "text": [
      "Data: (6610000, 5)\n",
      "Schema({'Time': Int16, 'Num_Cars': Int16, 'Centrality': Float32, 'Is_Entrypoint': Int8, 'Distance': Int16})\n",
      "\n",
      "X: (6610000, 4)\n",
      "y: (6610000,)\n",
      "\n",
      "X_train: (3966000, 4)\n",
      "X_test: (2644000, 4)\n",
      "y_train: (3966000,)\n",
      "y_test (2644000,)\n",
      "\n",
      "X_test: (1322000, 4)\n",
      "X_val: (1322000, 4)\n",
      "y_test: (1322000,)\n",
      "y_val: (1322000,)\n"
     ]
    }
   ],
   "source": [
    "X_train, X_test, X_val, y_train, y_test, y_val = get_data()"
   ]
  },
  {
   "cell_type": "code",
   "execution_count": 5,
   "id": "cfb6c0c8",
   "metadata": {},
   "outputs": [
    {
     "name": "stdout",
     "output_type": "stream",
     "text": [
      "LinearRegression(n_jobs=7)\n",
      "\n",
      "R2 Score (Training Data): 0.09408396482467651\n",
      "RMSE (Training Data): 1.4932094812393188\n",
      "R2 Score (Test Data): 0.09340804815292358\n",
      "RMSE (Training Data): 1.4924378395080566\n"
     ]
    }
   ],
   "source": [
    "model = LinearRegression(n_jobs=(os.cpu_count() - 1))\n",
    "model.fit(X_train, y_train)\n",
    "print(model)\n",
    "\n",
    "print(\"\")\n",
    "\n",
    "y_pred = model.predict(X_train)\n",
    "print(f\"R2 Score (Training Data): {r2_score(y_true=y_train, y_pred=y_pred)}\")\n",
    "print(f\"RMSE (Training Data): {rmse(y_true=y_train, y_pred=y_pred)}\")\n",
    "y_pred = model.predict(X_test)\n",
    "print(f\"R2 Score (Test Data): {r2_score(y_true=y_test, y_pred=y_pred)}\")\n",
    "print(f\"RMSE (Training Data): {rmse(y_true=y_test, y_pred=y_pred)}\")"
   ]
  },
  {
   "cell_type": "markdown",
   "id": "9020fd06",
   "metadata": {},
   "source": [
    "## Linear Regression with Polynomial Features\n"
   ]
  },
  {
   "cell_type": "code",
   "execution_count": null,
   "id": "b461d3a5",
   "metadata": {},
   "outputs": [],
   "source": [
    "from sklearn.linear_model import LinearRegression"
   ]
  },
  {
   "cell_type": "code",
   "execution_count": 6,
   "id": "2f084f8e",
   "metadata": {},
   "outputs": [
    {
     "name": "stdout",
     "output_type": "stream",
     "text": [
      "Data: (6610000, 5)\n",
      "Schema({'Time': Int16, 'Num_Cars': Int16, 'Centrality': Float32, 'Is_Entrypoint': Int8, 'Distance': Int16})\n",
      "\n",
      "X: (6610000, 4)\n",
      "y: (6610000,)\n",
      "\n",
      "X_train: (3966000, 15)\n",
      "X_test: (2644000, 15)\n",
      "y_train: (3966000,)\n",
      "y_test (2644000,)\n",
      "\n",
      "X_test: (1322000, 15)\n",
      "X_val: (1322000, 15)\n",
      "y_test: (1322000,)\n",
      "y_val: (1322000,)\n"
     ]
    }
   ],
   "source": [
    "X_train, X_test, X_val, y_train, y_test, y_val = get_data(poly_features=2)"
   ]
  },
  {
   "cell_type": "code",
   "execution_count": 7,
   "id": "14ba91a2",
   "metadata": {},
   "outputs": [
    {
     "name": "stdout",
     "output_type": "stream",
     "text": [
      "LinearRegression(n_jobs=7)\n",
      "\n",
      "R2 Score (Training Data): 3.9517879486083984e-05\n",
      "RMSE (Training Data): 1.5688021183013916\n",
      "R2 Score (Test Data): 5.6743621826171875e-05\n",
      "RMSE (Training Data): 1.5673933029174805\n"
     ]
    }
   ],
   "source": [
    "model = LinearRegression(n_jobs=(os.cpu_count() - 1))\n",
    "model.fit(X_train, y_train)\n",
    "print(model)\n",
    "\n",
    "print(\"\")\n",
    "\n",
    "y_pred = model.predict(X_train)\n",
    "print(f\"R2 Score (Training Data): {r2_score(y_true=y_train, y_pred=y_pred)}\")\n",
    "print(f\"RMSE (Training Data): {rmse(y_true=y_train, y_pred=y_pred)}\")\n",
    "y_pred = model.predict(X_test)\n",
    "print(f\"R2 Score (Test Data): {r2_score(y_true=y_test, y_pred=y_pred)}\")\n",
    "print(f\"RMSE (Training Data): {rmse(y_true=y_test, y_pred=y_pred)}\")"
   ]
  },
  {
   "cell_type": "code",
   "execution_count": 8,
   "id": "bc6a3b55",
   "metadata": {},
   "outputs": [
    {
     "name": "stdout",
     "output_type": "stream",
     "text": [
      "Data: (6610000, 5)\n",
      "Schema({'Time': Int16, 'Num_Cars': Int16, 'Centrality': Float32, 'Is_Entrypoint': Int8, 'Distance': Int16})\n",
      "\n",
      "X: (6610000, 4)\n",
      "y: (6610000,)\n",
      "\n",
      "X_train: (3966000, 35)\n",
      "X_test: (2644000, 35)\n",
      "y_train: (3966000,)\n",
      "y_test (2644000,)\n",
      "\n",
      "X_test: (1322000, 35)\n",
      "X_val: (1322000, 35)\n",
      "y_test: (1322000,)\n",
      "y_val: (1322000,)\n"
     ]
    }
   ],
   "source": [
    "X_train, X_test, X_val, y_train, y_test, y_val = get_data(poly_features=3)"
   ]
  },
  {
   "cell_type": "code",
   "execution_count": 9,
   "id": "65441304",
   "metadata": {},
   "outputs": [
    {
     "name": "stdout",
     "output_type": "stream",
     "text": [
      "LinearRegression(n_jobs=7)\n",
      "\n",
      "R2 Score (Training Data): 3.9517879486083984e-05\n",
      "RMSE (Training Data): 1.5688021183013916\n",
      "R2 Score (Test Data): 5.6862831115722656e-05\n",
      "RMSE (Training Data): 1.567393183708191\n"
     ]
    }
   ],
   "source": [
    "model = LinearRegression(n_jobs=(os.cpu_count() - 1))\n",
    "model.fit(X_train, y_train)\n",
    "print(model)\n",
    "\n",
    "print(\"\")\n",
    "\n",
    "y_pred = model.predict(X_train)\n",
    "print(f\"R2 Score (Training Data): {r2_score(y_true=y_train, y_pred=y_pred)}\")\n",
    "print(f\"RMSE (Training Data): {rmse(y_true=y_train, y_pred=y_pred)}\")\n",
    "y_pred = model.predict(X_test)\n",
    "print(f\"R2 Score (Test Data): {r2_score(y_true=y_test, y_pred=y_pred)}\")\n",
    "print(f\"RMSE (Training Data): {rmse(y_true=y_test, y_pred=y_pred)}\")"
   ]
  },
  {
   "cell_type": "markdown",
   "id": "e9aa644a",
   "metadata": {},
   "source": [
    "## Decision Tree Regression\n"
   ]
  },
  {
   "cell_type": "code",
   "execution_count": 10,
   "id": "15243930",
   "metadata": {},
   "outputs": [],
   "source": [
    "from sklearn.tree import DecisionTreeRegressor"
   ]
  },
  {
   "cell_type": "code",
   "execution_count": 11,
   "id": "636d1d77",
   "metadata": {},
   "outputs": [
    {
     "name": "stdout",
     "output_type": "stream",
     "text": [
      "Data: (6610000, 5)\n",
      "Schema({'Time': Int16, 'Num_Cars': Int16, 'Centrality': Float32, 'Is_Entrypoint': Int8, 'Distance': Int16})\n",
      "\n",
      "X: (6610000, 4)\n",
      "y: (6610000,)\n",
      "\n",
      "X_train: (3966000, 4)\n",
      "X_test: (2644000, 4)\n",
      "y_train: (3966000,)\n",
      "y_test (2644000,)\n",
      "\n",
      "X_test: (1322000, 4)\n",
      "X_val: (1322000, 4)\n",
      "y_test: (1322000,)\n",
      "y_val: (1322000,)\n"
     ]
    }
   ],
   "source": [
    "X_train, X_test, X_val, y_train, y_test, y_val = get_data()"
   ]
  },
  {
   "cell_type": "code",
   "execution_count": 12,
   "id": "a3802006",
   "metadata": {},
   "outputs": [
    {
     "name": "stdout",
     "output_type": "stream",
     "text": [
      "DecisionTreeRegressor(random_state=42)\n",
      "\n",
      "R2 Score (Training Data): 0.46521877733411565\n",
      "RMSE (Training Data): 1.1472678598443036\n",
      "R2 Score (Test Data): 0.02001084905453221\n",
      "RMSE (Training Data): 1.5516754321690063\n"
     ]
    }
   ],
   "source": [
    "model = DecisionTreeRegressor(random_state=42)\n",
    "model.fit(X_train, y_train)\n",
    "print(model)\n",
    "\n",
    "print(\"\")\n",
    "\n",
    "y_pred = model.predict(X_train)\n",
    "print(f\"R2 Score (Training Data): {r2_score(y_true=y_train, y_pred=y_pred)}\")\n",
    "print(f\"RMSE (Training Data): {rmse(y_true=y_train, y_pred=y_pred)}\")\n",
    "y_pred = model.predict(X_test)\n",
    "print(f\"R2 Score (Test Data): {r2_score(y_true=y_test, y_pred=y_pred)}\")\n",
    "print(f\"RMSE (Training Data): {rmse(y_true=y_test, y_pred=y_pred)}\")"
   ]
  },
  {
   "cell_type": "markdown",
   "id": "985e8dcb",
   "metadata": {},
   "source": [
    "## Random Forest Regression\n"
   ]
  },
  {
   "cell_type": "code",
   "execution_count": 13,
   "id": "a77838db",
   "metadata": {},
   "outputs": [],
   "source": [
    "from sklearn.ensemble import RandomForestRegressor"
   ]
  },
  {
   "cell_type": "code",
   "execution_count": 14,
   "id": "0215ee2a",
   "metadata": {},
   "outputs": [
    {
     "name": "stdout",
     "output_type": "stream",
     "text": [
      "Data: (6610000, 5)\n",
      "Schema({'Time': Int16, 'Num_Cars': Int16, 'Centrality': Float32, 'Is_Entrypoint': Int8, 'Distance': Int16})\n",
      "\n",
      "X: (6610000, 4)\n",
      "y: (6610000,)\n",
      "\n",
      "X_train: (3966000, 4)\n",
      "X_test: (2644000, 4)\n",
      "y_train: (3966000,)\n",
      "y_test (2644000,)\n",
      "\n",
      "X_test: (1322000, 4)\n",
      "X_val: (1322000, 4)\n",
      "y_test: (1322000,)\n",
      "y_val: (1322000,)\n"
     ]
    }
   ],
   "source": [
    "X_train, X_test, X_val, y_train, y_test, y_val = get_data()"
   ]
  },
  {
   "cell_type": "code",
   "execution_count": 15,
   "id": "9b6bc239",
   "metadata": {},
   "outputs": [
    {
     "name": "stdout",
     "output_type": "stream",
     "text": [
      "building tree 1 of 10\n",
      "building tree 2 of 10\n",
      "building tree 3 of 10\n",
      "building tree 4 of 10\n",
      "building tree 5 of 10\n",
      "building tree 6 of 10\n",
      "building tree 7 of 10\n",
      "building tree 8 of 10\n",
      "building tree 9 of 10\n",
      "building tree 10 of 10\n",
      "RandomForestRegressor(n_estimators=10, random_state=42, verbose=2)\n",
      "\n",
      "R2 Score (Training Data): 0.446212053208886\n",
      "RMSE (Training Data): 1.1674774526151541\n",
      "R2 Score (Test Data): 0.0692549301794868\n",
      "RMSE (Training Data): 1.5121874250399012\n"
     ]
    }
   ],
   "source": [
    "model = RandomForestRegressor(n_estimators=10, random_state=42, verbose=2)\n",
    "model.fit(X_train, y_train)\n",
    "print(model)\n",
    "\n",
    "print(\"\")\n",
    "\n",
    "y_pred = model.predict(X_train)\n",
    "print(f\"R2 Score (Training Data): {r2_score(y_true=y_train, y_pred=y_pred)}\")\n",
    "print(f\"RMSE (Training Data): {rmse(y_true=y_train, y_pred=y_pred)}\")\n",
    "y_pred = model.predict(X_test)\n",
    "print(f\"R2 Score (Test Data): {r2_score(y_true=y_test, y_pred=y_pred)}\")\n",
    "print(f\"RMSE (Training Data): {rmse(y_true=y_test, y_pred=y_pred)}\")"
   ]
  },
  {
   "cell_type": "markdown",
   "id": "fae525c2",
   "metadata": {},
   "source": [
    "Increase min. samples per leaf to avoid overfitting:"
   ]
  },
  {
   "cell_type": "code",
   "execution_count": 16,
   "id": "d31f9f73",
   "metadata": {},
   "outputs": [
    {
     "name": "stdout",
     "output_type": "stream",
     "text": [
      "building tree 1 of 10\n",
      "building tree 2 of 10\n",
      "building tree 3 of 10\n",
      "building tree 4 of 10\n",
      "building tree 5 of 10\n",
      "building tree 6 of 10\n",
      "building tree 7 of 10\n",
      "building tree 8 of 10\n",
      "building tree 9 of 10\n",
      "building tree 10 of 10\n",
      "RandomForestRegressor(min_samples_leaf=2, n_estimators=10, random_state=42,\n",
      "                      verbose=2)\n",
      "\n",
      "R2 Score (Training Data): 0.4398256155684619\n",
      "RMSE (Training Data): 1.1741899937798117\n",
      "R2 Score (Test Data): 0.14421481836910033\n",
      "RMSE (Training Data): 1.4500154548136859\n"
     ]
    }
   ],
   "source": [
    "model = RandomForestRegressor(\n",
    "    n_estimators=10, random_state=42, verbose=2, min_samples_leaf=2\n",
    ")\n",
    "model.fit(X_train, y_train)\n",
    "print(model)\n",
    "\n",
    "print(\"\")\n",
    "\n",
    "y_pred = model.predict(X_train)\n",
    "print(f\"R2 Score (Training Data): {r2_score(y_true=y_train, y_pred=y_pred)}\")\n",
    "print(f\"RMSE (Training Data): {rmse(y_true=y_train, y_pred=y_pred)}\")\n",
    "y_pred = model.predict(X_test)\n",
    "print(f\"R2 Score (Test Data): {r2_score(y_true=y_test, y_pred=y_pred)}\")\n",
    "print(f\"RMSE (Training Data): {rmse(y_true=y_test, y_pred=y_pred)}\")"
   ]
  },
  {
   "cell_type": "markdown",
   "id": "e65232ea",
   "metadata": {},
   "source": [
    "Increase estimators for better performance:"
   ]
  },
  {
   "cell_type": "code",
   "execution_count": 17,
   "id": "7e092ccb",
   "metadata": {},
   "outputs": [
    {
     "name": "stdout",
     "output_type": "stream",
     "text": [
      "building tree 1 of 20\n",
      "building tree 2 of 20\n",
      "building tree 3 of 20\n",
      "building tree 4 of 20\n",
      "building tree 5 of 20\n",
      "building tree 6 of 20\n",
      "building tree 7 of 20\n",
      "building tree 8 of 20\n",
      "building tree 9 of 20\n",
      "building tree 10 of 20\n",
      "building tree 11 of 20\n",
      "building tree 12 of 20\n",
      "building tree 13 of 20\n",
      "building tree 14 of 20\n",
      "building tree 15 of 20\n",
      "building tree 16 of 20\n",
      "building tree 17 of 20\n",
      "building tree 18 of 20\n",
      "building tree 19 of 20\n",
      "building tree 20 of 20\n",
      "RandomForestRegressor(min_samples_leaf=2, n_estimators=20, random_state=42,\n",
      "                      verbose=2)\n",
      "\n",
      "R2 Score (Training Data): 0.44669807222173186\n",
      "RMSE (Training Data): 1.1669650355502112\n",
      "R2 Score (Test Data): 0.1513488170667192\n",
      "RMSE (Test Data): 1.4439589950923968\n"
     ]
    }
   ],
   "source": [
    "model = RandomForestRegressor(\n",
    "    n_estimators=20, random_state=42, verbose=2, min_samples_leaf=2\n",
    ")\n",
    "model.fit(X_train, y_train)\n",
    "print(model)\n",
    "\n",
    "print(\"\")\n",
    "\n",
    "y_pred = model.predict(X_train)\n",
    "print(f\"R2 Score (Training Data): {r2_score(y_true=y_train, y_pred=y_pred)}\")\n",
    "print(f\"RMSE (Training Data): {rmse(y_true=y_train, y_pred=y_pred)}\")\n",
    "y_pred = model.predict(X_test)\n",
    "print(f\"R2 Score (Test Data): {r2_score(y_true=y_test, y_pred=y_pred)}\")\n",
    "print(f\"RMSE (Test Data): {rmse(y_true=y_test, y_pred=y_pred)}\")"
   ]
  },
  {
   "cell_type": "markdown",
   "id": "82c34ad5",
   "metadata": {},
   "source": [
    "Test limiting max. features considered for splitting decision to avoid overfitting:"
   ]
  },
  {
   "cell_type": "code",
   "execution_count": 18,
   "id": "cdb7e623",
   "metadata": {},
   "outputs": [
    {
     "name": "stderr",
     "output_type": "stream",
     "text": [
      "[Parallel(n_jobs=7)]: Using backend ThreadingBackend with 7 concurrent workers.\n"
     ]
    },
    {
     "name": "stdout",
     "output_type": "stream",
     "text": [
      "building tree 1 of 20building tree 2 of 20\n",
      "\n",
      "building tree 3 of 20\n",
      "building tree 4 of 20\n",
      "building tree 5 of 20\n",
      "building tree 6 of 20\n",
      "building tree 7 of 20\n",
      "building tree 8 of 20\n",
      "building tree 9 of 20\n",
      "building tree 10 of 20\n",
      "building tree 11 of 20\n",
      "building tree 12 of 20\n",
      "building tree 13 of 20\n",
      "building tree 14 of 20\n",
      "building tree 15 of 20\n",
      "building tree 16 of 20\n",
      "building tree 17 of 20\n",
      "building tree 18 of 20\n",
      "building tree 19 of 20\n",
      "building tree 20 of 20\n"
     ]
    },
    {
     "name": "stderr",
     "output_type": "stream",
     "text": [
      "[Parallel(n_jobs=7)]: Done  18 out of  20 | elapsed:   20.0s remaining:    2.2s\n",
      "[Parallel(n_jobs=7)]: Done  20 out of  20 | elapsed:   20.1s finished\n",
      "[Parallel(n_jobs=7)]: Using backend ThreadingBackend with 7 concurrent workers.\n"
     ]
    },
    {
     "name": "stdout",
     "output_type": "stream",
     "text": [
      "RandomForestRegressor(max_features='sqrt', min_samples_leaf=2, n_estimators=20,\n",
      "                      n_jobs=7, random_state=42, verbose=2)\n",
      "\n"
     ]
    },
    {
     "name": "stderr",
     "output_type": "stream",
     "text": [
      "[Parallel(n_jobs=7)]: Done  18 out of  20 | elapsed:    9.8s remaining:    1.1s\n",
      "[Parallel(n_jobs=7)]: Done  20 out of  20 | elapsed:    9.9s finished\n",
      "[Parallel(n_jobs=7)]: Using backend ThreadingBackend with 7 concurrent workers.\n"
     ]
    },
    {
     "name": "stdout",
     "output_type": "stream",
     "text": [
      "R2 Score (Training Data): 0.44369678332711837\n",
      "RMSE (Training Data): 1.1701257533491618\n",
      "R2 Score (Test Data): 0.146967210174067\n",
      "RMSE (Test Data): 1.4476817939244613\n"
     ]
    },
    {
     "name": "stderr",
     "output_type": "stream",
     "text": [
      "[Parallel(n_jobs=7)]: Done  18 out of  20 | elapsed:    3.4s remaining:    0.4s\n",
      "[Parallel(n_jobs=7)]: Done  20 out of  20 | elapsed:    3.4s finished\n"
     ]
    }
   ],
   "source": [
    "model = RandomForestRegressor(\n",
    "    n_estimators=20,\n",
    "    random_state=42,\n",
    "    verbose=2,\n",
    "    min_samples_leaf=2,\n",
    "    n_jobs=(os.cpu_count() - 1),\n",
    "    max_features=\"sqrt\",\n",
    ")\n",
    "model.fit(X_train, y_train)\n",
    "print(model)\n",
    "\n",
    "print(\"\")\n",
    "\n",
    "y_pred = model.predict(X_train)\n",
    "print(f\"R2 Score (Training Data): {r2_score(y_true=y_train, y_pred=y_pred)}\")\n",
    "print(f\"RMSE (Training Data): {rmse(y_true=y_train, y_pred=y_pred)}\")\n",
    "y_pred = model.predict(X_test)\n",
    "print(f\"R2 Score (Test Data): {r2_score(y_true=y_test, y_pred=y_pred)}\")\n",
    "print(f\"RMSE (Test Data): {rmse(y_true=y_test, y_pred=y_pred)}\")"
   ]
  },
  {
   "cell_type": "markdown",
   "id": "29a087e6",
   "metadata": {},
   "source": [
    "## Gradient Boosting Regression\n"
   ]
  },
  {
   "cell_type": "code",
   "execution_count": 3,
   "id": "37ba8edc",
   "metadata": {},
   "outputs": [],
   "source": [
    "from xgboost import XGBRegressor"
   ]
  },
  {
   "cell_type": "code",
   "execution_count": 4,
   "id": "0c8c69b5",
   "metadata": {},
   "outputs": [
    {
     "name": "stdout",
     "output_type": "stream",
     "text": [
      "Data: (6610000, 5)\n",
      "Schema({'Time': Int16, 'Num_Cars': Int16, 'Centrality': Float32, 'Is_Entrypoint': Int8, 'Distance': Int16})\n",
      "\n",
      "X: (6610000, 4)\n",
      "y: (6610000,)\n",
      "\n",
      "X_train: (3966000, 4)\n",
      "X_test: (2644000, 4)\n",
      "y_train: (3966000,)\n",
      "y_test (2644000,)\n",
      "\n",
      "X_test: (1322000, 4)\n",
      "X_val: (1322000, 4)\n",
      "y_test: (1322000,)\n",
      "y_val: (1322000,)\n"
     ]
    }
   ],
   "source": [
    "X_train, X_test, X_val, y_train, y_test, y_val = get_data()"
   ]
  },
  {
   "cell_type": "code",
   "execution_count": 5,
   "id": "3522c5d6",
   "metadata": {},
   "outputs": [
    {
     "name": "stdout",
     "output_type": "stream",
     "text": [
      "XGBRegressor(base_score=None, booster=None, callbacks=None,\n",
      "             colsample_bylevel=None, colsample_bynode=None,\n",
      "             colsample_bytree=None, device=None, early_stopping_rounds=None,\n",
      "             enable_categorical=False, eval_metric=None, feature_types=None,\n",
      "             feature_weights=None, gamma=None, grow_policy=None,\n",
      "             importance_type=None, interaction_constraints=None,\n",
      "             learning_rate=None, max_bin=None, max_cat_threshold=None,\n",
      "             max_cat_to_onehot=None, max_delta_step=None, max_depth=None,\n",
      "             max_leaves=None, min_child_weight=None, missing=nan,\n",
      "             monotone_constraints=None, multi_strategy=None, n_estimators=None,\n",
      "             n_jobs=7, num_parallel_tree=None, ...)\n",
      "\n",
      "R2 Score (Training Data): 0.21278494596481323\n",
      "RMSE (Training Data): 1.3919494152069092\n",
      "R2 Score (Test Data): 0.20956403017044067\n",
      "RMSE (Test Data): 1.3935534954071045\n"
     ]
    }
   ],
   "source": [
    "model = XGBRegressor(n_jobs=(os.cpu_count() - 1), random_state=42)\n",
    "model.fit(X_train, y_train)\n",
    "print(model)\n",
    "\n",
    "print(\"\")\n",
    "\n",
    "y_pred = model.predict(X_train)\n",
    "print(f\"R2 Score (Training Data): {r2_score(y_true=y_train, y_pred=y_pred)}\")\n",
    "print(f\"RMSE (Training Data): {rmse(y_true=y_train, y_pred=y_pred)}\")\n",
    "y_pred = model.predict(X_test)\n",
    "print(f\"R2 Score (Test Data): {r2_score(y_true=y_test, y_pred=y_pred)}\")\n",
    "print(f\"RMSE (Test Data): {rmse(y_true=y_test, y_pred=y_pred)}\")"
   ]
  },
  {
   "cell_type": "markdown",
   "id": "d1778fb1",
   "metadata": {},
   "source": [
    "## KNN Regression\n"
   ]
  },
  {
   "cell_type": "code",
   "execution_count": 6,
   "id": "fb4bdb1b",
   "metadata": {},
   "outputs": [],
   "source": [
    "from sklearn.neighbors import KNeighborsRegressor"
   ]
  },
  {
   "cell_type": "code",
   "execution_count": 7,
   "id": "fd0dec25",
   "metadata": {},
   "outputs": [
    {
     "name": "stdout",
     "output_type": "stream",
     "text": [
      "Data: (6610000, 5)\n",
      "Schema({'Time': Int16, 'Num_Cars': Int16, 'Centrality': Float32, 'Is_Entrypoint': Int8, 'Distance': Int16})\n",
      "\n",
      "X: (6610000, 4)\n",
      "y: (6610000,)\n",
      "\n",
      "X_train: (3966000, 4)\n",
      "X_test: (2644000, 4)\n",
      "y_train: (3966000,)\n",
      "y_test (2644000,)\n",
      "\n",
      "X_test: (1322000, 4)\n",
      "X_val: (1322000, 4)\n",
      "y_test: (1322000,)\n",
      "y_val: (1322000,)\n"
     ]
    }
   ],
   "source": [
    "X_train, X_test, X_val, y_train, y_test, y_val = get_data()"
   ]
  },
  {
   "cell_type": "code",
   "execution_count": 9,
   "id": "168bbf6a",
   "metadata": {},
   "outputs": [
    {
     "name": "stdout",
     "output_type": "stream",
     "text": [
      "KNeighborsRegressor(n_jobs=7)\n",
      "\n",
      "R2 Score (Training Data): 0.37521500359296933\n",
      "RMSE (Training Data): 1.2400581420494516\n",
      "R2 Score (Test Data): 0.09948158281760355\n",
      "RMSE (Test Data): 1.487430045139285\n"
     ]
    }
   ],
   "source": [
    "model = KNeighborsRegressor(n_jobs=(os.cpu_count() - 1))\n",
    "model.fit(X_train, y_train)\n",
    "print(model)\n",
    "\n",
    "print(\"\")\n",
    "\n",
    "y_pred = model.predict(X_train)\n",
    "print(f\"R2 Score (Training Data): {r2_score(y_true=y_train, y_pred=y_pred)}\")\n",
    "print(f\"RMSE (Training Data): {rmse(y_true=y_train, y_pred=y_pred)}\")\n",
    "y_pred = model.predict(X_test)\n",
    "print(f\"R2 Score (Test Data): {r2_score(y_true=y_test, y_pred=y_pred)}\")\n",
    "print(f\"RMSE (Test Data): {rmse(y_true=y_test, y_pred=y_pred)}\")"
   ]
  },
  {
   "cell_type": "markdown",
   "id": "0d79f539",
   "metadata": {},
   "source": [
    "## Bayesian Linear Regression\n"
   ]
  },
  {
   "cell_type": "code",
   "execution_count": 10,
   "id": "abf0fb45",
   "metadata": {},
   "outputs": [],
   "source": [
    "from sklearn.linear_model import BayesianRidge"
   ]
  },
  {
   "cell_type": "code",
   "execution_count": 11,
   "id": "8313bffe",
   "metadata": {},
   "outputs": [
    {
     "name": "stdout",
     "output_type": "stream",
     "text": [
      "Data: (6610000, 5)\n",
      "Schema({'Time': Int16, 'Num_Cars': Int16, 'Centrality': Float32, 'Is_Entrypoint': Int8, 'Distance': Int16})\n",
      "\n",
      "X: (6610000, 4)\n",
      "y: (6610000,)\n",
      "\n",
      "X_train: (3966000, 4)\n",
      "X_test: (2644000, 4)\n",
      "y_train: (3966000,)\n",
      "y_test (2644000,)\n",
      "\n",
      "X_test: (1322000, 4)\n",
      "X_val: (1322000, 4)\n",
      "y_test: (1322000,)\n",
      "y_val: (1322000,)\n"
     ]
    }
   ],
   "source": [
    "X_train, X_test, X_val, y_train, y_test, y_val = get_data()"
   ]
  },
  {
   "cell_type": "code",
   "execution_count": 12,
   "id": "3264d1c6",
   "metadata": {},
   "outputs": [
    {
     "name": "stdout",
     "output_type": "stream",
     "text": [
      "Convergence after  1  iterations\n",
      "BayesianRidge(verbose=True)\n",
      "\n",
      "R2 Score (Training Data): 0.09408408403396606\n",
      "RMSE (Training Data): 1.4932093620300293\n",
      "R2 Score (Test Data): 0.09340924024581909\n",
      "RMSE (Test Data): 1.4924367666244507\n"
     ]
    }
   ],
   "source": [
    "model = BayesianRidge(verbose=True)\n",
    "model.fit(X_train, y_train)\n",
    "print(model)\n",
    "\n",
    "print(\"\")\n",
    "\n",
    "y_pred = model.predict(X_train)\n",
    "print(f\"R2 Score (Training Data): {r2_score(y_true=y_train, y_pred=y_pred)}\")\n",
    "print(f\"RMSE (Training Data): {rmse(y_true=y_train, y_pred=y_pred)}\")\n",
    "y_pred = model.predict(X_test)\n",
    "print(f\"R2 Score (Test Data): {r2_score(y_true=y_test, y_pred=y_pred)}\")\n",
    "print(f\"RMSE (Test Data): {rmse(y_true=y_test, y_pred=y_pred)}\")"
   ]
  },
  {
   "cell_type": "markdown",
   "id": "23870927",
   "metadata": {},
   "source": [
    "## MLP Regression\n"
   ]
  },
  {
   "cell_type": "code",
   "execution_count": 13,
   "id": "83727c97",
   "metadata": {},
   "outputs": [],
   "source": [
    "from sklearn.neural_network import MLPRegressor"
   ]
  },
  {
   "cell_type": "code",
   "execution_count": 14,
   "id": "7f6c4f60",
   "metadata": {},
   "outputs": [
    {
     "name": "stdout",
     "output_type": "stream",
     "text": [
      "Data: (6610000, 5)\n",
      "Schema({'Time': Int16, 'Num_Cars': Int16, 'Centrality': Float32, 'Is_Entrypoint': Int8, 'Distance': Int16})\n",
      "\n",
      "X: (6610000, 4)\n",
      "y: (6610000,)\n",
      "\n",
      "X_train: (3966000, 4)\n",
      "X_test: (2644000, 4)\n",
      "y_train: (3966000,)\n",
      "y_test (2644000,)\n",
      "\n",
      "X_test: (1322000, 4)\n",
      "X_val: (1322000, 4)\n",
      "y_test: (1322000,)\n",
      "y_val: (1322000,)\n"
     ]
    }
   ],
   "source": [
    "X_train, X_test, X_val, y_train, y_test, y_val = get_data()"
   ]
  },
  {
   "cell_type": "code",
   "execution_count": 15,
   "id": "8afaa0d1",
   "metadata": {},
   "outputs": [
    {
     "name": "stdout",
     "output_type": "stream",
     "text": [
      "Iteration 1, loss = 1.04002500\n",
      "Iteration 2, loss = 1.03235185\n",
      "Iteration 3, loss = 1.02938068\n",
      "Iteration 4, loss = 1.02779078\n",
      "Iteration 5, loss = 1.02649188\n",
      "Iteration 6, loss = 1.02544248\n",
      "Iteration 7, loss = 1.02457106\n",
      "Iteration 8, loss = 1.02347517\n",
      "Iteration 9, loss = 1.02260268\n",
      "Iteration 10, loss = 1.02186048\n",
      "Iteration 11, loss = 1.02130949\n",
      "Iteration 12, loss = 1.02098083\n",
      "Iteration 13, loss = 1.02094650\n",
      "Iteration 14, loss = 1.02058840\n",
      "Iteration 15, loss = 1.02036154\n",
      "Iteration 16, loss = 1.02026320\n",
      "Iteration 17, loss = 1.02010155\n",
      "Iteration 18, loss = 1.01990640\n",
      "Iteration 19, loss = 1.01977825\n",
      "Iteration 20, loss = 1.01974905\n",
      "Iteration 21, loss = 1.01959395\n",
      "Iteration 22, loss = 1.01933146\n",
      "Iteration 23, loss = 1.01891053\n",
      "Iteration 24, loss = 1.01834548\n",
      "Iteration 25, loss = 1.01804018\n",
      "Iteration 26, loss = 1.01783276\n",
      "Iteration 27, loss = 1.01754177\n",
      "Iteration 28, loss = 1.01745856\n",
      "Iteration 29, loss = 1.01734650\n",
      "Iteration 30, loss = 1.01707852\n",
      "Iteration 31, loss = 1.01704168\n",
      "Iteration 32, loss = 1.01674759\n",
      "Iteration 33, loss = 1.01661813\n",
      "Iteration 34, loss = 1.01650894\n",
      "Iteration 35, loss = 1.01640129\n",
      "Iteration 36, loss = 1.01626647\n",
      "Iteration 37, loss = 1.01619339\n",
      "Iteration 38, loss = 1.01600778\n",
      "Iteration 39, loss = 1.01566613\n",
      "Iteration 40, loss = 1.01555884\n",
      "Iteration 41, loss = 1.01549172\n",
      "Iteration 42, loss = 1.01538813\n",
      "Iteration 43, loss = 1.01527452\n",
      "Iteration 44, loss = 1.01523721\n",
      "Iteration 45, loss = 1.01521921\n",
      "Iteration 46, loss = 1.01525903\n",
      "Iteration 47, loss = 1.01520765\n",
      "Iteration 48, loss = 1.01525629\n",
      "Iteration 49, loss = 1.01533008\n",
      "Iteration 50, loss = 1.01536775\n",
      "Iteration 51, loss = 1.01508152\n",
      "Iteration 52, loss = 1.01524842\n",
      "Iteration 53, loss = 1.01523161\n",
      "Iteration 54, loss = 1.01519144\n",
      "Iteration 55, loss = 1.01517487\n",
      "Iteration 56, loss = 1.01502585\n",
      "Iteration 57, loss = 1.01486778\n",
      "Iteration 58, loss = 1.01497722\n",
      "Iteration 59, loss = 1.01491368\n",
      "Iteration 60, loss = 1.01487207\n",
      "Iteration 61, loss = 1.01484323\n",
      "Iteration 62, loss = 1.01490557\n",
      "Iteration 63, loss = 1.01487398\n",
      "Iteration 64, loss = 1.01475954\n",
      "Iteration 65, loss = 1.01475561\n",
      "Iteration 66, loss = 1.01477587\n",
      "Iteration 67, loss = 1.01477385\n",
      "Iteration 68, loss = 1.01469910\n",
      "Training loss did not improve more than tol=0.000100 for 10 consecutive epochs. Stopping.\n",
      "MLPRegressor(random_state=42, verbose=True)\n",
      "\n",
      "R2 Score (Training Data): 0.17622613906860352\n",
      "RMSE (Training Data): 1.4239041805267334\n",
      "R2 Score (Test Data): 0.17540669441223145\n",
      "RMSE (Test Data): 1.4233450889587402\n"
     ]
    }
   ],
   "source": [
    "model = MLPRegressor(random_state=42, verbose=True)\n",
    "model.fit(X_train, y_train)\n",
    "print(model)\n",
    "\n",
    "print(\"\")\n",
    "\n",
    "y_pred = model.predict(X_train)\n",
    "print(f\"R2 Score (Training Data): {r2_score(y_true=y_train, y_pred=y_pred)}\")\n",
    "print(f\"RMSE (Training Data): {rmse(y_true=y_train, y_pred=y_pred)}\")\n",
    "y_pred = model.predict(X_test)\n",
    "print(f\"R2 Score (Test Data): {r2_score(y_true=y_test, y_pred=y_pred)}\")\n",
    "print(f\"RMSE (Test Data): {rmse(y_true=y_test, y_pred=y_pred)}\")"
   ]
  },
  {
   "cell_type": "markdown",
   "id": "a137bb8b",
   "metadata": {},
   "source": [
    "Try an adaptive learning rate to increase performance:"
   ]
  },
  {
   "cell_type": "code",
   "execution_count": null,
   "id": "b5ee6f2a",
   "metadata": {},
   "outputs": [
    {
     "name": "stdout",
     "output_type": "stream",
     "text": [
      "Iteration 1, loss = 1.04002500\n",
      "Iteration 2, loss = 1.03235185\n",
      "Iteration 3, loss = 1.02938068\n",
      "Iteration 4, loss = 1.02779078\n",
      "Iteration 5, loss = 1.02649188\n",
      "Iteration 6, loss = 1.02544248\n",
      "Iteration 7, loss = 1.02457106\n",
      "Iteration 8, loss = 1.02347517\n",
      "Iteration 9, loss = 1.02260268\n",
      "Iteration 10, loss = 1.02186048\n",
      "Iteration 11, loss = 1.02130949\n",
      "Iteration 12, loss = 1.02098083\n",
      "Iteration 13, loss = 1.02094650\n",
      "Iteration 14, loss = 1.02058840\n",
      "Iteration 15, loss = 1.02036154\n",
      "Iteration 16, loss = 1.02026320\n",
      "Iteration 17, loss = 1.02010155\n",
      "Iteration 18, loss = 1.01990640\n",
      "Iteration 19, loss = 1.01977825\n",
      "Iteration 20, loss = 1.01974905\n",
      "Iteration 21, loss = 1.01959395\n",
      "Iteration 22, loss = 1.01933146\n",
      "Iteration 23, loss = 1.01891053\n",
      "Iteration 24, loss = 1.01834548\n",
      "Iteration 25, loss = 1.01804018\n",
      "Iteration 26, loss = 1.01783276\n",
      "Iteration 27, loss = 1.01754177\n",
      "Iteration 28, loss = 1.01745856\n",
      "Iteration 29, loss = 1.01734650\n",
      "Iteration 30, loss = 1.01707852\n",
      "Iteration 31, loss = 1.01704168\n",
      "Iteration 32, loss = 1.01674759\n",
      "Iteration 33, loss = 1.01661813\n",
      "Iteration 34, loss = 1.01650894\n",
      "Iteration 35, loss = 1.01640129\n",
      "Iteration 36, loss = 1.01626647\n",
      "Iteration 37, loss = 1.01619339\n",
      "Iteration 38, loss = 1.01600778\n",
      "Iteration 39, loss = 1.01566613\n",
      "Iteration 40, loss = 1.01555884\n",
      "Iteration 41, loss = 1.01549172\n",
      "Iteration 42, loss = 1.01538813\n",
      "Iteration 43, loss = 1.01527452\n",
      "Iteration 44, loss = 1.01523721\n",
      "Iteration 45, loss = 1.01521921\n",
      "Iteration 46, loss = 1.01525903\n",
      "Iteration 47, loss = 1.01520765\n",
      "Iteration 48, loss = 1.01525629\n",
      "Iteration 49, loss = 1.01533008\n",
      "Iteration 50, loss = 1.01536775\n",
      "Iteration 51, loss = 1.01508152\n",
      "Iteration 52, loss = 1.01524842\n",
      "Iteration 53, loss = 1.01523161\n",
      "Iteration 54, loss = 1.01519144\n",
      "Iteration 55, loss = 1.01517487\n",
      "Iteration 56, loss = 1.01502585\n",
      "Iteration 57, loss = 1.01486778\n",
      "Iteration 58, loss = 1.01497722\n",
      "Iteration 59, loss = 1.01491368\n",
      "Iteration 60, loss = 1.01487207\n",
      "Iteration 61, loss = 1.01484323\n",
      "Iteration 62, loss = 1.01490557\n",
      "Iteration 63, loss = 1.01487398\n",
      "Iteration 64, loss = 1.01475954\n",
      "Iteration 65, loss = 1.01475561\n",
      "Iteration 66, loss = 1.01477587\n",
      "Iteration 67, loss = 1.01477385\n",
      "Iteration 68, loss = 1.01469910\n",
      "Training loss did not improve more than tol=0.000100 for 10 consecutive epochs. Stopping.\n",
      "MLPRegressor(learning_rate='adaptive', random_state=42, verbose=True)\n",
      "\n",
      "R2 Score (Training Data): 0.17622613906860352\n",
      "R2 Score (Test Data): 0.17540669441223145\n"
     ]
    }
   ],
   "source": [
    "model = MLPRegressor(random_state=42, verbose=True, learning_rate=\"adaptive\")\n",
    "model.fit(X_train, y_train)\n",
    "print(model)\n",
    "\n",
    "print(\"\")\n",
    "\n",
    "y_pred = model.predict(X_train)\n",
    "print(f\"R2 Score (Training Data): {r2_score(y_true=y_train, y_pred=y_pred)}\")\n",
    "print(f\"RMSE (Training Data): {rmse(y_true=y_train, y_pred=y_pred)}\")\n",
    "y_pred = model.predict(X_test)\n",
    "print(f\"R2 Score (Test Data): {r2_score(y_true=y_test, y_pred=y_pred)}\")\n",
    "print(f\"RMSE (Test Data): {rmse(y_true=y_test, y_pred=y_pred)}\")"
   ]
  },
  {
   "cell_type": "markdown",
   "id": "97472217",
   "metadata": {},
   "source": [
    "Increase model size:"
   ]
  },
  {
   "cell_type": "code",
   "execution_count": null,
   "id": "148f3921",
   "metadata": {},
   "outputs": [
    {
     "name": "stdout",
     "output_type": "stream",
     "text": [
      "Iteration 1, loss = 1.02910233\n",
      "Iteration 2, loss = 1.01558268\n",
      "Iteration 3, loss = 1.01191688\n",
      "Iteration 4, loss = 1.01002657\n",
      "Iteration 5, loss = 1.00901532\n",
      "Iteration 6, loss = 1.00826156\n",
      "Iteration 7, loss = 1.00774109\n",
      "Iteration 8, loss = 1.00720823\n",
      "Iteration 9, loss = 1.00675797\n",
      "Iteration 10, loss = 1.00661278\n",
      "Iteration 11, loss = 1.00636470\n",
      "Iteration 12, loss = 1.00593662\n",
      "Iteration 13, loss = 1.00554991\n",
      "Iteration 14, loss = 1.00547671\n",
      "Iteration 15, loss = 1.00525570\n",
      "Iteration 16, loss = 1.00500309\n",
      "Iteration 17, loss = 1.00496173\n",
      "Iteration 18, loss = 1.00466895\n",
      "Iteration 19, loss = 1.00465298\n",
      "Iteration 20, loss = 1.00445390\n",
      "Iteration 21, loss = 1.00440884\n",
      "Iteration 22, loss = 1.00389993\n",
      "Iteration 23, loss = 1.00400865\n",
      "Iteration 24, loss = 1.00385201\n",
      "Iteration 25, loss = 1.00384152\n",
      "Iteration 26, loss = 1.00370872\n",
      "Iteration 27, loss = 1.00360417\n",
      "Iteration 28, loss = 1.00350821\n",
      "Iteration 29, loss = 1.00347757\n",
      "Iteration 30, loss = 1.00333762\n",
      "Iteration 31, loss = 1.00335276\n",
      "Iteration 32, loss = 1.00323832\n",
      "Iteration 33, loss = 1.00308204\n",
      "Iteration 34, loss = 1.00296164\n",
      "Iteration 35, loss = 1.00296950\n",
      "Iteration 36, loss = 1.00282753\n",
      "Iteration 37, loss = 1.00276744\n",
      "Iteration 38, loss = 1.00286543\n",
      "Iteration 39, loss = 1.00265133\n",
      "Iteration 40, loss = 1.00272381\n",
      "Iteration 41, loss = 1.00259686\n",
      "Iteration 42, loss = 1.00258231\n",
      "Iteration 43, loss = 1.00261617\n",
      "Iteration 44, loss = 1.00244355\n",
      "Iteration 45, loss = 1.00231469\n",
      "Iteration 46, loss = 1.00234437\n",
      "Iteration 47, loss = 1.00241923\n",
      "Iteration 48, loss = 1.00222087\n",
      "Iteration 49, loss = 1.00213492\n",
      "Iteration 50, loss = 1.00216663\n",
      "Iteration 51, loss = 1.00219166\n",
      "Iteration 52, loss = 1.00201035\n",
      "Iteration 53, loss = 1.00204492\n",
      "Iteration 54, loss = 1.00195146\n",
      "Iteration 55, loss = 1.00197971\n",
      "Iteration 56, loss = 1.00190389\n",
      "Iteration 57, loss = 1.00192964\n",
      "Iteration 58, loss = 1.00170505\n",
      "Iteration 59, loss = 1.00176930\n",
      "Iteration 60, loss = 1.00175107\n",
      "Iteration 61, loss = 1.00176048\n",
      "Iteration 62, loss = 1.00159645\n",
      "Iteration 63, loss = 1.00163138\n",
      "Iteration 64, loss = 1.00153112\n",
      "Iteration 65, loss = 1.00143540\n",
      "Iteration 66, loss = 1.00154233\n",
      "Iteration 67, loss = 1.00145507\n",
      "Iteration 68, loss = 1.00143230\n",
      "Iteration 69, loss = 1.00124359\n",
      "Iteration 70, loss = 1.00131464\n",
      "Iteration 71, loss = 1.00125170\n",
      "Iteration 72, loss = 1.00119781\n",
      "Iteration 73, loss = 1.00127804\n",
      "Iteration 74, loss = 1.00109601\n",
      "Iteration 75, loss = 1.00119042\n",
      "Iteration 76, loss = 1.00117660\n",
      "Iteration 77, loss = 1.00110137\n",
      "Iteration 78, loss = 1.00095856\n",
      "Iteration 79, loss = 1.00107706\n",
      "Iteration 80, loss = 1.00111759\n",
      "Iteration 81, loss = 1.00102425\n",
      "Iteration 82, loss = 1.00099611\n",
      "Iteration 83, loss = 1.00083101\n",
      "Iteration 84, loss = 1.00096858\n",
      "Iteration 85, loss = 1.00087452\n",
      "Iteration 86, loss = 1.00086367\n",
      "Iteration 87, loss = 1.00090110\n",
      "Iteration 88, loss = 1.00081587\n",
      "Iteration 89, loss = 1.00072658\n",
      "Iteration 90, loss = 1.00069702\n",
      "Iteration 91, loss = 1.00076199\n",
      "Iteration 92, loss = 1.00070810\n",
      "Iteration 93, loss = 1.00062585\n",
      "Iteration 94, loss = 1.00070417\n",
      "Training loss did not improve more than tol=0.000100 for 10 consecutive epochs. Stopping.\n",
      "MLPRegressor(hidden_layer_sizes=(100, 100), learning_rate='adaptive',\n",
      "             random_state=42, verbose=True)\n",
      "\n",
      "R2 Score (Training Data): 0.18588805198669434\n",
      "R2 Score (Test Data): 0.1842702031135559\n"
     ]
    }
   ],
   "source": [
    "model = MLPRegressor(\n",
    "    random_state=42,\n",
    "    verbose=True,\n",
    "    learning_rate=\"adaptive\",\n",
    "    hidden_layer_sizes=(100, 100),\n",
    ")\n",
    "model.fit(X_train, y_train)\n",
    "print(model)\n",
    "\n",
    "print(\"\")\n",
    "\n",
    "y_pred = model.predict(X_train)\n",
    "print(f\"R2 Score (Training Data): {r2_score(y_true=y_train, y_pred=y_pred)}\")\n",
    "print(f\"RMSE (Training Data): {rmse(y_true=y_train, y_pred=y_pred)}\")\n",
    "y_pred = model.predict(X_test)\n",
    "print(f\"R2 Score (Test Data): {r2_score(y_true=y_test, y_pred=y_pred)}\")\n",
    "print(f\"RMSE (Test Data): {rmse(y_true=y_test, y_pred=y_pred)}\")"
   ]
  },
  {
   "cell_type": "code",
   "execution_count": null,
   "id": "064f70d7",
   "metadata": {},
   "outputs": [
    {
     "name": "stdout",
     "output_type": "stream",
     "text": [
      "Iteration 1, loss = 1.02563238\n",
      "Iteration 2, loss = 1.01324058\n",
      "Iteration 3, loss = 1.01000822\n",
      "Iteration 4, loss = 1.00877106\n",
      "Iteration 5, loss = 1.00761306\n",
      "Iteration 6, loss = 1.00686157\n",
      "Iteration 7, loss = 1.00587726\n",
      "Iteration 8, loss = 1.00556612\n",
      "Iteration 9, loss = 1.00503755\n",
      "Iteration 10, loss = 1.00477731\n",
      "Iteration 11, loss = 1.00428271\n",
      "Iteration 12, loss = 1.00398505\n",
      "Iteration 13, loss = 1.00362897\n",
      "Iteration 14, loss = 1.00346816\n",
      "Iteration 15, loss = 1.00302374\n",
      "Iteration 16, loss = 1.00281954\n",
      "Iteration 17, loss = 1.00257349\n",
      "Iteration 18, loss = 1.00221217\n",
      "Iteration 19, loss = 1.00213695\n",
      "Iteration 20, loss = 1.00215912\n",
      "Iteration 21, loss = 1.00180042\n",
      "Iteration 22, loss = 1.00177586\n",
      "Iteration 23, loss = 1.00168824\n",
      "Iteration 24, loss = 1.00144851\n",
      "Iteration 25, loss = 1.00114262\n",
      "Iteration 26, loss = 1.00104582\n",
      "Iteration 27, loss = 1.00115407\n",
      "Iteration 28, loss = 1.00122845\n",
      "Iteration 29, loss = 1.00104868\n",
      "Iteration 30, loss = 1.00096953\n",
      "Iteration 31, loss = 1.00082231\n",
      "Iteration 32, loss = 1.00072646\n",
      "Iteration 33, loss = 1.00067437\n",
      "Iteration 34, loss = 1.00058556\n",
      "Iteration 35, loss = 1.00035250\n",
      "Iteration 36, loss = 1.00018537\n",
      "Iteration 37, loss = 1.00022674\n",
      "Iteration 38, loss = 1.00017452\n",
      "Iteration 39, loss = 1.00007212\n",
      "Iteration 40, loss = 0.99993497\n",
      "Iteration 41, loss = 0.99983549\n",
      "Iteration 42, loss = 0.99986577\n",
      "Iteration 43, loss = 0.99985939\n",
      "Iteration 44, loss = 0.99996430\n",
      "Iteration 45, loss = 0.99982291\n",
      "Iteration 46, loss = 0.99968314\n",
      "Iteration 47, loss = 0.99968547\n",
      "Iteration 48, loss = 0.99945426\n",
      "Iteration 49, loss = 0.99958748\n",
      "Iteration 50, loss = 0.99941152\n",
      "Iteration 51, loss = 0.99925351\n",
      "Iteration 52, loss = 0.99923652\n",
      "Iteration 53, loss = 0.99920636\n",
      "Iteration 54, loss = 0.99907511\n",
      "Iteration 55, loss = 0.99914443\n",
      "Iteration 56, loss = 0.99887037\n",
      "Iteration 57, loss = 0.99884105\n",
      "Iteration 58, loss = 0.99884713\n",
      "Iteration 59, loss = 0.99881786\n",
      "Iteration 60, loss = 0.99890453\n",
      "Iteration 61, loss = 0.99878001\n",
      "Iteration 62, loss = 0.99879581\n",
      "Iteration 63, loss = 0.99895406\n",
      "Iteration 64, loss = 0.99870372\n",
      "Iteration 65, loss = 0.99861759\n",
      "Iteration 66, loss = 0.99832243\n",
      "Iteration 67, loss = 0.99839169\n",
      "Iteration 68, loss = 0.99847060\n",
      "Iteration 69, loss = 0.99826622\n",
      "Iteration 70, loss = 0.99837214\n",
      "Iteration 71, loss = 0.99836409\n",
      "Iteration 72, loss = 0.99819642\n",
      "Iteration 73, loss = 0.99843991\n",
      "Iteration 74, loss = 0.99829298\n",
      "Iteration 75, loss = 0.99828345\n",
      "Iteration 76, loss = 0.99798357\n",
      "Iteration 77, loss = 0.99827427\n",
      "Iteration 78, loss = 0.99828798\n",
      "Iteration 79, loss = 0.99803627\n",
      "Iteration 80, loss = 0.99812484\n",
      "Iteration 81, loss = 0.99775732\n",
      "Iteration 82, loss = 0.99779838\n",
      "Iteration 83, loss = 0.99773717\n",
      "Iteration 84, loss = 0.99769086\n",
      "Iteration 85, loss = 0.99766684\n",
      "Iteration 86, loss = 0.99758899\n",
      "Iteration 87, loss = 0.99762440\n",
      "Iteration 88, loss = 0.99777865\n",
      "Iteration 89, loss = 0.99758214\n",
      "Iteration 90, loss = 0.99759316\n",
      "Iteration 91, loss = 0.99751335\n",
      "Iteration 92, loss = 0.99741256\n",
      "Iteration 93, loss = 0.99746084\n",
      "Iteration 94, loss = 0.99722743\n",
      "Iteration 95, loss = 0.99729967\n",
      "Iteration 96, loss = 0.99744046\n",
      "Iteration 97, loss = 0.99750322\n",
      "Iteration 98, loss = 0.99731988\n",
      "Iteration 99, loss = 0.99703342\n",
      "Iteration 100, loss = 0.99712706\n",
      "Iteration 101, loss = 0.99715227\n",
      "Iteration 102, loss = 0.99694532\n",
      "Iteration 103, loss = 0.99696761\n",
      "Iteration 104, loss = 0.99719310\n",
      "Iteration 105, loss = 0.99690872\n",
      "Iteration 106, loss = 0.99735898\n",
      "Iteration 107, loss = 0.99703151\n",
      "Iteration 108, loss = 0.99694371\n",
      "Iteration 109, loss = 0.99699253\n",
      "Iteration 110, loss = 0.99696636\n",
      "Training loss did not improve more than tol=0.000100 for 10 consecutive epochs. Stopping.\n",
      "MLPRegressor(hidden_layer_sizes=(100, 100, 100), learning_rate='adaptive',\n",
      "             random_state=42, verbose=True)\n",
      "\n",
      "R2 Score (Training Data): 0.19164437055587769\n",
      "R2 Score (Test Data): 0.18968045711517334\n"
     ]
    }
   ],
   "source": [
    "model = MLPRegressor(\n",
    "    random_state=42,\n",
    "    verbose=True,\n",
    "    learning_rate=\"adaptive\",\n",
    "    hidden_layer_sizes=(100, 100, 100),\n",
    ")\n",
    "model.fit(X_train, y_train)\n",
    "print(model)\n",
    "\n",
    "print(\"\")\n",
    "\n",
    "y_pred = model.predict(X_train)\n",
    "print(f\"R2 Score (Training Data): {r2_score(y_true=y_train, y_pred=y_pred)}\")\n",
    "print(f\"RMSE (Training Data): {rmse(y_true=y_train, y_pred=y_pred)}\")\n",
    "y_pred = model.predict(X_test)\n",
    "print(f\"R2 Score (Test Data): {r2_score(y_true=y_test, y_pred=y_pred)}\")\n",
    "print(f\"RMSE (Test Data): {rmse(y_true=y_test, y_pred=y_pred)}\")"
   ]
  },
  {
   "cell_type": "markdown",
   "id": "a5464d13",
   "metadata": {},
   "source": [
    "## Tensorflow Dense Neural Net"
   ]
  },
  {
   "cell_type": "code",
   "execution_count": 5,
   "id": "32ded2bc",
   "metadata": {},
   "outputs": [],
   "source": [
    "from tensorflow.keras.models import Sequential\n",
    "from tensorflow.keras.layers import Dense\n",
    "from tensorflow.keras.optimizers import Adam\n",
    "from tensorflow.keras.metrics import RootMeanSquaredError as RMSE, R2Score"
   ]
  },
  {
   "cell_type": "code",
   "execution_count": 6,
   "id": "045c9ee9",
   "metadata": {},
   "outputs": [
    {
     "name": "stdout",
     "output_type": "stream",
     "text": [
      "Data: (6610000, 5)\n",
      "Schema({'Time': Int16, 'Num_Cars': Int16, 'Centrality': Float32, 'Is_Entrypoint': Int8, 'Distance': Int16})\n",
      "\n",
      "X: (6610000, 4)\n",
      "y: (6610000,)\n",
      "\n",
      "X_train: (3966000, 4)\n",
      "X_test: (2644000, 4)\n",
      "y_train: (3966000,)\n",
      "y_test (2644000,)\n",
      "\n",
      "X_test: (1322000, 4)\n",
      "X_val: (1322000, 4)\n",
      "y_test: (1322000,)\n",
      "y_val: (1322000,)\n"
     ]
    }
   ],
   "source": [
    "X_train, X_test, X_val, y_train, y_test, y_val = get_data()\n"
   ]
  },
  {
   "cell_type": "code",
   "execution_count": 7,
   "id": "e712f089",
   "metadata": {},
   "outputs": [
    {
     "name": "stdout",
     "output_type": "stream",
     "text": [
      "Epoch 1/10\n",
      "\u001b[1m123938/123938\u001b[0m \u001b[32m━━━━━━━━━━━━━━━━━━━━\u001b[0m\u001b[37m\u001b[0m \u001b[1m59s\u001b[0m 470us/step - loss: 2.0646 - r2_score: 0.1583 - root_mean_squared_error: 1.4368 - val_loss: 2.0736 - val_r2_score: 0.1546 - val_root_mean_squared_error: 1.4400\n",
      "Epoch 2/10\n",
      "\u001b[1m123938/123938\u001b[0m \u001b[32m━━━━━━━━━━━━━━━━━━━━\u001b[0m\u001b[37m\u001b[0m \u001b[1m59s\u001b[0m 476us/step - loss: 2.0444 - r2_score: 0.1722 - root_mean_squared_error: 1.4298 - val_loss: 2.0235 - val_r2_score: 0.1750 - val_root_mean_squared_error: 1.4225\n",
      "Epoch 3/10\n",
      "\u001b[1m123938/123938\u001b[0m \u001b[32m━━━━━━━━━━━━━━━━━━━━\u001b[0m\u001b[37m\u001b[0m \u001b[1m60s\u001b[0m 481us/step - loss: 2.0213 - r2_score: 0.1767 - root_mean_squared_error: 1.4217 - val_loss: 2.0147 - val_r2_score: 0.1786 - val_root_mean_squared_error: 1.4194\n",
      "Epoch 4/10\n",
      "\u001b[1m123938/123938\u001b[0m \u001b[32m━━━━━━━━━━━━━━━━━━━━\u001b[0m\u001b[37m\u001b[0m \u001b[1m60s\u001b[0m 482us/step - loss: 2.0303 - r2_score: 0.1771 - root_mean_squared_error: 1.4249 - val_loss: 2.0127 - val_r2_score: 0.1794 - val_root_mean_squared_error: 1.4187\n",
      "Epoch 5/10\n",
      "\u001b[1m123938/123938\u001b[0m \u001b[32m━━━━━━━━━━━━━━━━━━━━\u001b[0m\u001b[37m\u001b[0m \u001b[1m60s\u001b[0m 486us/step - loss: 2.0162 - r2_score: 0.1780 - root_mean_squared_error: 1.4199 - val_loss: 2.0109 - val_r2_score: 0.1801 - val_root_mean_squared_error: 1.4181\n",
      "Epoch 6/10\n",
      "\u001b[1m123938/123938\u001b[0m \u001b[32m━━━━━━━━━━━━━━━━━━━━\u001b[0m\u001b[37m\u001b[0m \u001b[1m60s\u001b[0m 484us/step - loss: 2.0176 - r2_score: 0.1789 - root_mean_squared_error: 1.4204 - val_loss: 2.0132 - val_r2_score: 0.1792 - val_root_mean_squared_error: 1.4189\n",
      "Epoch 7/10\n",
      "\u001b[1m123938/123938\u001b[0m \u001b[32m━━━━━━━━━━━━━━━━━━━━\u001b[0m\u001b[37m\u001b[0m \u001b[1m60s\u001b[0m 487us/step - loss: 2.0196 - r2_score: 0.1792 - root_mean_squared_error: 1.4211 - val_loss: 2.0168 - val_r2_score: 0.1777 - val_root_mean_squared_error: 1.4201\n",
      "Epoch 8/10\n",
      "\u001b[1m123938/123938\u001b[0m \u001b[32m━━━━━━━━━━━━━━━━━━━━\u001b[0m\u001b[37m\u001b[0m \u001b[1m61s\u001b[0m 492us/step - loss: 2.0261 - r2_score: 0.1785 - root_mean_squared_error: 1.4234 - val_loss: 2.0164 - val_r2_score: 0.1779 - val_root_mean_squared_error: 1.4200\n",
      "Epoch 9/10\n",
      "\u001b[1m123938/123938\u001b[0m \u001b[32m━━━━━━━━━━━━━━━━━━━━\u001b[0m\u001b[37m\u001b[0m \u001b[1m64s\u001b[0m 517us/step - loss: 2.0160 - r2_score: 0.1807 - root_mean_squared_error: 1.4198 - val_loss: 2.0225 - val_r2_score: 0.1754 - val_root_mean_squared_error: 1.4222\n",
      "Epoch 10/10\n",
      "\u001b[1m123938/123938\u001b[0m \u001b[32m━━━━━━━━━━━━━━━━━━━━\u001b[0m\u001b[37m\u001b[0m \u001b[1m924s\u001b[0m 7ms/step - loss: 2.0204 - r2_score: 0.1801 - root_mean_squared_error: 1.4214 - val_loss: 2.0119 - val_r2_score: 0.1797 - val_root_mean_squared_error: 1.4184\n",
      "\u001b[1m41313/41313\u001b[0m \u001b[32m━━━━━━━━━━━━━━━━━━━━\u001b[0m\u001b[37m\u001b[0m \u001b[1m309s\u001b[0m 7ms/step - loss: 2.0237 - r2_score: 0.1798 - root_mean_squared_error: 1.4225\n",
      "\n",
      "Loss: 2.0150017738342285\n",
      "RMSE: 1.419507622718811\n",
      "R2Score: 0.17984682321548462\n"
     ]
    }
   ],
   "source": [
    "model = Sequential(\n",
    "    [\n",
    "        Dense(128, activation=\"relu\"),\n",
    "        Dense(64, activation=\"relu\"),\n",
    "        Dense(32, activation=\"relu\"),\n",
    "        Dense(1),\n",
    "    ]\n",
    ")\n",
    "model.build(input_shape=(None, X_train.shape[1]))\n",
    "\n",
    "model.compile(\n",
    "    optimizer=Adam(learning_rate=0.001), loss=\"mse\", metrics=[RMSE(), R2Score()]\n",
    ")\n",
    "\n",
    "history = model.fit(\n",
    "    X_train,\n",
    "    y_train,\n",
    "    validation_data=(X_val, y_val),\n",
    "    epochs=10,\n",
    "    batch_size=32,\n",
    "    verbose=1,\n",
    ")\n",
    "\n",
    "loss, rmse, r2_score = model.evaluate(X_test, y_test, verbose=1)\n",
    "\n",
    "print(\"\")\n",
    "print(f\"Loss: {loss}\")\n",
    "print(f\"RMSE: {rmse}\")\n",
    "print(f\"R2Score: {r2_score}\")"
   ]
  },
  {
   "cell_type": "markdown",
   "id": "def86722",
   "metadata": {},
   "source": [
    "The XGB Regressor and Neural Net are the most promising candidates."
   ]
  }
 ],
 "metadata": {
  "kernelspec": {
   "display_name": ".venv (3.12.8)",
   "language": "python",
   "name": "python3"
  },
  "language_info": {
   "codemirror_mode": {
    "name": "ipython",
    "version": 3
   },
   "file_extension": ".py",
   "mimetype": "text/x-python",
   "name": "python",
   "nbconvert_exporter": "python",
   "pygments_lexer": "ipython3",
   "version": "3.12.8"
  }
 },
 "nbformat": 4,
 "nbformat_minor": 5
}
