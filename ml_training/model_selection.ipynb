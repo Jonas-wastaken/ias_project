{
 "cells": [
  {
   "cell_type": "markdown",
   "id": "40b5b115",
   "metadata": {},
   "source": [
    "# Model Selection\n",
    "\n",
    "This Notebook tests multiple regression models in their base configs to select the most promising algorithm for the task\n"
   ]
  },
  {
   "cell_type": "code",
   "execution_count": 1,
   "id": "b3b06ccd",
   "metadata": {},
   "outputs": [],
   "source": [
    "import os\n",
    "import polars as pl\n",
    "from sklearn.preprocessing import (\n",
    "    StandardScaler,\n",
    "    PolynomialFeatures,\n",
    ")\n",
    "from sklearn.model_selection import train_test_split\n",
    "from sklearn.metrics import r2_score, root_mean_squared_error as rmse\n",
    "import mlflow\n",
    "import mlflow.sklearn\n",
    "import mlflow.xgboost"
   ]
  },
  {
   "cell_type": "code",
   "execution_count": 2,
   "id": "17e9635a",
   "metadata": {},
   "outputs": [],
   "source": [
    "def get_data(poly_features: int = 1):\n",
    "    # Get Data\n",
    "    data = pl.read_parquet(\"data.parquet\")\n",
    "    data = data.drop([\"Step\", \"Light_ID\", \"Lane\", \"Intersection_u\", \"Sim_ID\"])\n",
    "    data = data.with_columns(pl.col(\"Is_Entrypoint\").cast(pl.Int8))\n",
    "    print(f\"Data: {data.shape}\")\n",
    "    print(f\"{data.collect_schema()}\")\n",
    "\n",
    "    # Split Data\n",
    "    X = data.drop(\"Num_Cars\").to_numpy()\n",
    "    y = data.select(pl.col(\"Num_Cars\")).to_numpy()\n",
    "    y = y.ravel()\n",
    "    print(\"\")\n",
    "    print(f\"X: {X.shape}\")\n",
    "    print(f\"y: {y.shape}\")\n",
    "\n",
    "    # Scale\n",
    "    scaler = StandardScaler()\n",
    "    X = scaler.fit_transform(X)\n",
    "\n",
    "    # Polynomial Features\n",
    "    if poly_features > 1:\n",
    "        poly = PolynomialFeatures(degree=poly_features)\n",
    "        X = poly.fit_transform(X)\n",
    "\n",
    "    # Train Test Split\n",
    "    X_train, X_test, y_train, y_test = train_test_split(\n",
    "        X, y, train_size=0.6, test_size=0.4, random_state=42\n",
    "    )\n",
    "    print(\"\")\n",
    "    print(f\"X_train: {X_train.shape}\")\n",
    "    print(f\"X_test: {X_test.shape}\")\n",
    "    print(f\"y_train: {y_train.shape}\")\n",
    "    print(f\"y_test {y_test.shape}\")\n",
    "\n",
    "    # Train Test Validation Split\n",
    "    X_test, X_val, y_test, y_val = train_test_split(\n",
    "        X_test, y_test, train_size=0.5, test_size=0.5, random_state=42\n",
    "    )\n",
    "    print(\"\")\n",
    "    print(f\"X_test: {X_test.shape}\")\n",
    "    print(f\"X_val: {X_val.shape}\")\n",
    "    print(f\"y_test: {y_test.shape}\")\n",
    "    print(f\"y_val: {y_val.shape}\")\n",
    "\n",
    "    return X_train, X_test, X_val, y_train, y_test, y_val"
   ]
  },
  {
   "cell_type": "markdown",
   "id": "6eddd1e8",
   "metadata": {},
   "source": [
    "## Linear Regression\n"
   ]
  },
  {
   "cell_type": "code",
   "execution_count": 13,
   "id": "3c3e76ed",
   "metadata": {},
   "outputs": [],
   "source": [
    "from sklearn.linear_model import LinearRegression"
   ]
  },
  {
   "cell_type": "code",
   "execution_count": 14,
   "id": "f38ef012",
   "metadata": {},
   "outputs": [
    {
     "name": "stdout",
     "output_type": "stream",
     "text": [
      "Data: (6610000, 5)\n",
      "Schema({'Time': Int16, 'Num_Cars': Int16, 'Centrality': Float32, 'Is_Entrypoint': Int8, 'Distance': Int16})\n",
      "\n",
      "X: (6610000, 4)\n",
      "y: (6610000,)\n",
      "\n",
      "X_train: (3966000, 4)\n",
      "X_test: (2644000, 4)\n",
      "y_train: (3966000,)\n",
      "y_test (2644000,)\n",
      "\n",
      "X_test: (1322000, 4)\n",
      "X_val: (1322000, 4)\n",
      "y_test: (1322000,)\n",
      "y_val: (1322000,)\n"
     ]
    }
   ],
   "source": [
    "X_train, X_test, X_val, y_train, y_test, y_val = get_data()"
   ]
  },
  {
   "cell_type": "code",
   "execution_count": 15,
   "id": "cfb6c0c8",
   "metadata": {},
   "outputs": [
    {
     "name": "stdout",
     "output_type": "stream",
     "text": [
      "LinearRegression(n_jobs=-1)\n",
      "\n",
      "R2 Score (Training Data): 0.09408396482467651\n",
      "RMSE (Training Data): 1.4932094812393188\n",
      "R2 Score (Test Data): 0.09340804815292358\n",
      "RMSE (Test Data): 1.4924378395080566\n"
     ]
    },
    {
     "name": "stderr",
     "output_type": "stream",
     "text": [
      "\u001b[31m2025/04/13 15:36:28 WARNING mlflow.models.model: Model logged without a signature and input example. Please set `input_example` parameter when logging the model to auto infer the model signature.\u001b[0m\n"
     ]
    }
   ],
   "source": [
    "with mlflow.start_run():\n",
    "    mlflow.log_param(\"model_type\", \"LinearRegression\")\n",
    "\n",
    "    model = LinearRegression(n_jobs=-1)\n",
    "    model.fit(X_train, y_train)\n",
    "\n",
    "    print(model)\n",
    "    print(\"\")\n",
    "\n",
    "    y_pred_train = model.predict(X_train)\n",
    "    train_r2 = r2_score(y_true=y_train, y_pred=y_pred_train)\n",
    "    train_rmse = rmse(y_true=y_train, y_pred=y_pred_train)\n",
    "\n",
    "    print(f\"R2 Score (Training Data): {train_r2}\")\n",
    "    print(f\"RMSE (Training Data): {train_rmse}\")\n",
    "\n",
    "    mlflow.log_metric(\"train_r2\", train_r2)\n",
    "    mlflow.log_metric(\"train_rmse\", train_rmse)\n",
    "\n",
    "    y_pred_test = model.predict(X_test)\n",
    "    test_r2 = r2_score(y_true=y_test, y_pred=y_pred_test)\n",
    "    test_rmse = rmse(y_true=y_test, y_pred=y_pred_test)\n",
    "\n",
    "    print(f\"R2 Score (Test Data): {test_r2}\")\n",
    "    print(f\"RMSE (Test Data): {test_rmse}\")\n",
    "\n",
    "    mlflow.log_metric(\"test_r2\", test_r2)\n",
    "    mlflow.log_metric(\"test_rmse\", test_rmse)\n",
    "\n",
    "    mlflow.sklearn.log_model(model, \"model\")"
   ]
  },
  {
   "cell_type": "markdown",
   "id": "9020fd06",
   "metadata": {},
   "source": [
    "## Linear Regression with Polynomial Features\n"
   ]
  },
  {
   "cell_type": "code",
   "execution_count": 7,
   "id": "b461d3a5",
   "metadata": {},
   "outputs": [],
   "source": [
    "from sklearn.linear_model import LinearRegression"
   ]
  },
  {
   "cell_type": "code",
   "execution_count": 16,
   "id": "2f084f8e",
   "metadata": {},
   "outputs": [
    {
     "name": "stdout",
     "output_type": "stream",
     "text": [
      "Data: (6610000, 5)\n",
      "Schema({'Time': Int16, 'Num_Cars': Int16, 'Centrality': Float32, 'Is_Entrypoint': Int8, 'Distance': Int16})\n",
      "\n",
      "X: (6610000, 4)\n",
      "y: (6610000,)\n",
      "\n",
      "X_train: (3966000, 15)\n",
      "X_test: (2644000, 15)\n",
      "y_train: (3966000,)\n",
      "y_test (2644000,)\n",
      "\n",
      "X_test: (1322000, 15)\n",
      "X_val: (1322000, 15)\n",
      "y_test: (1322000,)\n",
      "y_val: (1322000,)\n"
     ]
    }
   ],
   "source": [
    "X_train, X_test, X_val, y_train, y_test, y_val = get_data(poly_features=2)"
   ]
  },
  {
   "cell_type": "code",
   "execution_count": 17,
   "id": "14ba91a2",
   "metadata": {},
   "outputs": [
    {
     "name": "stdout",
     "output_type": "stream",
     "text": [
      "LinearRegression(n_jobs=-1)\n",
      "\n",
      "R2 Score (Training Data): 3.9517879486083984e-05\n",
      "RMSE (Training Data): 1.5688021183013916\n",
      "R2 Score (Test Data): 5.6743621826171875e-05\n",
      "RMSE (Test Data): 1.5673933029174805\n"
     ]
    },
    {
     "name": "stderr",
     "output_type": "stream",
     "text": [
      "\u001b[31m2025/04/13 15:36:47 WARNING mlflow.models.model: Model logged without a signature and input example. Please set `input_example` parameter when logging the model to auto infer the model signature.\u001b[0m\n"
     ]
    }
   ],
   "source": [
    "with mlflow.start_run():\n",
    "    mlflow.log_param(\"model_type\", \"LinearRegression\")\n",
    "    mlflow.log_param(\"degree\", 2)\n",
    "\n",
    "    model = LinearRegression(n_jobs=-1)\n",
    "    model.fit(X_train, y_train)\n",
    "\n",
    "    print(model)\n",
    "    print(\"\")\n",
    "\n",
    "    y_pred_train = model.predict(X_train)\n",
    "    train_r2 = r2_score(y_true=y_train, y_pred=y_pred_train)\n",
    "    train_rmse = rmse(y_true=y_train, y_pred=y_pred_train)\n",
    "\n",
    "    print(f\"R2 Score (Training Data): {train_r2}\")\n",
    "    print(f\"RMSE (Training Data): {train_rmse}\")\n",
    "\n",
    "    mlflow.log_metric(\"train_r2\", train_r2)\n",
    "    mlflow.log_metric(\"train_rmse\", train_rmse)\n",
    "\n",
    "    y_pred_test = model.predict(X_test)\n",
    "    test_r2 = r2_score(y_true=y_test, y_pred=y_pred_test)\n",
    "    test_rmse = rmse(y_true=y_test, y_pred=y_pred_test)\n",
    "\n",
    "    print(f\"R2 Score (Test Data): {test_r2}\")\n",
    "    print(f\"RMSE (Test Data): {test_rmse}\")\n",
    "\n",
    "    mlflow.log_metric(\"test_r2\", test_r2)\n",
    "    mlflow.log_metric(\"test_rmse\", test_rmse)\n",
    "\n",
    "    mlflow.sklearn.log_model(model, \"model\")"
   ]
  },
  {
   "cell_type": "code",
   "execution_count": 18,
   "id": "bc6a3b55",
   "metadata": {},
   "outputs": [
    {
     "name": "stdout",
     "output_type": "stream",
     "text": [
      "Data: (6610000, 5)\n",
      "Schema({'Time': Int16, 'Num_Cars': Int16, 'Centrality': Float32, 'Is_Entrypoint': Int8, 'Distance': Int16})\n",
      "\n",
      "X: (6610000, 4)\n",
      "y: (6610000,)\n",
      "\n",
      "X_train: (3966000, 35)\n",
      "X_test: (2644000, 35)\n",
      "y_train: (3966000,)\n",
      "y_test (2644000,)\n",
      "\n",
      "X_test: (1322000, 35)\n",
      "X_val: (1322000, 35)\n",
      "y_test: (1322000,)\n",
      "y_val: (1322000,)\n"
     ]
    }
   ],
   "source": [
    "X_train, X_test, X_val, y_train, y_test, y_val = get_data(poly_features=3)"
   ]
  },
  {
   "cell_type": "code",
   "execution_count": 19,
   "id": "65441304",
   "metadata": {},
   "outputs": [
    {
     "name": "stdout",
     "output_type": "stream",
     "text": [
      "LinearRegression(n_jobs=-1)\n",
      "\n",
      "R2 Score (Training Data): 3.9517879486083984e-05\n",
      "RMSE (Training Data): 1.5688021183013916\n",
      "R2 Score (Test Data): 5.6862831115722656e-05\n",
      "RMSE (Test Data): 1.567393183708191\n"
     ]
    },
    {
     "name": "stderr",
     "output_type": "stream",
     "text": [
      "\u001b[31m2025/04/13 15:37:00 WARNING mlflow.models.model: Model logged without a signature and input example. Please set `input_example` parameter when logging the model to auto infer the model signature.\u001b[0m\n"
     ]
    }
   ],
   "source": [
    "with mlflow.start_run():\n",
    "    mlflow.log_param(\"model_type\", \"LinearRegression\")\n",
    "    mlflow.log_param(\"degree\", 3)\n",
    "\n",
    "    model = LinearRegression(n_jobs=-1)\n",
    "    model.fit(X_train, y_train)\n",
    "\n",
    "    print(model)\n",
    "    print(\"\")\n",
    "\n",
    "    y_pred_train = model.predict(X_train)\n",
    "    train_r2 = r2_score(y_true=y_train, y_pred=y_pred_train)\n",
    "    train_rmse = rmse(y_true=y_train, y_pred=y_pred_train)\n",
    "\n",
    "    print(f\"R2 Score (Training Data): {train_r2}\")\n",
    "    print(f\"RMSE (Training Data): {train_rmse}\")\n",
    "\n",
    "    mlflow.log_metric(\"train_r2\", train_r2)\n",
    "    mlflow.log_metric(\"train_rmse\", train_rmse)\n",
    "\n",
    "    y_pred_test = model.predict(X_test)\n",
    "    test_r2 = r2_score(y_true=y_test, y_pred=y_pred_test)\n",
    "    test_rmse = rmse(y_true=y_test, y_pred=y_pred_test)\n",
    "\n",
    "    print(f\"R2 Score (Test Data): {test_r2}\")\n",
    "    print(f\"RMSE (Test Data): {test_rmse}\")\n",
    "\n",
    "    mlflow.log_metric(\"test_r2\", test_r2)\n",
    "    mlflow.log_metric(\"test_rmse\", test_rmse)\n",
    "\n",
    "    mlflow.sklearn.log_model(model, \"model\")"
   ]
  },
  {
   "cell_type": "markdown",
   "id": "e9aa644a",
   "metadata": {},
   "source": [
    "## Decision Tree Regression\n"
   ]
  },
  {
   "cell_type": "code",
   "execution_count": 20,
   "id": "15243930",
   "metadata": {},
   "outputs": [],
   "source": [
    "from sklearn.tree import DecisionTreeRegressor"
   ]
  },
  {
   "cell_type": "code",
   "execution_count": 21,
   "id": "636d1d77",
   "metadata": {},
   "outputs": [
    {
     "name": "stdout",
     "output_type": "stream",
     "text": [
      "Data: (6610000, 5)\n",
      "Schema({'Time': Int16, 'Num_Cars': Int16, 'Centrality': Float32, 'Is_Entrypoint': Int8, 'Distance': Int16})\n",
      "\n",
      "X: (6610000, 4)\n",
      "y: (6610000,)\n",
      "\n",
      "X_train: (3966000, 4)\n",
      "X_test: (2644000, 4)\n",
      "y_train: (3966000,)\n",
      "y_test (2644000,)\n",
      "\n",
      "X_test: (1322000, 4)\n",
      "X_val: (1322000, 4)\n",
      "y_test: (1322000,)\n",
      "y_val: (1322000,)\n"
     ]
    }
   ],
   "source": [
    "X_train, X_test, X_val, y_train, y_test, y_val = get_data()"
   ]
  },
  {
   "cell_type": "code",
   "execution_count": 22,
   "id": "a3802006",
   "metadata": {},
   "outputs": [
    {
     "name": "stdout",
     "output_type": "stream",
     "text": [
      "DecisionTreeRegressor(random_state=42)\n",
      "\n",
      "R2 Score (Training Data): 0.46521877733411565\n",
      "RMSE (Training Data): 1.1472678598443036\n",
      "R2 Score (Test Data): 0.02001084905453221\n",
      "RMSE (Test Data): 1.5516754321690063\n"
     ]
    },
    {
     "name": "stderr",
     "output_type": "stream",
     "text": [
      "\u001b[31m2025/04/13 15:37:51 WARNING mlflow.models.model: Model logged without a signature and input example. Please set `input_example` parameter when logging the model to auto infer the model signature.\u001b[0m\n"
     ]
    }
   ],
   "source": [
    "with mlflow.start_run():\n",
    "    mlflow.log_param(\"model_type\", \"DecisionTreeRegressor\")\n",
    "\n",
    "    model = DecisionTreeRegressor(random_state=42)\n",
    "    model.fit(X_train, y_train)\n",
    "\n",
    "    print(model)\n",
    "    print(\"\")\n",
    "\n",
    "    y_pred_train = model.predict(X_train)\n",
    "    train_r2 = r2_score(y_true=y_train, y_pred=y_pred_train)\n",
    "    train_rmse = rmse(y_true=y_train, y_pred=y_pred_train)\n",
    "\n",
    "    print(f\"R2 Score (Training Data): {train_r2}\")\n",
    "    print(f\"RMSE (Training Data): {train_rmse}\")\n",
    "\n",
    "    mlflow.log_metric(\"train_r2\", train_r2)\n",
    "    mlflow.log_metric(\"train_rmse\", train_rmse)\n",
    "\n",
    "    y_pred_test = model.predict(X_test)\n",
    "    test_r2 = r2_score(y_true=y_test, y_pred=y_pred_test)\n",
    "    test_rmse = rmse(y_true=y_test, y_pred=y_pred_test)\n",
    "\n",
    "    print(f\"R2 Score (Test Data): {test_r2}\")\n",
    "    print(f\"RMSE (Test Data): {test_rmse}\")\n",
    "\n",
    "    mlflow.log_metric(\"test_r2\", test_r2)\n",
    "    mlflow.log_metric(\"test_rmse\", test_rmse)\n",
    "\n",
    "    mlflow.sklearn.log_model(model, \"model\")"
   ]
  },
  {
   "cell_type": "markdown",
   "id": "985e8dcb",
   "metadata": {},
   "source": [
    "## Random Forest Regression\n"
   ]
  },
  {
   "cell_type": "code",
   "execution_count": 23,
   "id": "a77838db",
   "metadata": {},
   "outputs": [],
   "source": [
    "from sklearn.ensemble import RandomForestRegressor"
   ]
  },
  {
   "cell_type": "code",
   "execution_count": 24,
   "id": "0215ee2a",
   "metadata": {},
   "outputs": [
    {
     "name": "stdout",
     "output_type": "stream",
     "text": [
      "Data: (6610000, 5)\n",
      "Schema({'Time': Int16, 'Num_Cars': Int16, 'Centrality': Float32, 'Is_Entrypoint': Int8, 'Distance': Int16})\n",
      "\n",
      "X: (6610000, 4)\n",
      "y: (6610000,)\n",
      "\n",
      "X_train: (3966000, 4)\n",
      "X_test: (2644000, 4)\n",
      "y_train: (3966000,)\n",
      "y_test (2644000,)\n",
      "\n",
      "X_test: (1322000, 4)\n",
      "X_val: (1322000, 4)\n",
      "y_test: (1322000,)\n",
      "y_val: (1322000,)\n"
     ]
    }
   ],
   "source": [
    "X_train, X_test, X_val, y_train, y_test, y_val = get_data()"
   ]
  },
  {
   "cell_type": "code",
   "execution_count": 25,
   "id": "9b6bc239",
   "metadata": {},
   "outputs": [
    {
     "name": "stdout",
     "output_type": "stream",
     "text": [
      "RandomForestRegressor(random_state=42)\n",
      "\n",
      "R2 Score (Training Data): 0.4614106202046152\n",
      "RMSE (Training Data): 1.1513454394562874\n",
      "R2 Score (Test Data): 0.08627984488903662\n",
      "RMSE (Test Data): 1.4982933517121462\n"
     ]
    },
    {
     "name": "stderr",
     "output_type": "stream",
     "text": [
      "\u001b[31m2025/04/13 15:52:50 WARNING mlflow.models.model: Model logged without a signature and input example. Please set `input_example` parameter when logging the model to auto infer the model signature.\u001b[0m\n"
     ]
    }
   ],
   "source": [
    "with mlflow.start_run():\n",
    "    mlflow.log_param(\"model_type\", \"RandomForestRegressor\")\n",
    "\n",
    "    model = RandomForestRegressor(random_state=42)\n",
    "    model.fit(X_train, y_train)\n",
    "\n",
    "    print(model)\n",
    "    print(\"\")\n",
    "\n",
    "    y_pred_train = model.predict(X_train)\n",
    "    train_r2 = r2_score(y_true=y_train, y_pred=y_pred_train)\n",
    "    train_rmse = rmse(y_true=y_train, y_pred=y_pred_train)\n",
    "\n",
    "    print(f\"R2 Score (Training Data): {train_r2}\")\n",
    "    print(f\"RMSE (Training Data): {train_rmse}\")\n",
    "\n",
    "    mlflow.log_metric(\"train_r2\", train_r2)\n",
    "    mlflow.log_metric(\"train_rmse\", train_rmse)\n",
    "\n",
    "    y_pred_test = model.predict(X_test)\n",
    "    test_r2 = r2_score(y_true=y_test, y_pred=y_pred_test)\n",
    "    test_rmse = rmse(y_true=y_test, y_pred=y_pred_test)\n",
    "\n",
    "    print(f\"R2 Score (Test Data): {test_r2}\")\n",
    "    print(f\"RMSE (Test Data): {test_rmse}\")\n",
    "\n",
    "    mlflow.log_metric(\"test_r2\", test_r2)\n",
    "    mlflow.log_metric(\"test_rmse\", test_rmse)\n",
    "\n",
    "    mlflow.sklearn.log_model(model, \"model\")"
   ]
  },
  {
   "cell_type": "markdown",
   "id": "29a087e6",
   "metadata": {},
   "source": [
    "## Gradient Boosting Regression\n"
   ]
  },
  {
   "cell_type": "code",
   "execution_count": 3,
   "id": "37ba8edc",
   "metadata": {},
   "outputs": [],
   "source": [
    "from xgboost import XGBRegressor"
   ]
  },
  {
   "cell_type": "code",
   "execution_count": 4,
   "id": "0c8c69b5",
   "metadata": {},
   "outputs": [
    {
     "name": "stdout",
     "output_type": "stream",
     "text": [
      "Data: (6610000, 5)\n",
      "Schema({'Time': Int16, 'Num_Cars': Int16, 'Centrality': Float32, 'Is_Entrypoint': Int8, 'Distance': Int16})\n",
      "\n",
      "X: (6610000, 4)\n",
      "y: (6610000,)\n",
      "\n",
      "X_train: (3966000, 4)\n",
      "X_test: (2644000, 4)\n",
      "y_train: (3966000,)\n",
      "y_test (2644000,)\n",
      "\n",
      "X_test: (1322000, 4)\n",
      "X_val: (1322000, 4)\n",
      "y_test: (1322000,)\n",
      "y_val: (1322000,)\n"
     ]
    }
   ],
   "source": [
    "X_train, X_test, X_val, y_train, y_test, y_val = get_data()"
   ]
  },
  {
   "cell_type": "code",
   "execution_count": 5,
   "id": "3522c5d6",
   "metadata": {},
   "outputs": [
    {
     "name": "stdout",
     "output_type": "stream",
     "text": [
      "XGBRegressor(base_score=None, booster=None, callbacks=None,\n",
      "             colsample_bylevel=None, colsample_bynode=None,\n",
      "             colsample_bytree=None, device=None, early_stopping_rounds=None,\n",
      "             enable_categorical=False, eval_metric=None, feature_types=None,\n",
      "             feature_weights=None, gamma=None, grow_policy=None,\n",
      "             importance_type=None, interaction_constraints=None,\n",
      "             learning_rate=None, max_bin=None, max_cat_threshold=None,\n",
      "             max_cat_to_onehot=None, max_delta_step=None, max_depth=None,\n",
      "             max_leaves=None, min_child_weight=None, missing=nan,\n",
      "             monotone_constraints=None, multi_strategy=None, n_estimators=None,\n",
      "             n_jobs=None, num_parallel_tree=None, ...)\n",
      "\n",
      "R2 Score (Training Data): 0.21278494596481323\n",
      "RMSE (Training Data): 1.3919494152069092\n",
      "R2 Score (Test Data): 0.20956403017044067\n",
      "RMSE (Test Data): 1.3935534954071045\n"
     ]
    },
    {
     "name": "stderr",
     "output_type": "stream",
     "text": [
      "/Users/Work/git/ias_project/ml_training/.venv/lib/python3.12/site-packages/xgboost/sklearn.py:1028: UserWarning: [16:40:12] WARNING: /Users/runner/work/xgboost/xgboost/src/c_api/c_api.cc:1427: Saving model in the UBJSON format as default.  You can use file extension: `json`, `ubj` or `deprecated` to choose between formats.\n",
      "  self.get_booster().save_model(fname)\n",
      "\u001b[31m2025/04/13 16:40:14 WARNING mlflow.models.model: Model logged without a signature and input example. Please set `input_example` parameter when logging the model to auto infer the model signature.\u001b[0m\n"
     ]
    }
   ],
   "source": [
    "with mlflow.start_run():\n",
    "    mlflow.log_param(\"model_type\", \"XGBRegressor\")\n",
    "\n",
    "    model = XGBRegressor(random_state=42)\n",
    "    model.fit(X_train, y_train)\n",
    "\n",
    "    print(model)\n",
    "    print(\"\")\n",
    "\n",
    "    y_pred_train = model.predict(X_train)\n",
    "    train_r2 = r2_score(y_true=y_train, y_pred=y_pred_train)\n",
    "    train_rmse = rmse(y_true=y_train, y_pred=y_pred_train)\n",
    "\n",
    "    print(f\"R2 Score (Training Data): {train_r2}\")\n",
    "    print(f\"RMSE (Training Data): {train_rmse}\")\n",
    "\n",
    "    mlflow.log_metric(\"train_r2\", train_r2)\n",
    "    mlflow.log_metric(\"train_rmse\", train_rmse)\n",
    "\n",
    "    y_pred_test = model.predict(X_test)\n",
    "    test_r2 = r2_score(y_true=y_test, y_pred=y_pred_test)\n",
    "    test_rmse = rmse(y_true=y_test, y_pred=y_pred_test)\n",
    "\n",
    "    print(f\"R2 Score (Test Data): {test_r2}\")\n",
    "    print(f\"RMSE (Test Data): {test_rmse}\")\n",
    "\n",
    "    mlflow.log_metric(\"test_r2\", test_r2)\n",
    "    mlflow.log_metric(\"test_rmse\", test_rmse)\n",
    "\n",
    "    mlflow.xgboost.log_model(model, \"model\")"
   ]
  },
  {
   "cell_type": "markdown",
   "id": "d1778fb1",
   "metadata": {},
   "source": [
    "## KNN Regression\n"
   ]
  },
  {
   "cell_type": "code",
   "execution_count": 6,
   "id": "fb4bdb1b",
   "metadata": {},
   "outputs": [],
   "source": [
    "from sklearn.neighbors import KNeighborsRegressor"
   ]
  },
  {
   "cell_type": "code",
   "execution_count": 7,
   "id": "fd0dec25",
   "metadata": {},
   "outputs": [
    {
     "name": "stdout",
     "output_type": "stream",
     "text": [
      "Data: (6610000, 5)\n",
      "Schema({'Time': Int16, 'Num_Cars': Int16, 'Centrality': Float32, 'Is_Entrypoint': Int8, 'Distance': Int16})\n",
      "\n",
      "X: (6610000, 4)\n",
      "y: (6610000,)\n",
      "\n",
      "X_train: (3966000, 4)\n",
      "X_test: (2644000, 4)\n",
      "y_train: (3966000,)\n",
      "y_test (2644000,)\n",
      "\n",
      "X_test: (1322000, 4)\n",
      "X_val: (1322000, 4)\n",
      "y_test: (1322000,)\n",
      "y_val: (1322000,)\n"
     ]
    }
   ],
   "source": [
    "X_train, X_test, X_val, y_train, y_test, y_val = get_data()"
   ]
  },
  {
   "cell_type": "code",
   "execution_count": 8,
   "id": "168bbf6a",
   "metadata": {},
   "outputs": [
    {
     "name": "stdout",
     "output_type": "stream",
     "text": [
      "KNeighborsRegressor(n_jobs=-1)\n",
      "\n",
      "R2 Score (Training Data): 0.37521500359296933\n",
      "RMSE (Training Data): 1.2400581420494516\n",
      "R2 Score (Test Data): 0.09948158281760355\n",
      "RMSE (Test Data): 1.487430045139285\n"
     ]
    },
    {
     "name": "stderr",
     "output_type": "stream",
     "text": [
      "\u001b[31m2025/04/13 16:41:53 WARNING mlflow.models.model: Model logged without a signature and input example. Please set `input_example` parameter when logging the model to auto infer the model signature.\u001b[0m\n"
     ]
    }
   ],
   "source": [
    "with mlflow.start_run():\n",
    "    mlflow.log_param(\"model_type\", \"KNeighborsRegressor\")\n",
    "\n",
    "    model = KNeighborsRegressor(n_jobs=-1)\n",
    "    model.fit(X_train, y_train)\n",
    "\n",
    "    print(model)\n",
    "    print(\"\")\n",
    "\n",
    "    y_pred_train = model.predict(X_train)\n",
    "    train_r2 = r2_score(y_true=y_train, y_pred=y_pred_train)\n",
    "    train_rmse = rmse(y_true=y_train, y_pred=y_pred_train)\n",
    "\n",
    "    print(f\"R2 Score (Training Data): {train_r2}\")\n",
    "    print(f\"RMSE (Training Data): {train_rmse}\")\n",
    "\n",
    "    mlflow.log_metric(\"train_r2\", train_r2)\n",
    "    mlflow.log_metric(\"train_rmse\", train_rmse)\n",
    "\n",
    "    y_pred_test = model.predict(X_test)\n",
    "    test_r2 = r2_score(y_true=y_test, y_pred=y_pred_test)\n",
    "    test_rmse = rmse(y_true=y_test, y_pred=y_pred_test)\n",
    "\n",
    "    print(f\"R2 Score (Test Data): {test_r2}\")\n",
    "    print(f\"RMSE (Test Data): {test_rmse}\")\n",
    "\n",
    "    mlflow.log_metric(\"test_r2\", test_r2)\n",
    "    mlflow.log_metric(\"test_rmse\", test_rmse)\n",
    "\n",
    "    mlflow.sklearn.log_model(model, \"model\")"
   ]
  },
  {
   "cell_type": "markdown",
   "id": "0d79f539",
   "metadata": {},
   "source": [
    "## Bayesian Linear Regression\n"
   ]
  },
  {
   "cell_type": "code",
   "execution_count": 9,
   "id": "abf0fb45",
   "metadata": {},
   "outputs": [],
   "source": [
    "from sklearn.linear_model import BayesianRidge"
   ]
  },
  {
   "cell_type": "code",
   "execution_count": 10,
   "id": "8313bffe",
   "metadata": {},
   "outputs": [
    {
     "name": "stdout",
     "output_type": "stream",
     "text": [
      "Data: (6610000, 5)\n",
      "Schema({'Time': Int16, 'Num_Cars': Int16, 'Centrality': Float32, 'Is_Entrypoint': Int8, 'Distance': Int16})\n",
      "\n",
      "X: (6610000, 4)\n",
      "y: (6610000,)\n",
      "\n",
      "X_train: (3966000, 4)\n",
      "X_test: (2644000, 4)\n",
      "y_train: (3966000,)\n",
      "y_test (2644000,)\n",
      "\n",
      "X_test: (1322000, 4)\n",
      "X_val: (1322000, 4)\n",
      "y_test: (1322000,)\n",
      "y_val: (1322000,)\n"
     ]
    }
   ],
   "source": [
    "X_train, X_test, X_val, y_train, y_test, y_val = get_data()"
   ]
  },
  {
   "cell_type": "code",
   "execution_count": 11,
   "id": "3264d1c6",
   "metadata": {},
   "outputs": [
    {
     "name": "stdout",
     "output_type": "stream",
     "text": [
      "BayesianRidge()\n",
      "\n",
      "R2 Score (Training Data): 0.09408408403396606\n",
      "RMSE (Training Data): 1.4932093620300293\n",
      "R2 Score (Test Data): 0.09340924024581909\n",
      "RMSE (Test Data): 1.4924367666244507\n"
     ]
    },
    {
     "name": "stderr",
     "output_type": "stream",
     "text": [
      "\u001b[31m2025/04/13 16:42:44 WARNING mlflow.models.model: Model logged without a signature and input example. Please set `input_example` parameter when logging the model to auto infer the model signature.\u001b[0m\n"
     ]
    }
   ],
   "source": [
    "with mlflow.start_run():\n",
    "    mlflow.log_param(\"model_type\", \"BayesianRidge\")\n",
    "\n",
    "    model = BayesianRidge()\n",
    "    model.fit(X_train, y_train)\n",
    "\n",
    "    print(model)\n",
    "    print(\"\")\n",
    "\n",
    "    y_pred_train = model.predict(X_train)\n",
    "    train_r2 = r2_score(y_true=y_train, y_pred=y_pred_train)\n",
    "    train_rmse = rmse(y_true=y_train, y_pred=y_pred_train)\n",
    "\n",
    "    print(f\"R2 Score (Training Data): {train_r2}\")\n",
    "    print(f\"RMSE (Training Data): {train_rmse}\")\n",
    "\n",
    "    mlflow.log_metric(\"train_r2\", train_r2)\n",
    "    mlflow.log_metric(\"train_rmse\", train_rmse)\n",
    "\n",
    "    y_pred_test = model.predict(X_test)\n",
    "    test_r2 = r2_score(y_true=y_test, y_pred=y_pred_test)\n",
    "    test_rmse = rmse(y_true=y_test, y_pred=y_pred_test)\n",
    "\n",
    "    print(f\"R2 Score (Test Data): {test_r2}\")\n",
    "    print(f\"RMSE (Test Data): {test_rmse}\")\n",
    "\n",
    "    mlflow.log_metric(\"test_r2\", test_r2)\n",
    "    mlflow.log_metric(\"test_rmse\", test_rmse)\n",
    "\n",
    "    mlflow.sklearn.log_model(model, \"model\")"
   ]
  },
  {
   "cell_type": "markdown",
   "id": "23870927",
   "metadata": {},
   "source": [
    "## MLP Regression\n"
   ]
  },
  {
   "cell_type": "code",
   "execution_count": 12,
   "id": "83727c97",
   "metadata": {},
   "outputs": [],
   "source": [
    "from sklearn.neural_network import MLPRegressor"
   ]
  },
  {
   "cell_type": "code",
   "execution_count": 13,
   "id": "7f6c4f60",
   "metadata": {},
   "outputs": [
    {
     "name": "stdout",
     "output_type": "stream",
     "text": [
      "Data: (6610000, 5)\n",
      "Schema({'Time': Int16, 'Num_Cars': Int16, 'Centrality': Float32, 'Is_Entrypoint': Int8, 'Distance': Int16})\n",
      "\n",
      "X: (6610000, 4)\n",
      "y: (6610000,)\n",
      "\n",
      "X_train: (3966000, 4)\n",
      "X_test: (2644000, 4)\n",
      "y_train: (3966000,)\n",
      "y_test (2644000,)\n",
      "\n",
      "X_test: (1322000, 4)\n",
      "X_val: (1322000, 4)\n",
      "y_test: (1322000,)\n",
      "y_val: (1322000,)\n"
     ]
    }
   ],
   "source": [
    "X_train, X_test, X_val, y_train, y_test, y_val = get_data()"
   ]
  },
  {
   "cell_type": "code",
   "execution_count": 14,
   "id": "8afaa0d1",
   "metadata": {},
   "outputs": [
    {
     "name": "stdout",
     "output_type": "stream",
     "text": [
      "Iteration 1, loss = 1.04002500\n",
      "Iteration 2, loss = 1.03235185\n",
      "Iteration 3, loss = 1.02938068\n",
      "Iteration 4, loss = 1.02779078\n",
      "Iteration 5, loss = 1.02649188\n",
      "Iteration 6, loss = 1.02544248\n",
      "Iteration 7, loss = 1.02457106\n",
      "Iteration 8, loss = 1.02347517\n",
      "Iteration 9, loss = 1.02260268\n",
      "Iteration 10, loss = 1.02186048\n",
      "Iteration 11, loss = 1.02130949\n",
      "Iteration 12, loss = 1.02098083\n",
      "Iteration 13, loss = 1.02094650\n",
      "Iteration 14, loss = 1.02058840\n",
      "Iteration 15, loss = 1.02036154\n",
      "Iteration 16, loss = 1.02026320\n",
      "Iteration 17, loss = 1.02010155\n",
      "Iteration 18, loss = 1.01990640\n",
      "Iteration 19, loss = 1.01977825\n",
      "Iteration 20, loss = 1.01974905\n",
      "Iteration 21, loss = 1.01959395\n",
      "Iteration 22, loss = 1.01933146\n",
      "Iteration 23, loss = 1.01891053\n",
      "Iteration 24, loss = 1.01834548\n",
      "Iteration 25, loss = 1.01804018\n",
      "Iteration 26, loss = 1.01783276\n",
      "Iteration 27, loss = 1.01754177\n",
      "Iteration 28, loss = 1.01745856\n",
      "Iteration 29, loss = 1.01734650\n",
      "Iteration 30, loss = 1.01707852\n",
      "Iteration 31, loss = 1.01704168\n",
      "Iteration 32, loss = 1.01674759\n",
      "Iteration 33, loss = 1.01661813\n",
      "Iteration 34, loss = 1.01650894\n",
      "Iteration 35, loss = 1.01640129\n",
      "Iteration 36, loss = 1.01626647\n",
      "Iteration 37, loss = 1.01619339\n",
      "Iteration 38, loss = 1.01600778\n",
      "Iteration 39, loss = 1.01566613\n",
      "Iteration 40, loss = 1.01555884\n",
      "Iteration 41, loss = 1.01549172\n",
      "Iteration 42, loss = 1.01538813\n",
      "Iteration 43, loss = 1.01527452\n",
      "Iteration 44, loss = 1.01523721\n",
      "Iteration 45, loss = 1.01521921\n",
      "Iteration 46, loss = 1.01525903\n",
      "Iteration 47, loss = 1.01520765\n",
      "Iteration 48, loss = 1.01525629\n",
      "Iteration 49, loss = 1.01533008\n",
      "Iteration 50, loss = 1.01536775\n",
      "Iteration 51, loss = 1.01508152\n",
      "Iteration 52, loss = 1.01524842\n",
      "Iteration 53, loss = 1.01523161\n",
      "Iteration 54, loss = 1.01519144\n",
      "Iteration 55, loss = 1.01517487\n",
      "Iteration 56, loss = 1.01502585\n",
      "Iteration 57, loss = 1.01486778\n",
      "Iteration 58, loss = 1.01497722\n",
      "Iteration 59, loss = 1.01491368\n",
      "Iteration 60, loss = 1.01487207\n",
      "Iteration 61, loss = 1.01484323\n",
      "Iteration 62, loss = 1.01490557\n",
      "Iteration 63, loss = 1.01487398\n",
      "Iteration 64, loss = 1.01475954\n",
      "Iteration 65, loss = 1.01475561\n",
      "Iteration 66, loss = 1.01477587\n",
      "Iteration 67, loss = 1.01477385\n",
      "Iteration 68, loss = 1.01469910\n",
      "Training loss did not improve more than tol=0.000100 for 10 consecutive epochs. Stopping.\n",
      "MLPRegressor(random_state=42, verbose=True)\n",
      "\n",
      "R2 Score (Training Data): 0.17622613906860352\n",
      "RMSE (Training Data): 1.4239041805267334\n",
      "R2 Score (Test Data): 0.17540669441223145\n",
      "RMSE (Test Data): 1.4233450889587402\n"
     ]
    },
    {
     "name": "stderr",
     "output_type": "stream",
     "text": [
      "\u001b[31m2025/04/13 16:47:28 WARNING mlflow.models.model: Model logged without a signature and input example. Please set `input_example` parameter when logging the model to auto infer the model signature.\u001b[0m\n"
     ]
    }
   ],
   "source": [
    "with mlflow.start_run():\n",
    "    mlflow.log_param(\"model_type\", \"MLPRegressor\")\n",
    "\n",
    "    model = MLPRegressor(random_state=42, verbose=True)\n",
    "    model.fit(X_train, y_train)\n",
    "\n",
    "    print(model)\n",
    "    print(\"\")\n",
    "\n",
    "    y_pred_train = model.predict(X_train)\n",
    "    train_r2 = r2_score(y_true=y_train, y_pred=y_pred_train)\n",
    "    train_rmse = rmse(y_true=y_train, y_pred=y_pred_train)\n",
    "\n",
    "    print(f\"R2 Score (Training Data): {train_r2}\")\n",
    "    print(f\"RMSE (Training Data): {train_rmse}\")\n",
    "\n",
    "    mlflow.log_metric(\"train_r2\", train_r2)\n",
    "    mlflow.log_metric(\"train_rmse\", train_rmse)\n",
    "\n",
    "    y_pred_test = model.predict(X_test)\n",
    "    test_r2 = r2_score(y_true=y_test, y_pred=y_pred_test)\n",
    "    test_rmse = rmse(y_true=y_test, y_pred=y_pred_test)\n",
    "\n",
    "    print(f\"R2 Score (Test Data): {test_r2}\")\n",
    "    print(f\"RMSE (Test Data): {test_rmse}\")\n",
    "\n",
    "    mlflow.log_metric(\"test_r2\", test_r2)\n",
    "    mlflow.log_metric(\"test_rmse\", test_rmse)\n",
    "\n",
    "    mlflow.sklearn.log_model(model, \"model\")"
   ]
  },
  {
   "cell_type": "markdown",
   "id": "a5464d13",
   "metadata": {},
   "source": [
    "## Tensorflow Dense Neural Net\n"
   ]
  },
  {
   "cell_type": "code",
   "execution_count": null,
   "id": "32ded2bc",
   "metadata": {},
   "outputs": [],
   "source": [
    "from tensorflow.keras.models import Sequential\n",
    "from tensorflow.keras.layers import Dense\n",
    "from tensorflow.keras.optimizers import Adam\n",
    "from tensorflow.keras.metrics import RootMeanSquaredError as RMSE, R2Score\n",
    "import mlflow.tensorflow\n",
    "import mlflow.keras"
   ]
  },
  {
   "cell_type": "code",
   "execution_count": 16,
   "id": "045c9ee9",
   "metadata": {},
   "outputs": [
    {
     "name": "stdout",
     "output_type": "stream",
     "text": [
      "Data: (6610000, 5)\n",
      "Schema({'Time': Int16, 'Num_Cars': Int16, 'Centrality': Float32, 'Is_Entrypoint': Int8, 'Distance': Int16})\n",
      "\n",
      "X: (6610000, 4)\n",
      "y: (6610000,)\n",
      "\n",
      "X_train: (3966000, 4)\n",
      "X_test: (2644000, 4)\n",
      "y_train: (3966000,)\n",
      "y_test (2644000,)\n",
      "\n",
      "X_test: (1322000, 4)\n",
      "X_val: (1322000, 4)\n",
      "y_test: (1322000,)\n",
      "y_val: (1322000,)\n"
     ]
    }
   ],
   "source": [
    "X_train, X_test, X_val, y_train, y_test, y_val = get_data()\n"
   ]
  },
  {
   "cell_type": "code",
   "execution_count": 17,
   "id": "e712f089",
   "metadata": {},
   "outputs": [
    {
     "name": "stdout",
     "output_type": "stream",
     "text": [
      "Epoch 1/10\n",
      "\u001b[1m123938/123938\u001b[0m \u001b[32m━━━━━━━━━━━━━━━━━━━━\u001b[0m\u001b[37m\u001b[0m \u001b[1m63s\u001b[0m 504us/step - loss: 2.0662 - r2_score: 0.1580 - root_mean_squared_error: 1.4374 - val_loss: 2.0330 - val_r2_score: 0.1711 - val_root_mean_squared_error: 1.4258\n",
      "Epoch 2/10\n",
      "\u001b[1m123938/123938\u001b[0m \u001b[32m━━━━━━━━━━━━━━━━━━━━\u001b[0m\u001b[37m\u001b[0m \u001b[1m60s\u001b[0m 486us/step - loss: 2.0331 - r2_score: 0.1731 - root_mean_squared_error: 1.4259 - val_loss: 2.0241 - val_r2_score: 0.1747 - val_root_mean_squared_error: 1.4227\n",
      "Epoch 3/10\n",
      "\u001b[1m123938/123938\u001b[0m \u001b[32m━━━━━━━━━━━━━━━━━━━━\u001b[0m\u001b[37m\u001b[0m \u001b[1m61s\u001b[0m 489us/step - loss: 2.0266 - r2_score: 0.1755 - root_mean_squared_error: 1.4236 - val_loss: 2.0169 - val_r2_score: 0.1777 - val_root_mean_squared_error: 1.4202\n",
      "Epoch 4/10\n",
      "\u001b[1m123938/123938\u001b[0m \u001b[32m━━━━━━━━━━━━━━━━━━━━\u001b[0m\u001b[37m\u001b[0m \u001b[1m60s\u001b[0m 487us/step - loss: 2.0208 - r2_score: 0.1770 - root_mean_squared_error: 1.4215 - val_loss: 2.0187 - val_r2_score: 0.1769 - val_root_mean_squared_error: 1.4208\n",
      "Epoch 5/10\n",
      "\u001b[1m123938/123938\u001b[0m \u001b[32m━━━━━━━━━━━━━━━━━━━━\u001b[0m\u001b[37m\u001b[0m \u001b[1m61s\u001b[0m 489us/step - loss: 2.0185 - r2_score: 0.1785 - root_mean_squared_error: 1.4207 - val_loss: 2.0208 - val_r2_score: 0.1761 - val_root_mean_squared_error: 1.4215\n",
      "Epoch 6/10\n",
      "\u001b[1m123938/123938\u001b[0m \u001b[32m━━━━━━━━━━━━━━━━━━━━\u001b[0m\u001b[37m\u001b[0m \u001b[1m62s\u001b[0m 499us/step - loss: 2.0186 - r2_score: 0.1790 - root_mean_squared_error: 1.4208 - val_loss: 2.0120 - val_r2_score: 0.1797 - val_root_mean_squared_error: 1.4184\n",
      "Epoch 7/10\n",
      "\u001b[1m123938/123938\u001b[0m \u001b[32m━━━━━━━━━━━━━━━━━━━━\u001b[0m\u001b[37m\u001b[0m \u001b[1m62s\u001b[0m 496us/step - loss: 2.0236 - r2_score: 0.1778 - root_mean_squared_error: 1.4225 - val_loss: 2.0090 - val_r2_score: 0.1809 - val_root_mean_squared_error: 1.4174\n",
      "Epoch 8/10\n",
      "\u001b[1m123938/123938\u001b[0m \u001b[32m━━━━━━━━━━━━━━━━━━━━\u001b[0m\u001b[37m\u001b[0m \u001b[1m61s\u001b[0m 489us/step - loss: 2.0170 - r2_score: 0.1789 - root_mean_squared_error: 1.4202 - val_loss: 2.0104 - val_r2_score: 0.1803 - val_root_mean_squared_error: 1.4179\n",
      "Epoch 9/10\n",
      "\u001b[1m123938/123938\u001b[0m \u001b[32m━━━━━━━━━━━━━━━━━━━━\u001b[0m\u001b[37m\u001b[0m \u001b[1m61s\u001b[0m 493us/step - loss: 2.0199 - r2_score: 0.1802 - root_mean_squared_error: 1.4212 - val_loss: 2.0178 - val_r2_score: 0.1773 - val_root_mean_squared_error: 1.4205\n",
      "Epoch 10/10\n",
      "\u001b[1m123938/123938\u001b[0m \u001b[32m━━━━━━━━━━━━━━━━━━━━\u001b[0m\u001b[37m\u001b[0m \u001b[1m62s\u001b[0m 501us/step - loss: 2.0219 - r2_score: 0.1796 - root_mean_squared_error: 1.4219 - val_loss: 2.0091 - val_r2_score: 0.1809 - val_root_mean_squared_error: 1.4174\n"
     ]
    },
    {
     "name": "stderr",
     "output_type": "stream",
     "text": [
      "2025/04/13 17:02:56 WARNING mlflow.keras.save: You are saving a Keras model without specifying model signature.\n",
      "\u001b[31m2025/04/13 17:03:01 WARNING mlflow.models.model: Model logged without a signature and input example. Please set `input_example` parameter when logging the model to auto infer the model signature.\u001b[0m\n"
     ]
    },
    {
     "name": "stdout",
     "output_type": "stream",
     "text": [
      "\n",
      "Loss: 2.0134222507476807\n",
      "RMSE: 1.418951153755188\n",
      "R2Score: 0.18048977851867676\n"
     ]
    }
   ],
   "source": [
    "OPTIMIZER = \"Adam\"\n",
    "LR = 0.001\n",
    "EPOCHS = 10\n",
    "BATCH_SIZE = 32\n",
    "\n",
    "with mlflow.start_run():\n",
    "    model = Sequential(\n",
    "        [\n",
    "            Dense(128, activation=\"relu\"),\n",
    "            Dense(64, activation=\"relu\"),\n",
    "            Dense(32, activation=\"relu\"),\n",
    "            Dense(1),\n",
    "        ]\n",
    "    )\n",
    "    model.build(input_shape=(None, X_train.shape[1]))\n",
    "\n",
    "    model.compile(\n",
    "        optimizer=Adam(learning_rate=LR), loss=\"mse\", metrics=[RMSE(), R2Score()]\n",
    "    )\n",
    "\n",
    "    mlflow.log_param(\"model_type\", \"TensorFlow DNN\")\n",
    "    mlflow.log_param(\"optimizer\", OPTIMIZER)\n",
    "    mlflow.log_param(\"epochs\", EPOCHS)\n",
    "    mlflow.log_param(\"batch_size\", BATCH_SIZE)\n",
    "\n",
    "    history = model.fit(\n",
    "        X_train,\n",
    "        y_train,\n",
    "        validation_data=(X_val, y_val),\n",
    "        epochs=EPOCHS,\n",
    "        batch_size=BATCH_SIZE,\n",
    "        verbose=1,\n",
    "    )\n",
    "\n",
    "    for epoch in range(EPOCHS):\n",
    "        mlflow.log_metric(\"train_loss\", history.history[\"loss\"][epoch], step=epoch)\n",
    "        mlflow.log_metric(\n",
    "            \"train_rmse\", history.history[\"root_mean_squared_error\"][epoch], step=epoch\n",
    "        )\n",
    "        mlflow.log_metric(\"train_r2\", history.history[\"r2_score\"][epoch], step=epoch)\n",
    "        mlflow.log_metric(\"val_loss\", history.history[\"val_loss\"][epoch], step=epoch)\n",
    "        mlflow.log_metric(\n",
    "            \"val_rmse\",\n",
    "            history.history[\"val_root_mean_squared_error\"][epoch],\n",
    "            step=epoch,\n",
    "        )\n",
    "        mlflow.log_metric(\"val_r2\", history.history[\"val_r2_score\"][epoch], step=epoch)\n",
    "\n",
    "    loss, rmse, r2_score = model.evaluate(X_test, y_test, verbose=0)\n",
    "\n",
    "    mlflow.log_metric(\"test_loss\", loss)\n",
    "    mlflow.log_metric(\"test_rmse\", rmse)\n",
    "    mlflow.log_metric(\"test_r2\", r2_score)\n",
    "\n",
    "    mlflow.keras.log_model(model, \"model\")\n",
    "\n",
    "    print(\"\")\n",
    "    print(f\"Loss: {loss}\")\n",
    "    print(f\"RMSE: {rmse}\")\n",
    "    print(f\"R2Score: {r2_score}\")"
   ]
  }
 ],
 "metadata": {
  "kernelspec": {
   "display_name": ".venv (3.12.8)",
   "language": "python",
   "name": "python3"
  },
  "language_info": {
   "codemirror_mode": {
    "name": "ipython",
    "version": 3
   },
   "file_extension": ".py",
   "mimetype": "text/x-python",
   "name": "python",
   "nbconvert_exporter": "python",
   "pygments_lexer": "ipython3",
   "version": "3.12.8"
  }
 },
 "nbformat": 4,
 "nbformat_minor": 5
}
