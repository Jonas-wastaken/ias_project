{
 "cells": [
  {
   "cell_type": "code",
   "execution_count": null,
   "id": "601e8d4e",
   "metadata": {},
   "outputs": [],
   "source": [
    "import polars as pl\n",
    "from sklearn.preprocessing import (\n",
    "    StandardScaler,\n",
    "    PolynomialFeatures,\n",
    ")\n",
    "from sklearn.model_selection import train_test_split\n",
    "from tensorflow.keras.models import Sequential\n",
    "from tensorflow.keras.layers import Dense\n",
    "from tensorflow.keras.optimizers import Adam\n",
    "from tensorflow.keras.metrics import RootMeanSquaredError as RMSE, R2Score"
   ]
  },
  {
   "cell_type": "code",
   "execution_count": null,
   "id": "2d6d9d5b",
   "metadata": {},
   "outputs": [],
   "source": [
    "def get_data(poly_features: int = 1):\n",
    "    # Get Data\n",
    "    data = pl.read_parquet(\"data.parquet\")\n",
    "    data = data.drop([\"Step\", \"Light_ID\", \"Lane\", \"Intersection_u\", \"Sim_ID\"])\n",
    "    data = data.with_columns(pl.col(\"Is_Entrypoint\").cast(pl.Int8))\n",
    "    print(f\"Data: {data.shape}\")\n",
    "    print(f\"{data.collect_schema()}\")\n",
    "\n",
    "    # Split Data\n",
    "    X = data.drop(\"Num_Cars\").to_numpy()\n",
    "    y = data.select(pl.col(\"Num_Cars\")).to_numpy()\n",
    "    y = y.ravel()\n",
    "    print(\"\")\n",
    "    print(f\"X: {X.shape}\")\n",
    "    print(f\"y: {y.shape}\")\n",
    "\n",
    "    # Scale\n",
    "    scaler = StandardScaler()\n",
    "    X = scaler.fit_transform(X)\n",
    "\n",
    "    # Polynomial Features\n",
    "    if poly_features > 1:\n",
    "        poly = PolynomialFeatures(degree=poly_features)\n",
    "        X = poly.fit_transform(X)\n",
    "\n",
    "    # Train Test Split\n",
    "    X_train, X_test, y_train, y_test = train_test_split(\n",
    "        X, y, train_size=0.6, test_size=0.4, random_state=42\n",
    "    )\n",
    "    print(\"\")\n",
    "    print(f\"X_train: {X_train.shape}\")\n",
    "    print(f\"X_test: {X_test.shape}\")\n",
    "    print(f\"y_train: {y_train.shape}\")\n",
    "    print(f\"y_test {y_test.shape}\")\n",
    "\n",
    "    # Train Test Validation Split\n",
    "    X_test, X_val, y_test, y_val = train_test_split(\n",
    "        X_test, y_test, train_size=0.5, test_size=0.5, random_state=42\n",
    "    )\n",
    "    print(\"\")\n",
    "    print(f\"X_test: {X_test.shape}\")\n",
    "    print(f\"X_val: {X_val.shape}\")\n",
    "    print(f\"y_test: {y_test.shape}\")\n",
    "    print(f\"y_val: {y_val.shape}\")\n",
    "\n",
    "    return X_train, X_test, X_val, y_train, y_test, y_val"
   ]
  },
  {
   "cell_type": "code",
   "execution_count": null,
   "id": "cd56fd5b",
   "metadata": {},
   "outputs": [],
   "source": [
    "X_train, X_test, X_val, y_train, y_test, y_val = get_data()"
   ]
  },
  {
   "cell_type": "code",
   "execution_count": null,
   "id": "43171416",
   "metadata": {},
   "outputs": [],
   "source": [
    "model = Sequential(\n",
    "    [\n",
    "        Dense(128, activation=\"relu\"),\n",
    "        Dense(64, activation=\"relu\"),\n",
    "        Dense(32, activation=\"relu\"),\n",
    "        Dense(1),\n",
    "    ]\n",
    ")\n",
    "model.build(input_shape=(None, X_train.shape[1]))\n",
    "\n",
    "model.compile(\n",
    "    optimizer=Adam(learning_rate=0.001), loss=\"mse\", metrics=[RMSE(), R2Score()]\n",
    ")\n",
    "\n",
    "history = model.fit(\n",
    "    X_train,\n",
    "    y_train,\n",
    "    validation_data=(X_val, y_val),\n",
    "    epochs=10,\n",
    "    batch_size=32,\n",
    "    verbose=1,\n",
    ")\n",
    "\n",
    "loss, rmse, r2_score = model.evaluate(X_test, y_test, verbose=1)\n",
    "\n",
    "print(\"\")\n",
    "print(f\"Loss: {loss}\")\n",
    "print(f\"RMSE: {rmse}\")\n",
    "print(f\"R2Score: {r2_score}\")"
   ]
  }
 ],
 "metadata": {
  "kernelspec": {
   "display_name": ".venv (3.12.8)",
   "language": "python",
   "name": "python3"
  },
  "language_info": {
   "name": "python",
   "version": "3.12.8"
  }
 },
 "nbformat": 4,
 "nbformat_minor": 5
}
