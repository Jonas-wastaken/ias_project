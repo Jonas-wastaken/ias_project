{
 "cells": [
  {
   "cell_type": "markdown",
   "id": "39da2695",
   "metadata": {},
   "source": [
    "# Aggregate Sim Data\n",
    "\n",
    "This notebook is used to aggregate data from multiple sim runs into one dataset used for ML Training"
   ]
  },
  {
   "cell_type": "code",
   "execution_count": 2,
   "id": "7d1551c0",
   "metadata": {},
   "outputs": [],
   "source": [
    "import os\n",
    "import polars as pl"
   ]
  },
  {
   "cell_type": "markdown",
   "id": "76ceae95",
   "metadata": {},
   "source": [
    "## Run 1"
   ]
  },
  {
   "cell_type": "code",
   "execution_count": 3,
   "id": "25c9b6dc",
   "metadata": {},
   "outputs": [],
   "source": [
    "folder = \"../data/2025-04-04-14:58:25\""
   ]
  },
  {
   "cell_type": "code",
   "execution_count": 4,
   "id": "a94d7ee1",
   "metadata": {},
   "outputs": [
    {
     "data": {
      "text/html": [
       "<div><style>\n",
       ".dataframe > thead > tr,\n",
       ".dataframe > tbody > tr {\n",
       "  text-align: right;\n",
       "  white-space: pre-wrap;\n",
       "}\n",
       "</style>\n",
       "<small>shape: (59_527, 4)</small><table border=\"1\" class=\"dataframe\"><thead><tr><th>Step</th><th>Light_ID</th><th>Time</th><th>Arrivals</th></tr><tr><td>i32</td><td>i16</td><td>i16</td><td>i16</td></tr></thead><tbody><tr><td>1</td><td>1</td><td>199</td><td>0</td></tr><tr><td>2</td><td>1</td><td>198</td><td>0</td></tr><tr><td>3</td><td>1</td><td>197</td><td>0</td></tr><tr><td>4</td><td>1</td><td>196</td><td>0</td></tr><tr><td>5</td><td>1</td><td>195</td><td>0</td></tr><tr><td>&hellip;</td><td>&hellip;</td><td>&hellip;</td><td>&hellip;</td></tr><tr><td>995</td><td>86</td><td>5</td><td>0</td></tr><tr><td>997</td><td>86</td><td>3</td><td>1</td></tr><tr><td>998</td><td>86</td><td>2</td><td>0</td></tr><tr><td>999</td><td>86</td><td>1</td><td>0</td></tr><tr><td>1000</td><td>86</td><td>200</td><td>0</td></tr></tbody></table></div>"
      ],
      "text/plain": [
       "shape: (59_527, 4)\n",
       "┌──────┬──────────┬──────┬──────────┐\n",
       "│ Step ┆ Light_ID ┆ Time ┆ Arrivals │\n",
       "│ ---  ┆ ---      ┆ ---  ┆ ---      │\n",
       "│ i32  ┆ i16      ┆ i16  ┆ i16      │\n",
       "╞══════╪══════════╪══════╪══════════╡\n",
       "│ 1    ┆ 1        ┆ 199  ┆ 0        │\n",
       "│ 2    ┆ 1        ┆ 198  ┆ 0        │\n",
       "│ 3    ┆ 1        ┆ 197  ┆ 0        │\n",
       "│ 4    ┆ 1        ┆ 196  ┆ 0        │\n",
       "│ 5    ┆ 1        ┆ 195  ┆ 0        │\n",
       "│ …    ┆ …        ┆ …    ┆ …        │\n",
       "│ 995  ┆ 86       ┆ 5    ┆ 0        │\n",
       "│ 997  ┆ 86       ┆ 3    ┆ 1        │\n",
       "│ 998  ┆ 86       ┆ 2    ┆ 0        │\n",
       "│ 999  ┆ 86       ┆ 1    ┆ 0        │\n",
       "│ 1000 ┆ 86       ┆ 200  ┆ 0        │\n",
       "└──────┴──────────┴──────┴──────────┘"
      ]
     },
     "execution_count": 4,
     "metadata": {},
     "output_type": "execute_result"
    }
   ],
   "source": [
    "arrivals = pl.read_parquet(os.path.join(folder, \"arrivals.parquet\"))\n",
    "arrivals"
   ]
  },
  {
   "cell_type": "code",
   "execution_count": 5,
   "id": "72fafc9a",
   "metadata": {},
   "outputs": [
    {
     "data": {
      "text/html": [
       "<div><style>\n",
       ".dataframe > thead > tr,\n",
       ".dataframe > tbody > tr {\n",
       "  text-align: right;\n",
       "  white-space: pre-wrap;\n",
       "}\n",
       "</style>\n",
       "<small>shape: (304, 3)</small><table border=\"1\" class=\"dataframe\"><thead><tr><th>Intersection_u</th><th>Intersection_v</th><th>Distance</th></tr><tr><td>str</td><td>str</td><td>i16</td></tr></thead><tbody><tr><td>&quot;intersection_0&quot;</td><td>&quot;intersection_6&quot;</td><td>9</td></tr><tr><td>&quot;intersection_0&quot;</td><td>&quot;intersection_72&quot;</td><td>7</td></tr><tr><td>&quot;intersection_0&quot;</td><td>&quot;intersection_8&quot;</td><td>7</td></tr><tr><td>&quot;intersection_0&quot;</td><td>&quot;intersection_29&quot;</td><td>19</td></tr><tr><td>&quot;intersection_1&quot;</td><td>&quot;intersection_27&quot;</td><td>11</td></tr><tr><td>&hellip;</td><td>&hellip;</td><td>&hellip;</td></tr><tr><td>&quot;intersection_84&quot;</td><td>&quot;intersection_22&quot;</td><td>19</td></tr><tr><td>&quot;intersection_84&quot;</td><td>&quot;intersection_36&quot;</td><td>14</td></tr><tr><td>&quot;intersection_84&quot;</td><td>&quot;intersection_67&quot;</td><td>7</td></tr><tr><td>&quot;intersection_85&quot;</td><td>&quot;intersection_5&quot;</td><td>5</td></tr><tr><td>&quot;intersection_85&quot;</td><td>&quot;intersection_30&quot;</td><td>8</td></tr></tbody></table></div>"
      ],
      "text/plain": [
       "shape: (304, 3)\n",
       "┌─────────────────┬─────────────────┬──────────┐\n",
       "│ Intersection_u  ┆ Intersection_v  ┆ Distance │\n",
       "│ ---             ┆ ---             ┆ ---      │\n",
       "│ str             ┆ str             ┆ i16      │\n",
       "╞═════════════════╪═════════════════╪══════════╡\n",
       "│ intersection_0  ┆ intersection_6  ┆ 9        │\n",
       "│ intersection_0  ┆ intersection_72 ┆ 7        │\n",
       "│ intersection_0  ┆ intersection_8  ┆ 7        │\n",
       "│ intersection_0  ┆ intersection_29 ┆ 19       │\n",
       "│ intersection_1  ┆ intersection_27 ┆ 11       │\n",
       "│ …               ┆ …               ┆ …        │\n",
       "│ intersection_84 ┆ intersection_22 ┆ 19       │\n",
       "│ intersection_84 ┆ intersection_36 ┆ 14       │\n",
       "│ intersection_84 ┆ intersection_67 ┆ 7        │\n",
       "│ intersection_85 ┆ intersection_5  ┆ 5        │\n",
       "│ intersection_85 ┆ intersection_30 ┆ 8        │\n",
       "└─────────────────┴─────────────────┴──────────┘"
      ]
     },
     "execution_count": 5,
     "metadata": {},
     "output_type": "execute_result"
    }
   ],
   "source": [
    "connections = pl.read_parquet(os.path.join(folder, \"connections.parquet\"))\n",
    "connections = connections.filter(~pl.col(\"Intersection_u\").str.starts_with(\"border\"))\n",
    "connections = connections.filter(~pl.col(\"Intersection_v\").str.starts_with(\"border\"))\n",
    "connections"
   ]
  },
  {
   "cell_type": "code",
   "execution_count": 6,
   "id": "b8dd0878",
   "metadata": {},
   "outputs": [
    {
     "data": {
      "text/html": [
       "<div><style>\n",
       ".dataframe > thead > tr,\n",
       ".dataframe > tbody > tr {\n",
       "  text-align: right;\n",
       "  white-space: pre-wrap;\n",
       "}\n",
       "</style>\n",
       "<small>shape: (86, 3)</small><table border=\"1\" class=\"dataframe\"><thead><tr><th>Light_ID</th><th>Centrality</th><th>Is_Entrypoint</th></tr><tr><td>i16</td><td>f32</td><td>bool</td></tr></thead><tbody><tr><td>1</td><td>0.026253</td><td>true</td></tr><tr><td>2</td><td>0.025178</td><td>true</td></tr><tr><td>3</td><td>0.030019</td><td>true</td></tr><tr><td>4</td><td>0.024715</td><td>true</td></tr><tr><td>5</td><td>0.030451</td><td>true</td></tr><tr><td>&hellip;</td><td>&hellip;</td><td>&hellip;</td></tr><tr><td>82</td><td>0.029477</td><td>true</td></tr><tr><td>83</td><td>0.024726</td><td>true</td></tr><tr><td>84</td><td>0.024884</td><td>true</td></tr><tr><td>85</td><td>0.025494</td><td>true</td></tr><tr><td>86</td><td>0.028758</td><td>true</td></tr></tbody></table></div>"
      ],
      "text/plain": [
       "shape: (86, 3)\n",
       "┌──────────┬────────────┬───────────────┐\n",
       "│ Light_ID ┆ Centrality ┆ Is_Entrypoint │\n",
       "│ ---      ┆ ---        ┆ ---           │\n",
       "│ i16      ┆ f32        ┆ bool          │\n",
       "╞══════════╪════════════╪═══════════════╡\n",
       "│ 1        ┆ 0.026253   ┆ true          │\n",
       "│ 2        ┆ 0.025178   ┆ true          │\n",
       "│ 3        ┆ 0.030019   ┆ true          │\n",
       "│ 4        ┆ 0.024715   ┆ true          │\n",
       "│ 5        ┆ 0.030451   ┆ true          │\n",
       "│ …        ┆ …          ┆ …             │\n",
       "│ 82       ┆ 0.029477   ┆ true          │\n",
       "│ 83       ┆ 0.024726   ┆ true          │\n",
       "│ 84       ┆ 0.024884   ┆ true          │\n",
       "│ 85       ┆ 0.025494   ┆ true          │\n",
       "│ 86       ┆ 0.028758   ┆ true          │\n",
       "└──────────┴────────────┴───────────────┘"
      ]
     },
     "execution_count": 6,
     "metadata": {},
     "output_type": "execute_result"
    }
   ],
   "source": [
    "light_data = pl.read_parquet(os.path.join(folder, \"light_data.parquet\"))\n",
    "light_data"
   ]
  },
  {
   "cell_type": "code",
   "execution_count": 7,
   "id": "9f197a8b",
   "metadata": {},
   "outputs": [
    {
     "data": {
      "text/html": [
       "<div><style>\n",
       ".dataframe > thead > tr,\n",
       ".dataframe > tbody > tr {\n",
       "  text-align: right;\n",
       "  white-space: pre-wrap;\n",
       "}\n",
       "</style>\n",
       "<small>shape: (86, 2)</small><table border=\"1\" class=\"dataframe\"><thead><tr><th>Light_ID</th><th>Intersection</th></tr><tr><td>i16</td><td>str</td></tr></thead><tbody><tr><td>1</td><td>&quot;intersection_0&quot;</td></tr><tr><td>2</td><td>&quot;intersection_1&quot;</td></tr><tr><td>3</td><td>&quot;intersection_2&quot;</td></tr><tr><td>4</td><td>&quot;intersection_3&quot;</td></tr><tr><td>5</td><td>&quot;intersection_4&quot;</td></tr><tr><td>&hellip;</td><td>&hellip;</td></tr><tr><td>82</td><td>&quot;intersection_81&quot;</td></tr><tr><td>83</td><td>&quot;intersection_82&quot;</td></tr><tr><td>84</td><td>&quot;intersection_83&quot;</td></tr><tr><td>85</td><td>&quot;intersection_84&quot;</td></tr><tr><td>86</td><td>&quot;intersection_85&quot;</td></tr></tbody></table></div>"
      ],
      "text/plain": [
       "shape: (86, 2)\n",
       "┌──────────┬─────────────────┐\n",
       "│ Light_ID ┆ Intersection    │\n",
       "│ ---      ┆ ---             │\n",
       "│ i16      ┆ str             │\n",
       "╞══════════╪═════════════════╡\n",
       "│ 1        ┆ intersection_0  │\n",
       "│ 2        ┆ intersection_1  │\n",
       "│ 3        ┆ intersection_2  │\n",
       "│ 4        ┆ intersection_3  │\n",
       "│ 5        ┆ intersection_4  │\n",
       "│ …        ┆ …               │\n",
       "│ 82       ┆ intersection_81 │\n",
       "│ 83       ┆ intersection_82 │\n",
       "│ 84       ┆ intersection_83 │\n",
       "│ 85       ┆ intersection_84 │\n",
       "│ 86       ┆ intersection_85 │\n",
       "└──────────┴─────────────────┘"
      ]
     },
     "execution_count": 7,
     "metadata": {},
     "output_type": "execute_result"
    }
   ],
   "source": [
    "light_intersection_mapping = pl.read_parquet(\n",
    "    os.path.join(folder, \"light_intersection_mapping.parquet\")\n",
    ")\n",
    "light_intersection_mapping"
   ]
  },
  {
   "cell_type": "code",
   "execution_count": 8,
   "id": "1577152f",
   "metadata": {},
   "outputs": [
    {
     "data": {
      "text/html": [
       "<div><style>\n",
       ".dataframe > thead > tr,\n",
       ".dataframe > tbody > tr {\n",
       "  text-align: right;\n",
       "  white-space: pre-wrap;\n",
       "}\n",
       "</style>\n",
       "<small>shape: (59_527, 4)</small><table border=\"1\" class=\"dataframe\"><thead><tr><th>Step</th><th>Light_ID</th><th>Time</th><th>Num_Cars</th></tr><tr><td>i32</td><td>i16</td><td>i16</td><td>i16</td></tr></thead><tbody><tr><td>1</td><td>1</td><td>199</td><td>0</td></tr><tr><td>2</td><td>1</td><td>198</td><td>0</td></tr><tr><td>3</td><td>1</td><td>197</td><td>6</td></tr><tr><td>4</td><td>1</td><td>196</td><td>11</td></tr><tr><td>5</td><td>1</td><td>195</td><td>11</td></tr><tr><td>&hellip;</td><td>&hellip;</td><td>&hellip;</td><td>&hellip;</td></tr><tr><td>995</td><td>86</td><td>5</td><td>5</td></tr><tr><td>997</td><td>86</td><td>3</td><td>7</td></tr><tr><td>998</td><td>86</td><td>2</td><td>6</td></tr><tr><td>999</td><td>86</td><td>1</td><td>7</td></tr><tr><td>1000</td><td>86</td><td>200</td><td>8</td></tr></tbody></table></div>"
      ],
      "text/plain": [
       "shape: (59_527, 4)\n",
       "┌──────┬──────────┬──────┬──────────┐\n",
       "│ Step ┆ Light_ID ┆ Time ┆ Num_Cars │\n",
       "│ ---  ┆ ---      ┆ ---  ┆ ---      │\n",
       "│ i32  ┆ i16      ┆ i16  ┆ i16      │\n",
       "╞══════╪══════════╪══════╪══════════╡\n",
       "│ 1    ┆ 1        ┆ 199  ┆ 0        │\n",
       "│ 2    ┆ 1        ┆ 198  ┆ 0        │\n",
       "│ 3    ┆ 1        ┆ 197  ┆ 6        │\n",
       "│ 4    ┆ 1        ┆ 196  ┆ 11       │\n",
       "│ 5    ┆ 1        ┆ 195  ┆ 11       │\n",
       "│ …    ┆ …        ┆ …    ┆ …        │\n",
       "│ 995  ┆ 86       ┆ 5    ┆ 5        │\n",
       "│ 997  ┆ 86       ┆ 3    ┆ 7        │\n",
       "│ 998  ┆ 86       ┆ 2    ┆ 6        │\n",
       "│ 999  ┆ 86       ┆ 1    ┆ 7        │\n",
       "│ 1000 ┆ 86       ┆ 200  ┆ 8        │\n",
       "└──────┴──────────┴──────┴──────────┘"
      ]
     },
     "execution_count": 8,
     "metadata": {},
     "output_type": "execute_result"
    }
   ],
   "source": [
    "traffic = pl.read_parquet(os.path.join(folder, \"traffic.parquet\"))\n",
    "traffic"
   ]
  },
  {
   "cell_type": "markdown",
   "id": "eee2c69e",
   "metadata": {},
   "source": [
    "### Aggregate Data"
   ]
  },
  {
   "cell_type": "markdown",
   "id": "922e6bf7",
   "metadata": {},
   "source": [
    "Arrivals Data is used as the base as arrivals will be used as the label for ML."
   ]
  },
  {
   "cell_type": "markdown",
   "id": "e9ddc345",
   "metadata": {},
   "source": [
    "Add LightAgent Metadata"
   ]
  },
  {
   "cell_type": "code",
   "execution_count": 9,
   "id": "81178864",
   "metadata": {},
   "outputs": [
    {
     "data": {
      "text/html": [
       "<div><style>\n",
       ".dataframe > thead > tr,\n",
       ".dataframe > tbody > tr {\n",
       "  text-align: right;\n",
       "  white-space: pre-wrap;\n",
       "}\n",
       "</style>\n",
       "<small>shape: (59_527, 6)</small><table border=\"1\" class=\"dataframe\"><thead><tr><th>Step</th><th>Light_ID</th><th>Time</th><th>Arrivals</th><th>Centrality</th><th>Is_Entrypoint</th></tr><tr><td>i32</td><td>i16</td><td>i16</td><td>i16</td><td>f32</td><td>bool</td></tr></thead><tbody><tr><td>1</td><td>1</td><td>199</td><td>0</td><td>0.026253</td><td>true</td></tr><tr><td>2</td><td>1</td><td>198</td><td>0</td><td>0.026253</td><td>true</td></tr><tr><td>3</td><td>1</td><td>197</td><td>0</td><td>0.026253</td><td>true</td></tr><tr><td>4</td><td>1</td><td>196</td><td>0</td><td>0.026253</td><td>true</td></tr><tr><td>5</td><td>1</td><td>195</td><td>0</td><td>0.026253</td><td>true</td></tr><tr><td>&hellip;</td><td>&hellip;</td><td>&hellip;</td><td>&hellip;</td><td>&hellip;</td><td>&hellip;</td></tr><tr><td>995</td><td>86</td><td>5</td><td>0</td><td>0.028758</td><td>true</td></tr><tr><td>997</td><td>86</td><td>3</td><td>1</td><td>0.028758</td><td>true</td></tr><tr><td>998</td><td>86</td><td>2</td><td>0</td><td>0.028758</td><td>true</td></tr><tr><td>999</td><td>86</td><td>1</td><td>0</td><td>0.028758</td><td>true</td></tr><tr><td>1000</td><td>86</td><td>200</td><td>0</td><td>0.028758</td><td>true</td></tr></tbody></table></div>"
      ],
      "text/plain": [
       "shape: (59_527, 6)\n",
       "┌──────┬──────────┬──────┬──────────┬────────────┬───────────────┐\n",
       "│ Step ┆ Light_ID ┆ Time ┆ Arrivals ┆ Centrality ┆ Is_Entrypoint │\n",
       "│ ---  ┆ ---      ┆ ---  ┆ ---      ┆ ---        ┆ ---           │\n",
       "│ i32  ┆ i16      ┆ i16  ┆ i16      ┆ f32        ┆ bool          │\n",
       "╞══════╪══════════╪══════╪══════════╪════════════╪═══════════════╡\n",
       "│ 1    ┆ 1        ┆ 199  ┆ 0        ┆ 0.026253   ┆ true          │\n",
       "│ 2    ┆ 1        ┆ 198  ┆ 0        ┆ 0.026253   ┆ true          │\n",
       "│ 3    ┆ 1        ┆ 197  ┆ 0        ┆ 0.026253   ┆ true          │\n",
       "│ 4    ┆ 1        ┆ 196  ┆ 0        ┆ 0.026253   ┆ true          │\n",
       "│ 5    ┆ 1        ┆ 195  ┆ 0        ┆ 0.026253   ┆ true          │\n",
       "│ …    ┆ …        ┆ …    ┆ …        ┆ …          ┆ …             │\n",
       "│ 995  ┆ 86       ┆ 5    ┆ 0        ┆ 0.028758   ┆ true          │\n",
       "│ 997  ┆ 86       ┆ 3    ┆ 1        ┆ 0.028758   ┆ true          │\n",
       "│ 998  ┆ 86       ┆ 2    ┆ 0        ┆ 0.028758   ┆ true          │\n",
       "│ 999  ┆ 86       ┆ 1    ┆ 0        ┆ 0.028758   ┆ true          │\n",
       "│ 1000 ┆ 86       ┆ 200  ┆ 0        ┆ 0.028758   ┆ true          │\n",
       "└──────┴──────────┴──────┴──────────┴────────────┴───────────────┘"
      ]
     },
     "execution_count": 9,
     "metadata": {},
     "output_type": "execute_result"
    }
   ],
   "source": [
    "data = arrivals.join(light_data, on=\"Light_ID\", how=\"left\")\n",
    "data"
   ]
  },
  {
   "cell_type": "markdown",
   "id": "9055261e",
   "metadata": {},
   "source": [
    "Add Intersection Mapping"
   ]
  },
  {
   "cell_type": "code",
   "execution_count": 10,
   "id": "b8bd8cbe",
   "metadata": {},
   "outputs": [
    {
     "data": {
      "text/html": [
       "<div><style>\n",
       ".dataframe > thead > tr,\n",
       ".dataframe > tbody > tr {\n",
       "  text-align: right;\n",
       "  white-space: pre-wrap;\n",
       "}\n",
       "</style>\n",
       "<small>shape: (59_527, 7)</small><table border=\"1\" class=\"dataframe\"><thead><tr><th>Step</th><th>Light_ID</th><th>Time</th><th>Arrivals</th><th>Centrality</th><th>Is_Entrypoint</th><th>Intersection</th></tr><tr><td>i32</td><td>i16</td><td>i16</td><td>i16</td><td>f32</td><td>bool</td><td>str</td></tr></thead><tbody><tr><td>1</td><td>1</td><td>199</td><td>0</td><td>0.026253</td><td>true</td><td>&quot;intersection_0&quot;</td></tr><tr><td>2</td><td>1</td><td>198</td><td>0</td><td>0.026253</td><td>true</td><td>&quot;intersection_0&quot;</td></tr><tr><td>3</td><td>1</td><td>197</td><td>0</td><td>0.026253</td><td>true</td><td>&quot;intersection_0&quot;</td></tr><tr><td>4</td><td>1</td><td>196</td><td>0</td><td>0.026253</td><td>true</td><td>&quot;intersection_0&quot;</td></tr><tr><td>5</td><td>1</td><td>195</td><td>0</td><td>0.026253</td><td>true</td><td>&quot;intersection_0&quot;</td></tr><tr><td>&hellip;</td><td>&hellip;</td><td>&hellip;</td><td>&hellip;</td><td>&hellip;</td><td>&hellip;</td><td>&hellip;</td></tr><tr><td>995</td><td>86</td><td>5</td><td>0</td><td>0.028758</td><td>true</td><td>&quot;intersection_85&quot;</td></tr><tr><td>997</td><td>86</td><td>3</td><td>1</td><td>0.028758</td><td>true</td><td>&quot;intersection_85&quot;</td></tr><tr><td>998</td><td>86</td><td>2</td><td>0</td><td>0.028758</td><td>true</td><td>&quot;intersection_85&quot;</td></tr><tr><td>999</td><td>86</td><td>1</td><td>0</td><td>0.028758</td><td>true</td><td>&quot;intersection_85&quot;</td></tr><tr><td>1000</td><td>86</td><td>200</td><td>0</td><td>0.028758</td><td>true</td><td>&quot;intersection_85&quot;</td></tr></tbody></table></div>"
      ],
      "text/plain": [
       "shape: (59_527, 7)\n",
       "┌──────┬──────────┬──────┬──────────┬────────────┬───────────────┬─────────────────┐\n",
       "│ Step ┆ Light_ID ┆ Time ┆ Arrivals ┆ Centrality ┆ Is_Entrypoint ┆ Intersection    │\n",
       "│ ---  ┆ ---      ┆ ---  ┆ ---      ┆ ---        ┆ ---           ┆ ---             │\n",
       "│ i32  ┆ i16      ┆ i16  ┆ i16      ┆ f32        ┆ bool          ┆ str             │\n",
       "╞══════╪══════════╪══════╪══════════╪════════════╪═══════════════╪═════════════════╡\n",
       "│ 1    ┆ 1        ┆ 199  ┆ 0        ┆ 0.026253   ┆ true          ┆ intersection_0  │\n",
       "│ 2    ┆ 1        ┆ 198  ┆ 0        ┆ 0.026253   ┆ true          ┆ intersection_0  │\n",
       "│ 3    ┆ 1        ┆ 197  ┆ 0        ┆ 0.026253   ┆ true          ┆ intersection_0  │\n",
       "│ 4    ┆ 1        ┆ 196  ┆ 0        ┆ 0.026253   ┆ true          ┆ intersection_0  │\n",
       "│ 5    ┆ 1        ┆ 195  ┆ 0        ┆ 0.026253   ┆ true          ┆ intersection_0  │\n",
       "│ …    ┆ …        ┆ …    ┆ …        ┆ …          ┆ …             ┆ …               │\n",
       "│ 995  ┆ 86       ┆ 5    ┆ 0        ┆ 0.028758   ┆ true          ┆ intersection_85 │\n",
       "│ 997  ┆ 86       ┆ 3    ┆ 1        ┆ 0.028758   ┆ true          ┆ intersection_85 │\n",
       "│ 998  ┆ 86       ┆ 2    ┆ 0        ┆ 0.028758   ┆ true          ┆ intersection_85 │\n",
       "│ 999  ┆ 86       ┆ 1    ┆ 0        ┆ 0.028758   ┆ true          ┆ intersection_85 │\n",
       "│ 1000 ┆ 86       ┆ 200  ┆ 0        ┆ 0.028758   ┆ true          ┆ intersection_85 │\n",
       "└──────┴──────────┴──────┴──────────┴────────────┴───────────────┴─────────────────┘"
      ]
     },
     "execution_count": 10,
     "metadata": {},
     "output_type": "execute_result"
    }
   ],
   "source": [
    "data = data.join(light_intersection_mapping, on=\"Light_ID\", how=\"left\")\n",
    "data"
   ]
  },
  {
   "cell_type": "markdown",
   "id": "9cb0bbe4",
   "metadata": {},
   "source": [
    "Add Connections Data"
   ]
  },
  {
   "cell_type": "code",
   "execution_count": 11,
   "id": "efcf2571",
   "metadata": {},
   "outputs": [
    {
     "data": {
      "text/html": [
       "<div><style>\n",
       ".dataframe > thead > tr,\n",
       ".dataframe > tbody > tr {\n",
       "  text-align: right;\n",
       "  white-space: pre-wrap;\n",
       "}\n",
       "</style>\n",
       "<small>shape: (214_086, 9)</small><table border=\"1\" class=\"dataframe\"><thead><tr><th>Step</th><th>Light_ID</th><th>Time</th><th>Arrivals</th><th>Centrality</th><th>Is_Entrypoint</th><th>Intersection</th><th>Intersection_v</th><th>Distance</th></tr><tr><td>i32</td><td>i16</td><td>i16</td><td>i16</td><td>f32</td><td>bool</td><td>str</td><td>str</td><td>i16</td></tr></thead><tbody><tr><td>1</td><td>1</td><td>199</td><td>0</td><td>0.026253</td><td>true</td><td>&quot;intersection_0&quot;</td><td>&quot;intersection_6&quot;</td><td>9</td></tr><tr><td>1</td><td>1</td><td>199</td><td>0</td><td>0.026253</td><td>true</td><td>&quot;intersection_0&quot;</td><td>&quot;intersection_72&quot;</td><td>7</td></tr><tr><td>1</td><td>1</td><td>199</td><td>0</td><td>0.026253</td><td>true</td><td>&quot;intersection_0&quot;</td><td>&quot;intersection_8&quot;</td><td>7</td></tr><tr><td>1</td><td>1</td><td>199</td><td>0</td><td>0.026253</td><td>true</td><td>&quot;intersection_0&quot;</td><td>&quot;intersection_29&quot;</td><td>19</td></tr><tr><td>2</td><td>1</td><td>198</td><td>0</td><td>0.026253</td><td>true</td><td>&quot;intersection_0&quot;</td><td>&quot;intersection_6&quot;</td><td>9</td></tr><tr><td>&hellip;</td><td>&hellip;</td><td>&hellip;</td><td>&hellip;</td><td>&hellip;</td><td>&hellip;</td><td>&hellip;</td><td>&hellip;</td><td>&hellip;</td></tr><tr><td>998</td><td>86</td><td>2</td><td>0</td><td>0.028758</td><td>true</td><td>&quot;intersection_85&quot;</td><td>&quot;intersection_30&quot;</td><td>8</td></tr><tr><td>999</td><td>86</td><td>1</td><td>0</td><td>0.028758</td><td>true</td><td>&quot;intersection_85&quot;</td><td>&quot;intersection_5&quot;</td><td>5</td></tr><tr><td>999</td><td>86</td><td>1</td><td>0</td><td>0.028758</td><td>true</td><td>&quot;intersection_85&quot;</td><td>&quot;intersection_30&quot;</td><td>8</td></tr><tr><td>1000</td><td>86</td><td>200</td><td>0</td><td>0.028758</td><td>true</td><td>&quot;intersection_85&quot;</td><td>&quot;intersection_5&quot;</td><td>5</td></tr><tr><td>1000</td><td>86</td><td>200</td><td>0</td><td>0.028758</td><td>true</td><td>&quot;intersection_85&quot;</td><td>&quot;intersection_30&quot;</td><td>8</td></tr></tbody></table></div>"
      ],
      "text/plain": [
       "shape: (214_086, 9)\n",
       "┌──────┬──────────┬──────┬──────────┬───┬───────────────┬───────────────┬───────────────┬──────────┐\n",
       "│ Step ┆ Light_ID ┆ Time ┆ Arrivals ┆ … ┆ Is_Entrypoint ┆ Intersection  ┆ Intersection_ ┆ Distance │\n",
       "│ ---  ┆ ---      ┆ ---  ┆ ---      ┆   ┆ ---           ┆ ---           ┆ v             ┆ ---      │\n",
       "│ i32  ┆ i16      ┆ i16  ┆ i16      ┆   ┆ bool          ┆ str           ┆ ---           ┆ i16      │\n",
       "│      ┆          ┆      ┆          ┆   ┆               ┆               ┆ str           ┆          │\n",
       "╞══════╪══════════╪══════╪══════════╪═══╪═══════════════╪═══════════════╪═══════════════╪══════════╡\n",
       "│ 1    ┆ 1        ┆ 199  ┆ 0        ┆ … ┆ true          ┆ intersection_ ┆ intersection_ ┆ 9        │\n",
       "│      ┆          ┆      ┆          ┆   ┆               ┆ 0             ┆ 6             ┆          │\n",
       "│ 1    ┆ 1        ┆ 199  ┆ 0        ┆ … ┆ true          ┆ intersection_ ┆ intersection_ ┆ 7        │\n",
       "│      ┆          ┆      ┆          ┆   ┆               ┆ 0             ┆ 72            ┆          │\n",
       "│ 1    ┆ 1        ┆ 199  ┆ 0        ┆ … ┆ true          ┆ intersection_ ┆ intersection_ ┆ 7        │\n",
       "│      ┆          ┆      ┆          ┆   ┆               ┆ 0             ┆ 8             ┆          │\n",
       "│ 1    ┆ 1        ┆ 199  ┆ 0        ┆ … ┆ true          ┆ intersection_ ┆ intersection_ ┆ 19       │\n",
       "│      ┆          ┆      ┆          ┆   ┆               ┆ 0             ┆ 29            ┆          │\n",
       "│ 2    ┆ 1        ┆ 198  ┆ 0        ┆ … ┆ true          ┆ intersection_ ┆ intersection_ ┆ 9        │\n",
       "│      ┆          ┆      ┆          ┆   ┆               ┆ 0             ┆ 6             ┆          │\n",
       "│ …    ┆ …        ┆ …    ┆ …        ┆ … ┆ …             ┆ …             ┆ …             ┆ …        │\n",
       "│ 998  ┆ 86       ┆ 2    ┆ 0        ┆ … ┆ true          ┆ intersection_ ┆ intersection_ ┆ 8        │\n",
       "│      ┆          ┆      ┆          ┆   ┆               ┆ 85            ┆ 30            ┆          │\n",
       "│ 999  ┆ 86       ┆ 1    ┆ 0        ┆ … ┆ true          ┆ intersection_ ┆ intersection_ ┆ 5        │\n",
       "│      ┆          ┆      ┆          ┆   ┆               ┆ 85            ┆ 5             ┆          │\n",
       "│ 999  ┆ 86       ┆ 1    ┆ 0        ┆ … ┆ true          ┆ intersection_ ┆ intersection_ ┆ 8        │\n",
       "│      ┆          ┆      ┆          ┆   ┆               ┆ 85            ┆ 30            ┆          │\n",
       "│ 1000 ┆ 86       ┆ 200  ┆ 0        ┆ … ┆ true          ┆ intersection_ ┆ intersection_ ┆ 5        │\n",
       "│      ┆          ┆      ┆          ┆   ┆               ┆ 85            ┆ 5             ┆          │\n",
       "│ 1000 ┆ 86       ┆ 200  ┆ 0        ┆ … ┆ true          ┆ intersection_ ┆ intersection_ ┆ 8        │\n",
       "│      ┆          ┆      ┆          ┆   ┆               ┆ 85            ┆ 30            ┆          │\n",
       "└──────┴──────────┴──────┴──────────┴───┴───────────────┴───────────────┴───────────────┴──────────┘"
      ]
     },
     "execution_count": 11,
     "metadata": {},
     "output_type": "execute_result"
    }
   ],
   "source": [
    "data = data.join(\n",
    "    connections, left_on=\"Intersection\", right_on=\"Intersection_u\", how=\"left\"\n",
    ")\n",
    "data"
   ]
  },
  {
   "cell_type": "markdown",
   "id": "17a65eed",
   "metadata": {},
   "source": [
    "Add Traffic"
   ]
  },
  {
   "cell_type": "code",
   "execution_count": 12,
   "id": "5587fb12",
   "metadata": {},
   "outputs": [
    {
     "data": {
      "text/html": [
       "<div><style>\n",
       ".dataframe > thead > tr,\n",
       ".dataframe > tbody > tr {\n",
       "  text-align: right;\n",
       "  white-space: pre-wrap;\n",
       "}\n",
       "</style>\n",
       "<small>shape: (59_527, 5)</small><table border=\"1\" class=\"dataframe\"><thead><tr><th>Step</th><th>Light_ID</th><th>Time</th><th>Num_Cars</th><th>Intersection</th></tr><tr><td>i32</td><td>i16</td><td>i16</td><td>i16</td><td>str</td></tr></thead><tbody><tr><td>1</td><td>1</td><td>199</td><td>0</td><td>&quot;intersection_0&quot;</td></tr><tr><td>2</td><td>1</td><td>198</td><td>0</td><td>&quot;intersection_0&quot;</td></tr><tr><td>3</td><td>1</td><td>197</td><td>6</td><td>&quot;intersection_0&quot;</td></tr><tr><td>4</td><td>1</td><td>196</td><td>11</td><td>&quot;intersection_0&quot;</td></tr><tr><td>5</td><td>1</td><td>195</td><td>11</td><td>&quot;intersection_0&quot;</td></tr><tr><td>&hellip;</td><td>&hellip;</td><td>&hellip;</td><td>&hellip;</td><td>&hellip;</td></tr><tr><td>995</td><td>86</td><td>5</td><td>5</td><td>&quot;intersection_85&quot;</td></tr><tr><td>997</td><td>86</td><td>3</td><td>7</td><td>&quot;intersection_85&quot;</td></tr><tr><td>998</td><td>86</td><td>2</td><td>6</td><td>&quot;intersection_85&quot;</td></tr><tr><td>999</td><td>86</td><td>1</td><td>7</td><td>&quot;intersection_85&quot;</td></tr><tr><td>1000</td><td>86</td><td>200</td><td>8</td><td>&quot;intersection_85&quot;</td></tr></tbody></table></div>"
      ],
      "text/plain": [
       "shape: (59_527, 5)\n",
       "┌──────┬──────────┬──────┬──────────┬─────────────────┐\n",
       "│ Step ┆ Light_ID ┆ Time ┆ Num_Cars ┆ Intersection    │\n",
       "│ ---  ┆ ---      ┆ ---  ┆ ---      ┆ ---             │\n",
       "│ i32  ┆ i16      ┆ i16  ┆ i16      ┆ str             │\n",
       "╞══════╪══════════╪══════╪══════════╪═════════════════╡\n",
       "│ 1    ┆ 1        ┆ 199  ┆ 0        ┆ intersection_0  │\n",
       "│ 2    ┆ 1        ┆ 198  ┆ 0        ┆ intersection_0  │\n",
       "│ 3    ┆ 1        ┆ 197  ┆ 6        ┆ intersection_0  │\n",
       "│ 4    ┆ 1        ┆ 196  ┆ 11       ┆ intersection_0  │\n",
       "│ 5    ┆ 1        ┆ 195  ┆ 11       ┆ intersection_0  │\n",
       "│ …    ┆ …        ┆ …    ┆ …        ┆ …               │\n",
       "│ 995  ┆ 86       ┆ 5    ┆ 5        ┆ intersection_85 │\n",
       "│ 997  ┆ 86       ┆ 3    ┆ 7        ┆ intersection_85 │\n",
       "│ 998  ┆ 86       ┆ 2    ┆ 6        ┆ intersection_85 │\n",
       "│ 999  ┆ 86       ┆ 1    ┆ 7        ┆ intersection_85 │\n",
       "│ 1000 ┆ 86       ┆ 200  ┆ 8        ┆ intersection_85 │\n",
       "└──────┴──────────┴──────┴──────────┴─────────────────┘"
      ]
     },
     "execution_count": 12,
     "metadata": {},
     "output_type": "execute_result"
    }
   ],
   "source": [
    "traffic = traffic.join(light_intersection_mapping, on=\"Light_ID\", how=\"left\")\n",
    "traffic"
   ]
  },
  {
   "cell_type": "code",
   "execution_count": 13,
   "id": "2270a94c",
   "metadata": {},
   "outputs": [
    {
     "data": {
      "text/html": [
       "<div><style>\n",
       ".dataframe > thead > tr,\n",
       ".dataframe > tbody > tr {\n",
       "  text-align: right;\n",
       "  white-space: pre-wrap;\n",
       "}\n",
       "</style>\n",
       "<small>shape: (214_086, 7)</small><table border=\"1\" class=\"dataframe\"><thead><tr><th>Step</th><th>Light_ID</th><th>Time</th><th>Num_Cars</th><th>Intersection</th><th>Intersection_v</th><th>Distance</th></tr><tr><td>i32</td><td>i16</td><td>i16</td><td>i16</td><td>str</td><td>str</td><td>i16</td></tr></thead><tbody><tr><td>1</td><td>1</td><td>199</td><td>0</td><td>&quot;intersection_0&quot;</td><td>&quot;intersection_6&quot;</td><td>9</td></tr><tr><td>1</td><td>1</td><td>199</td><td>0</td><td>&quot;intersection_0&quot;</td><td>&quot;intersection_72&quot;</td><td>7</td></tr><tr><td>1</td><td>1</td><td>199</td><td>0</td><td>&quot;intersection_0&quot;</td><td>&quot;intersection_8&quot;</td><td>7</td></tr><tr><td>1</td><td>1</td><td>199</td><td>0</td><td>&quot;intersection_0&quot;</td><td>&quot;intersection_29&quot;</td><td>19</td></tr><tr><td>2</td><td>1</td><td>198</td><td>0</td><td>&quot;intersection_0&quot;</td><td>&quot;intersection_6&quot;</td><td>9</td></tr><tr><td>&hellip;</td><td>&hellip;</td><td>&hellip;</td><td>&hellip;</td><td>&hellip;</td><td>&hellip;</td><td>&hellip;</td></tr><tr><td>998</td><td>86</td><td>2</td><td>6</td><td>&quot;intersection_85&quot;</td><td>&quot;intersection_30&quot;</td><td>8</td></tr><tr><td>999</td><td>86</td><td>1</td><td>7</td><td>&quot;intersection_85&quot;</td><td>&quot;intersection_5&quot;</td><td>5</td></tr><tr><td>999</td><td>86</td><td>1</td><td>7</td><td>&quot;intersection_85&quot;</td><td>&quot;intersection_30&quot;</td><td>8</td></tr><tr><td>1000</td><td>86</td><td>200</td><td>8</td><td>&quot;intersection_85&quot;</td><td>&quot;intersection_5&quot;</td><td>5</td></tr><tr><td>1000</td><td>86</td><td>200</td><td>8</td><td>&quot;intersection_85&quot;</td><td>&quot;intersection_30&quot;</td><td>8</td></tr></tbody></table></div>"
      ],
      "text/plain": [
       "shape: (214_086, 7)\n",
       "┌──────┬──────────┬──────┬──────────┬─────────────────┬─────────────────┬──────────┐\n",
       "│ Step ┆ Light_ID ┆ Time ┆ Num_Cars ┆ Intersection    ┆ Intersection_v  ┆ Distance │\n",
       "│ ---  ┆ ---      ┆ ---  ┆ ---      ┆ ---             ┆ ---             ┆ ---      │\n",
       "│ i32  ┆ i16      ┆ i16  ┆ i16      ┆ str             ┆ str             ┆ i16      │\n",
       "╞══════╪══════════╪══════╪══════════╪═════════════════╪═════════════════╪══════════╡\n",
       "│ 1    ┆ 1        ┆ 199  ┆ 0        ┆ intersection_0  ┆ intersection_6  ┆ 9        │\n",
       "│ 1    ┆ 1        ┆ 199  ┆ 0        ┆ intersection_0  ┆ intersection_72 ┆ 7        │\n",
       "│ 1    ┆ 1        ┆ 199  ┆ 0        ┆ intersection_0  ┆ intersection_8  ┆ 7        │\n",
       "│ 1    ┆ 1        ┆ 199  ┆ 0        ┆ intersection_0  ┆ intersection_29 ┆ 19       │\n",
       "│ 2    ┆ 1        ┆ 198  ┆ 0        ┆ intersection_0  ┆ intersection_6  ┆ 9        │\n",
       "│ …    ┆ …        ┆ …    ┆ …        ┆ …               ┆ …               ┆ …        │\n",
       "│ 998  ┆ 86       ┆ 2    ┆ 6        ┆ intersection_85 ┆ intersection_30 ┆ 8        │\n",
       "│ 999  ┆ 86       ┆ 1    ┆ 7        ┆ intersection_85 ┆ intersection_5  ┆ 5        │\n",
       "│ 999  ┆ 86       ┆ 1    ┆ 7        ┆ intersection_85 ┆ intersection_30 ┆ 8        │\n",
       "│ 1000 ┆ 86       ┆ 200  ┆ 8        ┆ intersection_85 ┆ intersection_5  ┆ 5        │\n",
       "│ 1000 ┆ 86       ┆ 200  ┆ 8        ┆ intersection_85 ┆ intersection_30 ┆ 8        │\n",
       "└──────┴──────────┴──────┴──────────┴─────────────────┴─────────────────┴──────────┘"
      ]
     },
     "execution_count": 13,
     "metadata": {},
     "output_type": "execute_result"
    }
   ],
   "source": [
    "traffic = traffic.join(\n",
    "    connections, left_on=\"Intersection\", right_on=\"Intersection_u\", how=\"left\"\n",
    ")\n",
    "traffic\n"
   ]
  },
  {
   "cell_type": "code",
   "execution_count": 14,
   "id": "dce6c82d",
   "metadata": {},
   "outputs": [
    {
     "data": {
      "text/html": [
       "<div><style>\n",
       ".dataframe > thead > tr,\n",
       ".dataframe > tbody > tr {\n",
       "  text-align: right;\n",
       "  white-space: pre-wrap;\n",
       "}\n",
       "</style>\n",
       "<small>shape: (214_086, 10)</small><table border=\"1\" class=\"dataframe\"><thead><tr><th>Step</th><th>Light_ID</th><th>Time</th><th>Arrivals</th><th>Centrality</th><th>Is_Entrypoint</th><th>Intersection</th><th>Intersection_v</th><th>Distance</th><th>Num_Cars</th></tr><tr><td>i32</td><td>i16</td><td>i16</td><td>i16</td><td>f32</td><td>bool</td><td>str</td><td>str</td><td>i16</td><td>i16</td></tr></thead><tbody><tr><td>1</td><td>1</td><td>199</td><td>0</td><td>0.026253</td><td>true</td><td>&quot;intersection_0&quot;</td><td>&quot;intersection_6&quot;</td><td>9</td><td>0</td></tr><tr><td>1</td><td>1</td><td>199</td><td>0</td><td>0.026253</td><td>true</td><td>&quot;intersection_0&quot;</td><td>&quot;intersection_72&quot;</td><td>7</td><td>0</td></tr><tr><td>1</td><td>1</td><td>199</td><td>0</td><td>0.026253</td><td>true</td><td>&quot;intersection_0&quot;</td><td>&quot;intersection_8&quot;</td><td>7</td><td>0</td></tr><tr><td>1</td><td>1</td><td>199</td><td>0</td><td>0.026253</td><td>true</td><td>&quot;intersection_0&quot;</td><td>&quot;intersection_29&quot;</td><td>19</td><td>0</td></tr><tr><td>2</td><td>1</td><td>198</td><td>0</td><td>0.026253</td><td>true</td><td>&quot;intersection_0&quot;</td><td>&quot;intersection_6&quot;</td><td>9</td><td>0</td></tr><tr><td>&hellip;</td><td>&hellip;</td><td>&hellip;</td><td>&hellip;</td><td>&hellip;</td><td>&hellip;</td><td>&hellip;</td><td>&hellip;</td><td>&hellip;</td><td>&hellip;</td></tr><tr><td>998</td><td>86</td><td>2</td><td>0</td><td>0.028758</td><td>true</td><td>&quot;intersection_85&quot;</td><td>&quot;intersection_30&quot;</td><td>8</td><td>6</td></tr><tr><td>999</td><td>86</td><td>1</td><td>0</td><td>0.028758</td><td>true</td><td>&quot;intersection_85&quot;</td><td>&quot;intersection_5&quot;</td><td>5</td><td>7</td></tr><tr><td>999</td><td>86</td><td>1</td><td>0</td><td>0.028758</td><td>true</td><td>&quot;intersection_85&quot;</td><td>&quot;intersection_30&quot;</td><td>8</td><td>7</td></tr><tr><td>1000</td><td>86</td><td>200</td><td>0</td><td>0.028758</td><td>true</td><td>&quot;intersection_85&quot;</td><td>&quot;intersection_5&quot;</td><td>5</td><td>8</td></tr><tr><td>1000</td><td>86</td><td>200</td><td>0</td><td>0.028758</td><td>true</td><td>&quot;intersection_85&quot;</td><td>&quot;intersection_30&quot;</td><td>8</td><td>8</td></tr></tbody></table></div>"
      ],
      "text/plain": [
       "shape: (214_086, 10)\n",
       "┌──────┬──────────┬──────┬──────────┬───┬─────────────────┬─────────────────┬──────────┬──────────┐\n",
       "│ Step ┆ Light_ID ┆ Time ┆ Arrivals ┆ … ┆ Intersection    ┆ Intersection_v  ┆ Distance ┆ Num_Cars │\n",
       "│ ---  ┆ ---      ┆ ---  ┆ ---      ┆   ┆ ---             ┆ ---             ┆ ---      ┆ ---      │\n",
       "│ i32  ┆ i16      ┆ i16  ┆ i16      ┆   ┆ str             ┆ str             ┆ i16      ┆ i16      │\n",
       "╞══════╪══════════╪══════╪══════════╪═══╪═════════════════╪═════════════════╪══════════╪══════════╡\n",
       "│ 1    ┆ 1        ┆ 199  ┆ 0        ┆ … ┆ intersection_0  ┆ intersection_6  ┆ 9        ┆ 0        │\n",
       "│ 1    ┆ 1        ┆ 199  ┆ 0        ┆ … ┆ intersection_0  ┆ intersection_72 ┆ 7        ┆ 0        │\n",
       "│ 1    ┆ 1        ┆ 199  ┆ 0        ┆ … ┆ intersection_0  ┆ intersection_8  ┆ 7        ┆ 0        │\n",
       "│ 1    ┆ 1        ┆ 199  ┆ 0        ┆ … ┆ intersection_0  ┆ intersection_29 ┆ 19       ┆ 0        │\n",
       "│ 2    ┆ 1        ┆ 198  ┆ 0        ┆ … ┆ intersection_0  ┆ intersection_6  ┆ 9        ┆ 0        │\n",
       "│ …    ┆ …        ┆ …    ┆ …        ┆ … ┆ …               ┆ …               ┆ …        ┆ …        │\n",
       "│ 998  ┆ 86       ┆ 2    ┆ 0        ┆ … ┆ intersection_85 ┆ intersection_30 ┆ 8        ┆ 6        │\n",
       "│ 999  ┆ 86       ┆ 1    ┆ 0        ┆ … ┆ intersection_85 ┆ intersection_5  ┆ 5        ┆ 7        │\n",
       "│ 999  ┆ 86       ┆ 1    ┆ 0        ┆ … ┆ intersection_85 ┆ intersection_30 ┆ 8        ┆ 7        │\n",
       "│ 1000 ┆ 86       ┆ 200  ┆ 0        ┆ … ┆ intersection_85 ┆ intersection_5  ┆ 5        ┆ 8        │\n",
       "│ 1000 ┆ 86       ┆ 200  ┆ 0        ┆ … ┆ intersection_85 ┆ intersection_30 ┆ 8        ┆ 8        │\n",
       "└──────┴──────────┴──────┴──────────┴───┴─────────────────┴─────────────────┴──────────┴──────────┘"
      ]
     },
     "execution_count": 14,
     "metadata": {},
     "output_type": "execute_result"
    }
   ],
   "source": [
    "data = data.hstack(traffic.select(pl.col(\"Num_Cars\")))\n",
    "data"
   ]
  },
  {
   "cell_type": "markdown",
   "id": "3ea7fa58",
   "metadata": {},
   "source": [
    "Shift the number of cars at each connected intersection 5 steps to the past as a proxy for incoming cars"
   ]
  },
  {
   "cell_type": "code",
   "execution_count": 15,
   "id": "1e52b37d",
   "metadata": {},
   "outputs": [
    {
     "data": {
      "text/html": [
       "<div><style>\n",
       ".dataframe > thead > tr,\n",
       ".dataframe > tbody > tr {\n",
       "  text-align: right;\n",
       "  white-space: pre-wrap;\n",
       "}\n",
       "</style>\n",
       "<small>shape: (214_086, 12)</small><table border=\"1\" class=\"dataframe\"><thead><tr><th>Step</th><th>Light_ID</th><th>Time</th><th>Arrivals</th><th>Centrality</th><th>Is_Entrypoint</th><th>Intersection</th><th>Intersection_v</th><th>Distance</th><th>Num_Cars</th><th>shifted_step</th><th>shifted_time</th></tr><tr><td>i32</td><td>i16</td><td>i16</td><td>i16</td><td>f32</td><td>bool</td><td>str</td><td>str</td><td>i16</td><td>i16</td><td>i32</td><td>i16</td></tr></thead><tbody><tr><td>1</td><td>1</td><td>199</td><td>0</td><td>0.026253</td><td>true</td><td>&quot;intersection_0&quot;</td><td>&quot;intersection_6&quot;</td><td>9</td><td>0</td><td>-4</td><td>4</td></tr><tr><td>1</td><td>1</td><td>199</td><td>0</td><td>0.026253</td><td>true</td><td>&quot;intersection_0&quot;</td><td>&quot;intersection_72&quot;</td><td>7</td><td>0</td><td>-4</td><td>4</td></tr><tr><td>1</td><td>1</td><td>199</td><td>0</td><td>0.026253</td><td>true</td><td>&quot;intersection_0&quot;</td><td>&quot;intersection_8&quot;</td><td>7</td><td>0</td><td>-4</td><td>4</td></tr><tr><td>1</td><td>1</td><td>199</td><td>0</td><td>0.026253</td><td>true</td><td>&quot;intersection_0&quot;</td><td>&quot;intersection_29&quot;</td><td>19</td><td>0</td><td>-4</td><td>4</td></tr><tr><td>2</td><td>1</td><td>198</td><td>0</td><td>0.026253</td><td>true</td><td>&quot;intersection_0&quot;</td><td>&quot;intersection_6&quot;</td><td>9</td><td>0</td><td>-3</td><td>3</td></tr><tr><td>&hellip;</td><td>&hellip;</td><td>&hellip;</td><td>&hellip;</td><td>&hellip;</td><td>&hellip;</td><td>&hellip;</td><td>&hellip;</td><td>&hellip;</td><td>&hellip;</td><td>&hellip;</td><td>&hellip;</td></tr><tr><td>998</td><td>86</td><td>2</td><td>0</td><td>0.028758</td><td>true</td><td>&quot;intersection_85&quot;</td><td>&quot;intersection_30&quot;</td><td>8</td><td>6</td><td>993</td><td>7</td></tr><tr><td>999</td><td>86</td><td>1</td><td>0</td><td>0.028758</td><td>true</td><td>&quot;intersection_85&quot;</td><td>&quot;intersection_5&quot;</td><td>5</td><td>7</td><td>994</td><td>6</td></tr><tr><td>999</td><td>86</td><td>1</td><td>0</td><td>0.028758</td><td>true</td><td>&quot;intersection_85&quot;</td><td>&quot;intersection_30&quot;</td><td>8</td><td>7</td><td>994</td><td>6</td></tr><tr><td>1000</td><td>86</td><td>200</td><td>0</td><td>0.028758</td><td>true</td><td>&quot;intersection_85&quot;</td><td>&quot;intersection_5&quot;</td><td>5</td><td>8</td><td>995</td><td>5</td></tr><tr><td>1000</td><td>86</td><td>200</td><td>0</td><td>0.028758</td><td>true</td><td>&quot;intersection_85&quot;</td><td>&quot;intersection_30&quot;</td><td>8</td><td>8</td><td>995</td><td>5</td></tr></tbody></table></div>"
      ],
      "text/plain": [
       "shape: (214_086, 12)\n",
       "┌──────┬──────────┬──────┬──────────┬───┬──────────┬──────────┬──────────────┬──────────────┐\n",
       "│ Step ┆ Light_ID ┆ Time ┆ Arrivals ┆ … ┆ Distance ┆ Num_Cars ┆ shifted_step ┆ shifted_time │\n",
       "│ ---  ┆ ---      ┆ ---  ┆ ---      ┆   ┆ ---      ┆ ---      ┆ ---          ┆ ---          │\n",
       "│ i32  ┆ i16      ┆ i16  ┆ i16      ┆   ┆ i16      ┆ i16      ┆ i32          ┆ i16          │\n",
       "╞══════╪══════════╪══════╪══════════╪═══╪══════════╪══════════╪══════════════╪══════════════╡\n",
       "│ 1    ┆ 1        ┆ 199  ┆ 0        ┆ … ┆ 9        ┆ 0        ┆ -4           ┆ 4            │\n",
       "│ 1    ┆ 1        ┆ 199  ┆ 0        ┆ … ┆ 7        ┆ 0        ┆ -4           ┆ 4            │\n",
       "│ 1    ┆ 1        ┆ 199  ┆ 0        ┆ … ┆ 7        ┆ 0        ┆ -4           ┆ 4            │\n",
       "│ 1    ┆ 1        ┆ 199  ┆ 0        ┆ … ┆ 19       ┆ 0        ┆ -4           ┆ 4            │\n",
       "│ 2    ┆ 1        ┆ 198  ┆ 0        ┆ … ┆ 9        ┆ 0        ┆ -3           ┆ 3            │\n",
       "│ …    ┆ …        ┆ …    ┆ …        ┆ … ┆ …        ┆ …        ┆ …            ┆ …            │\n",
       "│ 998  ┆ 86       ┆ 2    ┆ 0        ┆ … ┆ 8        ┆ 6        ┆ 993          ┆ 7            │\n",
       "│ 999  ┆ 86       ┆ 1    ┆ 0        ┆ … ┆ 5        ┆ 7        ┆ 994          ┆ 6            │\n",
       "│ 999  ┆ 86       ┆ 1    ┆ 0        ┆ … ┆ 8        ┆ 7        ┆ 994          ┆ 6            │\n",
       "│ 1000 ┆ 86       ┆ 200  ┆ 0        ┆ … ┆ 5        ┆ 8        ┆ 995          ┆ 5            │\n",
       "│ 1000 ┆ 86       ┆ 200  ┆ 0        ┆ … ┆ 8        ┆ 8        ┆ 995          ┆ 5            │\n",
       "└──────┴──────────┴──────┴──────────┴───┴──────────┴──────────┴──────────────┴──────────────┘"
      ]
     },
     "execution_count": 15,
     "metadata": {},
     "output_type": "execute_result"
    }
   ],
   "source": [
    "shifted_df = data.with_columns((pl.col(\"Step\") - 5).alias(\"shifted_step\"))\n",
    "\n",
    "shifted_df = shifted_df.with_columns(((pl.col(\"Time\") + 5) % 200).alias(\"shifted_time\"))\n",
    "\n",
    "shifted_df = shifted_df.with_columns(\n",
    "    pl.when(pl.col(\"shifted_time\") == 0)\n",
    "    .then(200)\n",
    "    .otherwise(pl.col(\"shifted_time\"))\n",
    "    .alias(\"shifted_time\")\n",
    ")\n",
    "\n",
    "shifted_df"
   ]
  },
  {
   "cell_type": "code",
   "execution_count": 16,
   "id": "7750f0dc",
   "metadata": {},
   "outputs": [
    {
     "data": {
      "text/html": [
       "<div><style>\n",
       ".dataframe > thead > tr,\n",
       ".dataframe > tbody > tr {\n",
       "  text-align: right;\n",
       "  white-space: pre-wrap;\n",
       "}\n",
       "</style>\n",
       "<small>shape: (214_086, 11)</small><table border=\"1\" class=\"dataframe\"><thead><tr><th>Step</th><th>Light_ID</th><th>Time</th><th>Arrivals</th><th>Centrality</th><th>Is_Entrypoint</th><th>Intersection</th><th>Intersection_v</th><th>Distance</th><th>Num_Cars</th><th>Num_Cars_right</th></tr><tr><td>i32</td><td>i16</td><td>i16</td><td>i16</td><td>f32</td><td>bool</td><td>str</td><td>str</td><td>i16</td><td>i16</td><td>i16</td></tr></thead><tbody><tr><td>1</td><td>1</td><td>199</td><td>0</td><td>0.026253</td><td>true</td><td>&quot;intersection_0&quot;</td><td>&quot;intersection_6&quot;</td><td>9</td><td>0</td><td>null</td></tr><tr><td>1</td><td>1</td><td>199</td><td>0</td><td>0.026253</td><td>true</td><td>&quot;intersection_0&quot;</td><td>&quot;intersection_72&quot;</td><td>7</td><td>0</td><td>null</td></tr><tr><td>1</td><td>1</td><td>199</td><td>0</td><td>0.026253</td><td>true</td><td>&quot;intersection_0&quot;</td><td>&quot;intersection_8&quot;</td><td>7</td><td>0</td><td>null</td></tr><tr><td>1</td><td>1</td><td>199</td><td>0</td><td>0.026253</td><td>true</td><td>&quot;intersection_0&quot;</td><td>&quot;intersection_29&quot;</td><td>19</td><td>0</td><td>null</td></tr><tr><td>2</td><td>1</td><td>198</td><td>0</td><td>0.026253</td><td>true</td><td>&quot;intersection_0&quot;</td><td>&quot;intersection_6&quot;</td><td>9</td><td>0</td><td>15</td></tr><tr><td>&hellip;</td><td>&hellip;</td><td>&hellip;</td><td>&hellip;</td><td>&hellip;</td><td>&hellip;</td><td>&hellip;</td><td>&hellip;</td><td>&hellip;</td><td>&hellip;</td><td>&hellip;</td></tr><tr><td>998</td><td>86</td><td>2</td><td>0</td><td>0.028758</td><td>true</td><td>&quot;intersection_85&quot;</td><td>&quot;intersection_30&quot;</td><td>8</td><td>6</td><td>null</td></tr><tr><td>999</td><td>86</td><td>1</td><td>0</td><td>0.028758</td><td>true</td><td>&quot;intersection_85&quot;</td><td>&quot;intersection_5&quot;</td><td>5</td><td>7</td><td>null</td></tr><tr><td>999</td><td>86</td><td>1</td><td>0</td><td>0.028758</td><td>true</td><td>&quot;intersection_85&quot;</td><td>&quot;intersection_30&quot;</td><td>8</td><td>7</td><td>null</td></tr><tr><td>1000</td><td>86</td><td>200</td><td>0</td><td>0.028758</td><td>true</td><td>&quot;intersection_85&quot;</td><td>&quot;intersection_5&quot;</td><td>5</td><td>8</td><td>null</td></tr><tr><td>1000</td><td>86</td><td>200</td><td>0</td><td>0.028758</td><td>true</td><td>&quot;intersection_85&quot;</td><td>&quot;intersection_30&quot;</td><td>8</td><td>8</td><td>null</td></tr></tbody></table></div>"
      ],
      "text/plain": [
       "shape: (214_086, 11)\n",
       "┌──────┬──────────┬──────┬──────────┬───┬─────────────────┬──────────┬──────────┬────────────────┐\n",
       "│ Step ┆ Light_ID ┆ Time ┆ Arrivals ┆ … ┆ Intersection_v  ┆ Distance ┆ Num_Cars ┆ Num_Cars_right │\n",
       "│ ---  ┆ ---      ┆ ---  ┆ ---      ┆   ┆ ---             ┆ ---      ┆ ---      ┆ ---            │\n",
       "│ i32  ┆ i16      ┆ i16  ┆ i16      ┆   ┆ str             ┆ i16      ┆ i16      ┆ i16            │\n",
       "╞══════╪══════════╪══════╪══════════╪═══╪═════════════════╪══════════╪══════════╪════════════════╡\n",
       "│ 1    ┆ 1        ┆ 199  ┆ 0        ┆ … ┆ intersection_6  ┆ 9        ┆ 0        ┆ null           │\n",
       "│ 1    ┆ 1        ┆ 199  ┆ 0        ┆ … ┆ intersection_72 ┆ 7        ┆ 0        ┆ null           │\n",
       "│ 1    ┆ 1        ┆ 199  ┆ 0        ┆ … ┆ intersection_8  ┆ 7        ┆ 0        ┆ null           │\n",
       "│ 1    ┆ 1        ┆ 199  ┆ 0        ┆ … ┆ intersection_29 ┆ 19       ┆ 0        ┆ null           │\n",
       "│ 2    ┆ 1        ┆ 198  ┆ 0        ┆ … ┆ intersection_6  ┆ 9        ┆ 0        ┆ 15             │\n",
       "│ …    ┆ …        ┆ …    ┆ …        ┆ … ┆ …               ┆ …        ┆ …        ┆ …              │\n",
       "│ 998  ┆ 86       ┆ 2    ┆ 0        ┆ … ┆ intersection_30 ┆ 8        ┆ 6        ┆ null           │\n",
       "│ 999  ┆ 86       ┆ 1    ┆ 0        ┆ … ┆ intersection_5  ┆ 5        ┆ 7        ┆ null           │\n",
       "│ 999  ┆ 86       ┆ 1    ┆ 0        ┆ … ┆ intersection_30 ┆ 8        ┆ 7        ┆ null           │\n",
       "│ 1000 ┆ 86       ┆ 200  ┆ 0        ┆ … ┆ intersection_5  ┆ 5        ┆ 8        ┆ null           │\n",
       "│ 1000 ┆ 86       ┆ 200  ┆ 0        ┆ … ┆ intersection_30 ┆ 8        ┆ 8        ┆ null           │\n",
       "└──────┴──────────┴──────┴──────────┴───┴─────────────────┴──────────┴──────────┴────────────────┘"
      ]
     },
     "execution_count": 16,
     "metadata": {},
     "output_type": "execute_result"
    }
   ],
   "source": [
    "data = data.join(\n",
    "    shifted_df.select(\n",
    "        [\"shifted_step\", \"Light_ID\", \"shifted_time\", \"Intersection_v\", \"Num_Cars\"]\n",
    "    ),\n",
    "    left_on=[\"Step\", \"Light_ID\", \"Time\", \"Intersection_v\"],\n",
    "    right_on=[\"shifted_step\", \"Light_ID\", \"shifted_time\", \"Intersection_v\"],\n",
    "    how=\"left\",\n",
    ")\n",
    "data"
   ]
  },
  {
   "cell_type": "code",
   "execution_count": 17,
   "id": "b916cd0f",
   "metadata": {},
   "outputs": [
    {
     "data": {
      "text/html": [
       "<div><style>\n",
       ".dataframe > thead > tr,\n",
       ".dataframe > tbody > tr {\n",
       "  text-align: right;\n",
       "  white-space: pre-wrap;\n",
       "}\n",
       "</style>\n",
       "<small>shape: (143_356, 11)</small><table border=\"1\" class=\"dataframe\"><thead><tr><th>Step</th><th>Light_ID</th><th>Time</th><th>Arrivals</th><th>Centrality</th><th>Is_Entrypoint</th><th>Intersection</th><th>Intersection_v</th><th>Distance</th><th>Num_Cars</th><th>Num_Cars_right</th></tr><tr><td>i32</td><td>i16</td><td>i16</td><td>i16</td><td>f32</td><td>bool</td><td>str</td><td>str</td><td>i16</td><td>i16</td><td>i16</td></tr></thead><tbody><tr><td>2</td><td>1</td><td>198</td><td>0</td><td>0.026253</td><td>true</td><td>&quot;intersection_0&quot;</td><td>&quot;intersection_6&quot;</td><td>9</td><td>0</td><td>15</td></tr><tr><td>2</td><td>1</td><td>198</td><td>0</td><td>0.026253</td><td>true</td><td>&quot;intersection_0&quot;</td><td>&quot;intersection_72&quot;</td><td>7</td><td>0</td><td>15</td></tr><tr><td>2</td><td>1</td><td>198</td><td>0</td><td>0.026253</td><td>true</td><td>&quot;intersection_0&quot;</td><td>&quot;intersection_8&quot;</td><td>7</td><td>0</td><td>15</td></tr><tr><td>2</td><td>1</td><td>198</td><td>0</td><td>0.026253</td><td>true</td><td>&quot;intersection_0&quot;</td><td>&quot;intersection_29&quot;</td><td>19</td><td>0</td><td>15</td></tr><tr><td>3</td><td>1</td><td>197</td><td>0</td><td>0.026253</td><td>true</td><td>&quot;intersection_0&quot;</td><td>&quot;intersection_6&quot;</td><td>9</td><td>6</td><td>15</td></tr><tr><td>&hellip;</td><td>&hellip;</td><td>&hellip;</td><td>&hellip;</td><td>&hellip;</td><td>&hellip;</td><td>&hellip;</td><td>&hellip;</td><td>&hellip;</td><td>&hellip;</td><td>&hellip;</td></tr><tr><td>993</td><td>86</td><td>7</td><td>1</td><td>0.028758</td><td>true</td><td>&quot;intersection_85&quot;</td><td>&quot;intersection_30&quot;</td><td>8</td><td>6</td><td>6</td></tr><tr><td>994</td><td>86</td><td>6</td><td>2</td><td>0.028758</td><td>true</td><td>&quot;intersection_85&quot;</td><td>&quot;intersection_5&quot;</td><td>5</td><td>6</td><td>7</td></tr><tr><td>994</td><td>86</td><td>6</td><td>2</td><td>0.028758</td><td>true</td><td>&quot;intersection_85&quot;</td><td>&quot;intersection_30&quot;</td><td>8</td><td>6</td><td>7</td></tr><tr><td>995</td><td>86</td><td>5</td><td>0</td><td>0.028758</td><td>true</td><td>&quot;intersection_85&quot;</td><td>&quot;intersection_5&quot;</td><td>5</td><td>5</td><td>8</td></tr><tr><td>995</td><td>86</td><td>5</td><td>0</td><td>0.028758</td><td>true</td><td>&quot;intersection_85&quot;</td><td>&quot;intersection_30&quot;</td><td>8</td><td>5</td><td>8</td></tr></tbody></table></div>"
      ],
      "text/plain": [
       "shape: (143_356, 11)\n",
       "┌──────┬──────────┬──────┬──────────┬───┬─────────────────┬──────────┬──────────┬────────────────┐\n",
       "│ Step ┆ Light_ID ┆ Time ┆ Arrivals ┆ … ┆ Intersection_v  ┆ Distance ┆ Num_Cars ┆ Num_Cars_right │\n",
       "│ ---  ┆ ---      ┆ ---  ┆ ---      ┆   ┆ ---             ┆ ---      ┆ ---      ┆ ---            │\n",
       "│ i32  ┆ i16      ┆ i16  ┆ i16      ┆   ┆ str             ┆ i16      ┆ i16      ┆ i16            │\n",
       "╞══════╪══════════╪══════╪══════════╪═══╪═════════════════╪══════════╪══════════╪════════════════╡\n",
       "│ 2    ┆ 1        ┆ 198  ┆ 0        ┆ … ┆ intersection_6  ┆ 9        ┆ 0        ┆ 15             │\n",
       "│ 2    ┆ 1        ┆ 198  ┆ 0        ┆ … ┆ intersection_72 ┆ 7        ┆ 0        ┆ 15             │\n",
       "│ 2    ┆ 1        ┆ 198  ┆ 0        ┆ … ┆ intersection_8  ┆ 7        ┆ 0        ┆ 15             │\n",
       "│ 2    ┆ 1        ┆ 198  ┆ 0        ┆ … ┆ intersection_29 ┆ 19       ┆ 0        ┆ 15             │\n",
       "│ 3    ┆ 1        ┆ 197  ┆ 0        ┆ … ┆ intersection_6  ┆ 9        ┆ 6        ┆ 15             │\n",
       "│ …    ┆ …        ┆ …    ┆ …        ┆ … ┆ …               ┆ …        ┆ …        ┆ …              │\n",
       "│ 993  ┆ 86       ┆ 7    ┆ 1        ┆ … ┆ intersection_30 ┆ 8        ┆ 6        ┆ 6              │\n",
       "│ 994  ┆ 86       ┆ 6    ┆ 2        ┆ … ┆ intersection_5  ┆ 5        ┆ 6        ┆ 7              │\n",
       "│ 994  ┆ 86       ┆ 6    ┆ 2        ┆ … ┆ intersection_30 ┆ 8        ┆ 6        ┆ 7              │\n",
       "│ 995  ┆ 86       ┆ 5    ┆ 0        ┆ … ┆ intersection_5  ┆ 5        ┆ 5        ┆ 8              │\n",
       "│ 995  ┆ 86       ┆ 5    ┆ 0        ┆ … ┆ intersection_30 ┆ 8        ┆ 5        ┆ 8              │\n",
       "└──────┴──────────┴──────┴──────────┴───┴─────────────────┴──────────┴──────────┴────────────────┘"
      ]
     },
     "execution_count": 17,
     "metadata": {},
     "output_type": "execute_result"
    }
   ],
   "source": [
    "data = data.drop_nulls()\n",
    "data"
   ]
  },
  {
   "cell_type": "code",
   "execution_count": 18,
   "id": "5ba95645",
   "metadata": {},
   "outputs": [
    {
     "data": {
      "text/html": [
       "<div><style>\n",
       ".dataframe > thead > tr,\n",
       ".dataframe > tbody > tr {\n",
       "  text-align: right;\n",
       "  white-space: pre-wrap;\n",
       "}\n",
       "</style>\n",
       "<small>shape: (143_356, 7)</small><table border=\"1\" class=\"dataframe\"><thead><tr><th>Light_ID</th><th>Time</th><th>Arrivals</th><th>Centrality</th><th>Is_Entrypoint</th><th>Distance</th><th>Num_Cars_right</th></tr><tr><td>i16</td><td>i16</td><td>i16</td><td>f32</td><td>bool</td><td>i16</td><td>i16</td></tr></thead><tbody><tr><td>1</td><td>198</td><td>0</td><td>0.026253</td><td>true</td><td>9</td><td>15</td></tr><tr><td>1</td><td>198</td><td>0</td><td>0.026253</td><td>true</td><td>7</td><td>15</td></tr><tr><td>1</td><td>198</td><td>0</td><td>0.026253</td><td>true</td><td>7</td><td>15</td></tr><tr><td>1</td><td>198</td><td>0</td><td>0.026253</td><td>true</td><td>19</td><td>15</td></tr><tr><td>1</td><td>197</td><td>0</td><td>0.026253</td><td>true</td><td>9</td><td>15</td></tr><tr><td>&hellip;</td><td>&hellip;</td><td>&hellip;</td><td>&hellip;</td><td>&hellip;</td><td>&hellip;</td><td>&hellip;</td></tr><tr><td>86</td><td>7</td><td>1</td><td>0.028758</td><td>true</td><td>8</td><td>6</td></tr><tr><td>86</td><td>6</td><td>2</td><td>0.028758</td><td>true</td><td>5</td><td>7</td></tr><tr><td>86</td><td>6</td><td>2</td><td>0.028758</td><td>true</td><td>8</td><td>7</td></tr><tr><td>86</td><td>5</td><td>0</td><td>0.028758</td><td>true</td><td>5</td><td>8</td></tr><tr><td>86</td><td>5</td><td>0</td><td>0.028758</td><td>true</td><td>8</td><td>8</td></tr></tbody></table></div>"
      ],
      "text/plain": [
       "shape: (143_356, 7)\n",
       "┌──────────┬──────┬──────────┬────────────┬───────────────┬──────────┬────────────────┐\n",
       "│ Light_ID ┆ Time ┆ Arrivals ┆ Centrality ┆ Is_Entrypoint ┆ Distance ┆ Num_Cars_right │\n",
       "│ ---      ┆ ---  ┆ ---      ┆ ---        ┆ ---           ┆ ---      ┆ ---            │\n",
       "│ i16      ┆ i16  ┆ i16      ┆ f32        ┆ bool          ┆ i16      ┆ i16            │\n",
       "╞══════════╪══════╪══════════╪════════════╪═══════════════╪══════════╪════════════════╡\n",
       "│ 1        ┆ 198  ┆ 0        ┆ 0.026253   ┆ true          ┆ 9        ┆ 15             │\n",
       "│ 1        ┆ 198  ┆ 0        ┆ 0.026253   ┆ true          ┆ 7        ┆ 15             │\n",
       "│ 1        ┆ 198  ┆ 0        ┆ 0.026253   ┆ true          ┆ 7        ┆ 15             │\n",
       "│ 1        ┆ 198  ┆ 0        ┆ 0.026253   ┆ true          ┆ 19       ┆ 15             │\n",
       "│ 1        ┆ 197  ┆ 0        ┆ 0.026253   ┆ true          ┆ 9        ┆ 15             │\n",
       "│ …        ┆ …    ┆ …        ┆ …          ┆ …             ┆ …        ┆ …              │\n",
       "│ 86       ┆ 7    ┆ 1        ┆ 0.028758   ┆ true          ┆ 8        ┆ 6              │\n",
       "│ 86       ┆ 6    ┆ 2        ┆ 0.028758   ┆ true          ┆ 5        ┆ 7              │\n",
       "│ 86       ┆ 6    ┆ 2        ┆ 0.028758   ┆ true          ┆ 8        ┆ 7              │\n",
       "│ 86       ┆ 5    ┆ 0        ┆ 0.028758   ┆ true          ┆ 5        ┆ 8              │\n",
       "│ 86       ┆ 5    ┆ 0        ┆ 0.028758   ┆ true          ┆ 8        ┆ 8              │\n",
       "└──────────┴──────┴──────────┴────────────┴───────────────┴──────────┴────────────────┘"
      ]
     },
     "execution_count": 18,
     "metadata": {},
     "output_type": "execute_result"
    }
   ],
   "source": [
    "data = data.drop([\"Step\", \"Intersection\", \"Intersection_v\", \"Num_Cars\"])\n",
    "data"
   ]
  },
  {
   "cell_type": "code",
   "execution_count": 19,
   "id": "96098241",
   "metadata": {},
   "outputs": [
    {
     "data": {
      "text/html": [
       "<div><style>\n",
       ".dataframe > thead > tr,\n",
       ".dataframe > tbody > tr {\n",
       "  text-align: right;\n",
       "  white-space: pre-wrap;\n",
       "}\n",
       "</style>\n",
       "<small>shape: (143_356, 7)</small><table border=\"1\" class=\"dataframe\"><thead><tr><th>Light_ID</th><th>Time</th><th>Arrivals</th><th>Centrality</th><th>Is_Entrypoint</th><th>Distance</th><th>Incoming_Cars</th></tr><tr><td>i16</td><td>i16</td><td>i16</td><td>f32</td><td>bool</td><td>i16</td><td>i16</td></tr></thead><tbody><tr><td>1</td><td>198</td><td>0</td><td>0.026253</td><td>true</td><td>9</td><td>15</td></tr><tr><td>1</td><td>198</td><td>0</td><td>0.026253</td><td>true</td><td>7</td><td>15</td></tr><tr><td>1</td><td>198</td><td>0</td><td>0.026253</td><td>true</td><td>7</td><td>15</td></tr><tr><td>1</td><td>198</td><td>0</td><td>0.026253</td><td>true</td><td>19</td><td>15</td></tr><tr><td>1</td><td>197</td><td>0</td><td>0.026253</td><td>true</td><td>9</td><td>15</td></tr><tr><td>&hellip;</td><td>&hellip;</td><td>&hellip;</td><td>&hellip;</td><td>&hellip;</td><td>&hellip;</td><td>&hellip;</td></tr><tr><td>86</td><td>7</td><td>1</td><td>0.028758</td><td>true</td><td>8</td><td>6</td></tr><tr><td>86</td><td>6</td><td>2</td><td>0.028758</td><td>true</td><td>5</td><td>7</td></tr><tr><td>86</td><td>6</td><td>2</td><td>0.028758</td><td>true</td><td>8</td><td>7</td></tr><tr><td>86</td><td>5</td><td>0</td><td>0.028758</td><td>true</td><td>5</td><td>8</td></tr><tr><td>86</td><td>5</td><td>0</td><td>0.028758</td><td>true</td><td>8</td><td>8</td></tr></tbody></table></div>"
      ],
      "text/plain": [
       "shape: (143_356, 7)\n",
       "┌──────────┬──────┬──────────┬────────────┬───────────────┬──────────┬───────────────┐\n",
       "│ Light_ID ┆ Time ┆ Arrivals ┆ Centrality ┆ Is_Entrypoint ┆ Distance ┆ Incoming_Cars │\n",
       "│ ---      ┆ ---  ┆ ---      ┆ ---        ┆ ---           ┆ ---      ┆ ---           │\n",
       "│ i16      ┆ i16  ┆ i16      ┆ f32        ┆ bool          ┆ i16      ┆ i16           │\n",
       "╞══════════╪══════╪══════════╪════════════╪═══════════════╪══════════╪═══════════════╡\n",
       "│ 1        ┆ 198  ┆ 0        ┆ 0.026253   ┆ true          ┆ 9        ┆ 15            │\n",
       "│ 1        ┆ 198  ┆ 0        ┆ 0.026253   ┆ true          ┆ 7        ┆ 15            │\n",
       "│ 1        ┆ 198  ┆ 0        ┆ 0.026253   ┆ true          ┆ 7        ┆ 15            │\n",
       "│ 1        ┆ 198  ┆ 0        ┆ 0.026253   ┆ true          ┆ 19       ┆ 15            │\n",
       "│ 1        ┆ 197  ┆ 0        ┆ 0.026253   ┆ true          ┆ 9        ┆ 15            │\n",
       "│ …        ┆ …    ┆ …        ┆ …          ┆ …             ┆ …        ┆ …             │\n",
       "│ 86       ┆ 7    ┆ 1        ┆ 0.028758   ┆ true          ┆ 8        ┆ 6             │\n",
       "│ 86       ┆ 6    ┆ 2        ┆ 0.028758   ┆ true          ┆ 5        ┆ 7             │\n",
       "│ 86       ┆ 6    ┆ 2        ┆ 0.028758   ┆ true          ┆ 8        ┆ 7             │\n",
       "│ 86       ┆ 5    ┆ 0        ┆ 0.028758   ┆ true          ┆ 5        ┆ 8             │\n",
       "│ 86       ┆ 5    ┆ 0        ┆ 0.028758   ┆ true          ┆ 8        ┆ 8             │\n",
       "└──────────┴──────┴──────────┴────────────┴───────────────┴──────────┴───────────────┘"
      ]
     },
     "execution_count": 19,
     "metadata": {},
     "output_type": "execute_result"
    }
   ],
   "source": [
    "data = data.rename({\"Num_Cars_right\": \"Incoming_Cars\"})\n",
    "data"
   ]
  },
  {
   "cell_type": "markdown",
   "id": "71a1f8e4",
   "metadata": {},
   "source": [
    "## Create Aggregation Function"
   ]
  },
  {
   "cell_type": "code",
   "execution_count": 20,
   "id": "30aa662e",
   "metadata": {},
   "outputs": [],
   "source": [
    "def aggregate_data(folder: str) -> pl.DataFrame:\n",
    "    # Load Data\n",
    "    arrivals = pl.read_parquet(os.path.join(folder, \"arrivals.parquet\"))\n",
    "    connections = pl.read_parquet(os.path.join(folder, \"connections.parquet\"))\n",
    "    connections = connections.filter(\n",
    "        ~pl.col(\"Intersection_u\").str.starts_with(\"border\")\n",
    "    )\n",
    "    connections = connections.filter(\n",
    "        ~pl.col(\"Intersection_v\").str.starts_with(\"border\")\n",
    "    )\n",
    "    light_data = pl.read_parquet(os.path.join(folder, \"light_data.parquet\"))\n",
    "    light_intersection_mapping = pl.read_parquet(\n",
    "        os.path.join(folder, \"light_intersection_mapping.parquet\")\n",
    "    )\n",
    "    traffic = pl.read_parquet(os.path.join(folder, \"traffic.parquet\"))\n",
    "\n",
    "    # Add LightAgent Metadata\n",
    "    data = arrivals.join(light_data, on=\"Light_ID\", how=\"left\")\n",
    "\n",
    "    # Add Intersection Mapping\n",
    "    data = data.join(light_intersection_mapping, on=\"Light_ID\", how=\"left\")\n",
    "\n",
    "    # Add Connections Data\n",
    "    data = data.join(\n",
    "        connections, left_on=\"Intersection\", right_on=\"Intersection_u\", how=\"left\"\n",
    "    )\n",
    "\n",
    "    # Add Traffic\n",
    "    traffic = traffic.join(light_intersection_mapping, on=\"Light_ID\", how=\"left\")\n",
    "    traffic = traffic.join(\n",
    "        connections, left_on=\"Intersection\", right_on=\"Intersection_u\", how=\"left\"\n",
    "    )\n",
    "    data = data.hstack(traffic.select(pl.col(\"Num_Cars\")))\n",
    "\n",
    "    # Get Incoming Cars data\n",
    "    shifted_df = data.with_columns((pl.col(\"Step\") - 5).alias(\"shifted_step\"))\n",
    "    shifted_df = shifted_df.with_columns(\n",
    "        ((pl.col(\"Time\") + 5) % 200).alias(\"shifted_time\")\n",
    "    )\n",
    "    shifted_df = shifted_df.with_columns(\n",
    "        pl.when(pl.col(\"shifted_time\") == 0)\n",
    "        .then(200)\n",
    "        .otherwise(pl.col(\"shifted_time\"))\n",
    "        .alias(\"shifted_time\")\n",
    "    )\n",
    "    data = data.join(\n",
    "        shifted_df.select(\n",
    "            [\"shifted_step\", \"Light_ID\", \"shifted_time\", \"Intersection_v\", \"Num_Cars\"]\n",
    "        ),\n",
    "        left_on=[\"Step\", \"Light_ID\", \"Time\", \"Intersection_v\"],\n",
    "        right_on=[\"shifted_step\", \"Light_ID\", \"shifted_time\", \"Intersection_v\"],\n",
    "        how=\"left\",\n",
    "    )\n",
    "\n",
    "    # Cleanup\n",
    "    data = data.drop_nulls()\n",
    "    data = data.drop([\"Step\", \"Intersection\", \"Intersection_v\", \"Num_Cars\"])\n",
    "    data = data.rename({\"Num_Cars_right\": \"Incoming_Cars\"})\n",
    "\n",
    "    return data"
   ]
  },
  {
   "cell_type": "markdown",
   "id": "27373f83",
   "metadata": {},
   "source": [
    "## Run 2"
   ]
  },
  {
   "cell_type": "code",
   "execution_count": 21,
   "id": "3646bc65",
   "metadata": {},
   "outputs": [
    {
     "data": {
      "text/html": [
       "<div><style>\n",
       ".dataframe > thead > tr,\n",
       ".dataframe > tbody > tr {\n",
       "  text-align: right;\n",
       "  white-space: pre-wrap;\n",
       "}\n",
       "</style>\n",
       "<small>shape: (155_265, 7)</small><table border=\"1\" class=\"dataframe\"><thead><tr><th>Light_ID</th><th>Time</th><th>Arrivals</th><th>Centrality</th><th>Is_Entrypoint</th><th>Distance</th><th>Incoming_Cars</th></tr><tr><td>i16</td><td>i16</td><td>i16</td><td>f32</td><td>bool</td><td>i16</td><td>i16</td></tr></thead><tbody><tr><td>1</td><td>198</td><td>0</td><td>0.02763</td><td>true</td><td>10</td><td>18</td></tr><tr><td>1</td><td>198</td><td>0</td><td>0.02763</td><td>true</td><td>8</td><td>18</td></tr><tr><td>1</td><td>198</td><td>0</td><td>0.02763</td><td>true</td><td>12</td><td>18</td></tr><tr><td>1</td><td>198</td><td>0</td><td>0.02763</td><td>true</td><td>11</td><td>18</td></tr><tr><td>1</td><td>197</td><td>0</td><td>0.02763</td><td>true</td><td>10</td><td>22</td></tr><tr><td>&hellip;</td><td>&hellip;</td><td>&hellip;</td><td>&hellip;</td><td>&hellip;</td><td>&hellip;</td><td>&hellip;</td></tr><tr><td>102</td><td>10</td><td>0</td><td>0.027976</td><td>true</td><td>8</td><td>19</td></tr><tr><td>102</td><td>5</td><td>0</td><td>0.027976</td><td>true</td><td>8</td><td>14</td></tr><tr><td>102</td><td>5</td><td>0</td><td>0.027976</td><td>true</td><td>9</td><td>14</td></tr><tr><td>102</td><td>5</td><td>0</td><td>0.027976</td><td>true</td><td>9</td><td>14</td></tr><tr><td>102</td><td>5</td><td>0</td><td>0.027976</td><td>true</td><td>8</td><td>14</td></tr></tbody></table></div>"
      ],
      "text/plain": [
       "shape: (155_265, 7)\n",
       "┌──────────┬──────┬──────────┬────────────┬───────────────┬──────────┬───────────────┐\n",
       "│ Light_ID ┆ Time ┆ Arrivals ┆ Centrality ┆ Is_Entrypoint ┆ Distance ┆ Incoming_Cars │\n",
       "│ ---      ┆ ---  ┆ ---      ┆ ---        ┆ ---           ┆ ---      ┆ ---           │\n",
       "│ i16      ┆ i16  ┆ i16      ┆ f32        ┆ bool          ┆ i16      ┆ i16           │\n",
       "╞══════════╪══════╪══════════╪════════════╪═══════════════╪══════════╪═══════════════╡\n",
       "│ 1        ┆ 198  ┆ 0        ┆ 0.02763    ┆ true          ┆ 10       ┆ 18            │\n",
       "│ 1        ┆ 198  ┆ 0        ┆ 0.02763    ┆ true          ┆ 8        ┆ 18            │\n",
       "│ 1        ┆ 198  ┆ 0        ┆ 0.02763    ┆ true          ┆ 12       ┆ 18            │\n",
       "│ 1        ┆ 198  ┆ 0        ┆ 0.02763    ┆ true          ┆ 11       ┆ 18            │\n",
       "│ 1        ┆ 197  ┆ 0        ┆ 0.02763    ┆ true          ┆ 10       ┆ 22            │\n",
       "│ …        ┆ …    ┆ …        ┆ …          ┆ …             ┆ …        ┆ …             │\n",
       "│ 102      ┆ 10   ┆ 0        ┆ 0.027976   ┆ true          ┆ 8        ┆ 19            │\n",
       "│ 102      ┆ 5    ┆ 0        ┆ 0.027976   ┆ true          ┆ 8        ┆ 14            │\n",
       "│ 102      ┆ 5    ┆ 0        ┆ 0.027976   ┆ true          ┆ 9        ┆ 14            │\n",
       "│ 102      ┆ 5    ┆ 0        ┆ 0.027976   ┆ true          ┆ 9        ┆ 14            │\n",
       "│ 102      ┆ 5    ┆ 0        ┆ 0.027976   ┆ true          ┆ 8        ┆ 14            │\n",
       "└──────────┴──────┴──────────┴────────────┴───────────────┴──────────┴───────────────┘"
      ]
     },
     "execution_count": 21,
     "metadata": {},
     "output_type": "execute_result"
    }
   ],
   "source": [
    "folder = \"../data/2025-04-04-15:10:53\"\n",
    "\n",
    "new_data = aggregate_data(folder=folder)\n",
    "\n",
    "new_data"
   ]
  },
  {
   "cell_type": "markdown",
   "id": "f35a50e5",
   "metadata": {},
   "source": [
    "Combine Data"
   ]
  },
  {
   "cell_type": "code",
   "execution_count": 22,
   "id": "6205c131",
   "metadata": {},
   "outputs": [
    {
     "data": {
      "text/html": [
       "<div><style>\n",
       ".dataframe > thead > tr,\n",
       ".dataframe > tbody > tr {\n",
       "  text-align: right;\n",
       "  white-space: pre-wrap;\n",
       "}\n",
       "</style>\n",
       "<small>shape: (298_621, 7)</small><table border=\"1\" class=\"dataframe\"><thead><tr><th>Light_ID</th><th>Time</th><th>Arrivals</th><th>Centrality</th><th>Is_Entrypoint</th><th>Distance</th><th>Incoming_Cars</th></tr><tr><td>i16</td><td>i16</td><td>i16</td><td>f32</td><td>bool</td><td>i16</td><td>i16</td></tr></thead><tbody><tr><td>1</td><td>198</td><td>0</td><td>0.026253</td><td>true</td><td>9</td><td>15</td></tr><tr><td>1</td><td>198</td><td>0</td><td>0.026253</td><td>true</td><td>7</td><td>15</td></tr><tr><td>1</td><td>198</td><td>0</td><td>0.026253</td><td>true</td><td>7</td><td>15</td></tr><tr><td>1</td><td>198</td><td>0</td><td>0.026253</td><td>true</td><td>19</td><td>15</td></tr><tr><td>1</td><td>197</td><td>0</td><td>0.026253</td><td>true</td><td>9</td><td>15</td></tr><tr><td>&hellip;</td><td>&hellip;</td><td>&hellip;</td><td>&hellip;</td><td>&hellip;</td><td>&hellip;</td><td>&hellip;</td></tr><tr><td>102</td><td>10</td><td>0</td><td>0.027976</td><td>true</td><td>8</td><td>19</td></tr><tr><td>102</td><td>5</td><td>0</td><td>0.027976</td><td>true</td><td>8</td><td>14</td></tr><tr><td>102</td><td>5</td><td>0</td><td>0.027976</td><td>true</td><td>9</td><td>14</td></tr><tr><td>102</td><td>5</td><td>0</td><td>0.027976</td><td>true</td><td>9</td><td>14</td></tr><tr><td>102</td><td>5</td><td>0</td><td>0.027976</td><td>true</td><td>8</td><td>14</td></tr></tbody></table></div>"
      ],
      "text/plain": [
       "shape: (298_621, 7)\n",
       "┌──────────┬──────┬──────────┬────────────┬───────────────┬──────────┬───────────────┐\n",
       "│ Light_ID ┆ Time ┆ Arrivals ┆ Centrality ┆ Is_Entrypoint ┆ Distance ┆ Incoming_Cars │\n",
       "│ ---      ┆ ---  ┆ ---      ┆ ---        ┆ ---           ┆ ---      ┆ ---           │\n",
       "│ i16      ┆ i16  ┆ i16      ┆ f32        ┆ bool          ┆ i16      ┆ i16           │\n",
       "╞══════════╪══════╪══════════╪════════════╪═══════════════╪══════════╪═══════════════╡\n",
       "│ 1        ┆ 198  ┆ 0        ┆ 0.026253   ┆ true          ┆ 9        ┆ 15            │\n",
       "│ 1        ┆ 198  ┆ 0        ┆ 0.026253   ┆ true          ┆ 7        ┆ 15            │\n",
       "│ 1        ┆ 198  ┆ 0        ┆ 0.026253   ┆ true          ┆ 7        ┆ 15            │\n",
       "│ 1        ┆ 198  ┆ 0        ┆ 0.026253   ┆ true          ┆ 19       ┆ 15            │\n",
       "│ 1        ┆ 197  ┆ 0        ┆ 0.026253   ┆ true          ┆ 9        ┆ 15            │\n",
       "│ …        ┆ …    ┆ …        ┆ …          ┆ …             ┆ …        ┆ …             │\n",
       "│ 102      ┆ 10   ┆ 0        ┆ 0.027976   ┆ true          ┆ 8        ┆ 19            │\n",
       "│ 102      ┆ 5    ┆ 0        ┆ 0.027976   ┆ true          ┆ 8        ┆ 14            │\n",
       "│ 102      ┆ 5    ┆ 0        ┆ 0.027976   ┆ true          ┆ 9        ┆ 14            │\n",
       "│ 102      ┆ 5    ┆ 0        ┆ 0.027976   ┆ true          ┆ 9        ┆ 14            │\n",
       "│ 102      ┆ 5    ┆ 0        ┆ 0.027976   ┆ true          ┆ 8        ┆ 14            │\n",
       "└──────────┴──────┴──────────┴────────────┴───────────────┴──────────┴───────────────┘"
      ]
     },
     "execution_count": 22,
     "metadata": {},
     "output_type": "execute_result"
    }
   ],
   "source": [
    "data = data.vstack(new_data)\n",
    "data"
   ]
  },
  {
   "cell_type": "markdown",
   "id": "ac012cb3",
   "metadata": {},
   "source": [
    "## Run 3"
   ]
  },
  {
   "cell_type": "code",
   "execution_count": 23,
   "id": "470af54f",
   "metadata": {},
   "outputs": [
    {
     "data": {
      "text/html": [
       "<div><style>\n",
       ".dataframe > thead > tr,\n",
       ".dataframe > tbody > tr {\n",
       "  text-align: right;\n",
       "  white-space: pre-wrap;\n",
       "}\n",
       "</style>\n",
       "<small>shape: (181_890, 7)</small><table border=\"1\" class=\"dataframe\"><thead><tr><th>Light_ID</th><th>Time</th><th>Arrivals</th><th>Centrality</th><th>Is_Entrypoint</th><th>Distance</th><th>Incoming_Cars</th></tr><tr><td>i16</td><td>i16</td><td>i16</td><td>f32</td><td>bool</td><td>i16</td><td>i16</td></tr></thead><tbody><tr><td>1</td><td>198</td><td>0</td><td>0.038861</td><td>true</td><td>9</td><td>49</td></tr><tr><td>1</td><td>198</td><td>0</td><td>0.038861</td><td>true</td><td>6</td><td>49</td></tr><tr><td>1</td><td>198</td><td>0</td><td>0.038861</td><td>true</td><td>7</td><td>49</td></tr><tr><td>1</td><td>198</td><td>0</td><td>0.038861</td><td>true</td><td>7</td><td>49</td></tr><tr><td>1</td><td>197</td><td>0</td><td>0.038861</td><td>true</td><td>9</td><td>54</td></tr><tr><td>&hellip;</td><td>&hellip;</td><td>&hellip;</td><td>&hellip;</td><td>&hellip;</td><td>&hellip;</td><td>&hellip;</td></tr><tr><td>100</td><td>99</td><td>0</td><td>0.029218</td><td>true</td><td>8</td><td>2</td></tr><tr><td>100</td><td>94</td><td>0</td><td>0.029218</td><td>true</td><td>7</td><td>1</td></tr><tr><td>100</td><td>94</td><td>0</td><td>0.029218</td><td>true</td><td>8</td><td>1</td></tr><tr><td>100</td><td>93</td><td>0</td><td>0.029218</td><td>true</td><td>7</td><td>1</td></tr><tr><td>100</td><td>93</td><td>0</td><td>0.029218</td><td>true</td><td>8</td><td>1</td></tr></tbody></table></div>"
      ],
      "text/plain": [
       "shape: (181_890, 7)\n",
       "┌──────────┬──────┬──────────┬────────────┬───────────────┬──────────┬───────────────┐\n",
       "│ Light_ID ┆ Time ┆ Arrivals ┆ Centrality ┆ Is_Entrypoint ┆ Distance ┆ Incoming_Cars │\n",
       "│ ---      ┆ ---  ┆ ---      ┆ ---        ┆ ---           ┆ ---      ┆ ---           │\n",
       "│ i16      ┆ i16  ┆ i16      ┆ f32        ┆ bool          ┆ i16      ┆ i16           │\n",
       "╞══════════╪══════╪══════════╪════════════╪═══════════════╪══════════╪═══════════════╡\n",
       "│ 1        ┆ 198  ┆ 0        ┆ 0.038861   ┆ true          ┆ 9        ┆ 49            │\n",
       "│ 1        ┆ 198  ┆ 0        ┆ 0.038861   ┆ true          ┆ 6        ┆ 49            │\n",
       "│ 1        ┆ 198  ┆ 0        ┆ 0.038861   ┆ true          ┆ 7        ┆ 49            │\n",
       "│ 1        ┆ 198  ┆ 0        ┆ 0.038861   ┆ true          ┆ 7        ┆ 49            │\n",
       "│ 1        ┆ 197  ┆ 0        ┆ 0.038861   ┆ true          ┆ 9        ┆ 54            │\n",
       "│ …        ┆ …    ┆ …        ┆ …          ┆ …             ┆ …        ┆ …             │\n",
       "│ 100      ┆ 99   ┆ 0        ┆ 0.029218   ┆ true          ┆ 8        ┆ 2             │\n",
       "│ 100      ┆ 94   ┆ 0        ┆ 0.029218   ┆ true          ┆ 7        ┆ 1             │\n",
       "│ 100      ┆ 94   ┆ 0        ┆ 0.029218   ┆ true          ┆ 8        ┆ 1             │\n",
       "│ 100      ┆ 93   ┆ 0        ┆ 0.029218   ┆ true          ┆ 7        ┆ 1             │\n",
       "│ 100      ┆ 93   ┆ 0        ┆ 0.029218   ┆ true          ┆ 8        ┆ 1             │\n",
       "└──────────┴──────┴──────────┴────────────┴───────────────┴──────────┴───────────────┘"
      ]
     },
     "execution_count": 23,
     "metadata": {},
     "output_type": "execute_result"
    }
   ],
   "source": [
    "folder = \"../data/2025-04-04-15:38:00\"\n",
    "\n",
    "new_data = aggregate_data(folder=folder)\n",
    "\n",
    "new_data\n"
   ]
  },
  {
   "cell_type": "code",
   "execution_count": 24,
   "id": "7098b4f5",
   "metadata": {},
   "outputs": [
    {
     "data": {
      "text/html": [
       "<div><style>\n",
       ".dataframe > thead > tr,\n",
       ".dataframe > tbody > tr {\n",
       "  text-align: right;\n",
       "  white-space: pre-wrap;\n",
       "}\n",
       "</style>\n",
       "<small>shape: (480_511, 7)</small><table border=\"1\" class=\"dataframe\"><thead><tr><th>Light_ID</th><th>Time</th><th>Arrivals</th><th>Centrality</th><th>Is_Entrypoint</th><th>Distance</th><th>Incoming_Cars</th></tr><tr><td>i16</td><td>i16</td><td>i16</td><td>f32</td><td>bool</td><td>i16</td><td>i16</td></tr></thead><tbody><tr><td>1</td><td>198</td><td>0</td><td>0.026253</td><td>true</td><td>9</td><td>15</td></tr><tr><td>1</td><td>198</td><td>0</td><td>0.026253</td><td>true</td><td>7</td><td>15</td></tr><tr><td>1</td><td>198</td><td>0</td><td>0.026253</td><td>true</td><td>7</td><td>15</td></tr><tr><td>1</td><td>198</td><td>0</td><td>0.026253</td><td>true</td><td>19</td><td>15</td></tr><tr><td>1</td><td>197</td><td>0</td><td>0.026253</td><td>true</td><td>9</td><td>15</td></tr><tr><td>&hellip;</td><td>&hellip;</td><td>&hellip;</td><td>&hellip;</td><td>&hellip;</td><td>&hellip;</td><td>&hellip;</td></tr><tr><td>100</td><td>99</td><td>0</td><td>0.029218</td><td>true</td><td>8</td><td>2</td></tr><tr><td>100</td><td>94</td><td>0</td><td>0.029218</td><td>true</td><td>7</td><td>1</td></tr><tr><td>100</td><td>94</td><td>0</td><td>0.029218</td><td>true</td><td>8</td><td>1</td></tr><tr><td>100</td><td>93</td><td>0</td><td>0.029218</td><td>true</td><td>7</td><td>1</td></tr><tr><td>100</td><td>93</td><td>0</td><td>0.029218</td><td>true</td><td>8</td><td>1</td></tr></tbody></table></div>"
      ],
      "text/plain": [
       "shape: (480_511, 7)\n",
       "┌──────────┬──────┬──────────┬────────────┬───────────────┬──────────┬───────────────┐\n",
       "│ Light_ID ┆ Time ┆ Arrivals ┆ Centrality ┆ Is_Entrypoint ┆ Distance ┆ Incoming_Cars │\n",
       "│ ---      ┆ ---  ┆ ---      ┆ ---        ┆ ---           ┆ ---      ┆ ---           │\n",
       "│ i16      ┆ i16  ┆ i16      ┆ f32        ┆ bool          ┆ i16      ┆ i16           │\n",
       "╞══════════╪══════╪══════════╪════════════╪═══════════════╪══════════╪═══════════════╡\n",
       "│ 1        ┆ 198  ┆ 0        ┆ 0.026253   ┆ true          ┆ 9        ┆ 15            │\n",
       "│ 1        ┆ 198  ┆ 0        ┆ 0.026253   ┆ true          ┆ 7        ┆ 15            │\n",
       "│ 1        ┆ 198  ┆ 0        ┆ 0.026253   ┆ true          ┆ 7        ┆ 15            │\n",
       "│ 1        ┆ 198  ┆ 0        ┆ 0.026253   ┆ true          ┆ 19       ┆ 15            │\n",
       "│ 1        ┆ 197  ┆ 0        ┆ 0.026253   ┆ true          ┆ 9        ┆ 15            │\n",
       "│ …        ┆ …    ┆ …        ┆ …          ┆ …             ┆ …        ┆ …             │\n",
       "│ 100      ┆ 99   ┆ 0        ┆ 0.029218   ┆ true          ┆ 8        ┆ 2             │\n",
       "│ 100      ┆ 94   ┆ 0        ┆ 0.029218   ┆ true          ┆ 7        ┆ 1             │\n",
       "│ 100      ┆ 94   ┆ 0        ┆ 0.029218   ┆ true          ┆ 8        ┆ 1             │\n",
       "│ 100      ┆ 93   ┆ 0        ┆ 0.029218   ┆ true          ┆ 7        ┆ 1             │\n",
       "│ 100      ┆ 93   ┆ 0        ┆ 0.029218   ┆ true          ┆ 8        ┆ 1             │\n",
       "└──────────┴──────┴──────────┴────────────┴───────────────┴──────────┴───────────────┘"
      ]
     },
     "execution_count": 24,
     "metadata": {},
     "output_type": "execute_result"
    }
   ],
   "source": [
    "data = data.vstack(new_data)\n",
    "data"
   ]
  },
  {
   "cell_type": "markdown",
   "id": "b54d7f57",
   "metadata": {},
   "source": [
    "## Run 4"
   ]
  },
  {
   "cell_type": "code",
   "execution_count": 25,
   "id": "43da0aaf",
   "metadata": {},
   "outputs": [
    {
     "data": {
      "text/html": [
       "<div><style>\n",
       ".dataframe > thead > tr,\n",
       ".dataframe > tbody > tr {\n",
       "  text-align: right;\n",
       "  white-space: pre-wrap;\n",
       "}\n",
       "</style>\n",
       "<small>shape: (172_581, 7)</small><table border=\"1\" class=\"dataframe\"><thead><tr><th>Light_ID</th><th>Time</th><th>Arrivals</th><th>Centrality</th><th>Is_Entrypoint</th><th>Distance</th><th>Incoming_Cars</th></tr><tr><td>i16</td><td>i16</td><td>i16</td><td>f32</td><td>bool</td><td>i16</td><td>i16</td></tr></thead><tbody><tr><td>1</td><td>198</td><td>0</td><td>0.023113</td><td>true</td><td>14</td><td>28</td></tr><tr><td>1</td><td>198</td><td>0</td><td>0.023113</td><td>true</td><td>17</td><td>28</td></tr><tr><td>1</td><td>198</td><td>0</td><td>0.023113</td><td>true</td><td>10</td><td>28</td></tr><tr><td>1</td><td>198</td><td>0</td><td>0.023113</td><td>true</td><td>12</td><td>28</td></tr><tr><td>1</td><td>197</td><td>0</td><td>0.023113</td><td>true</td><td>14</td><td>29</td></tr><tr><td>&hellip;</td><td>&hellip;</td><td>&hellip;</td><td>&hellip;</td><td>&hellip;</td><td>&hellip;</td><td>&hellip;</td></tr><tr><td>109</td><td>74</td><td>0</td><td>0.020484</td><td>true</td><td>10</td><td>2</td></tr><tr><td>109</td><td>73</td><td>0</td><td>0.020484</td><td>true</td><td>9</td><td>1</td></tr><tr><td>109</td><td>73</td><td>0</td><td>0.020484</td><td>true</td><td>10</td><td>1</td></tr><tr><td>109</td><td>72</td><td>1</td><td>0.020484</td><td>true</td><td>9</td><td>0</td></tr><tr><td>109</td><td>72</td><td>1</td><td>0.020484</td><td>true</td><td>10</td><td>0</td></tr></tbody></table></div>"
      ],
      "text/plain": [
       "shape: (172_581, 7)\n",
       "┌──────────┬──────┬──────────┬────────────┬───────────────┬──────────┬───────────────┐\n",
       "│ Light_ID ┆ Time ┆ Arrivals ┆ Centrality ┆ Is_Entrypoint ┆ Distance ┆ Incoming_Cars │\n",
       "│ ---      ┆ ---  ┆ ---      ┆ ---        ┆ ---           ┆ ---      ┆ ---           │\n",
       "│ i16      ┆ i16  ┆ i16      ┆ f32        ┆ bool          ┆ i16      ┆ i16           │\n",
       "╞══════════╪══════╪══════════╪════════════╪═══════════════╪══════════╪═══════════════╡\n",
       "│ 1        ┆ 198  ┆ 0        ┆ 0.023113   ┆ true          ┆ 14       ┆ 28            │\n",
       "│ 1        ┆ 198  ┆ 0        ┆ 0.023113   ┆ true          ┆ 17       ┆ 28            │\n",
       "│ 1        ┆ 198  ┆ 0        ┆ 0.023113   ┆ true          ┆ 10       ┆ 28            │\n",
       "│ 1        ┆ 198  ┆ 0        ┆ 0.023113   ┆ true          ┆ 12       ┆ 28            │\n",
       "│ 1        ┆ 197  ┆ 0        ┆ 0.023113   ┆ true          ┆ 14       ┆ 29            │\n",
       "│ …        ┆ …    ┆ …        ┆ …          ┆ …             ┆ …        ┆ …             │\n",
       "│ 109      ┆ 74   ┆ 0        ┆ 0.020484   ┆ true          ┆ 10       ┆ 2             │\n",
       "│ 109      ┆ 73   ┆ 0        ┆ 0.020484   ┆ true          ┆ 9        ┆ 1             │\n",
       "│ 109      ┆ 73   ┆ 0        ┆ 0.020484   ┆ true          ┆ 10       ┆ 1             │\n",
       "│ 109      ┆ 72   ┆ 1        ┆ 0.020484   ┆ true          ┆ 9        ┆ 0             │\n",
       "│ 109      ┆ 72   ┆ 1        ┆ 0.020484   ┆ true          ┆ 10       ┆ 0             │\n",
       "└──────────┴──────┴──────────┴────────────┴───────────────┴──────────┴───────────────┘"
      ]
     },
     "execution_count": 25,
     "metadata": {},
     "output_type": "execute_result"
    }
   ],
   "source": [
    "folder = \"../data/2025-04-04-15:39:21\"\n",
    "\n",
    "new_data = aggregate_data(folder=folder)\n",
    "\n",
    "new_data\n"
   ]
  },
  {
   "cell_type": "code",
   "execution_count": 26,
   "id": "58458dc4",
   "metadata": {},
   "outputs": [
    {
     "data": {
      "text/html": [
       "<div><style>\n",
       ".dataframe > thead > tr,\n",
       ".dataframe > tbody > tr {\n",
       "  text-align: right;\n",
       "  white-space: pre-wrap;\n",
       "}\n",
       "</style>\n",
       "<small>shape: (653_092, 7)</small><table border=\"1\" class=\"dataframe\"><thead><tr><th>Light_ID</th><th>Time</th><th>Arrivals</th><th>Centrality</th><th>Is_Entrypoint</th><th>Distance</th><th>Incoming_Cars</th></tr><tr><td>i16</td><td>i16</td><td>i16</td><td>f32</td><td>bool</td><td>i16</td><td>i16</td></tr></thead><tbody><tr><td>1</td><td>198</td><td>0</td><td>0.026253</td><td>true</td><td>9</td><td>15</td></tr><tr><td>1</td><td>198</td><td>0</td><td>0.026253</td><td>true</td><td>7</td><td>15</td></tr><tr><td>1</td><td>198</td><td>0</td><td>0.026253</td><td>true</td><td>7</td><td>15</td></tr><tr><td>1</td><td>198</td><td>0</td><td>0.026253</td><td>true</td><td>19</td><td>15</td></tr><tr><td>1</td><td>197</td><td>0</td><td>0.026253</td><td>true</td><td>9</td><td>15</td></tr><tr><td>&hellip;</td><td>&hellip;</td><td>&hellip;</td><td>&hellip;</td><td>&hellip;</td><td>&hellip;</td><td>&hellip;</td></tr><tr><td>109</td><td>74</td><td>0</td><td>0.020484</td><td>true</td><td>10</td><td>2</td></tr><tr><td>109</td><td>73</td><td>0</td><td>0.020484</td><td>true</td><td>9</td><td>1</td></tr><tr><td>109</td><td>73</td><td>0</td><td>0.020484</td><td>true</td><td>10</td><td>1</td></tr><tr><td>109</td><td>72</td><td>1</td><td>0.020484</td><td>true</td><td>9</td><td>0</td></tr><tr><td>109</td><td>72</td><td>1</td><td>0.020484</td><td>true</td><td>10</td><td>0</td></tr></tbody></table></div>"
      ],
      "text/plain": [
       "shape: (653_092, 7)\n",
       "┌──────────┬──────┬──────────┬────────────┬───────────────┬──────────┬───────────────┐\n",
       "│ Light_ID ┆ Time ┆ Arrivals ┆ Centrality ┆ Is_Entrypoint ┆ Distance ┆ Incoming_Cars │\n",
       "│ ---      ┆ ---  ┆ ---      ┆ ---        ┆ ---           ┆ ---      ┆ ---           │\n",
       "│ i16      ┆ i16  ┆ i16      ┆ f32        ┆ bool          ┆ i16      ┆ i16           │\n",
       "╞══════════╪══════╪══════════╪════════════╪═══════════════╪══════════╪═══════════════╡\n",
       "│ 1        ┆ 198  ┆ 0        ┆ 0.026253   ┆ true          ┆ 9        ┆ 15            │\n",
       "│ 1        ┆ 198  ┆ 0        ┆ 0.026253   ┆ true          ┆ 7        ┆ 15            │\n",
       "│ 1        ┆ 198  ┆ 0        ┆ 0.026253   ┆ true          ┆ 7        ┆ 15            │\n",
       "│ 1        ┆ 198  ┆ 0        ┆ 0.026253   ┆ true          ┆ 19       ┆ 15            │\n",
       "│ 1        ┆ 197  ┆ 0        ┆ 0.026253   ┆ true          ┆ 9        ┆ 15            │\n",
       "│ …        ┆ …    ┆ …        ┆ …          ┆ …             ┆ …        ┆ …             │\n",
       "│ 109      ┆ 74   ┆ 0        ┆ 0.020484   ┆ true          ┆ 10       ┆ 2             │\n",
       "│ 109      ┆ 73   ┆ 0        ┆ 0.020484   ┆ true          ┆ 9        ┆ 1             │\n",
       "│ 109      ┆ 73   ┆ 0        ┆ 0.020484   ┆ true          ┆ 10       ┆ 1             │\n",
       "│ 109      ┆ 72   ┆ 1        ┆ 0.020484   ┆ true          ┆ 9        ┆ 0             │\n",
       "│ 109      ┆ 72   ┆ 1        ┆ 0.020484   ┆ true          ┆ 10       ┆ 0             │\n",
       "└──────────┴──────┴──────────┴────────────┴───────────────┴──────────┴───────────────┘"
      ]
     },
     "execution_count": 26,
     "metadata": {},
     "output_type": "execute_result"
    }
   ],
   "source": [
    "data = data.vstack(new_data)\n",
    "data"
   ]
  },
  {
   "cell_type": "markdown",
   "id": "a258aaa7",
   "metadata": {},
   "source": [
    "## Run 5"
   ]
  },
  {
   "cell_type": "code",
   "execution_count": 27,
   "id": "be573939",
   "metadata": {},
   "outputs": [
    {
     "data": {
      "text/html": [
       "<div><style>\n",
       ".dataframe > thead > tr,\n",
       ".dataframe > tbody > tr {\n",
       "  text-align: right;\n",
       "  white-space: pre-wrap;\n",
       "}\n",
       "</style>\n",
       "<small>shape: (798_432, 7)</small><table border=\"1\" class=\"dataframe\"><thead><tr><th>Light_ID</th><th>Time</th><th>Arrivals</th><th>Centrality</th><th>Is_Entrypoint</th><th>Distance</th><th>Incoming_Cars</th></tr><tr><td>i16</td><td>i16</td><td>i16</td><td>f32</td><td>bool</td><td>i16</td><td>i16</td></tr></thead><tbody><tr><td>1</td><td>198</td><td>0</td><td>0.026253</td><td>true</td><td>9</td><td>15</td></tr><tr><td>1</td><td>198</td><td>0</td><td>0.026253</td><td>true</td><td>7</td><td>15</td></tr><tr><td>1</td><td>198</td><td>0</td><td>0.026253</td><td>true</td><td>7</td><td>15</td></tr><tr><td>1</td><td>198</td><td>0</td><td>0.026253</td><td>true</td><td>19</td><td>15</td></tr><tr><td>1</td><td>197</td><td>0</td><td>0.026253</td><td>true</td><td>9</td><td>15</td></tr><tr><td>&hellip;</td><td>&hellip;</td><td>&hellip;</td><td>&hellip;</td><td>&hellip;</td><td>&hellip;</td><td>&hellip;</td></tr><tr><td>95</td><td>9</td><td>3</td><td>0.036983</td><td>true</td><td>7</td><td>21</td></tr><tr><td>95</td><td>8</td><td>0</td><td>0.036983</td><td>true</td><td>5</td><td>21</td></tr><tr><td>95</td><td>8</td><td>0</td><td>0.036983</td><td>true</td><td>5</td><td>21</td></tr><tr><td>95</td><td>8</td><td>0</td><td>0.036983</td><td>true</td><td>6</td><td>21</td></tr><tr><td>95</td><td>8</td><td>0</td><td>0.036983</td><td>true</td><td>7</td><td>21</td></tr></tbody></table></div>"
      ],
      "text/plain": [
       "shape: (798_432, 7)\n",
       "┌──────────┬──────┬──────────┬────────────┬───────────────┬──────────┬───────────────┐\n",
       "│ Light_ID ┆ Time ┆ Arrivals ┆ Centrality ┆ Is_Entrypoint ┆ Distance ┆ Incoming_Cars │\n",
       "│ ---      ┆ ---  ┆ ---      ┆ ---        ┆ ---           ┆ ---      ┆ ---           │\n",
       "│ i16      ┆ i16  ┆ i16      ┆ f32        ┆ bool          ┆ i16      ┆ i16           │\n",
       "╞══════════╪══════╪══════════╪════════════╪═══════════════╪══════════╪═══════════════╡\n",
       "│ 1        ┆ 198  ┆ 0        ┆ 0.026253   ┆ true          ┆ 9        ┆ 15            │\n",
       "│ 1        ┆ 198  ┆ 0        ┆ 0.026253   ┆ true          ┆ 7        ┆ 15            │\n",
       "│ 1        ┆ 198  ┆ 0        ┆ 0.026253   ┆ true          ┆ 7        ┆ 15            │\n",
       "│ 1        ┆ 198  ┆ 0        ┆ 0.026253   ┆ true          ┆ 19       ┆ 15            │\n",
       "│ 1        ┆ 197  ┆ 0        ┆ 0.026253   ┆ true          ┆ 9        ┆ 15            │\n",
       "│ …        ┆ …    ┆ …        ┆ …          ┆ …             ┆ …        ┆ …             │\n",
       "│ 95       ┆ 9    ┆ 3        ┆ 0.036983   ┆ true          ┆ 7        ┆ 21            │\n",
       "│ 95       ┆ 8    ┆ 0        ┆ 0.036983   ┆ true          ┆ 5        ┆ 21            │\n",
       "│ 95       ┆ 8    ┆ 0        ┆ 0.036983   ┆ true          ┆ 5        ┆ 21            │\n",
       "│ 95       ┆ 8    ┆ 0        ┆ 0.036983   ┆ true          ┆ 6        ┆ 21            │\n",
       "│ 95       ┆ 8    ┆ 0        ┆ 0.036983   ┆ true          ┆ 7        ┆ 21            │\n",
       "└──────────┴──────┴──────────┴────────────┴───────────────┴──────────┴───────────────┘"
      ]
     },
     "execution_count": 27,
     "metadata": {},
     "output_type": "execute_result"
    }
   ],
   "source": [
    "folder = \"../data/2025-04-04-17:52:19\"\n",
    "new_data = aggregate_data(folder=folder)\n",
    "data = data.vstack(new_data)\n",
    "data"
   ]
  },
  {
   "cell_type": "markdown",
   "id": "80685518",
   "metadata": {},
   "source": [
    "## Run 6"
   ]
  },
  {
   "cell_type": "code",
   "execution_count": 28,
   "id": "e7780ad6",
   "metadata": {},
   "outputs": [
    {
     "data": {
      "text/html": [
       "<div><style>\n",
       ".dataframe > thead > tr,\n",
       ".dataframe > tbody > tr {\n",
       "  text-align: right;\n",
       "  white-space: pre-wrap;\n",
       "}\n",
       "</style>\n",
       "<small>shape: (940_419, 7)</small><table border=\"1\" class=\"dataframe\"><thead><tr><th>Light_ID</th><th>Time</th><th>Arrivals</th><th>Centrality</th><th>Is_Entrypoint</th><th>Distance</th><th>Incoming_Cars</th></tr><tr><td>i16</td><td>i16</td><td>i16</td><td>f32</td><td>bool</td><td>i16</td><td>i16</td></tr></thead><tbody><tr><td>1</td><td>198</td><td>0</td><td>0.026253</td><td>true</td><td>9</td><td>15</td></tr><tr><td>1</td><td>198</td><td>0</td><td>0.026253</td><td>true</td><td>7</td><td>15</td></tr><tr><td>1</td><td>198</td><td>0</td><td>0.026253</td><td>true</td><td>7</td><td>15</td></tr><tr><td>1</td><td>198</td><td>0</td><td>0.026253</td><td>true</td><td>19</td><td>15</td></tr><tr><td>1</td><td>197</td><td>0</td><td>0.026253</td><td>true</td><td>9</td><td>15</td></tr><tr><td>&hellip;</td><td>&hellip;</td><td>&hellip;</td><td>&hellip;</td><td>&hellip;</td><td>&hellip;</td><td>&hellip;</td></tr><tr><td>88</td><td>10</td><td>1</td><td>0.025575</td><td>true</td><td>8</td><td>3</td></tr><tr><td>88</td><td>9</td><td>0</td><td>0.025575</td><td>true</td><td>7</td><td>4</td></tr><tr><td>88</td><td>9</td><td>0</td><td>0.025575</td><td>true</td><td>8</td><td>4</td></tr><tr><td>88</td><td>8</td><td>0</td><td>0.025575</td><td>true</td><td>7</td><td>5</td></tr><tr><td>88</td><td>8</td><td>0</td><td>0.025575</td><td>true</td><td>8</td><td>5</td></tr></tbody></table></div>"
      ],
      "text/plain": [
       "shape: (940_419, 7)\n",
       "┌──────────┬──────┬──────────┬────────────┬───────────────┬──────────┬───────────────┐\n",
       "│ Light_ID ┆ Time ┆ Arrivals ┆ Centrality ┆ Is_Entrypoint ┆ Distance ┆ Incoming_Cars │\n",
       "│ ---      ┆ ---  ┆ ---      ┆ ---        ┆ ---           ┆ ---      ┆ ---           │\n",
       "│ i16      ┆ i16  ┆ i16      ┆ f32        ┆ bool          ┆ i16      ┆ i16           │\n",
       "╞══════════╪══════╪══════════╪════════════╪═══════════════╪══════════╪═══════════════╡\n",
       "│ 1        ┆ 198  ┆ 0        ┆ 0.026253   ┆ true          ┆ 9        ┆ 15            │\n",
       "│ 1        ┆ 198  ┆ 0        ┆ 0.026253   ┆ true          ┆ 7        ┆ 15            │\n",
       "│ 1        ┆ 198  ┆ 0        ┆ 0.026253   ┆ true          ┆ 7        ┆ 15            │\n",
       "│ 1        ┆ 198  ┆ 0        ┆ 0.026253   ┆ true          ┆ 19       ┆ 15            │\n",
       "│ 1        ┆ 197  ┆ 0        ┆ 0.026253   ┆ true          ┆ 9        ┆ 15            │\n",
       "│ …        ┆ …    ┆ …        ┆ …          ┆ …             ┆ …        ┆ …             │\n",
       "│ 88       ┆ 10   ┆ 1        ┆ 0.025575   ┆ true          ┆ 8        ┆ 3             │\n",
       "│ 88       ┆ 9    ┆ 0        ┆ 0.025575   ┆ true          ┆ 7        ┆ 4             │\n",
       "│ 88       ┆ 9    ┆ 0        ┆ 0.025575   ┆ true          ┆ 8        ┆ 4             │\n",
       "│ 88       ┆ 8    ┆ 0        ┆ 0.025575   ┆ true          ┆ 7        ┆ 5             │\n",
       "│ 88       ┆ 8    ┆ 0        ┆ 0.025575   ┆ true          ┆ 8        ┆ 5             │\n",
       "└──────────┴──────┴──────────┴────────────┴───────────────┴──────────┴───────────────┘"
      ]
     },
     "execution_count": 28,
     "metadata": {},
     "output_type": "execute_result"
    }
   ],
   "source": [
    "folder = \"../data/2025-04-04-18:03:36\"\n",
    "new_data = aggregate_data(folder=folder)\n",
    "data = data.vstack(new_data)\n",
    "data\n"
   ]
  },
  {
   "cell_type": "markdown",
   "id": "fd8de399",
   "metadata": {},
   "source": [
    "## Run 7"
   ]
  },
  {
   "cell_type": "code",
   "execution_count": 29,
   "id": "a2c70f4c",
   "metadata": {},
   "outputs": [
    {
     "data": {
      "text/html": [
       "<div><style>\n",
       ".dataframe > thead > tr,\n",
       ".dataframe > tbody > tr {\n",
       "  text-align: right;\n",
       "  white-space: pre-wrap;\n",
       "}\n",
       "</style>\n",
       "<small>shape: (1_077_269, 7)</small><table border=\"1\" class=\"dataframe\"><thead><tr><th>Light_ID</th><th>Time</th><th>Arrivals</th><th>Centrality</th><th>Is_Entrypoint</th><th>Distance</th><th>Incoming_Cars</th></tr><tr><td>i16</td><td>i16</td><td>i16</td><td>f32</td><td>bool</td><td>i16</td><td>i16</td></tr></thead><tbody><tr><td>1</td><td>198</td><td>0</td><td>0.026253</td><td>true</td><td>9</td><td>15</td></tr><tr><td>1</td><td>198</td><td>0</td><td>0.026253</td><td>true</td><td>7</td><td>15</td></tr><tr><td>1</td><td>198</td><td>0</td><td>0.026253</td><td>true</td><td>7</td><td>15</td></tr><tr><td>1</td><td>198</td><td>0</td><td>0.026253</td><td>true</td><td>19</td><td>15</td></tr><tr><td>1</td><td>197</td><td>0</td><td>0.026253</td><td>true</td><td>9</td><td>15</td></tr><tr><td>&hellip;</td><td>&hellip;</td><td>&hellip;</td><td>&hellip;</td><td>&hellip;</td><td>&hellip;</td><td>&hellip;</td></tr><tr><td>85</td><td>8</td><td>0</td><td>0.028257</td><td>true</td><td>12</td><td>20</td></tr><tr><td>85</td><td>5</td><td>0</td><td>0.028257</td><td>true</td><td>8</td><td>30</td></tr><tr><td>85</td><td>5</td><td>0</td><td>0.028257</td><td>true</td><td>15</td><td>30</td></tr><tr><td>85</td><td>5</td><td>0</td><td>0.028257</td><td>true</td><td>13</td><td>30</td></tr><tr><td>85</td><td>5</td><td>0</td><td>0.028257</td><td>true</td><td>12</td><td>30</td></tr></tbody></table></div>"
      ],
      "text/plain": [
       "shape: (1_077_269, 7)\n",
       "┌──────────┬──────┬──────────┬────────────┬───────────────┬──────────┬───────────────┐\n",
       "│ Light_ID ┆ Time ┆ Arrivals ┆ Centrality ┆ Is_Entrypoint ┆ Distance ┆ Incoming_Cars │\n",
       "│ ---      ┆ ---  ┆ ---      ┆ ---        ┆ ---           ┆ ---      ┆ ---           │\n",
       "│ i16      ┆ i16  ┆ i16      ┆ f32        ┆ bool          ┆ i16      ┆ i16           │\n",
       "╞══════════╪══════╪══════════╪════════════╪═══════════════╪══════════╪═══════════════╡\n",
       "│ 1        ┆ 198  ┆ 0        ┆ 0.026253   ┆ true          ┆ 9        ┆ 15            │\n",
       "│ 1        ┆ 198  ┆ 0        ┆ 0.026253   ┆ true          ┆ 7        ┆ 15            │\n",
       "│ 1        ┆ 198  ┆ 0        ┆ 0.026253   ┆ true          ┆ 7        ┆ 15            │\n",
       "│ 1        ┆ 198  ┆ 0        ┆ 0.026253   ┆ true          ┆ 19       ┆ 15            │\n",
       "│ 1        ┆ 197  ┆ 0        ┆ 0.026253   ┆ true          ┆ 9        ┆ 15            │\n",
       "│ …        ┆ …    ┆ …        ┆ …          ┆ …             ┆ …        ┆ …             │\n",
       "│ 85       ┆ 8    ┆ 0        ┆ 0.028257   ┆ true          ┆ 12       ┆ 20            │\n",
       "│ 85       ┆ 5    ┆ 0        ┆ 0.028257   ┆ true          ┆ 8        ┆ 30            │\n",
       "│ 85       ┆ 5    ┆ 0        ┆ 0.028257   ┆ true          ┆ 15       ┆ 30            │\n",
       "│ 85       ┆ 5    ┆ 0        ┆ 0.028257   ┆ true          ┆ 13       ┆ 30            │\n",
       "│ 85       ┆ 5    ┆ 0        ┆ 0.028257   ┆ true          ┆ 12       ┆ 30            │\n",
       "└──────────┴──────┴──────────┴────────────┴───────────────┴──────────┴───────────────┘"
      ]
     },
     "execution_count": 29,
     "metadata": {},
     "output_type": "execute_result"
    }
   ],
   "source": [
    "folder = \"../data/2025-04-04-18:04:01\"\n",
    "new_data = aggregate_data(folder=folder)\n",
    "data = data.vstack(new_data)\n",
    "data\n"
   ]
  },
  {
   "cell_type": "markdown",
   "id": "2025db03",
   "metadata": {},
   "source": [
    "## Run 8"
   ]
  },
  {
   "cell_type": "code",
   "execution_count": 30,
   "id": "a5f1648d",
   "metadata": {},
   "outputs": [
    {
     "data": {
      "text/html": [
       "<div><style>\n",
       ".dataframe > thead > tr,\n",
       ".dataframe > tbody > tr {\n",
       "  text-align: right;\n",
       "  white-space: pre-wrap;\n",
       "}\n",
       "</style>\n",
       "<small>shape: (1_258_661, 7)</small><table border=\"1\" class=\"dataframe\"><thead><tr><th>Light_ID</th><th>Time</th><th>Arrivals</th><th>Centrality</th><th>Is_Entrypoint</th><th>Distance</th><th>Incoming_Cars</th></tr><tr><td>i16</td><td>i16</td><td>i16</td><td>f32</td><td>bool</td><td>i16</td><td>i16</td></tr></thead><tbody><tr><td>1</td><td>198</td><td>0</td><td>0.026253</td><td>true</td><td>9</td><td>15</td></tr><tr><td>1</td><td>198</td><td>0</td><td>0.026253</td><td>true</td><td>7</td><td>15</td></tr><tr><td>1</td><td>198</td><td>0</td><td>0.026253</td><td>true</td><td>7</td><td>15</td></tr><tr><td>1</td><td>198</td><td>0</td><td>0.026253</td><td>true</td><td>19</td><td>15</td></tr><tr><td>1</td><td>197</td><td>0</td><td>0.026253</td><td>true</td><td>9</td><td>15</td></tr><tr><td>&hellip;</td><td>&hellip;</td><td>&hellip;</td><td>&hellip;</td><td>&hellip;</td><td>&hellip;</td><td>&hellip;</td></tr><tr><td>113</td><td>8</td><td>0</td><td>0.015698</td><td>true</td><td>22</td><td>15</td></tr><tr><td>113</td><td>5</td><td>2</td><td>0.015698</td><td>true</td><td>14</td><td>18</td></tr><tr><td>113</td><td>5</td><td>2</td><td>0.015698</td><td>true</td><td>9</td><td>18</td></tr><tr><td>113</td><td>5</td><td>2</td><td>0.015698</td><td>true</td><td>29</td><td>18</td></tr><tr><td>113</td><td>5</td><td>2</td><td>0.015698</td><td>true</td><td>22</td><td>18</td></tr></tbody></table></div>"
      ],
      "text/plain": [
       "shape: (1_258_661, 7)\n",
       "┌──────────┬──────┬──────────┬────────────┬───────────────┬──────────┬───────────────┐\n",
       "│ Light_ID ┆ Time ┆ Arrivals ┆ Centrality ┆ Is_Entrypoint ┆ Distance ┆ Incoming_Cars │\n",
       "│ ---      ┆ ---  ┆ ---      ┆ ---        ┆ ---           ┆ ---      ┆ ---           │\n",
       "│ i16      ┆ i16  ┆ i16      ┆ f32        ┆ bool          ┆ i16      ┆ i16           │\n",
       "╞══════════╪══════╪══════════╪════════════╪═══════════════╪══════════╪═══════════════╡\n",
       "│ 1        ┆ 198  ┆ 0        ┆ 0.026253   ┆ true          ┆ 9        ┆ 15            │\n",
       "│ 1        ┆ 198  ┆ 0        ┆ 0.026253   ┆ true          ┆ 7        ┆ 15            │\n",
       "│ 1        ┆ 198  ┆ 0        ┆ 0.026253   ┆ true          ┆ 7        ┆ 15            │\n",
       "│ 1        ┆ 198  ┆ 0        ┆ 0.026253   ┆ true          ┆ 19       ┆ 15            │\n",
       "│ 1        ┆ 197  ┆ 0        ┆ 0.026253   ┆ true          ┆ 9        ┆ 15            │\n",
       "│ …        ┆ …    ┆ …        ┆ …          ┆ …             ┆ …        ┆ …             │\n",
       "│ 113      ┆ 8    ┆ 0        ┆ 0.015698   ┆ true          ┆ 22       ┆ 15            │\n",
       "│ 113      ┆ 5    ┆ 2        ┆ 0.015698   ┆ true          ┆ 14       ┆ 18            │\n",
       "│ 113      ┆ 5    ┆ 2        ┆ 0.015698   ┆ true          ┆ 9        ┆ 18            │\n",
       "│ 113      ┆ 5    ┆ 2        ┆ 0.015698   ┆ true          ┆ 29       ┆ 18            │\n",
       "│ 113      ┆ 5    ┆ 2        ┆ 0.015698   ┆ true          ┆ 22       ┆ 18            │\n",
       "└──────────┴──────┴──────────┴────────────┴───────────────┴──────────┴───────────────┘"
      ]
     },
     "execution_count": 30,
     "metadata": {},
     "output_type": "execute_result"
    }
   ],
   "source": [
    "folder = \"../data/2025-04-04-18:27:35\"\n",
    "new_data = aggregate_data(folder=folder)\n",
    "data = data.vstack(new_data)\n",
    "data\n"
   ]
  },
  {
   "cell_type": "markdown",
   "id": "b01e35b9",
   "metadata": {},
   "source": [
    "## Run 9"
   ]
  },
  {
   "cell_type": "code",
   "execution_count": 31,
   "id": "9f8b4d08",
   "metadata": {},
   "outputs": [
    {
     "data": {
      "text/html": [
       "<div><style>\n",
       ".dataframe > thead > tr,\n",
       ".dataframe > tbody > tr {\n",
       "  text-align: right;\n",
       "  white-space: pre-wrap;\n",
       "}\n",
       "</style>\n",
       "<small>shape: (1_386_468, 7)</small><table border=\"1\" class=\"dataframe\"><thead><tr><th>Light_ID</th><th>Time</th><th>Arrivals</th><th>Centrality</th><th>Is_Entrypoint</th><th>Distance</th><th>Incoming_Cars</th></tr><tr><td>i16</td><td>i16</td><td>i16</td><td>f32</td><td>bool</td><td>i16</td><td>i16</td></tr></thead><tbody><tr><td>1</td><td>198</td><td>0</td><td>0.026253</td><td>true</td><td>9</td><td>15</td></tr><tr><td>1</td><td>198</td><td>0</td><td>0.026253</td><td>true</td><td>7</td><td>15</td></tr><tr><td>1</td><td>198</td><td>0</td><td>0.026253</td><td>true</td><td>7</td><td>15</td></tr><tr><td>1</td><td>198</td><td>0</td><td>0.026253</td><td>true</td><td>19</td><td>15</td></tr><tr><td>1</td><td>197</td><td>0</td><td>0.026253</td><td>true</td><td>9</td><td>15</td></tr><tr><td>&hellip;</td><td>&hellip;</td><td>&hellip;</td><td>&hellip;</td><td>&hellip;</td><td>&hellip;</td><td>&hellip;</td></tr><tr><td>81</td><td>8</td><td>0</td><td>0.018919</td><td>true</td><td>8</td><td>13</td></tr><tr><td>81</td><td>8</td><td>0</td><td>0.018919</td><td>true</td><td>20</td><td>13</td></tr><tr><td>81</td><td>7</td><td>0</td><td>0.018919</td><td>true</td><td>12</td><td>13</td></tr><tr><td>81</td><td>7</td><td>0</td><td>0.018919</td><td>true</td><td>8</td><td>13</td></tr><tr><td>81</td><td>7</td><td>0</td><td>0.018919</td><td>true</td><td>20</td><td>13</td></tr></tbody></table></div>"
      ],
      "text/plain": [
       "shape: (1_386_468, 7)\n",
       "┌──────────┬──────┬──────────┬────────────┬───────────────┬──────────┬───────────────┐\n",
       "│ Light_ID ┆ Time ┆ Arrivals ┆ Centrality ┆ Is_Entrypoint ┆ Distance ┆ Incoming_Cars │\n",
       "│ ---      ┆ ---  ┆ ---      ┆ ---        ┆ ---           ┆ ---      ┆ ---           │\n",
       "│ i16      ┆ i16  ┆ i16      ┆ f32        ┆ bool          ┆ i16      ┆ i16           │\n",
       "╞══════════╪══════╪══════════╪════════════╪═══════════════╪══════════╪═══════════════╡\n",
       "│ 1        ┆ 198  ┆ 0        ┆ 0.026253   ┆ true          ┆ 9        ┆ 15            │\n",
       "│ 1        ┆ 198  ┆ 0        ┆ 0.026253   ┆ true          ┆ 7        ┆ 15            │\n",
       "│ 1        ┆ 198  ┆ 0        ┆ 0.026253   ┆ true          ┆ 7        ┆ 15            │\n",
       "│ 1        ┆ 198  ┆ 0        ┆ 0.026253   ┆ true          ┆ 19       ┆ 15            │\n",
       "│ 1        ┆ 197  ┆ 0        ┆ 0.026253   ┆ true          ┆ 9        ┆ 15            │\n",
       "│ …        ┆ …    ┆ …        ┆ …          ┆ …             ┆ …        ┆ …             │\n",
       "│ 81       ┆ 8    ┆ 0        ┆ 0.018919   ┆ true          ┆ 8        ┆ 13            │\n",
       "│ 81       ┆ 8    ┆ 0        ┆ 0.018919   ┆ true          ┆ 20       ┆ 13            │\n",
       "│ 81       ┆ 7    ┆ 0        ┆ 0.018919   ┆ true          ┆ 12       ┆ 13            │\n",
       "│ 81       ┆ 7    ┆ 0        ┆ 0.018919   ┆ true          ┆ 8        ┆ 13            │\n",
       "│ 81       ┆ 7    ┆ 0        ┆ 0.018919   ┆ true          ┆ 20       ┆ 13            │\n",
       "└──────────┴──────┴──────────┴────────────┴───────────────┴──────────┴───────────────┘"
      ]
     },
     "execution_count": 31,
     "metadata": {},
     "output_type": "execute_result"
    }
   ],
   "source": [
    "folder = \"../data/2025-04-04-19:02:47\"\n",
    "new_data = aggregate_data(folder=folder)\n",
    "data = data.vstack(new_data)\n",
    "data\n"
   ]
  },
  {
   "cell_type": "markdown",
   "id": "0e206ec2",
   "metadata": {},
   "source": [
    "## Run 10"
   ]
  },
  {
   "cell_type": "code",
   "execution_count": 32,
   "id": "ef308eef",
   "metadata": {},
   "outputs": [
    {
     "data": {
      "text/html": [
       "<div><style>\n",
       ".dataframe > thead > tr,\n",
       ".dataframe > tbody > tr {\n",
       "  text-align: right;\n",
       "  white-space: pre-wrap;\n",
       "}\n",
       "</style>\n",
       "<small>shape: (1_570_169, 7)</small><table border=\"1\" class=\"dataframe\"><thead><tr><th>Light_ID</th><th>Time</th><th>Arrivals</th><th>Centrality</th><th>Is_Entrypoint</th><th>Distance</th><th>Incoming_Cars</th></tr><tr><td>i16</td><td>i16</td><td>i16</td><td>f32</td><td>bool</td><td>i16</td><td>i16</td></tr></thead><tbody><tr><td>1</td><td>198</td><td>0</td><td>0.026253</td><td>true</td><td>9</td><td>15</td></tr><tr><td>1</td><td>198</td><td>0</td><td>0.026253</td><td>true</td><td>7</td><td>15</td></tr><tr><td>1</td><td>198</td><td>0</td><td>0.026253</td><td>true</td><td>7</td><td>15</td></tr><tr><td>1</td><td>198</td><td>0</td><td>0.026253</td><td>true</td><td>19</td><td>15</td></tr><tr><td>1</td><td>197</td><td>0</td><td>0.026253</td><td>true</td><td>9</td><td>15</td></tr><tr><td>&hellip;</td><td>&hellip;</td><td>&hellip;</td><td>&hellip;</td><td>&hellip;</td><td>&hellip;</td><td>&hellip;</td></tr><tr><td>122</td><td>17</td><td>0</td><td>0.026685</td><td>true</td><td>9</td><td>14</td></tr><tr><td>122</td><td>17</td><td>0</td><td>0.026685</td><td>true</td><td>7</td><td>14</td></tr><tr><td>122</td><td>10</td><td>1</td><td>0.026685</td><td>true</td><td>8</td><td>13</td></tr><tr><td>122</td><td>10</td><td>1</td><td>0.026685</td><td>true</td><td>9</td><td>13</td></tr><tr><td>122</td><td>10</td><td>1</td><td>0.026685</td><td>true</td><td>7</td><td>13</td></tr></tbody></table></div>"
      ],
      "text/plain": [
       "shape: (1_570_169, 7)\n",
       "┌──────────┬──────┬──────────┬────────────┬───────────────┬──────────┬───────────────┐\n",
       "│ Light_ID ┆ Time ┆ Arrivals ┆ Centrality ┆ Is_Entrypoint ┆ Distance ┆ Incoming_Cars │\n",
       "│ ---      ┆ ---  ┆ ---      ┆ ---        ┆ ---           ┆ ---      ┆ ---           │\n",
       "│ i16      ┆ i16  ┆ i16      ┆ f32        ┆ bool          ┆ i16      ┆ i16           │\n",
       "╞══════════╪══════╪══════════╪════════════╪═══════════════╪══════════╪═══════════════╡\n",
       "│ 1        ┆ 198  ┆ 0        ┆ 0.026253   ┆ true          ┆ 9        ┆ 15            │\n",
       "│ 1        ┆ 198  ┆ 0        ┆ 0.026253   ┆ true          ┆ 7        ┆ 15            │\n",
       "│ 1        ┆ 198  ┆ 0        ┆ 0.026253   ┆ true          ┆ 7        ┆ 15            │\n",
       "│ 1        ┆ 198  ┆ 0        ┆ 0.026253   ┆ true          ┆ 19       ┆ 15            │\n",
       "│ 1        ┆ 197  ┆ 0        ┆ 0.026253   ┆ true          ┆ 9        ┆ 15            │\n",
       "│ …        ┆ …    ┆ …        ┆ …          ┆ …             ┆ …        ┆ …             │\n",
       "│ 122      ┆ 17   ┆ 0        ┆ 0.026685   ┆ true          ┆ 9        ┆ 14            │\n",
       "│ 122      ┆ 17   ┆ 0        ┆ 0.026685   ┆ true          ┆ 7        ┆ 14            │\n",
       "│ 122      ┆ 10   ┆ 1        ┆ 0.026685   ┆ true          ┆ 8        ┆ 13            │\n",
       "│ 122      ┆ 10   ┆ 1        ┆ 0.026685   ┆ true          ┆ 9        ┆ 13            │\n",
       "│ 122      ┆ 10   ┆ 1        ┆ 0.026685   ┆ true          ┆ 7        ┆ 13            │\n",
       "└──────────┴──────┴──────────┴────────────┴───────────────┴──────────┴───────────────┘"
      ]
     },
     "execution_count": 32,
     "metadata": {},
     "output_type": "execute_result"
    }
   ],
   "source": [
    "folder = \"../data/2025-04-04-19:51:49\"\n",
    "new_data = aggregate_data(folder=folder)\n",
    "data = data.vstack(new_data)\n",
    "data\n"
   ]
  },
  {
   "cell_type": "markdown",
   "id": "d52d7e46",
   "metadata": {},
   "source": [
    "Save the data"
   ]
  },
  {
   "cell_type": "code",
   "execution_count": 33,
   "id": "6e6b6d2b",
   "metadata": {},
   "outputs": [],
   "source": [
    "data.write_parquet(\"data.parquet\")"
   ]
  }
 ],
 "metadata": {
  "kernelspec": {
   "display_name": ".venv (3.12.8)",
   "language": "python",
   "name": "python3"
  },
  "language_info": {
   "codemirror_mode": {
    "name": "ipython",
    "version": 3
   },
   "file_extension": ".py",
   "mimetype": "text/x-python",
   "name": "python",
   "nbconvert_exporter": "python",
   "pygments_lexer": "ipython3",
   "version": "3.12.8"
  }
 },
 "nbformat": 4,
 "nbformat_minor": 5
}
